{
 "cells": [
  {
   "cell_type": "code",
   "execution_count": 1,
   "id": "cc463bfb-f200-497d-9a5b-22e10d1236b5",
   "metadata": {
    "execution": {
     "iopub.execute_input": "2022-05-23T11:19:05.049876Z",
     "iopub.status.busy": "2022-05-23T11:19:05.048901Z",
     "iopub.status.idle": "2022-05-23T11:19:05.543475Z",
     "shell.execute_reply": "2022-05-23T11:19:05.542824Z",
     "shell.execute_reply.started": "2022-05-23T11:19:05.049721Z"
    },
    "tags": []
   },
   "outputs": [],
   "source": [
    "import numpy as np\n",
    "import matplotlib.pyplot as plt\n",
    "import pandas as pd\n",
    "from tqdm.notebook import tqdm\n",
    "from pathlib import Path\n",
    "\n",
    "import os"
   ]
  },
  {
   "cell_type": "code",
   "execution_count": 2,
   "id": "d679db48-9b04-4543-8216-756a76331d7e",
   "metadata": {
    "execution": {
     "iopub.execute_input": "2022-05-23T11:19:06.216157Z",
     "iopub.status.busy": "2022-05-23T11:19:06.215208Z",
     "iopub.status.idle": "2022-05-23T11:19:06.236418Z",
     "shell.execute_reply": "2022-05-23T11:19:06.235914Z",
     "shell.execute_reply.started": "2022-05-23T11:19:06.216102Z"
    },
    "tags": []
   },
   "outputs": [],
   "source": [
    "%load_ext autoreload\n",
    "%autoreload 2"
   ]
  },
  {
   "cell_type": "code",
   "execution_count": 3,
   "id": "21855abc-58fa-4730-a0d7-800105ef0403",
   "metadata": {
    "execution": {
     "iopub.execute_input": "2022-05-23T11:19:07.546037Z",
     "iopub.status.busy": "2022-05-23T11:19:07.545201Z",
     "iopub.status.idle": "2022-05-23T11:19:07.562318Z",
     "shell.execute_reply": "2022-05-23T11:19:07.561790Z",
     "shell.execute_reply.started": "2022-05-23T11:19:07.545985Z"
    },
    "tags": []
   },
   "outputs": [],
   "source": [
    "# !twix-pip install gluonts==0.8.1\n",
    "# !twix-pip install pytorchts==0.5.10"
   ]
  },
  {
   "cell_type": "code",
   "execution_count": 5,
   "id": "324cbcd6-2ea8-43d6-9429-e1b215c794ed",
   "metadata": {
    "execution": {
     "iopub.execute_input": "2022-05-23T11:19:11.615456Z",
     "iopub.status.busy": "2022-05-23T11:19:11.615147Z",
     "iopub.status.idle": "2022-05-23T11:19:11.634257Z",
     "shell.execute_reply": "2022-05-23T11:19:11.633442Z",
     "shell.execute_reply.started": "2022-05-23T11:19:11.615415Z"
    },
    "tags": []
   },
   "outputs": [],
   "source": [
    "from data_utils import load_features_and_targets\n",
    "from training_utils import dataset_metadata"
   ]
  },
  {
   "cell_type": "code",
   "execution_count": 6,
   "id": "b199df99-939f-49c2-96dd-1f1acfe39969",
   "metadata": {
    "execution": {
     "iopub.execute_input": "2022-05-23T11:19:12.223241Z",
     "iopub.status.busy": "2022-05-23T11:19:12.222976Z",
     "iopub.status.idle": "2022-05-23T11:19:12.323442Z",
     "shell.execute_reply": "2022-05-23T11:19:12.322484Z",
     "shell.execute_reply.started": "2022-05-23T11:19:12.223208Z"
    },
    "tags": []
   },
   "outputs": [],
   "source": [
    "features_per_day, targets_per_day = load_features_and_targets('/home/ayagudin/dl/probabilistic-time-series/lobster-preprocessed-dataset/')"
   ]
  },
  {
   "cell_type": "markdown",
   "id": "8063a29e-f8b7-45c0-8f9d-4cfb6b0d8006",
   "metadata": {},
   "source": [
    "# Cut session begin & end\n",
    "> TODO reconstruct dataset so that it will have only moments with huge traded_amount"
   ]
  },
  {
   "cell_type": "code",
   "execution_count": 7,
   "id": "95b11233-ad59-4c21-94f8-5581a79fbe77",
   "metadata": {
    "execution": {
     "iopub.execute_input": "2022-05-23T11:19:13.301683Z",
     "iopub.status.busy": "2022-05-23T11:19:13.301165Z",
     "iopub.status.idle": "2022-05-23T11:19:13.320928Z",
     "shell.execute_reply": "2022-05-23T11:19:13.320294Z",
     "shell.execute_reply.started": "2022-05-23T11:19:13.301658Z"
    },
    "tags": []
   },
   "outputs": [],
   "source": [
    "timestamps_to_cut = 200"
   ]
  },
  {
   "cell_type": "code",
   "execution_count": 8,
   "id": "423d4e5e-9cc2-46c3-bfb1-f7b3839ee7d5",
   "metadata": {
    "execution": {
     "iopub.execute_input": "2022-05-23T11:19:13.941911Z",
     "iopub.status.busy": "2022-05-23T11:19:13.941580Z",
     "iopub.status.idle": "2022-05-23T11:19:13.959469Z",
     "shell.execute_reply": "2022-05-23T11:19:13.958735Z",
     "shell.execute_reply.started": "2022-05-23T11:19:13.941891Z"
    },
    "tags": []
   },
   "outputs": [],
   "source": [
    "for day in features_per_day:\n",
    "    features_per_day[day] = features_per_day[day][timestamps_to_cut:-timestamps_to_cut]\n",
    "    targets_per_day[day] = targets_per_day[day][timestamps_to_cut:-timestamps_to_cut].reshape(-1, 1)"
   ]
  },
  {
   "cell_type": "code",
   "execution_count": 9,
   "id": "5cc290bc-3286-4ec8-b988-4e46a3cd0e4c",
   "metadata": {
    "execution": {
     "iopub.execute_input": "2022-05-23T11:19:14.433751Z",
     "iopub.status.busy": "2022-05-23T11:19:14.432946Z",
     "iopub.status.idle": "2022-05-23T11:19:14.484213Z",
     "shell.execute_reply": "2022-05-23T11:19:14.483314Z",
     "shell.execute_reply.started": "2022-05-23T11:19:14.433700Z"
    },
    "tags": []
   },
   "outputs": [
    {
     "data": {
      "text/plain": [
       "((926340, 27), (926340, 1))"
      ]
     },
     "execution_count": 9,
     "metadata": {},
     "output_type": "execute_result"
    }
   ],
   "source": [
    "full_features = np.concatenate(list(features_per_day.values()))\n",
    "full_targets = np.concatenate(list(targets_per_day.values()))\n",
    "full_features.shape, full_targets.shape"
   ]
  },
  {
   "cell_type": "markdown",
   "id": "ae2d0043-6c29-41e0-9c35-d180880ec750",
   "metadata": {},
   "source": [
    "# Scaling"
   ]
  },
  {
   "cell_type": "code",
   "execution_count": 10,
   "id": "3d3ab0c9-e140-498e-b037-e3dc3beaf8d9",
   "metadata": {
    "execution": {
     "iopub.execute_input": "2022-05-23T11:19:15.343357Z",
     "iopub.status.busy": "2022-05-23T11:19:15.343083Z",
     "iopub.status.idle": "2022-05-23T11:19:15.363063Z",
     "shell.execute_reply": "2022-05-23T11:19:15.362153Z",
     "shell.execute_reply.started": "2022-05-23T11:19:15.343319Z"
    },
    "tags": []
   },
   "outputs": [],
   "source": [
    "from sklearn.preprocessing import StandardScaler"
   ]
  },
  {
   "cell_type": "code",
   "execution_count": 11,
   "id": "c6e7ea1c-6d37-4dce-bbca-84a4e9c5fd85",
   "metadata": {
    "execution": {
     "iopub.execute_input": "2022-05-23T11:19:15.881365Z",
     "iopub.status.busy": "2022-05-23T11:19:15.880984Z",
     "iopub.status.idle": "2022-05-23T11:19:15.898008Z",
     "shell.execute_reply": "2022-05-23T11:19:15.897039Z",
     "shell.execute_reply.started": "2022-05-23T11:19:15.881332Z"
    },
    "tags": []
   },
   "outputs": [],
   "source": [
    "target_scaler = StandardScaler()\n",
    "feature_scaler = StandardScaler()"
   ]
  },
  {
   "cell_type": "code",
   "execution_count": 12,
   "id": "f986ae36-4695-4dd9-a3d1-5285c6310361",
   "metadata": {
    "execution": {
     "iopub.execute_input": "2022-05-23T11:19:16.386077Z",
     "iopub.status.busy": "2022-05-23T11:19:16.385439Z",
     "iopub.status.idle": "2022-05-23T11:19:16.701908Z",
     "shell.execute_reply": "2022-05-23T11:19:16.701109Z",
     "shell.execute_reply.started": "2022-05-23T11:19:16.386058Z"
    },
    "tags": []
   },
   "outputs": [
    {
     "data": {
      "text/plain": [
       "StandardScaler()"
      ]
     },
     "execution_count": 12,
     "metadata": {},
     "output_type": "execute_result"
    }
   ],
   "source": [
    "feature_scaler.fit(full_features)\n",
    "target_scaler.fit(full_targets)"
   ]
  },
  {
   "cell_type": "code",
   "execution_count": 13,
   "id": "0e6a7ebb-7c53-4c56-83cb-b1552c5e8552",
   "metadata": {
    "execution": {
     "iopub.execute_input": "2022-05-23T11:19:16.858993Z",
     "iopub.status.busy": "2022-05-23T11:19:16.858751Z",
     "iopub.status.idle": "2022-05-23T11:19:16.980788Z",
     "shell.execute_reply": "2022-05-23T11:19:16.979893Z",
     "shell.execute_reply.started": "2022-05-23T11:19:16.858974Z"
    },
    "tags": []
   },
   "outputs": [],
   "source": [
    "for day in features_per_day:\n",
    "    features_per_day[day] = feature_scaler.transform(features_per_day[day])\n",
    "    targets_per_day[day] = target_scaler.transform(targets_per_day[day]).reshape(-1)"
   ]
  },
  {
   "cell_type": "markdown",
   "id": "4653de3c-1ff4-4832-b92f-23e2ee3912fa",
   "metadata": {},
   "source": [
    "# Defining dataset"
   ]
  },
  {
   "cell_type": "code",
   "execution_count": 16,
   "id": "c16e2452-f509-490f-9068-4f2521de4508",
   "metadata": {
    "execution": {
     "iopub.execute_input": "2022-05-23T11:23:51.324032Z",
     "iopub.status.busy": "2022-05-23T11:23:51.323714Z",
     "iopub.status.idle": "2022-05-23T11:23:51.346457Z",
     "shell.execute_reply": "2022-05-23T11:23:51.345530Z",
     "shell.execute_reply.started": "2022-05-23T11:23:51.323993Z"
    },
    "tags": []
   },
   "outputs": [
    {
     "name": "stdout",
     "output_type": "stream",
     "text": [
      "10 5 5\n"
     ]
    }
   ],
   "source": [
    "days = sorted(list(features_per_day.keys()))\n",
    "train_days = days[:10]\n",
    "val_days = days[10:15]\n",
    "test_days = days[15:20]\n",
    "print(len(train_days), len(val_days), len(test_days))"
   ]
  },
  {
   "cell_type": "code",
   "execution_count": 17,
   "id": "75f35c5a-3179-4703-b928-c5a6d73fe54d",
   "metadata": {
    "execution": {
     "iopub.execute_input": "2022-05-23T11:23:52.305861Z",
     "iopub.status.busy": "2022-05-23T11:23:52.305481Z",
     "iopub.status.idle": "2022-05-23T11:23:52.838318Z",
     "shell.execute_reply": "2022-05-23T11:23:52.837539Z",
     "shell.execute_reply.started": "2022-05-23T11:23:52.305822Z"
    },
    "tags": []
   },
   "outputs": [
    {
     "data": {
      "image/png": "[encoded data removed]",
      "text/plain": [
       "<Figure size 432x288 with 1 Axes>"
      ]
     },
     "metadata": {
      "needs_background": "light"
     },
     "output_type": "display_data"
    },
    {
     "data": {
      "image/png": "[encoded data removed]",
      "text/plain": [
       "<Figure size 432x288 with 1 Axes>"
      ]
     },
     "metadata": {
      "needs_background": "light"
     },
     "output_type": "display_data"
    }
   ],
   "source": [
    "plt.hist(targets_per_day[days[-1]], bins=100);\n",
    "plt.show()\n",
    "plt.hist(targets_per_day[days[0]], bins=100);\n",
    "plt.show()"
   ]
  },
  {
   "cell_type": "code",
   "execution_count": 18,
   "id": "d59e84d6-94ea-453d-b161-1bdcf2267ead",
   "metadata": {
    "execution": {
     "iopub.execute_input": "2022-05-23T11:23:57.552688Z",
     "iopub.status.busy": "2022-05-23T11:23:57.552248Z",
     "iopub.status.idle": "2022-05-23T11:23:57.575545Z",
     "shell.execute_reply": "2022-05-23T11:23:57.574753Z",
     "shell.execute_reply.started": "2022-05-23T11:23:57.552646Z"
    },
    "tags": []
   },
   "outputs": [],
   "source": [
    "from gluonts.dataset.common import ListDataset\n",
    "from gluonts.dataset.field_names import FieldName"
   ]
  },
  {
   "cell_type": "code",
   "execution_count": 20,
   "id": "fef2d6df-5916-4ad7-8875-9c74dd8cd548",
   "metadata": {
    "execution": {
     "iopub.execute_input": "2022-05-23T11:29:09.010521Z",
     "iopub.status.busy": "2022-05-23T11:29:09.010137Z",
     "iopub.status.idle": "2022-05-23T11:29:09.037549Z",
     "shell.execute_reply": "2022-05-23T11:29:09.037057Z",
     "shell.execute_reply.started": "2022-05-23T11:29:09.010474Z"
    },
    "tags": []
   },
   "outputs": [],
   "source": [
    "train_ds = ListDataset(\n",
    "    [\n",
    "        {\n",
    "            FieldName.TARGET: targets_per_day[day][None],\n",
    "            FieldName.START: dataset_metadata['start'],\n",
    "            FieldName.FEAT_DYNAMIC_REAL: features_per_day[day].T\n",
    "        }\n",
    "        for day in train_days\n",
    "    ],\n",
    "    freq=dataset_metadata['freq'],\n",
    "    one_dim_target=False\n",
    ")\n",
    "\n",
    "val_ds = ListDataset(\n",
    "    [\n",
    "        {\n",
    "            FieldName.TARGET: targets_per_day[day][None],\n",
    "            FieldName.START: dataset_metadata['start'],\n",
    "            FieldName.FEAT_DYNAMIC_REAL: features_per_day[day].T\n",
    "        }\n",
    "        for day in val_days\n",
    "    ],\n",
    "    freq=dataset_metadata['freq'],\n",
    "    one_dim_target=False\n",
    ")\n",
    "\n",
    "test_ds = ListDataset(\n",
    "    [\n",
    "        {\n",
    "            FieldName.TARGET: targets_per_day[day][None],\n",
    "            FieldName.START: dataset_metadata['start'],\n",
    "            FieldName.FEAT_DYNAMIC_REAL: features_per_day[day].T\n",
    "        }\n",
    "        for day in test_days\n",
    "    ],\n",
    "    freq=dataset_metadata['freq'],\n",
    "    one_dim_target=False\n",
    ")\n",
    "\n",
    "# for validation we have to create a list of dicts \n",
    "# with all suffixes from test_days"
   ]
  },
  {
   "cell_type": "code",
   "execution_count": 21,
   "id": "fc95d5af-e65b-46ab-8e8b-e0cb2d1e5c99",
   "metadata": {
    "execution": {
     "iopub.execute_input": "2022-05-23T11:29:09.813061Z",
     "iopub.status.busy": "2022-05-23T11:29:09.812686Z",
     "iopub.status.idle": "2022-05-23T11:29:09.836072Z",
     "shell.execute_reply": "2022-05-23T11:29:09.835585Z",
     "shell.execute_reply.started": "2022-05-23T11:29:09.813022Z"
    },
    "tags": []
   },
   "outputs": [
    {
     "data": {
      "text/plain": [
       "((1, 46317), (27, 46317))"
      ]
     },
     "execution_count": 21,
     "metadata": {},
     "output_type": "execute_result"
    }
   ],
   "source": [
    "targets_per_day[train_days[0]][None].shape,  features_per_day[train_days[0]].T.shape"
   ]
  },
  {
   "cell_type": "markdown",
   "id": "e28c88bd-bbe6-40ee-b77c-1651cd87d15c",
   "metadata": {},
   "source": [
    "# Load some model"
   ]
  },
  {
   "cell_type": "code",
   "execution_count": 38,
   "id": "0930849e-b560-4b84-bbf1-96a41873ccd4",
   "metadata": {
    "execution": {
     "iopub.execute_input": "2022-05-23T14:29:47.658822Z",
     "iopub.status.busy": "2022-05-23T14:29:47.657665Z",
     "iopub.status.idle": "2022-05-23T14:29:47.685408Z",
     "shell.execute_reply": "2022-05-23T14:29:47.684761Z",
     "shell.execute_reply.started": "2022-05-23T14:29:47.658767Z"
    },
    "tags": []
   },
   "outputs": [],
   "source": [
    "from gluonts.model.predictor import Predictor\n",
    "from gluonts.torch.model.predictor import PyTorchPredictor\n",
    "from gluonts.evaluation import make_evaluation_predictions\n",
    "\n",
    "from training_utils import get_rolled_dataset"
   ]
  },
  {
   "cell_type": "code",
   "execution_count": 39,
   "id": "440615af-10ff-47b5-89aa-1d58178ba1f0",
   "metadata": {
    "execution": {
     "iopub.execute_input": "2022-05-23T14:29:49.355133Z",
     "iopub.status.busy": "2022-05-23T14:29:49.354803Z",
     "iopub.status.idle": "2022-05-23T14:29:49.382384Z",
     "shell.execute_reply": "2022-05-23T14:29:49.381717Z",
     "shell.execute_reply.started": "2022-05-23T14:29:49.355094Z"
    },
    "tags": []
   },
   "outputs": [],
   "source": [
    "predictor = PyTorchPredictor.deserialize(Path('./checkpoints/simple_feedforward'))"
   ]
  },
  {
   "cell_type": "code",
   "execution_count": 87,
   "id": "da1952d0-5d5c-437e-a0c4-67b7290a435d",
   "metadata": {
    "execution": {
     "iopub.execute_input": "2022-05-23T15:38:45.134503Z",
     "iopub.status.busy": "2022-05-23T15:38:45.134060Z",
     "iopub.status.idle": "2022-05-23T15:41:53.628906Z",
     "shell.execute_reply": "2022-05-23T15:41:53.627887Z",
     "shell.execute_reply.started": "2022-05-23T15:38:45.134461Z"
    },
    "tags": []
   },
   "outputs": [
    {
     "name": "stderr",
     "output_type": "stream",
     "text": [
      "5it [00:06,  1.25s/it]\n"
     ]
    },
    {
     "data": {
      "application/vnd.jupyter.widget-view+json": {
       "model_id": "c1e6f2230b4f4f7c85a82b1b71390c99",
       "version_major": 2,
       "version_minor": 0
      },
      "text/plain": [
       "0it [00:00, ?it/s]"
      ]
     },
     "metadata": {},
     "output_type": "display_data"
    },
    {
     "data": {
      "application/vnd.jupyter.widget-view+json": {
       "model_id": "894ad8854aea43af87d61765b20d9d7b",
       "version_major": 2,
       "version_minor": 0
      },
      "text/plain": [
       "0it [00:00, ?it/s]"
      ]
     },
     "metadata": {},
     "output_type": "display_data"
    },
    {
     "name": "stdout",
     "output_type": "stream",
     "text": [
      "forecasts shape: (231555, 10, 1)\n"
     ]
    }
   ],
   "source": [
    "def get_dataset_prediction_stats(predictor, dataset):\n",
    "    dataset_rolled = get_rolled_dataset(dataset, \n",
    "                                     context_length=5,\n",
    "                                     prediction_length=1, max_size=np.inf)\n",
    "    forecast_it, ts_it = make_evaluation_predictions(\n",
    "        dataset_rolled, predictor=predictor, num_samples=10\n",
    "    )\n",
    "    forecasts, tss = list(tqdm(forecast_it)), list(tqdm(ts_it))\n",
    "    targets = np.array([ts.iloc[0].values.item() for ts in tss])\n",
    "    \n",
    "    forecasts = np.array([forecast.samples for forecast in forecasts]).squeeze()\n",
    "    print('forecasts shape:', forecasts.shape)\n",
    "    mean = forecasts.mean(1)\n",
    "    var = forecasts.var(1)\n",
    "    return mean, var, targets\n",
    "\n",
    "test_mean, test_var, test_targets = get_dataset_prediction_stats(predictor, test_ds)"
   ]
  },
  {
   "cell_type": "code",
   "execution_count": 98,
   "id": "858a4e40-d726-44cb-8181-90cd4a51ba27",
   "metadata": {
    "execution": {
     "iopub.execute_input": "2022-05-23T15:56:12.649441Z",
     "iopub.status.busy": "2022-05-23T15:56:12.648967Z",
     "iopub.status.idle": "2022-05-23T16:02:10.460409Z",
     "shell.execute_reply": "2022-05-23T16:02:10.459283Z",
     "shell.execute_reply.started": "2022-05-23T15:56:12.649397Z"
    },
    "tags": []
   },
   "outputs": [
    {
     "name": "stderr",
     "output_type": "stream",
     "text": [
      "10it [00:08,  1.16it/s]\n"
     ]
    },
    {
     "data": {
      "application/vnd.jupyter.widget-view+json": {
       "model_id": "b7c78a4efb2943dba47adf5f4a363131",
       "version_major": 2,
       "version_minor": 0
      },
      "text/plain": [
       "0it [00:00, ?it/s]"
      ]
     },
     "metadata": {},
     "output_type": "display_data"
    },
    {
     "data": {
      "application/vnd.jupyter.widget-view+json": {
       "model_id": "7f943e615ac243dca3e29410fdffa9a1",
       "version_major": 2,
       "version_minor": 0
      },
      "text/plain": [
       "0it [00:00, ?it/s]"
      ]
     },
     "metadata": {},
     "output_type": "display_data"
    },
    {
     "name": "stdout",
     "output_type": "stream",
     "text": [
      "forecasts shape: (463110, 10, 1)\n"
     ]
    }
   ],
   "source": [
    "train_mean, train_var, train_targets = get_dataset_prediction_stats(predictor, train_ds)"
   ]
  },
  {
   "cell_type": "code",
   "execution_count": 97,
   "id": "af4c9dc6-01ed-4421-a376-87421cd7aeac",
   "metadata": {
    "execution": {
     "iopub.execute_input": "2022-05-23T15:44:50.486454Z",
     "iopub.status.busy": "2022-05-23T15:44:50.486061Z",
     "iopub.status.idle": "2022-05-23T15:47:50.901096Z",
     "shell.execute_reply": "2022-05-23T15:47:50.899687Z",
     "shell.execute_reply.started": "2022-05-23T15:44:50.486411Z"
    }
   },
   "outputs": [
    {
     "name": "stderr",
     "output_type": "stream",
     "text": [
      "5it [00:04,  1.15it/s]\n"
     ]
    },
    {
     "data": {
      "application/vnd.jupyter.widget-view+json": {
       "model_id": "8febdcbffe58464fa86f3cbc1563d2fa",
       "version_major": 2,
       "version_minor": 0
      },
      "text/plain": [
       "0it [00:00, ?it/s]"
      ]
     },
     "metadata": {},
     "output_type": "display_data"
    },
    {
     "data": {
      "application/vnd.jupyter.widget-view+json": {
       "model_id": "242e04e5d01a423f98878137edd724e0",
       "version_major": 2,
       "version_minor": 0
      },
      "text/plain": [
       "0it [00:00, ?it/s]"
      ]
     },
     "metadata": {},
     "output_type": "display_data"
    },
    {
     "name": "stdout",
     "output_type": "stream",
     "text": [
      "forecasts shape: (231555, 10, 1)\n"
     ]
    }
   ],
   "source": [
    "val_mean, val_var, val_targets = get_dataset_prediction_stats(predictor, val_ds)"
   ]
  },
  {
   "cell_type": "code",
   "execution_count": 111,
   "id": "4c2b03b3-4918-4394-8b5a-35b9b311f762",
   "metadata": {
    "execution": {
     "iopub.execute_input": "2022-05-23T17:40:30.029525Z",
     "iopub.status.busy": "2022-05-23T17:40:30.029207Z",
     "iopub.status.idle": "2022-05-23T17:40:30.086122Z",
     "shell.execute_reply": "2022-05-23T17:40:30.085250Z",
     "shell.execute_reply.started": "2022-05-23T17:40:30.029484Z"
    },
    "tags": []
   },
   "outputs": [],
   "source": [
    "np.save('prediction-stats/mean_val.npy', val_mean.squeeze())\n",
    "np.save('prediction-stats/var_val.npy', val_var.squeeze())\n",
    "np.save('prediction-stats/targets_val.npy', np.array(val_targets))\n",
    "np.save('prediction-stats/mean_test.npy', test_mean.squeeze())\n",
    "np.save('prediction-stats/var_test.npy', test_var.squeeze())\n",
    "np.save('prediction-stats/targets_test.npy', np.array(test_targets))"
   ]
  },
  {
   "cell_type": "markdown",
   "id": "de65195c-5811-48ed-b6d5-c4f1a67e628b",
   "metadata": {},
   "source": [
    "# Recalibration metrics"
   ]
  },
  {
   "cell_type": "code",
   "execution_count": 130,
   "id": "0c4c474d-2f8d-4ec3-bce4-808285ad5d8f",
   "metadata": {
    "execution": {
     "iopub.execute_input": "2022-05-24T12:09:31.867574Z",
     "iopub.status.busy": "2022-05-24T12:09:31.867202Z",
     "iopub.status.idle": "2022-05-24T12:09:31.896069Z",
     "shell.execute_reply": "2022-05-24T12:09:31.895103Z",
     "shell.execute_reply.started": "2022-05-24T12:09:31.867533Z"
    },
    "tags": []
   },
   "outputs": [],
   "source": [
    "RESULTS_DIRECTORY = '/home/ayagudin/dl/probabilistic-time-series/point-calibration/results/'"
   ]
  },
  {
   "cell_type": "code",
   "execution_count": 153,
   "id": "374dacfd-89a3-4e29-8cc9-b9ed13ed727e",
   "metadata": {
    "execution": {
     "iopub.execute_input": "2022-05-24T13:02:37.360231Z",
     "iopub.status.busy": "2022-05-24T13:02:37.359787Z",
     "iopub.status.idle": "2022-05-24T13:02:37.388582Z",
     "shell.execute_reply": "2022-05-24T13:02:37.387571Z",
     "shell.execute_reply.started": "2022-05-24T13:02:37.360188Z"
    },
    "tags": []
   },
   "outputs": [],
   "source": [
    "stats = pd.read_csv(RESULTS_DIRECTORY + 'nasdaq_mid_dataset.csv')"
   ]
  },
  {
   "cell_type": "code",
   "execution_count": 154,
   "id": "769e41e9-146f-4c5c-b25f-0178f0eb9aec",
   "metadata": {
    "execution": {
     "iopub.execute_input": "2022-05-24T13:02:38.656314Z",
     "iopub.status.busy": "2022-05-24T13:02:38.655640Z",
     "iopub.status.idle": "2022-05-24T13:02:38.689532Z",
     "shell.execute_reply": "2022-05-24T13:02:38.688840Z",
     "shell.execute_reply.started": "2022-05-24T13:02:38.656262Z"
    },
    "tags": []
   },
   "outputs": [
    {
     "data": {
      "text/html": [
       "<div>\n",
       "<style scoped>\n",
       "    .dataframe tbody tr th:only-of-type {\n",
       "        vertical-align: middle;\n",
       "    }\n",
       "\n",
       "    .dataframe tbody tr th {\n",
       "        vertical-align: top;\n",
       "    }\n",
       "\n",
       "    .dataframe thead th {\n",
       "        text-align: right;\n",
       "    }\n",
       "</style>\n",
       "<table border=\"1\" class=\"dataframe\">\n",
       "  <thead>\n",
       "    <tr style=\"text-align: right;\">\n",
       "      <th></th>\n",
       "      <th>dataset</th>\n",
       "      <th>rmse</th>\n",
       "      <th>loss</th>\n",
       "      <th>ece</th>\n",
       "      <th>threshold_calibration_error_less</th>\n",
       "      <th>threshold_calibration_error_greater</th>\n",
       "      <th>threshold_calibration_error_both</th>\n",
       "      <th>threshold_calibration_error_all</th>\n",
       "      <th>point_calibration_error</th>\n",
       "      <th>distribution_calibration_error</th>\n",
       "      <th>point_calibration_error_uniform_mass</th>\n",
       "      <th>val_point_calibration_error</th>\n",
       "      <th>val_point_calibration_error_uniform_mass</th>\n",
       "    </tr>\n",
       "  </thead>\n",
       "  <tbody>\n",
       "    <tr>\n",
       "      <th>0</th>\n",
       "      <td>nasdaq</td>\n",
       "      <td>0</td>\n",
       "      <td>gaussian_nll</td>\n",
       "      <td>0.01628</td>\n",
       "      <td>0.098401</td>\n",
       "      <td>0.093484</td>\n",
       "      <td>0.191885</td>\n",
       "      <td>0.180900</td>\n",
       "      <td>0.115948</td>\n",
       "      <td>0</td>\n",
       "      <td>0.057747</td>\n",
       "      <td>0.096026</td>\n",
       "      <td>0.104429</td>\n",
       "    </tr>\n",
       "    <tr>\n",
       "      <th>1</th>\n",
       "      <td>nasdaq</td>\n",
       "      <td>0</td>\n",
       "      <td>gaussian_nll</td>\n",
       "      <td>0.01628</td>\n",
       "      <td>0.098625</td>\n",
       "      <td>0.093386</td>\n",
       "      <td>0.192012</td>\n",
       "      <td>0.178188</td>\n",
       "      <td>0.126721</td>\n",
       "      <td>0</td>\n",
       "      <td>0.050856</td>\n",
       "      <td>0.000000</td>\n",
       "      <td>0.000000</td>\n",
       "    </tr>\n",
       "    <tr>\n",
       "      <th>2</th>\n",
       "      <td>nasdaq</td>\n",
       "      <td>0</td>\n",
       "      <td>gaussian_nll</td>\n",
       "      <td>0.07951</td>\n",
       "      <td>0.105339</td>\n",
       "      <td>0.112687</td>\n",
       "      <td>0.218026</td>\n",
       "      <td>0.226221</td>\n",
       "      <td>0.139713</td>\n",
       "      <td>0</td>\n",
       "      <td>0.088234</td>\n",
       "      <td>0.000000</td>\n",
       "      <td>0.000000</td>\n",
       "    </tr>\n",
       "  </tbody>\n",
       "</table>\n",
       "</div>"
      ],
      "text/plain": [
       "  dataset  rmse          loss      ece  threshold_calibration_error_less  \\\n",
       "0  nasdaq     0  gaussian_nll  0.01628                          0.098401   \n",
       "1  nasdaq     0  gaussian_nll  0.01628                          0.098625   \n",
       "2  nasdaq     0  gaussian_nll  0.07951                          0.105339   \n",
       "\n",
       "   threshold_calibration_error_greater  threshold_calibration_error_both  \\\n",
       "0                             0.093484                          0.191885   \n",
       "1                             0.093386                          0.192012   \n",
       "2                             0.112687                          0.218026   \n",
       "\n",
       "   threshold_calibration_error_all  point_calibration_error  \\\n",
       "0                         0.180900                 0.115948   \n",
       "1                         0.178188                 0.126721   \n",
       "2                         0.226221                 0.139713   \n",
       "\n",
       "   distribution_calibration_error  point_calibration_error_uniform_mass  \\\n",
       "0                               0                              0.057747   \n",
       "1                               0                              0.050856   \n",
       "2                               0                              0.088234   \n",
       "\n",
       "   val_point_calibration_error  val_point_calibration_error_uniform_mass  \n",
       "0                     0.096026                                  0.104429  \n",
       "1                     0.000000                                  0.000000  \n",
       "2                     0.000000                                  0.000000  "
      ]
     },
     "execution_count": 154,
     "metadata": {},
     "output_type": "execute_result"
    }
   ],
   "source": [
    "stats[stats.columns[:13]]"
   ]
  },
  {
   "cell_type": "code",
   "execution_count": 155,
   "id": "cc4462f2-8e38-486b-a9a3-2ad52576333a",
   "metadata": {
    "execution": {
     "iopub.execute_input": "2022-05-24T13:02:39.231577Z",
     "iopub.status.busy": "2022-05-24T13:02:39.231319Z",
     "iopub.status.idle": "2022-05-24T13:02:39.260785Z",
     "shell.execute_reply": "2022-05-24T13:02:39.259948Z",
     "shell.execute_reply.started": "2022-05-24T13:02:39.231557Z"
    },
    "tags": []
   },
   "outputs": [
    {
     "data": {
      "text/html": [
       "<div>\n",
       "<style scoped>\n",
       "    .dataframe tbody tr th:only-of-type {\n",
       "        vertical-align: middle;\n",
       "    }\n",
       "\n",
       "    .dataframe tbody tr th {\n",
       "        vertical-align: top;\n",
       "    }\n",
       "\n",
       "    .dataframe thead th {\n",
       "        text-align: right;\n",
       "    }\n",
       "</style>\n",
       "<table border=\"1\" class=\"dataframe\">\n",
       "  <thead>\n",
       "    <tr style=\"text-align: right;\">\n",
       "      <th></th>\n",
       "      <th>train_point_calibration_error</th>\n",
       "      <th>train_point_calibration_error_uniform_mass</th>\n",
       "      <th>train_true_vs_pred_loss</th>\n",
       "      <th>true_vs_pred_loss</th>\n",
       "      <th>decision_loss</th>\n",
       "      <th>posthoc_recalibration</th>\n",
       "      <th>train_frac</th>\n",
       "      <th>seed</th>\n",
       "      <th>num_layers</th>\n",
       "      <th>n_dim</th>\n",
       "      <th>epochs</th>\n",
       "      <th>n_bins</th>\n",
       "      <th>flow_type</th>\n",
       "    </tr>\n",
       "  </thead>\n",
       "  <tbody>\n",
       "    <tr>\n",
       "      <th>0</th>\n",
       "      <td>0.116226</td>\n",
       "      <td>0.091369</td>\n",
       "      <td>0.184625</td>\n",
       "      <td>0.064209</td>\n",
       "      <td>0.247083</td>\n",
       "      <td>iterative_point</td>\n",
       "      <td>1.0</td>\n",
       "      <td>0</td>\n",
       "      <td>0</td>\n",
       "      <td>NaN</td>\n",
       "      <td>NaN</td>\n",
       "      <td>141.0</td>\n",
       "      <td>NaN</td>\n",
       "    </tr>\n",
       "    <tr>\n",
       "      <th>1</th>\n",
       "      <td>0.000000</td>\n",
       "      <td>0.000000</td>\n",
       "      <td>0.000000</td>\n",
       "      <td>0.064209</td>\n",
       "      <td>0.247083</td>\n",
       "      <td>NaN</td>\n",
       "      <td>1.0</td>\n",
       "      <td>0</td>\n",
       "      <td>0</td>\n",
       "      <td>NaN</td>\n",
       "      <td>NaN</td>\n",
       "      <td>NaN</td>\n",
       "      <td>NaN</td>\n",
       "    </tr>\n",
       "    <tr>\n",
       "      <th>2</th>\n",
       "      <td>0.000000</td>\n",
       "      <td>0.000000</td>\n",
       "      <td>0.000000</td>\n",
       "      <td>0.360793</td>\n",
       "      <td>0.282885</td>\n",
       "      <td>average</td>\n",
       "      <td>1.0</td>\n",
       "      <td>0</td>\n",
       "      <td>0</td>\n",
       "      <td>NaN</td>\n",
       "      <td>NaN</td>\n",
       "      <td>NaN</td>\n",
       "      <td>NaN</td>\n",
       "    </tr>\n",
       "  </tbody>\n",
       "</table>\n",
       "</div>"
      ],
      "text/plain": [
       "   train_point_calibration_error  train_point_calibration_error_uniform_mass  \\\n",
       "0                       0.116226                                    0.091369   \n",
       "1                       0.000000                                    0.000000   \n",
       "2                       0.000000                                    0.000000   \n",
       "\n",
       "   train_true_vs_pred_loss  true_vs_pred_loss  decision_loss  \\\n",
       "0                 0.184625           0.064209       0.247083   \n",
       "1                 0.000000           0.064209       0.247083   \n",
       "2                 0.000000           0.360793       0.282885   \n",
       "\n",
       "  posthoc_recalibration  train_frac  seed  num_layers  n_dim  epochs  n_bins  \\\n",
       "0       iterative_point         1.0     0           0    NaN     NaN   141.0   \n",
       "1                   NaN         1.0     0           0    NaN     NaN     NaN   \n",
       "2               average         1.0     0           0    NaN     NaN     NaN   \n",
       "\n",
       "   flow_type  \n",
       "0        NaN  \n",
       "1        NaN  \n",
       "2        NaN  "
      ]
     },
     "execution_count": 155,
     "metadata": {},
     "output_type": "execute_result"
    }
   ],
   "source": [
    "stats[stats.columns[13:]]"
   ]
  },
  {
   "cell_type": "code",
   "execution_count": null,
   "id": "a12704de-e77f-4486-90b5-f67beaf1d105",
   "metadata": {},
   "outputs": [],
   "source": []
  },
  {
   "cell_type": "markdown",
   "id": "c17ae177-691d-47da-89e7-d4f43c3c9636",
   "metadata": {
    "execution": {
     "iopub.execute_input": "2022-02-23T11:22:26.555364Z",
     "iopub.status.busy": "2022-02-23T11:22:26.554685Z",
     "iopub.status.idle": "2022-02-23T11:22:26.609508Z",
     "shell.execute_reply": "2022-02-23T11:22:26.608246Z",
     "shell.execute_reply.started": "2022-02-23T11:22:26.555288Z"
    }
   },
   "source": [
    "# Metrics [TODO]"
   ]
  },
  {
   "cell_type": "code",
   "execution_count": 62,
   "id": "73850eb7-ee2a-45fc-8921-5062dbc1e47a",
   "metadata": {
    "execution": {
     "iopub.execute_input": "2022-05-02T21:16:23.943563Z",
     "iopub.status.busy": "2022-05-02T21:16:23.943362Z",
     "iopub.status.idle": "2022-05-02T21:16:23.967902Z",
     "shell.execute_reply": "2022-05-02T21:16:23.967429Z",
     "shell.execute_reply.started": "2022-05-02T21:16:23.943544Z"
    },
    "tags": []
   },
   "outputs": [],
   "source": [
    "from gluonts.evaluation import Evaluator"
   ]
  },
  {
   "cell_type": "code",
   "execution_count": null,
   "id": "b2bd5592-6c59-4029-99a7-857815f97692",
   "metadata": {
    "execution": {
     "iopub.execute_input": "2022-05-02T22:07:25.607338Z",
     "iopub.status.busy": "2022-05-02T22:07:25.607175Z"
    },
    "tags": []
   },
   "outputs": [
    {
     "name": "stderr",
     "output_type": "stream",
     "text": [
      "Running evaluation:   0%|                                                     | 0/1206 [00:00<?, ?it/s]"
     ]
    }
   ],
   "source": [
    "# actually we can easily calculate it by hand\n",
    "evaluator = Evaluator(quantiles=[0.1, 0.5, 0.9])\n",
    "agg_metrics, item_metrics = evaluator(iter(tss), \n",
    "                                      iter(forecasts), \n",
    "                                      num_series=len(test_ds_rolled))"
   ]
  },
  {
   "cell_type": "code",
   "execution_count": 67,
   "id": "5c5089ce-e90c-4391-9430-9d80317b785c",
   "metadata": {
    "execution": {
     "iopub.execute_input": "2022-05-02T23:22:24.262281Z",
     "iopub.status.busy": "2022-05-02T23:22:24.261897Z",
     "iopub.status.idle": "2022-05-02T23:22:24.293718Z",
     "shell.execute_reply": "2022-05-02T23:22:24.292859Z",
     "shell.execute_reply.started": "2022-05-02T23:22:24.262239Z"
    },
    "tags": []
   },
   "outputs": [
    {
     "data": {
      "text/plain": [
       "{'MSE': 6.7899866179483634,\n",
       " 'abs_error': 2443.6014391388744,\n",
       " 'abs_target_sum': 2401.5612582004396,\n",
       " 'abs_target_mean': 1.9913443268660362,\n",
       " 'seasonal_error': 0.3556682882123128,\n",
       " 'MASE': inf,\n",
       " 'MAPE': 1.3371886375536262,\n",
       " 'sMAPE': 1.715921922018875,\n",
       " 'MSIS': inf,\n",
       " 'QuantileLoss[0.1]': 1640.415236374736,\n",
       " 'Coverage[0.1]': 0.29933665008291876,\n",
       " 'QuantileLoss[0.5]': 2443.6014391388744,\n",
       " 'Coverage[0.5]': 0.4187396351575456,\n",
       " 'QuantileLoss[0.9]': 1912.8786718323827,\n",
       " 'Coverage[0.9]': 0.5895522388059702,\n",
       " 'RMSE': 2.6057602763777723,\n",
       " 'NRMSE': 1.3085432997309407,\n",
       " 'ND': 1.0175053544001358,\n",
       " 'wQuantileLoss[0.1]': 0.6830620000940335,\n",
       " 'wQuantileLoss[0.5]': 1.0175053544001358,\n",
       " 'wQuantileLoss[0.9]': 0.796514627849118,\n",
       " 'mean_absolute_QuantileLoss': 1998.9651157819978,\n",
       " 'mean_wQuantileLoss': 0.8323606607810957,\n",
       " 'MAE_Coverage': 0.19701492537313434,\n",
       " 'OWA': nan}"
      ]
     },
     "execution_count": 67,
     "metadata": {},
     "output_type": "execute_result"
    }
   ],
   "source": [
    "# print(\"CRPS: {}\".format(agg_metric['mean_wQuantileLoss']))\n",
    "agg_metrics"
   ]
  },
  {
   "cell_type": "code",
   "execution_count": 68,
   "id": "d5515ec2-f317-4d20-b26e-c78733f947a1",
   "metadata": {
    "execution": {
     "iopub.execute_input": "2022-05-02T23:22:24.324339Z",
     "iopub.status.busy": "2022-05-02T23:22:24.323554Z",
     "iopub.status.idle": "2022-05-02T23:22:24.354291Z",
     "shell.execute_reply": "2022-05-02T23:22:24.353479Z",
     "shell.execute_reply.started": "2022-05-02T23:22:24.324291Z"
    },
    "tags": []
   },
   "outputs": [
    {
     "data": {
      "text/plain": [
       "{'MSE': 6.7899866179483634,\n",
       " 'abs_error': 2443.6014391388744,\n",
       " 'abs_target_sum': 2401.5612582004396,\n",
       " 'abs_target_mean': 1.9913443268660362,\n",
       " 'seasonal_error': 0.3556682882123128,\n",
       " 'MASE': inf,\n",
       " 'MAPE': 1.3371886375536262,\n",
       " 'sMAPE': 1.715921922018875,\n",
       " 'MSIS': inf,\n",
       " 'QuantileLoss[0.1]': 1640.415236374736,\n",
       " 'Coverage[0.1]': 0.29933665008291876,\n",
       " 'QuantileLoss[0.5]': 2443.6014391388744,\n",
       " 'Coverage[0.5]': 0.4187396351575456,\n",
       " 'QuantileLoss[0.9]': 1912.8786718323827,\n",
       " 'Coverage[0.9]': 0.5895522388059702,\n",
       " 'RMSE': 2.6057602763777723,\n",
       " 'NRMSE': 1.3085432997309407,\n",
       " 'ND': 1.0175053544001358,\n",
       " 'wQuantileLoss[0.1]': 0.6830620000940335,\n",
       " 'wQuantileLoss[0.5]': 1.0175053544001358,\n",
       " 'wQuantileLoss[0.9]': 0.796514627849118,\n",
       " 'mean_absolute_QuantileLoss': 1998.9651157819978,\n",
       " 'mean_wQuantileLoss': 0.8323606607810957,\n",
       " 'MAE_Coverage': 0.19701492537313434,\n",
       " 'OWA': nan}"
      ]
     },
     "execution_count": 68,
     "metadata": {},
     "output_type": "execute_result"
    }
   ],
   "source": [
    "# print(\"CRPS: {}\".format(agg_metric['mean_wQuantileLoss']))\n",
    "agg_metrics"
   ]
  },
  {
   "cell_type": "code",
   "execution_count": 82,
   "id": "f7ff4ee0-43db-415f-af36-fe60e22fa23d",
   "metadata": {
    "execution": {
     "iopub.execute_input": "2022-04-30T23:53:00.294614Z",
     "iopub.status.busy": "2022-04-30T23:53:00.294241Z",
     "iopub.status.idle": "2022-04-30T23:53:00.340391Z",
     "shell.execute_reply": "2022-04-30T23:53:00.339915Z",
     "shell.execute_reply.started": "2022-04-30T23:53:00.294571Z"
    },
    "tags": []
   },
   "outputs": [
    {
     "data": {
      "text/html": [
       "<div>\n",
       "<style scoped>\n",
       "    .dataframe tbody tr th:only-of-type {\n",
       "        vertical-align: middle;\n",
       "    }\n",
       "\n",
       "    .dataframe tbody tr th {\n",
       "        vertical-align: top;\n",
       "    }\n",
       "\n",
       "    .dataframe thead th {\n",
       "        text-align: right;\n",
       "    }\n",
       "</style>\n",
       "<table border=\"1\" class=\"dataframe\">\n",
       "  <thead>\n",
       "    <tr style=\"text-align: right;\">\n",
       "      <th></th>\n",
       "      <th>item_id</th>\n",
       "      <th>MSE</th>\n",
       "      <th>abs_error</th>\n",
       "      <th>abs_target_sum</th>\n",
       "      <th>abs_target_mean</th>\n",
       "      <th>seasonal_error</th>\n",
       "      <th>MASE</th>\n",
       "      <th>MAPE</th>\n",
       "      <th>sMAPE</th>\n",
       "      <th>MSIS</th>\n",
       "      <th>QuantileLoss[0.1]</th>\n",
       "      <th>Coverage[0.1]</th>\n",
       "      <th>QuantileLoss[0.5]</th>\n",
       "      <th>Coverage[0.5]</th>\n",
       "      <th>QuantileLoss[0.9]</th>\n",
       "      <th>Coverage[0.9]</th>\n",
       "    </tr>\n",
       "  </thead>\n",
       "  <tbody>\n",
       "    <tr>\n",
       "      <th>0</th>\n",
       "      <td>NaN</td>\n",
       "      <td>36.260365</td>\n",
       "      <td>6.483162</td>\n",
       "      <td>5.293073</td>\n",
       "      <td>5.293073</td>\n",
       "      <td>0.672751</td>\n",
       "      <td>9.636793</td>\n",
       "      <td>1.224839</td>\n",
       "      <td>2.0</td>\n",
       "      <td>331.964121</td>\n",
       "      <td>1.296632</td>\n",
       "      <td>0.0</td>\n",
       "      <td>6.483162</td>\n",
       "      <td>0.0</td>\n",
       "      <td>10.008278</td>\n",
       "      <td>0.0</td>\n",
       "    </tr>\n",
       "    <tr>\n",
       "      <th>1</th>\n",
       "      <td>NaN</td>\n",
       "      <td>22.679234</td>\n",
       "      <td>5.471787</td>\n",
       "      <td>4.615551</td>\n",
       "      <td>4.615551</td>\n",
       "      <td>0.477129</td>\n",
       "      <td>11.468163</td>\n",
       "      <td>1.185511</td>\n",
       "      <td>2.0</td>\n",
       "      <td>342.736380</td>\n",
       "      <td>1.094357</td>\n",
       "      <td>0.0</td>\n",
       "      <td>5.471787</td>\n",
       "      <td>0.0</td>\n",
       "      <td>7.294961</td>\n",
       "      <td>0.0</td>\n",
       "    </tr>\n",
       "    <tr>\n",
       "      <th>2</th>\n",
       "      <td>NaN</td>\n",
       "      <td>19.992542</td>\n",
       "      <td>4.768174</td>\n",
       "      <td>4.324502</td>\n",
       "      <td>4.324502</td>\n",
       "      <td>0.677522</td>\n",
       "      <td>7.037664</td>\n",
       "      <td>1.102595</td>\n",
       "      <td>2.0</td>\n",
       "      <td>247.329103</td>\n",
       "      <td>0.953635</td>\n",
       "      <td>0.0</td>\n",
       "      <td>4.768174</td>\n",
       "      <td>0.0</td>\n",
       "      <td>7.513974</td>\n",
       "      <td>0.0</td>\n",
       "    </tr>\n",
       "    <tr>\n",
       "      <th>3</th>\n",
       "      <td>NaN</td>\n",
       "      <td>23.797688</td>\n",
       "      <td>4.980725</td>\n",
       "      <td>4.415156</td>\n",
       "      <td>4.415156</td>\n",
       "      <td>0.291049</td>\n",
       "      <td>17.113039</td>\n",
       "      <td>1.128097</td>\n",
       "      <td>2.0</td>\n",
       "      <td>657.068750</td>\n",
       "      <td>0.996145</td>\n",
       "      <td>0.0</td>\n",
       "      <td>4.980725</td>\n",
       "      <td>0.0</td>\n",
       "      <td>8.596531</td>\n",
       "      <td>0.0</td>\n",
       "    </tr>\n",
       "    <tr>\n",
       "      <th>4</th>\n",
       "      <td>NaN</td>\n",
       "      <td>22.288261</td>\n",
       "      <td>5.172645</td>\n",
       "      <td>4.119337</td>\n",
       "      <td>4.119337</td>\n",
       "      <td>0.090654</td>\n",
       "      <td>57.058969</td>\n",
       "      <td>1.255698</td>\n",
       "      <td>2.0</td>\n",
       "      <td>1893.796545</td>\n",
       "      <td>1.034529</td>\n",
       "      <td>0.0</td>\n",
       "      <td>5.172645</td>\n",
       "      <td>0.0</td>\n",
       "      <td>7.684998</td>\n",
       "      <td>0.0</td>\n",
       "    </tr>\n",
       "    <tr>\n",
       "      <th>...</th>\n",
       "      <td>...</td>\n",
       "      <td>...</td>\n",
       "      <td>...</td>\n",
       "      <td>...</td>\n",
       "      <td>...</td>\n",
       "      <td>...</td>\n",
       "      <td>...</td>\n",
       "      <td>...</td>\n",
       "      <td>...</td>\n",
       "      <td>...</td>\n",
       "      <td>...</td>\n",
       "      <td>...</td>\n",
       "      <td>...</td>\n",
       "      <td>...</td>\n",
       "      <td>...</td>\n",
       "      <td>...</td>\n",
       "    </tr>\n",
       "    <tr>\n",
       "      <th>1201</th>\n",
       "      <td>NaN</td>\n",
       "      <td>1.055888</td>\n",
       "      <td>2.012027</td>\n",
       "      <td>1.075258</td>\n",
       "      <td>1.075258</td>\n",
       "      <td>0.338761</td>\n",
       "      <td>5.939369</td>\n",
       "      <td>1.871203</td>\n",
       "      <td>2.0</td>\n",
       "      <td>10.901397</td>\n",
       "      <td>0.402405</td>\n",
       "      <td>0.0</td>\n",
       "      <td>2.012027</td>\n",
       "      <td>0.0</td>\n",
       "      <td>0.077582</td>\n",
       "      <td>0.0</td>\n",
       "    </tr>\n",
       "    <tr>\n",
       "      <th>1202</th>\n",
       "      <td>NaN</td>\n",
       "      <td>2.656239</td>\n",
       "      <td>2.188793</td>\n",
       "      <td>1.876834</td>\n",
       "      <td>1.876834</td>\n",
       "      <td>0.424644</td>\n",
       "      <td>5.154416</td>\n",
       "      <td>1.166216</td>\n",
       "      <td>2.0</td>\n",
       "      <td>103.498513</td>\n",
       "      <td>0.437759</td>\n",
       "      <td>0.0</td>\n",
       "      <td>2.188793</td>\n",
       "      <td>0.0</td>\n",
       "      <td>1.927442</td>\n",
       "      <td>0.0</td>\n",
       "    </tr>\n",
       "    <tr>\n",
       "      <th>1203</th>\n",
       "      <td>NaN</td>\n",
       "      <td>4.899818</td>\n",
       "      <td>2.767113</td>\n",
       "      <td>1.533302</td>\n",
       "      <td>1.533302</td>\n",
       "      <td>0.801576</td>\n",
       "      <td>3.452093</td>\n",
       "      <td>1.804676</td>\n",
       "      <td>2.0</td>\n",
       "      <td>84.217684</td>\n",
       "      <td>0.553423</td>\n",
       "      <td>0.0</td>\n",
       "      <td>2.767113</td>\n",
       "      <td>0.0</td>\n",
       "      <td>2.987987</td>\n",
       "      <td>0.0</td>\n",
       "    </tr>\n",
       "    <tr>\n",
       "      <th>1204</th>\n",
       "      <td>NaN</td>\n",
       "      <td>5.060603</td>\n",
       "      <td>2.859463</td>\n",
       "      <td>1.571472</td>\n",
       "      <td>1.571472</td>\n",
       "      <td>0.343532</td>\n",
       "      <td>8.323706</td>\n",
       "      <td>1.819608</td>\n",
       "      <td>2.0</td>\n",
       "      <td>194.472268</td>\n",
       "      <td>0.571893</td>\n",
       "      <td>0.0</td>\n",
       "      <td>2.859463</td>\n",
       "      <td>0.0</td>\n",
       "      <td>2.951449</td>\n",
       "      <td>0.0</td>\n",
       "    </tr>\n",
       "    <tr>\n",
       "      <th>1205</th>\n",
       "      <td>NaN</td>\n",
       "      <td>18.668268</td>\n",
       "      <td>5.030333</td>\n",
       "      <td>2.382590</td>\n",
       "      <td>2.382590</td>\n",
       "      <td>0.038170</td>\n",
       "      <td>131.786431</td>\n",
       "      <td>2.111288</td>\n",
       "      <td>2.0</td>\n",
       "      <td>3821.301053</td>\n",
       "      <td>1.006067</td>\n",
       "      <td>0.0</td>\n",
       "      <td>5.030333</td>\n",
       "      <td>0.0</td>\n",
       "      <td>6.499846</td>\n",
       "      <td>0.0</td>\n",
       "    </tr>\n",
       "  </tbody>\n",
       "</table>\n",
       "<p>1206 rows × 16 columns</p>\n",
       "</div>"
      ],
      "text/plain": [
       "      item_id        MSE  abs_error  abs_target_sum  abs_target_mean  \\\n",
       "0         NaN  36.260365   6.483162        5.293073         5.293073   \n",
       "1         NaN  22.679234   5.471787        4.615551         4.615551   \n",
       "2         NaN  19.992542   4.768174        4.324502         4.324502   \n",
       "3         NaN  23.797688   4.980725        4.415156         4.415156   \n",
       "4         NaN  22.288261   5.172645        4.119337         4.119337   \n",
       "...       ...        ...        ...             ...              ...   \n",
       "1201      NaN   1.055888   2.012027        1.075258         1.075258   \n",
       "1202      NaN   2.656239   2.188793        1.876834         1.876834   \n",
       "1203      NaN   4.899818   2.767113        1.533302         1.533302   \n",
       "1204      NaN   5.060603   2.859463        1.571472         1.571472   \n",
       "1205      NaN  18.668268   5.030333        2.382590         2.382590   \n",
       "\n",
       "      seasonal_error        MASE      MAPE  sMAPE         MSIS  \\\n",
       "0           0.672751    9.636793  1.224839    2.0   331.964121   \n",
       "1           0.477129   11.468163  1.185511    2.0   342.736380   \n",
       "2           0.677522    7.037664  1.102595    2.0   247.329103   \n",
       "3           0.291049   17.113039  1.128097    2.0   657.068750   \n",
       "4           0.090654   57.058969  1.255698    2.0  1893.796545   \n",
       "...              ...         ...       ...    ...          ...   \n",
       "1201        0.338761    5.939369  1.871203    2.0    10.901397   \n",
       "1202        0.424644    5.154416  1.166216    2.0   103.498513   \n",
       "1203        0.801576    3.452093  1.804676    2.0    84.217684   \n",
       "1204        0.343532    8.323706  1.819608    2.0   194.472268   \n",
       "1205        0.038170  131.786431  2.111288    2.0  3821.301053   \n",
       "\n",
       "      QuantileLoss[0.1]  Coverage[0.1]  QuantileLoss[0.5]  Coverage[0.5]  \\\n",
       "0              1.296632            0.0           6.483162            0.0   \n",
       "1              1.094357            0.0           5.471787            0.0   \n",
       "2              0.953635            0.0           4.768174            0.0   \n",
       "3              0.996145            0.0           4.980725            0.0   \n",
       "4              1.034529            0.0           5.172645            0.0   \n",
       "...                 ...            ...                ...            ...   \n",
       "1201           0.402405            0.0           2.012027            0.0   \n",
       "1202           0.437759            0.0           2.188793            0.0   \n",
       "1203           0.553423            0.0           2.767113            0.0   \n",
       "1204           0.571893            0.0           2.859463            0.0   \n",
       "1205           1.006067            0.0           5.030333            0.0   \n",
       "\n",
       "      QuantileLoss[0.9]  Coverage[0.9]  \n",
       "0             10.008278            0.0  \n",
       "1              7.294961            0.0  \n",
       "2              7.513974            0.0  \n",
       "3              8.596531            0.0  \n",
       "4              7.684998            0.0  \n",
       "...                 ...            ...  \n",
       "1201           0.077582            0.0  \n",
       "1202           1.927442            0.0  \n",
       "1203           2.987987            0.0  \n",
       "1204           2.951449            0.0  \n",
       "1205           6.499846            0.0  \n",
       "\n",
       "[1206 rows x 16 columns]"
      ]
     },
     "execution_count": 82,
     "metadata": {},
     "output_type": "execute_result"
    }
   ],
   "source": [
    "item_metrics"
   ]
  },
  {
   "cell_type": "code",
   "execution_count": 69,
   "id": "681b6d08-299f-4f1d-bec0-2bc9be43c3f8",
   "metadata": {
    "execution": {
     "iopub.execute_input": "2022-05-02T23:22:42.528626Z",
     "iopub.status.busy": "2022-05-02T23:22:42.528292Z",
     "iopub.status.idle": "2022-05-02T23:22:42.583574Z",
     "shell.execute_reply": "2022-05-02T23:22:42.582703Z",
     "shell.execute_reply.started": "2022-05-02T23:22:42.528587Z"
    }
   },
   "outputs": [
    {
     "data": {
      "text/html": [
       "<div>\n",
       "<style scoped>\n",
       "    .dataframe tbody tr th:only-of-type {\n",
       "        vertical-align: middle;\n",
       "    }\n",
       "\n",
       "    .dataframe tbody tr th {\n",
       "        vertical-align: top;\n",
       "    }\n",
       "\n",
       "    .dataframe thead th {\n",
       "        text-align: right;\n",
       "    }\n",
       "</style>\n",
       "<table border=\"1\" class=\"dataframe\">\n",
       "  <thead>\n",
       "    <tr style=\"text-align: right;\">\n",
       "      <th></th>\n",
       "      <th>item_id</th>\n",
       "      <th>MSE</th>\n",
       "      <th>abs_error</th>\n",
       "      <th>abs_target_sum</th>\n",
       "      <th>abs_target_mean</th>\n",
       "      <th>seasonal_error</th>\n",
       "      <th>MASE</th>\n",
       "      <th>MAPE</th>\n",
       "      <th>sMAPE</th>\n",
       "      <th>MSIS</th>\n",
       "      <th>QuantileLoss[0.1]</th>\n",
       "      <th>Coverage[0.1]</th>\n",
       "      <th>QuantileLoss[0.5]</th>\n",
       "      <th>Coverage[0.5]</th>\n",
       "      <th>QuantileLoss[0.9]</th>\n",
       "      <th>Coverage[0.9]</th>\n",
       "    </tr>\n",
       "  </thead>\n",
       "  <tbody>\n",
       "    <tr>\n",
       "      <th>0</th>\n",
       "      <td>NaN</td>\n",
       "      <td>22.008644</td>\n",
       "      <td>4.869616</td>\n",
       "      <td>4.415156</td>\n",
       "      <td>4.415156</td>\n",
       "      <td>0.529613</td>\n",
       "      <td>9.194677</td>\n",
       "      <td>1.102932</td>\n",
       "      <td>2.000000</td>\n",
       "      <td>286.597556</td>\n",
       "      <td>1.134803</td>\n",
       "      <td>0.0</td>\n",
       "      <td>4.869616</td>\n",
       "      <td>0.0</td>\n",
       "      <td>6.795611</td>\n",
       "      <td>0.0</td>\n",
       "    </tr>\n",
       "    <tr>\n",
       "      <th>1</th>\n",
       "      <td>NaN</td>\n",
       "      <td>17.311729</td>\n",
       "      <td>4.091903</td>\n",
       "      <td>4.119337</td>\n",
       "      <td>4.119337</td>\n",
       "      <td>0.384088</td>\n",
       "      <td>10.653544</td>\n",
       "      <td>0.993340</td>\n",
       "      <td>1.973537</td>\n",
       "      <td>324.954032</td>\n",
       "      <td>0.961690</td>\n",
       "      <td>0.0</td>\n",
       "      <td>4.091903</td>\n",
       "      <td>0.0</td>\n",
       "      <td>6.358344</td>\n",
       "      <td>0.0</td>\n",
       "    </tr>\n",
       "    <tr>\n",
       "      <th>2</th>\n",
       "      <td>NaN</td>\n",
       "      <td>30.518023</td>\n",
       "      <td>5.835865</td>\n",
       "      <td>5.751116</td>\n",
       "      <td>5.751116</td>\n",
       "      <td>0.338761</td>\n",
       "      <td>17.227082</td>\n",
       "      <td>1.014736</td>\n",
       "      <td>2.000000</td>\n",
       "      <td>295.596196</td>\n",
       "      <td>1.344757</td>\n",
       "      <td>0.0</td>\n",
       "      <td>5.835865</td>\n",
       "      <td>0.0</td>\n",
       "      <td>8.514152</td>\n",
       "      <td>0.0</td>\n",
       "    </tr>\n",
       "    <tr>\n",
       "      <th>3</th>\n",
       "      <td>NaN</td>\n",
       "      <td>23.523882</td>\n",
       "      <td>5.026651</td>\n",
       "      <td>4.706205</td>\n",
       "      <td>4.706205</td>\n",
       "      <td>0.577325</td>\n",
       "      <td>8.706792</td>\n",
       "      <td>1.068090</td>\n",
       "      <td>2.000000</td>\n",
       "      <td>248.171312</td>\n",
       "      <td>1.159536</td>\n",
       "      <td>0.0</td>\n",
       "      <td>5.026651</td>\n",
       "      <td>0.0</td>\n",
       "      <td>7.376008</td>\n",
       "      <td>0.0</td>\n",
       "    </tr>\n",
       "    <tr>\n",
       "      <th>4</th>\n",
       "      <td>NaN</td>\n",
       "      <td>19.869068</td>\n",
       "      <td>3.950956</td>\n",
       "      <td>3.637437</td>\n",
       "      <td>3.637437</td>\n",
       "      <td>0.765791</td>\n",
       "      <td>5.159315</td>\n",
       "      <td>1.086192</td>\n",
       "      <td>2.000000</td>\n",
       "      <td>166.972028</td>\n",
       "      <td>1.354496</td>\n",
       "      <td>0.0</td>\n",
       "      <td>3.950956</td>\n",
       "      <td>0.0</td>\n",
       "      <td>5.869420</td>\n",
       "      <td>0.0</td>\n",
       "    </tr>\n",
       "    <tr>\n",
       "      <th>...</th>\n",
       "      <td>...</td>\n",
       "      <td>...</td>\n",
       "      <td>...</td>\n",
       "      <td>...</td>\n",
       "      <td>...</td>\n",
       "      <td>...</td>\n",
       "      <td>...</td>\n",
       "      <td>...</td>\n",
       "      <td>...</td>\n",
       "      <td>...</td>\n",
       "      <td>...</td>\n",
       "      <td>...</td>\n",
       "      <td>...</td>\n",
       "      <td>...</td>\n",
       "      <td>...</td>\n",
       "      <td>...</td>\n",
       "    </tr>\n",
       "    <tr>\n",
       "      <th>1201</th>\n",
       "      <td>NaN</td>\n",
       "      <td>3.108257</td>\n",
       "      <td>1.931677</td>\n",
       "      <td>1.571472</td>\n",
       "      <td>1.571472</td>\n",
       "      <td>0.477128</td>\n",
       "      <td>4.048547</td>\n",
       "      <td>1.229215</td>\n",
       "      <td>2.000000</td>\n",
       "      <td>45.549187</td>\n",
       "      <td>0.609762</td>\n",
       "      <td>0.0</td>\n",
       "      <td>1.931677</td>\n",
       "      <td>0.0</td>\n",
       "      <td>1.368648</td>\n",
       "      <td>0.0</td>\n",
       "    </tr>\n",
       "    <tr>\n",
       "      <th>1202</th>\n",
       "      <td>NaN</td>\n",
       "      <td>7.142027</td>\n",
       "      <td>2.806405</td>\n",
       "      <td>2.382590</td>\n",
       "      <td>2.382590</td>\n",
       "      <td>0.401981</td>\n",
       "      <td>6.981444</td>\n",
       "      <td>1.177880</td>\n",
       "      <td>2.000000</td>\n",
       "      <td>102.695818</td>\n",
       "      <td>0.677876</td>\n",
       "      <td>0.0</td>\n",
       "      <td>2.806405</td>\n",
       "      <td>0.0</td>\n",
       "      <td>3.324632</td>\n",
       "      <td>0.0</td>\n",
       "    </tr>\n",
       "    <tr>\n",
       "      <th>1203</th>\n",
       "      <td>NaN</td>\n",
       "      <td>4.629624</td>\n",
       "      <td>2.436457</td>\n",
       "      <td>1.676440</td>\n",
       "      <td>1.676440</td>\n",
       "      <td>0.498599</td>\n",
       "      <td>4.886605</td>\n",
       "      <td>1.453351</td>\n",
       "      <td>2.000000</td>\n",
       "      <td>61.318851</td>\n",
       "      <td>0.686437</td>\n",
       "      <td>0.0</td>\n",
       "      <td>2.436457</td>\n",
       "      <td>0.0</td>\n",
       "      <td>1.515742</td>\n",
       "      <td>0.0</td>\n",
       "    </tr>\n",
       "    <tr>\n",
       "      <th>1204</th>\n",
       "      <td>NaN</td>\n",
       "      <td>2.816041</td>\n",
       "      <td>1.502892</td>\n",
       "      <td>1.733696</td>\n",
       "      <td>1.733696</td>\n",
       "      <td>0.474743</td>\n",
       "      <td>3.165697</td>\n",
       "      <td>0.866872</td>\n",
       "      <td>1.530051</td>\n",
       "      <td>43.893115</td>\n",
       "      <td>0.533668</td>\n",
       "      <td>0.0</td>\n",
       "      <td>1.502892</td>\n",
       "      <td>0.0</td>\n",
       "      <td>1.616239</td>\n",
       "      <td>0.0</td>\n",
       "    </tr>\n",
       "    <tr>\n",
       "      <th>1205</th>\n",
       "      <td>NaN</td>\n",
       "      <td>4.793725</td>\n",
       "      <td>1.883240</td>\n",
       "      <td>1.790951</td>\n",
       "      <td>1.790951</td>\n",
       "      <td>0.403173</td>\n",
       "      <td>4.671042</td>\n",
       "      <td>1.051531</td>\n",
       "      <td>2.000000</td>\n",
       "      <td>117.852228</td>\n",
       "      <td>0.714535</td>\n",
       "      <td>0.0</td>\n",
       "      <td>1.883240</td>\n",
       "      <td>0.0</td>\n",
       "      <td>2.180853</td>\n",
       "      <td>0.0</td>\n",
       "    </tr>\n",
       "  </tbody>\n",
       "</table>\n",
       "<p>1206 rows × 16 columns</p>\n",
       "</div>"
      ],
      "text/plain": [
       "      item_id        MSE  abs_error  abs_target_sum  abs_target_mean  \\\n",
       "0         NaN  22.008644   4.869616        4.415156         4.415156   \n",
       "1         NaN  17.311729   4.091903        4.119337         4.119337   \n",
       "2         NaN  30.518023   5.835865        5.751116         5.751116   \n",
       "3         NaN  23.523882   5.026651        4.706205         4.706205   \n",
       "4         NaN  19.869068   3.950956        3.637437         3.637437   \n",
       "...       ...        ...        ...             ...              ...   \n",
       "1201      NaN   3.108257   1.931677        1.571472         1.571472   \n",
       "1202      NaN   7.142027   2.806405        2.382590         2.382590   \n",
       "1203      NaN   4.629624   2.436457        1.676440         1.676440   \n",
       "1204      NaN   2.816041   1.502892        1.733696         1.733696   \n",
       "1205      NaN   4.793725   1.883240        1.790951         1.790951   \n",
       "\n",
       "      seasonal_error       MASE      MAPE     sMAPE        MSIS  \\\n",
       "0           0.529613   9.194677  1.102932  2.000000  286.597556   \n",
       "1           0.384088  10.653544  0.993340  1.973537  324.954032   \n",
       "2           0.338761  17.227082  1.014736  2.000000  295.596196   \n",
       "3           0.577325   8.706792  1.068090  2.000000  248.171312   \n",
       "4           0.765791   5.159315  1.086192  2.000000  166.972028   \n",
       "...              ...        ...       ...       ...         ...   \n",
       "1201        0.477128   4.048547  1.229215  2.000000   45.549187   \n",
       "1202        0.401981   6.981444  1.177880  2.000000  102.695818   \n",
       "1203        0.498599   4.886605  1.453351  2.000000   61.318851   \n",
       "1204        0.474743   3.165697  0.866872  1.530051   43.893115   \n",
       "1205        0.403173   4.671042  1.051531  2.000000  117.852228   \n",
       "\n",
       "      QuantileLoss[0.1]  Coverage[0.1]  QuantileLoss[0.5]  Coverage[0.5]  \\\n",
       "0              1.134803            0.0           4.869616            0.0   \n",
       "1              0.961690            0.0           4.091903            0.0   \n",
       "2              1.344757            0.0           5.835865            0.0   \n",
       "3              1.159536            0.0           5.026651            0.0   \n",
       "4              1.354496            0.0           3.950956            0.0   \n",
       "...                 ...            ...                ...            ...   \n",
       "1201           0.609762            0.0           1.931677            0.0   \n",
       "1202           0.677876            0.0           2.806405            0.0   \n",
       "1203           0.686437            0.0           2.436457            0.0   \n",
       "1204           0.533668            0.0           1.502892            0.0   \n",
       "1205           0.714535            0.0           1.883240            0.0   \n",
       "\n",
       "      QuantileLoss[0.9]  Coverage[0.9]  \n",
       "0              6.795611            0.0  \n",
       "1              6.358344            0.0  \n",
       "2              8.514152            0.0  \n",
       "3              7.376008            0.0  \n",
       "4              5.869420            0.0  \n",
       "...                 ...            ...  \n",
       "1201           1.368648            0.0  \n",
       "1202           3.324632            0.0  \n",
       "1203           1.515742            0.0  \n",
       "1204           1.616239            0.0  \n",
       "1205           2.180853            0.0  \n",
       "\n",
       "[1206 rows x 16 columns]"
      ]
     },
     "execution_count": 69,
     "metadata": {},
     "output_type": "execute_result"
    }
   ],
   "source": [
    "item_metrics"
   ]
  },
  {
   "cell_type": "code",
   "execution_count": 83,
   "id": "99355d9e-b327-417f-89b6-ab4187afd6ed",
   "metadata": {
    "execution": {
     "iopub.execute_input": "2022-04-30T23:53:04.647951Z",
     "iopub.status.busy": "2022-04-30T23:53:04.647538Z",
     "iopub.status.idle": "2022-04-30T23:53:04.811511Z",
     "shell.execute_reply": "2022-04-30T23:53:04.810977Z",
     "shell.execute_reply.started": "2022-04-30T23:53:04.647908Z"
    },
    "tags": []
   },
   "outputs": [
    {
     "data": {
      "image/png": "[encoded data removed]",
      "text/plain": [
       "<Figure size 432x288 with 1 Axes>"
      ]
     },
     "metadata": {
      "needs_background": "light"
     },
     "output_type": "display_data"
    }
   ],
   "source": [
    "item_metrics.plot(x='MSIS', y='MASE', kind='scatter')\n",
    "plt.grid(which=\"both\")\n",
    "plt.show()"
   ]
  }
 ],
 "metadata": {
  "kernelspec": {
   "display_name": "Python 3 (ipykernel)",
   "language": "python",
   "name": "python3"
  },
  "language_info": {
   "codemirror_mode": {
    "name": "ipython",
    "version": 3
   },
   "file_extension": ".py",
   "mimetype": "text/x-python",
   "name": "python",
   "nbconvert_exporter": "python",
   "pygments_lexer": "ipython3",
   "version": "3.8.10"
  }
 },
 "nbformat": 4,
 "nbformat_minor": 5
}
