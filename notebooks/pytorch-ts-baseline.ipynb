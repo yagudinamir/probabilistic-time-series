{
 "cells": [
  {
   "cell_type": "code",
   "execution_count": 1,
   "id": "cc463bfb-f200-497d-9a5b-22e10d1236b5",
   "metadata": {
    "execution": {
     "iopub.execute_input": "2022-02-23T13:32:49.657281Z",
     "iopub.status.busy": "2022-02-23T13:32:49.656547Z",
     "iopub.status.idle": "2022-02-23T13:32:50.193611Z",
     "shell.execute_reply": "2022-02-23T13:32:50.192836Z",
     "shell.execute_reply.started": "2022-02-23T13:32:49.657088Z"
    },
    "tags": []
   },
   "outputs": [],
   "source": [
    "import numpy as np\n",
    "import matplotlib.pyplot as plt\n",
    "import pandas as pd\n",
    "from tqdm.notebook import tqdm\n",
    "\n",
    "import os"
   ]
  },
  {
   "cell_type": "code",
   "execution_count": 2,
   "id": "d679db48-9b04-4543-8216-756a76331d7e",
   "metadata": {
    "execution": {
     "iopub.execute_input": "2022-02-23T13:32:50.783427Z",
     "iopub.status.busy": "2022-02-23T13:32:50.782783Z",
     "iopub.status.idle": "2022-02-23T13:32:50.822989Z",
     "shell.execute_reply": "2022-02-23T13:32:50.821624Z",
     "shell.execute_reply.started": "2022-02-23T13:32:50.783355Z"
    },
    "tags": []
   },
   "outputs": [],
   "source": [
    "%load_ext autoreload\n",
    "%autoreload 2"
   ]
  },
  {
   "cell_type": "code",
   "execution_count": 3,
   "id": "cb2b8997-4b77-46b7-9a40-03311ddb116f",
   "metadata": {
    "execution": {
     "iopub.execute_input": "2022-02-23T13:32:51.378768Z",
     "iopub.status.busy": "2022-02-23T13:32:51.378193Z",
     "iopub.status.idle": "2022-02-23T13:32:51.416404Z",
     "shell.execute_reply": "2022-02-23T13:32:51.415071Z",
     "shell.execute_reply.started": "2022-02-23T13:32:51.378701Z"
    },
    "tags": []
   },
   "outputs": [],
   "source": [
    "DATASET_PATH = '/home/ayagudin/dl/probabilistic-time-series/lobster-preprocessed-dataset/'"
   ]
  },
  {
   "cell_type": "code",
   "execution_count": 4,
   "id": "701bfe4c-d777-44a4-bef1-667463425792",
   "metadata": {
    "execution": {
     "iopub.execute_input": "2022-02-23T13:32:51.978641Z",
     "iopub.status.busy": "2022-02-23T13:32:51.978061Z",
     "iopub.status.idle": "2022-02-23T13:32:52.031396Z",
     "shell.execute_reply": "2022-02-23T13:32:52.029850Z",
     "shell.execute_reply.started": "2022-02-23T13:32:51.978568Z"
    },
    "tags": []
   },
   "outputs": [],
   "source": [
    "from data_utils import load_features_and_targets"
   ]
  },
  {
   "cell_type": "code",
   "execution_count": 5,
   "id": "b1f916b1-ea5c-49b8-8f7d-dc925d6fbc56",
   "metadata": {
    "execution": {
     "iopub.execute_input": "2022-02-23T13:32:52.474849Z",
     "iopub.status.busy": "2022-02-23T13:32:52.474071Z",
     "iopub.status.idle": "2022-02-23T13:32:52.650873Z",
     "shell.execute_reply": "2022-02-23T13:32:52.649462Z",
     "shell.execute_reply.started": "2022-02-23T13:32:52.474760Z"
    },
    "tags": []
   },
   "outputs": [],
   "source": [
    "features_per_day, targets_per_day = load_features_and_targets(DATASET_PATH)"
   ]
  },
  {
   "cell_type": "markdown",
   "id": "8063a29e-f8b7-45c0-8f9d-4cfb6b0d8006",
   "metadata": {},
   "source": [
    "# Cut session begin & end\n",
    "> TODO reconstruct dataset so that it will have only moments with huge traded_amount"
   ]
  },
  {
   "cell_type": "code",
   "execution_count": 6,
   "id": "95b11233-ad59-4c21-94f8-5581a79fbe77",
   "metadata": {
    "execution": {
     "iopub.execute_input": "2022-02-23T13:32:53.389104Z",
     "iopub.status.busy": "2022-02-23T13:32:53.388494Z",
     "iopub.status.idle": "2022-02-23T13:32:53.423192Z",
     "shell.execute_reply": "2022-02-23T13:32:53.422274Z",
     "shell.execute_reply.started": "2022-02-23T13:32:53.389033Z"
    },
    "tags": []
   },
   "outputs": [],
   "source": [
    "timestamps_to_cut = 200"
   ]
  },
  {
   "cell_type": "code",
   "execution_count": 7,
   "id": "423d4e5e-9cc2-46c3-bfb1-f7b3839ee7d5",
   "metadata": {
    "execution": {
     "iopub.execute_input": "2022-02-23T13:32:53.680077Z",
     "iopub.status.busy": "2022-02-23T13:32:53.679455Z",
     "iopub.status.idle": "2022-02-23T13:32:53.714387Z",
     "shell.execute_reply": "2022-02-23T13:32:53.713391Z",
     "shell.execute_reply.started": "2022-02-23T13:32:53.680011Z"
    },
    "tags": []
   },
   "outputs": [],
   "source": [
    "for day in features_per_day:\n",
    "    features_per_day[day] = features_per_day[day][timestamps_to_cut:-timestamps_to_cut]\n",
    "    targets_per_day[day] = targets_per_day[day][timestamps_to_cut:-timestamps_to_cut].reshape(-1, 1)"
   ]
  },
  {
   "cell_type": "code",
   "execution_count": 8,
   "id": "5cc290bc-3286-4ec8-b988-4e46a3cd0e4c",
   "metadata": {
    "execution": {
     "iopub.execute_input": "2022-02-23T13:32:54.463016Z",
     "iopub.status.busy": "2022-02-23T13:32:54.462395Z",
     "iopub.status.idle": "2022-02-23T13:32:54.582159Z",
     "shell.execute_reply": "2022-02-23T13:32:54.581217Z",
     "shell.execute_reply.started": "2022-02-23T13:32:54.462943Z"
    },
    "tags": []
   },
   "outputs": [
    {
     "data": {
      "text/plain": [
       "((926340, 27), (926340, 1))"
      ]
     },
     "execution_count": 8,
     "metadata": {},
     "output_type": "execute_result"
    }
   ],
   "source": [
    "full_features = np.concatenate(list(features_per_day.values()))\n",
    "full_targets = np.concatenate(list(targets_per_day.values()))\n",
    "full_features.shape, full_targets.shape"
   ]
  },
  {
   "cell_type": "markdown",
   "id": "ae2d0043-6c29-41e0-9c35-d180880ec750",
   "metadata": {},
   "source": [
    "# Scaling"
   ]
  },
  {
   "cell_type": "code",
   "execution_count": 9,
   "id": "3d3ab0c9-e140-498e-b037-e3dc3beaf8d9",
   "metadata": {
    "execution": {
     "iopub.execute_input": "2022-02-23T13:32:55.087238Z",
     "iopub.status.busy": "2022-02-23T13:32:55.086606Z",
     "iopub.status.idle": "2022-02-23T13:32:55.468687Z",
     "shell.execute_reply": "2022-02-23T13:32:55.467547Z",
     "shell.execute_reply.started": "2022-02-23T13:32:55.087167Z"
    },
    "tags": []
   },
   "outputs": [],
   "source": [
    "from sklearn.preprocessing import StandardScaler"
   ]
  },
  {
   "cell_type": "code",
   "execution_count": 10,
   "id": "c6e7ea1c-6d37-4dce-bbca-84a4e9c5fd85",
   "metadata": {
    "execution": {
     "iopub.execute_input": "2022-02-23T13:32:55.470225Z",
     "iopub.status.busy": "2022-02-23T13:32:55.470050Z",
     "iopub.status.idle": "2022-02-23T13:32:55.491843Z",
     "shell.execute_reply": "2022-02-23T13:32:55.490827Z",
     "shell.execute_reply.started": "2022-02-23T13:32:55.470205Z"
    },
    "tags": []
   },
   "outputs": [],
   "source": [
    "target_scaler = StandardScaler()\n",
    "feature_scaler = StandardScaler()"
   ]
  },
  {
   "cell_type": "code",
   "execution_count": 11,
   "id": "f986ae36-4695-4dd9-a3d1-5285c6310361",
   "metadata": {
    "execution": {
     "iopub.execute_input": "2022-02-23T13:32:55.500016Z",
     "iopub.status.busy": "2022-02-23T13:32:55.499862Z",
     "iopub.status.idle": "2022-02-23T13:32:56.021743Z",
     "shell.execute_reply": "2022-02-23T13:32:56.020177Z",
     "shell.execute_reply.started": "2022-02-23T13:32:55.499998Z"
    },
    "tags": []
   },
   "outputs": [
    {
     "data": {
      "text/plain": [
       "StandardScaler()"
      ]
     },
     "execution_count": 11,
     "metadata": {},
     "output_type": "execute_result"
    }
   ],
   "source": [
    "feature_scaler.fit(full_features)\n",
    "target_scaler.fit(full_targets)"
   ]
  },
  {
   "cell_type": "code",
   "execution_count": 12,
   "id": "0e6a7ebb-7c53-4c56-83cb-b1552c5e8552",
   "metadata": {
    "execution": {
     "iopub.execute_input": "2022-02-23T13:32:56.025289Z",
     "iopub.status.busy": "2022-02-23T13:32:56.024794Z",
     "iopub.status.idle": "2022-02-23T13:32:56.226367Z",
     "shell.execute_reply": "2022-02-23T13:32:56.224999Z",
     "shell.execute_reply.started": "2022-02-23T13:32:56.025226Z"
    },
    "tags": []
   },
   "outputs": [],
   "source": [
    "for day in features_per_day:\n",
    "    features_per_day[day] = feature_scaler.transform(features_per_day[day])\n",
    "    targets_per_day[day] = target_scaler.transform(targets_per_day[day]).reshape(-1)"
   ]
  },
  {
   "cell_type": "markdown",
   "id": "4653de3c-1ff4-4832-b92f-23e2ee3912fa",
   "metadata": {},
   "source": [
    "# Defining dataset"
   ]
  },
  {
   "cell_type": "code",
   "execution_count": 22,
   "id": "56d72c90-5ce3-4afb-8637-d62b6daa8500",
   "metadata": {
    "execution": {
     "iopub.execute_input": "2022-02-23T13:34:35.887381Z",
     "iopub.status.busy": "2022-02-23T13:34:35.886795Z",
     "iopub.status.idle": "2022-02-23T13:34:35.926989Z",
     "shell.execute_reply": "2022-02-23T13:34:35.926149Z",
     "shell.execute_reply.started": "2022-02-23T13:34:35.887314Z"
    }
   },
   "outputs": [],
   "source": [
    "dataset_metadata = {\n",
    "    'freq': '1H',\n",
    " 'prediction_length': 1,\n",
    " 'features_history': 10,\n",
    " 'start': pd.Timestamp('2019-01-01 00:00:00', freq='H'),\n",
    " 'num_train_days': 14,\n",
    " 'num_test_days': 3}\n"
   ]
  },
  {
   "cell_type": "code",
   "execution_count": 24,
   "id": "c16e2452-f509-490f-9068-4f2521de4508",
   "metadata": {
    "execution": {
     "iopub.execute_input": "2022-02-23T13:35:27.972783Z",
     "iopub.status.busy": "2022-02-23T13:35:27.972187Z",
     "iopub.status.idle": "2022-02-23T13:35:28.017991Z",
     "shell.execute_reply": "2022-02-23T13:35:28.017044Z",
     "shell.execute_reply.started": "2022-02-23T13:35:27.972716Z"
    },
    "tags": []
   },
   "outputs": [
    {
     "name": "stdout",
     "output_type": "stream",
     "text": [
      "14 6\n"
     ]
    }
   ],
   "source": [
    "days = sorted(list(features_per_day.keys()))\n",
    "train_days = days[:dataset_metadata['num_train_days']]\n",
    "test_days = days[dataset_metadata['num_train_days']:]\n",
    "print(len(train_days), len(test_days))"
   ]
  },
  {
   "cell_type": "code",
   "execution_count": 25,
   "id": "75f35c5a-3179-4703-b928-c5a6d73fe54d",
   "metadata": {
    "execution": {
     "iopub.execute_input": "2022-02-23T13:35:29.186463Z",
     "iopub.status.busy": "2022-02-23T13:35:29.185861Z",
     "iopub.status.idle": "2022-02-23T13:35:29.695158Z",
     "shell.execute_reply": "2022-02-23T13:35:29.694310Z",
     "shell.execute_reply.started": "2022-02-23T13:35:29.186395Z"
    },
    "tags": []
   },
   "outputs": [
    {
     "data": {
      "image/png": "[encoded data removed]",
      "text/plain": [
       "<Figure size 432x288 with 1 Axes>"
      ]
     },
     "metadata": {
      "needs_background": "light"
     },
     "output_type": "display_data"
    },
    {
     "data": {
      "image/png": "[encoded data removed]",
      "text/plain": [
       "<Figure size 432x288 with 1 Axes>"
      ]
     },
     "metadata": {
      "needs_background": "light"
     },
     "output_type": "display_data"
    }
   ],
   "source": [
    "plt.hist(targets_per_day[days[-1]], bins=100);\n",
    "plt.show()\n",
    "plt.hist(targets_per_day[days[0]], bins=100);\n",
    "plt.show()"
   ]
  },
  {
   "cell_type": "code",
   "execution_count": 26,
   "id": "d59e84d6-94ea-453d-b161-1bdcf2267ead",
   "metadata": {
    "execution": {
     "iopub.execute_input": "2022-02-23T13:35:30.087930Z",
     "iopub.status.busy": "2022-02-23T13:35:30.087230Z",
     "iopub.status.idle": "2022-02-23T13:35:30.129073Z",
     "shell.execute_reply": "2022-02-23T13:35:30.128196Z",
     "shell.execute_reply.started": "2022-02-23T13:35:30.087863Z"
    },
    "tags": []
   },
   "outputs": [],
   "source": [
    "from gluonts.dataset.common import ListDataset\n",
    "from gluonts.dataset.field_names import FieldName"
   ]
  },
  {
   "cell_type": "code",
   "execution_count": 27,
   "id": "fef2d6df-5916-4ad7-8875-9c74dd8cd548",
   "metadata": {
    "execution": {
     "iopub.execute_input": "2022-02-23T13:35:30.500852Z",
     "iopub.status.busy": "2022-02-23T13:35:30.500235Z",
     "iopub.status.idle": "2022-02-23T13:35:30.544569Z",
     "shell.execute_reply": "2022-02-23T13:35:30.543608Z",
     "shell.execute_reply.started": "2022-02-23T13:35:30.500783Z"
    },
    "tags": []
   },
   "outputs": [],
   "source": [
    "train_ds = ListDataset(\n",
    "    [\n",
    "        {\n",
    "            FieldName.TARGET: targets_per_day[day],\n",
    "            FieldName.START: dataset_metadata['start'],\n",
    "            FieldName.FEAT_DYNAMIC_REAL: features_per_day[day].T\n",
    "        }\n",
    "        for day in train_days\n",
    "    ],\n",
    "    freq=dataset_metadata['freq']\n",
    ")\n",
    "\n",
    "# for test_ds we had to create a list of dicts \n",
    "# with all suffixes from test_days"
   ]
  },
  {
   "cell_type": "markdown",
   "id": "43e9097a-377f-46f2-b74f-c596ac3b9963",
   "metadata": {},
   "source": [
    "# MLP Regression"
   ]
  },
  {
   "cell_type": "code",
   "execution_count": 28,
   "id": "3c782b11-5303-4abf-9911-b720e83218c9",
   "metadata": {
    "execution": {
     "iopub.execute_input": "2022-02-23T13:35:35.660482Z",
     "iopub.status.busy": "2022-02-23T13:35:35.659852Z",
     "iopub.status.idle": "2022-02-23T13:35:36.900898Z",
     "shell.execute_reply": "2022-02-23T13:35:36.900177Z",
     "shell.execute_reply.started": "2022-02-23T13:35:35.660410Z"
    },
    "tags": []
   },
   "outputs": [],
   "source": [
    "# from gluonts.model.simple_feedforward import SimpleFeedForwardEstimator\n",
    "# from gluonts.mx import Trainer\n",
    "# from gluonts.evaluation import Evaluator"
   ]
  },
  {
   "cell_type": "code",
   "execution_count": 229,
   "id": "d4d28104-9409-425c-aa9b-b25cf3ef9e19",
   "metadata": {
    "execution": {
     "iopub.execute_input": "2022-02-20T23:05:09.260834Z",
     "iopub.status.busy": "2022-02-20T23:05:09.260203Z",
     "iopub.status.idle": "2022-02-20T23:05:09.314606Z",
     "shell.execute_reply": "2022-02-20T23:05:09.313389Z",
     "shell.execute_reply.started": "2022-02-20T23:05:09.260762Z"
    },
    "tags": []
   },
   "outputs": [],
   "source": [
    "# estimator = SimpleFeedForwardEstimator(\n",
    "#     num_hidden_dimensions=[10],\n",
    "#     prediction_length=1,\n",
    "#     context_length=10,\n",
    "#     freq=dataset_metadata['freq'],\n",
    "#     trainer=Trainer(\n",
    "#         ctx=\"cpu\",\n",
    "#         epochs=5,\n",
    "#         learning_rate=1e-3,\n",
    "#         hybridize=False,\n",
    "#         num_batches_per_epoch=100\n",
    "#     )\n",
    "# )"
   ]
  },
  {
   "cell_type": "code",
   "execution_count": 168,
   "id": "b1a83669-1b9a-4221-91e8-b0ad3f9903d9",
   "metadata": {
    "execution": {
     "iopub.execute_input": "2022-02-19T14:43:11.871430Z",
     "iopub.status.busy": "2022-02-19T14:43:11.870763Z",
     "iopub.status.idle": "2022-02-19T14:43:40.811515Z",
     "shell.execute_reply": "2022-02-19T14:43:40.810814Z",
     "shell.execute_reply.started": "2022-02-19T14:43:11.871356Z"
    },
    "tags": []
   },
   "outputs": [
    {
     "name": "stderr",
     "output_type": "stream",
     "text": [
      "100%|█████████████████████████████████████████████| 100/100 [00:05<00:00, 16.91it/s, epoch=1/5, avg_epoch_loss=-.0625]\n",
      "100%|██████████████████████████████████████████████| 100/100 [00:05<00:00, 17.90it/s, epoch=2/5, avg_epoch_loss=-.454]\n",
      "100%|██████████████████████████████████████████████| 100/100 [00:05<00:00, 17.59it/s, epoch=3/5, avg_epoch_loss=-.846]\n",
      "100%|██████████████████████████████████████████████| 100/100 [00:05<00:00, 17.12it/s, epoch=4/5, avg_epoch_loss=-1.22]\n",
      "100%|██████████████████████████████████████████████| 100/100 [00:05<00:00, 17.37it/s, epoch=5/5, avg_epoch_loss=-1.52]\n"
     ]
    }
   ],
   "source": [
    "# predictor = estimator.train(train_ds)"
   ]
  },
  {
   "cell_type": "code",
   "execution_count": null,
   "id": "f49d1a7b-98f2-49e9-8613-3e907af998c6",
   "metadata": {},
   "outputs": [],
   "source": [
    "# evaluator = Evaluator(quantiles=[0.1, 0.5, 0.9])\n",
    "# agg_metrics, item_metrics = evaluator(iter(tss), iter(forecasts), num_series=len(test_ds))"
   ]
  },
  {
   "cell_type": "markdown",
   "id": "34ccd5ff-e538-4333-820e-ed40ace6f104",
   "metadata": {},
   "source": [
    "# MLP Uncertainty estimation"
   ]
  },
  {
   "cell_type": "code",
   "execution_count": 29,
   "id": "03458e61-ae50-4a45-a24e-d056af24eb0c",
   "metadata": {
    "execution": {
     "iopub.execute_input": "2022-02-23T13:35:53.443674Z",
     "iopub.status.busy": "2022-02-23T13:35:53.443235Z",
     "iopub.status.idle": "2022-02-23T13:35:54.376387Z",
     "shell.execute_reply": "2022-02-23T13:35:54.375437Z",
     "shell.execute_reply.started": "2022-02-23T13:35:53.443618Z"
    },
    "tags": []
   },
   "outputs": [],
   "source": [
    "# from pts.model.simple_feedforward import SimpleFeedForwardTrainingNetwork\n",
    "# from pts.model.simple_feedforward import SimpleFeedForwardEstimator\n",
    "from models.simple_feedforward_estimator import SimpleFeedForwardEstimator\n",
    "from models.simple_feedforward_network import SimpleFeedForwardTrainingNetwork\n",
    "from pts import Trainer\n",
    "import torch\n",
    "\n",
    "from gluonts.mx import DistributionOutput, GaussianOutput\n",
    "\n",
    "from pts.modules import NormalOutput\n"
   ]
  },
  {
   "cell_type": "code",
   "execution_count": 30,
   "id": "a1ce0fc2-2ed5-4ed4-95f0-7084b40fcb06",
   "metadata": {
    "execution": {
     "iopub.execute_input": "2022-02-23T13:36:03.174274Z",
     "iopub.status.busy": "2022-02-23T13:36:03.173645Z",
     "iopub.status.idle": "2022-02-23T13:36:03.225410Z",
     "shell.execute_reply": "2022-02-23T13:36:03.224494Z",
     "shell.execute_reply.started": "2022-02-23T13:36:03.174202Z"
    },
    "tags": []
   },
   "outputs": [],
   "source": [
    "\n",
    "device = torch.device(\"cpu\")\n",
    "\n",
    "estimator = SimpleFeedForwardEstimator(\n",
    "    prediction_length=dataset_metadata['prediction_length'] + 1,\n",
    "    context_length=dataset_metadata['features_history'],\n",
    "    freq=dataset_metadata['freq'],\n",
    "    num_hidden_dimensions=[324, 40, 40, 1],\n",
    "    # distr_output=NormalOutput(),\n",
    "    trainer=Trainer(\n",
    "        device=device,\n",
    "        epochs=5,\n",
    "        learning_rate=1e-3,\n",
    "        num_batches_per_epoch=100\n",
    "    )\n",
    ")"
   ]
  },
  {
   "cell_type": "code",
   "execution_count": 31,
   "id": "dce7fe3d-6099-4f08-ace4-dd3b4f5c8d70",
   "metadata": {
    "execution": {
     "iopub.execute_input": "2022-02-23T13:36:04.837351Z",
     "iopub.status.busy": "2022-02-23T13:36:04.836742Z",
     "iopub.status.idle": "2022-02-23T13:36:04.889859Z",
     "shell.execute_reply": "2022-02-23T13:36:04.888983Z",
     "shell.execute_reply.started": "2022-02-23T13:36:04.837280Z"
    },
    "tags": []
   },
   "outputs": [
    {
     "data": {
      "text/plain": [
       "Sequential(\n",
       "  (0): Linear(in_features=324, out_features=40, bias=True)\n",
       "  (1): ReLU()\n",
       "  (2): Linear(in_features=40, out_features=40, bias=True)\n",
       "  (3): ReLU()\n",
       "  (4): Linear(in_features=40, out_features=2, bias=True)\n",
       "  (5): LambdaLayer()\n",
       ")"
      ]
     },
     "execution_count": 31,
     "metadata": {},
     "output_type": "execute_result"
    }
   ],
   "source": [
    "estimator.create_training_network(device).mlp"
   ]
  },
  {
   "cell_type": "code",
   "execution_count": 32,
   "id": "b80e198b-2651-43cc-8399-1e857fd4fc1e",
   "metadata": {
    "execution": {
     "iopub.execute_input": "2022-02-23T13:36:06.520009Z",
     "iopub.status.busy": "2022-02-23T13:36:06.519381Z",
     "iopub.status.idle": "2022-02-23T13:36:44.965398Z",
     "shell.execute_reply": "2022-02-23T13:36:44.964543Z",
     "shell.execute_reply.started": "2022-02-23T13:36:06.519941Z"
    },
    "tags": []
   },
   "outputs": [
    {
     "data": {
      "application/vnd.jupyter.widget-view+json": {
       "model_id": "b3477b8f2de64260a0944600eb95f71d",
       "version_major": 2,
       "version_minor": 0
      },
      "text/plain": [
       "  0%|          | 0/99 [00:00<?, ?it/s]"
      ]
     },
     "metadata": {},
     "output_type": "display_data"
    },
    {
     "data": {
      "application/vnd.jupyter.widget-view+json": {
       "model_id": "4c6db35bbbcf4464b6394077013e0878",
       "version_major": 2,
       "version_minor": 0
      },
      "text/plain": [
       "  0%|          | 0/99 [00:00<?, ?it/s]"
      ]
     },
     "metadata": {},
     "output_type": "display_data"
    },
    {
     "data": {
      "application/vnd.jupyter.widget-view+json": {
       "model_id": "8524bd9b086a467aa9b2d505d60ca2ff",
       "version_major": 2,
       "version_minor": 0
      },
      "text/plain": [
       "  0%|          | 0/99 [00:00<?, ?it/s]"
      ]
     },
     "metadata": {},
     "output_type": "display_data"
    },
    {
     "data": {
      "application/vnd.jupyter.widget-view+json": {
       "model_id": "c313fba3b1af45d4a4ab3dd1bf850a5d",
       "version_major": 2,
       "version_minor": 0
      },
      "text/plain": [
       "  0%|          | 0/99 [00:00<?, ?it/s]"
      ]
     },
     "metadata": {},
     "output_type": "display_data"
    },
    {
     "data": {
      "application/vnd.jupyter.widget-view+json": {
       "model_id": "ad859d887e2a4ec7a05588f6476abbd0",
       "version_major": 2,
       "version_minor": 0
      },
      "text/plain": [
       "  0%|          | 0/99 [00:00<?, ?it/s]"
      ]
     },
     "metadata": {},
     "output_type": "display_data"
    }
   ],
   "source": [
    "predictor = estimator.train(train_ds)"
   ]
  },
  {
   "cell_type": "markdown",
   "id": "ab98b51d-5112-4e1a-90e4-8f03b7fdd46d",
   "metadata": {},
   "source": [
    "# Validation"
   ]
  },
  {
   "cell_type": "code",
   "execution_count": 33,
   "id": "d2529185-2fa0-4133-9a52-c874cf56e555",
   "metadata": {
    "execution": {
     "iopub.execute_input": "2022-02-23T13:37:50.248657Z",
     "iopub.status.busy": "2022-02-23T13:37:50.248039Z",
     "iopub.status.idle": "2022-02-23T13:37:50.302542Z",
     "shell.execute_reply": "2022-02-23T13:37:50.301599Z",
     "shell.execute_reply.started": "2022-02-23T13:37:50.248584Z"
    },
    "tags": []
   },
   "outputs": [],
   "source": [
    "from gluonts.evaluation import make_evaluation_predictions"
   ]
  },
  {
   "cell_type": "code",
   "execution_count": null,
   "id": "10ec8a60-334f-4084-af0d-fe3f80025f75",
   "metadata": {},
   "outputs": [],
   "source": [
    "test_ds = ListDataset(\n",
    "    [\n",
    "        {\n",
    "            FieldName.TARGET: targets_per_day[day],\n",
    "            FieldName.START: dataset_metadata['start'],\n",
    "            FieldName.FEAT_DYNAMIC_REAL: features_per_day[day].T\n",
    "        }\n",
    "        for day in test_days\n",
    "    ],\n",
    "    freq=dataset_metadata['freq']\n",
    ")"
   ]
  },
  {
   "cell_type": "code",
   "execution_count": null,
   "id": "04151eab-d2ae-4d89-a6de-a522bee97ae7",
   "metadata": {},
   "outputs": [],
   "source": []
  },
  {
   "cell_type": "code",
   "execution_count": null,
   "id": "518fe3ad-e319-4c23-a34d-27175ef00805",
   "metadata": {},
   "outputs": [],
   "source": []
  },
  {
   "cell_type": "code",
   "execution_count": 34,
   "id": "68ff6599-d282-4905-9f6e-07650a4a2a16",
   "metadata": {
    "execution": {
     "iopub.execute_input": "2022-02-23T13:37:53.337751Z",
     "iopub.status.busy": "2022-02-23T13:37:53.337178Z",
     "iopub.status.idle": "2022-02-23T13:37:53.387151Z",
     "shell.execute_reply": "2022-02-23T13:37:53.386213Z",
     "shell.execute_reply.started": "2022-02-23T13:37:53.337685Z"
    },
    "tags": []
   },
   "outputs": [],
   "source": [
    "forecast_it_tmp, ts_it_tmp = make_evaluation_predictions(\n",
    "    dataset=train_ds,  # test dataset\n",
    "    predictor=predictor,  # predictor\n",
    "    num_samples=100,  # number of sample paths we want for evaluation\n",
    ")"
   ]
  },
  {
   "cell_type": "code",
   "execution_count": 35,
   "id": "c8e30c48-4d42-4046-8234-951363288afb",
   "metadata": {
    "execution": {
     "iopub.execute_input": "2022-02-23T13:37:54.987500Z",
     "iopub.status.busy": "2022-02-23T13:37:54.986899Z",
     "iopub.status.idle": "2022-02-23T13:37:55.098814Z",
     "shell.execute_reply": "2022-02-23T13:37:55.097870Z",
     "shell.execute_reply.started": "2022-02-23T13:37:54.987432Z"
    },
    "tags": []
   },
   "outputs": [],
   "source": [
    "forecasts_tmp = list(forecast_it_tmp)\n",
    "tss_tmp = list(ts_it_tmp)"
   ]
  },
  {
   "cell_type": "code",
   "execution_count": 36,
   "id": "6d27c319-debb-4856-ad99-8de31b2f624c",
   "metadata": {
    "execution": {
     "iopub.execute_input": "2022-02-23T13:37:55.452906Z",
     "iopub.status.busy": "2022-02-23T13:37:55.452349Z",
     "iopub.status.idle": "2022-02-23T13:37:55.501223Z",
     "shell.execute_reply": "2022-02-23T13:37:55.500299Z",
     "shell.execute_reply.started": "2022-02-23T13:37:55.452839Z"
    },
    "tags": []
   },
   "outputs": [],
   "source": [
    "# first entry of the time series list\n",
    "ts_entry = tss_tmp[0]"
   ]
  },
  {
   "cell_type": "code",
   "execution_count": 37,
   "id": "28679222-c454-48f2-8854-b535229af4ae",
   "metadata": {
    "execution": {
     "iopub.execute_input": "2022-02-23T13:37:56.051446Z",
     "iopub.status.busy": "2022-02-23T13:37:56.050677Z",
     "iopub.status.idle": "2022-02-23T13:37:56.103733Z",
     "shell.execute_reply": "2022-02-23T13:37:56.102816Z",
     "shell.execute_reply.started": "2022-02-23T13:37:56.051377Z"
    },
    "tags": []
   },
   "outputs": [
    {
     "data": {
      "text/plain": [
       "array([2.0867705, 2.1344833, 2.1726534, 0.6744707, 0.7030984],\n",
       "      dtype=float32)"
      ]
     },
     "execution_count": 37,
     "metadata": {},
     "output_type": "execute_result"
    }
   ],
   "source": [
    "np.array(ts_entry[:5]).reshape(-1,)"
   ]
  },
  {
   "cell_type": "code",
   "execution_count": 38,
   "id": "81f9f757-74c9-4caf-ab01-4d8ddd62768c",
   "metadata": {
    "execution": {
     "iopub.execute_input": "2022-02-23T13:37:56.593180Z",
     "iopub.status.busy": "2022-02-23T13:37:56.592589Z",
     "iopub.status.idle": "2022-02-23T13:37:56.643858Z",
     "shell.execute_reply": "2022-02-23T13:37:56.642852Z",
     "shell.execute_reply.started": "2022-02-23T13:37:56.593112Z"
    },
    "tags": []
   },
   "outputs": [],
   "source": [
    "test_ds_entry = next(iter(train_ds))"
   ]
  },
  {
   "cell_type": "code",
   "execution_count": 39,
   "id": "455ed70d-f73d-40d0-b974-0f82dd5681e0",
   "metadata": {
    "execution": {
     "iopub.execute_input": "2022-02-23T13:37:57.201679Z",
     "iopub.status.busy": "2022-02-23T13:37:57.201106Z",
     "iopub.status.idle": "2022-02-23T13:37:57.253740Z",
     "shell.execute_reply": "2022-02-23T13:37:57.252827Z",
     "shell.execute_reply.started": "2022-02-23T13:37:57.201613Z"
    },
    "tags": []
   },
   "outputs": [
    {
     "data": {
      "text/plain": [
       "array([2.0867705, 2.1344833, 2.1726534, 0.6744707, 0.7030984],\n",
       "      dtype=float32)"
      ]
     },
     "execution_count": 39,
     "metadata": {},
     "output_type": "execute_result"
    }
   ],
   "source": [
    "test_ds_entry['target'][:5]"
   ]
  },
  {
   "cell_type": "code",
   "execution_count": 41,
   "id": "de7832fd-3a6e-4c66-b649-d752c8d3c35d",
   "metadata": {
    "execution": {
     "iopub.execute_input": "2022-02-23T13:38:08.889842Z",
     "iopub.status.busy": "2022-02-23T13:38:08.889130Z",
     "iopub.status.idle": "2022-02-23T13:38:08.938043Z",
     "shell.execute_reply": "2022-02-23T13:38:08.937072Z",
     "shell.execute_reply.started": "2022-02-23T13:38:08.889771Z"
    },
    "tags": []
   },
   "outputs": [],
   "source": [
    "forecast_entry = forecasts_tmp[0]"
   ]
  },
  {
   "cell_type": "code",
   "execution_count": 42,
   "id": "a632d829-c266-4ed8-aca2-02a4ee59506d",
   "metadata": {
    "execution": {
     "iopub.execute_input": "2022-02-23T13:38:09.962440Z",
     "iopub.status.busy": "2022-02-23T13:38:09.961678Z",
     "iopub.status.idle": "2022-02-23T13:38:10.016383Z",
     "shell.execute_reply": "2022-02-23T13:38:10.015434Z",
     "shell.execute_reply.started": "2022-02-23T13:38:09.962362Z"
    },
    "tags": []
   },
   "outputs": [
    {
     "name": "stdout",
     "output_type": "stream",
     "text": [
      "Number of sample paths: 100\n",
      "Dimension of samples: (100, 2)\n",
      "Start date of the forecast window: 2024-04-13 19:00:00\n",
      "Frequency of the time series: 1H\n"
     ]
    }
   ],
   "source": [
    "print(f\"Number of sample paths: {forecast_entry.num_samples}\")\n",
    "print(f\"Dimension of samples: {forecast_entry.samples.shape}\")\n",
    "print(f\"Start date of the forecast window: {forecast_entry.start_date}\")\n",
    "print(f\"Frequency of the time series: {forecast_entry.freq}\")"
   ]
  },
  {
   "cell_type": "code",
   "execution_count": 43,
   "id": "462cfcd9-23ea-454f-ab13-73445e70d891",
   "metadata": {
    "execution": {
     "iopub.execute_input": "2022-02-23T13:38:11.277196Z",
     "iopub.status.busy": "2022-02-23T13:38:11.276479Z",
     "iopub.status.idle": "2022-02-23T13:38:11.329440Z",
     "shell.execute_reply": "2022-02-23T13:38:11.328509Z",
     "shell.execute_reply.started": "2022-02-23T13:38:11.277121Z"
    },
    "tags": []
   },
   "outputs": [],
   "source": [
    "def plot_prob_forecasts(ts_entry, forecast_entry):\n",
    "    plot_length = 10\n",
    "    prediction_intervals = (50, 90)\n",
    "    legend = [\"observations\", \"median prediction\"] + [f\"{k}% prediction interval\" for k in prediction_intervals][::-1]\n",
    "\n",
    "    fig, ax = plt.subplots(1, 1, figsize=(10, 7))\n",
    "    ts_entry[-plot_length:].plot(ax=ax)  # plot the time series\n",
    "    forecast_entry.plot(prediction_intervals=prediction_intervals, color='g')\n",
    "    plt.grid(which=\"both\")\n",
    "    plt.legend(legend, loc=\"upper left\")\n",
    "    plt.show()"
   ]
  },
  {
   "cell_type": "code",
   "execution_count": 44,
   "id": "e0c5a175-fa1e-4149-a954-82e5841544f1",
   "metadata": {
    "execution": {
     "iopub.execute_input": "2022-02-23T13:38:12.366257Z",
     "iopub.status.busy": "2022-02-23T13:38:12.365442Z",
     "iopub.status.idle": "2022-02-23T13:38:12.630422Z",
     "shell.execute_reply": "2022-02-23T13:38:12.629550Z",
     "shell.execute_reply.started": "2022-02-23T13:38:12.366207Z"
    },
    "tags": []
   },
   "outputs": [
    {
     "data": {
      "image/png": "[encoded data removed]",
      "text/plain": [
       "<Figure size 720x504 with 1 Axes>"
      ]
     },
     "metadata": {
      "needs_background": "light"
     },
     "output_type": "display_data"
    }
   ],
   "source": [
    "plot_prob_forecasts(ts_entry, forecast_entry)"
   ]
  },
  {
   "cell_type": "code",
   "execution_count": null,
   "id": "e4f7c289-aff0-4199-a619-322ecc74fae2",
   "metadata": {},
   "outputs": [],
   "source": [
    "# https://github.com/zalandoresearch/pytorch-ts/issues/24"
   ]
  },
  {
   "cell_type": "code",
   "execution_count": 54,
   "id": "cfc92f48-25af-4d9b-87cc-b86e2bfc3525",
   "metadata": {
    "execution": {
     "iopub.execute_input": "2022-02-23T13:52:55.011501Z",
     "iopub.status.busy": "2022-02-23T13:52:55.010898Z",
     "iopub.status.idle": "2022-02-23T13:52:55.060382Z",
     "shell.execute_reply": "2022-02-23T13:52:55.059484Z",
     "shell.execute_reply.started": "2022-02-23T13:52:55.011433Z"
    },
    "tags": []
   },
   "outputs": [],
   "source": [
    "from gluonts.dataset.rolling_dataset import generate_rolling_dataset, StepStrategy\n",
    "from pandas import Timedelta"
   ]
  },
  {
   "cell_type": "code",
   "execution_count": 69,
   "id": "18ef6790-fa74-4621-b2a2-67e9889fb2f8",
   "metadata": {
    "execution": {
     "iopub.execute_input": "2022-02-23T13:56:26.501468Z",
     "iopub.status.busy": "2022-02-23T13:56:26.500874Z",
     "iopub.status.idle": "2022-02-23T13:56:26.555721Z",
     "shell.execute_reply": "2022-02-23T13:56:26.554768Z",
     "shell.execute_reply.started": "2022-02-23T13:56:26.501398Z"
    },
    "tags": []
   },
   "outputs": [],
   "source": [
    "def get_rolled_dataset(dataset, context_length, prediction_length):\n",
    "    keys_to_split = [\n",
    "        FieldName.FEAT_DYNAMIC_REAL,\n",
    "        FieldName.TARGET\n",
    "    ]\n",
    "    window_size = context_length + prediction_length\n",
    "    \n",
    "    rolled_dataset = []\n",
    "    \n",
    "    for dataset_entry in tqdm(iter(dataset)):\n",
    "        for i in range(len(dataset_entry[FieldName.TARGET]) - window_size):\n",
    "            new_entry = {}\n",
    "            for key in dataset_entry.keys():\n",
    "                if key not in keys_to_split:\n",
    "                    new_entry[key] = dataset_entry[key]\n",
    "                else:\n",
    "                    new_entry[key] = dataset_entry[key][..., i: i + window_size]\n",
    "                    \n",
    "            new_entry[FieldName.START] = dataset_entry[FieldName.START] + Timedelta(dataset_metadata['freq']) * i\n",
    "            \n",
    "            rolled_dataset.append(new_entry)\n",
    "    \n",
    "    return ListDataset(rolled_dataset, freq=dataset_metadata['freq'])\n",
    "            "
   ]
  },
  {
   "cell_type": "code",
   "execution_count": 70,
   "id": "7075a608-53de-4e51-9b6f-afb9a459c916",
   "metadata": {
    "execution": {
     "iopub.execute_input": "2022-02-23T13:56:28.107973Z",
     "iopub.status.busy": "2022-02-23T13:56:28.107390Z",
     "iopub.status.idle": "2022-02-23T13:56:43.092335Z",
     "shell.execute_reply": "2022-02-23T13:56:43.091415Z",
     "shell.execute_reply.started": "2022-02-23T13:56:28.107906Z"
    },
    "tags": []
   },
   "outputs": [
    {
     "data": {
      "application/vnd.jupyter.widget-view+json": {
       "model_id": "465c5f95aaa74d468e2a32cedbcbe640",
       "version_major": 2,
       "version_minor": 0
      },
      "text/plain": [
       "0it [00:00, ?it/s]"
      ]
     },
     "metadata": {},
     "output_type": "display_data"
    }
   ],
   "source": [
    "train_ds_rolled = get_rolled_dataset(train_ds, \n",
    "                                     context_length=dataset_metadata['features_history'], \n",
    "                                     prediction_length=dataset_metadata['prediction_length'] + 1)"
   ]
  },
  {
   "cell_type": "code",
   "execution_count": 71,
   "id": "9c234547-6bd7-4df7-97f0-1102e44f1d90",
   "metadata": {
    "execution": {
     "iopub.execute_input": "2022-02-23T13:56:56.022749Z",
     "iopub.status.busy": "2022-02-23T13:56:56.022171Z",
     "iopub.status.idle": "2022-02-23T13:56:56.073673Z",
     "shell.execute_reply": "2022-02-23T13:56:56.072782Z",
     "shell.execute_reply.started": "2022-02-23T13:56:56.022681Z"
    },
    "tags": []
   },
   "outputs": [
    {
     "data": {
      "text/plain": [
       "648270"
      ]
     },
     "execution_count": 71,
     "metadata": {},
     "output_type": "execute_result"
    }
   ],
   "source": [
    "len(train_ds_rolled)"
   ]
  },
  {
   "cell_type": "code",
   "execution_count": 72,
   "id": "90561376-42a7-4ea5-ba45-327512a98f40",
   "metadata": {
    "execution": {
     "iopub.execute_input": "2022-02-23T13:56:59.144803Z",
     "iopub.status.busy": "2022-02-23T13:56:59.144222Z",
     "iopub.status.idle": "2022-02-23T13:56:59.194229Z",
     "shell.execute_reply": "2022-02-23T13:56:59.193283Z",
     "shell.execute_reply.started": "2022-02-23T13:56:59.144737Z"
    },
    "tags": []
   },
   "outputs": [],
   "source": [
    "rolled_train_entry = next(iter(train_ds_rolled))"
   ]
  },
  {
   "cell_type": "code",
   "execution_count": 73,
   "id": "1460fb93-0fb4-4d90-ad6f-9fb00588a7a8",
   "metadata": {
    "execution": {
     "iopub.execute_input": "2022-02-23T13:56:59.416264Z",
     "iopub.status.busy": "2022-02-23T13:56:59.415701Z",
     "iopub.status.idle": "2022-02-23T13:56:59.467004Z",
     "shell.execute_reply": "2022-02-23T13:56:59.466094Z",
     "shell.execute_reply.started": "2022-02-23T13:56:59.416196Z"
    },
    "tags": []
   },
   "outputs": [
    {
     "data": {
      "text/plain": [
       "((12,), (27, 12))"
      ]
     },
     "execution_count": 73,
     "metadata": {},
     "output_type": "execute_result"
    }
   ],
   "source": [
    "rolled_train_entry['target'].shape, rolled_train_entry['feat_dynamic_real'].shape"
   ]
  },
  {
   "cell_type": "code",
   "execution_count": 74,
   "id": "6afc114e-0d98-4a48-bee1-bbeb7dbc5276",
   "metadata": {
    "execution": {
     "iopub.execute_input": "2022-02-23T13:57:01.297937Z",
     "iopub.status.busy": "2022-02-23T13:57:01.297322Z",
     "iopub.status.idle": "2022-02-23T13:57:01.351840Z",
     "shell.execute_reply": "2022-02-23T13:57:01.350347Z",
     "shell.execute_reply.started": "2022-02-23T13:57:01.297865Z"
    },
    "tags": []
   },
   "outputs": [],
   "source": [
    "forecast_it, ts_it = make_evaluation_predictions(\n",
    "    dataset=train_ds_rolled,  # test dataset\n",
    "    predictor=predictor,  # predictor\n",
    "    num_samples=10,  # number of sample paths we want for evaluation\n",
    ")"
   ]
  },
  {
   "cell_type": "code",
   "execution_count": 75,
   "id": "346572ed-7549-43f7-af2e-54b2e40ca2a8",
   "metadata": {
    "execution": {
     "iopub.execute_input": "2022-02-23T13:57:02.593071Z",
     "iopub.status.busy": "2022-02-23T13:57:02.592484Z",
     "iopub.status.idle": "2022-02-23T14:04:59.810737Z",
     "shell.execute_reply": "2022-02-23T14:04:59.808973Z",
     "shell.execute_reply.started": "2022-02-23T13:57:02.593002Z"
    },
    "tags": []
   },
   "outputs": [],
   "source": [
    "forecasts = list(forecast_it)\n",
    "tss = list(ts_it)"
   ]
  },
  {
   "cell_type": "code",
   "execution_count": null,
   "id": "190a4452-70bc-430a-b2e3-45b972621e96",
   "metadata": {},
   "outputs": [],
   "source": []
  },
  {
   "cell_type": "code",
   "execution_count": null,
   "id": "c6637b97-1e33-47cc-a294-62f471eeae4a",
   "metadata": {},
   "outputs": [],
   "source": []
  },
  {
   "cell_type": "code",
   "execution_count": null,
   "id": "622d2b74-2ec8-44c8-82c5-5a595498a30b",
   "metadata": {},
   "outputs": [],
   "source": []
  },
  {
   "cell_type": "code",
   "execution_count": null,
   "id": "3245d42f-bae4-4478-aaea-5ab14e694c06",
   "metadata": {},
   "outputs": [],
   "source": []
  },
  {
   "cell_type": "markdown",
   "id": "c17ae177-691d-47da-89e7-d4f43c3c9636",
   "metadata": {
    "execution": {
     "iopub.execute_input": "2022-02-23T11:22:26.555364Z",
     "iopub.status.busy": "2022-02-23T11:22:26.554685Z",
     "iopub.status.idle": "2022-02-23T11:22:26.609508Z",
     "shell.execute_reply": "2022-02-23T11:22:26.608246Z",
     "shell.execute_reply.started": "2022-02-23T11:22:26.555288Z"
    }
   },
   "source": [
    "# Train Metrics"
   ]
  },
  {
   "cell_type": "code",
   "execution_count": 76,
   "id": "73850eb7-ee2a-45fc-8921-5062dbc1e47a",
   "metadata": {
    "execution": {
     "iopub.execute_input": "2022-02-23T14:06:03.701884Z",
     "iopub.status.busy": "2022-02-23T14:06:03.701229Z",
     "iopub.status.idle": "2022-02-23T14:06:03.756783Z",
     "shell.execute_reply": "2022-02-23T14:06:03.755819Z",
     "shell.execute_reply.started": "2022-02-23T14:06:03.701811Z"
    },
    "tags": []
   },
   "outputs": [],
   "source": [
    "from gluonts.evaluation import Evaluator"
   ]
  },
  {
   "cell_type": "code",
   "execution_count": 77,
   "id": "b2bd5592-6c59-4029-99a7-857815f97692",
   "metadata": {
    "execution": {
     "iopub.execute_input": "2022-02-23T14:06:04.755712Z",
     "iopub.status.busy": "2022-02-23T14:06:04.754965Z",
     "iopub.status.idle": "2022-02-23T14:08:35.136667Z",
     "shell.execute_reply": "2022-02-23T14:08:35.135039Z",
     "shell.execute_reply.started": "2022-02-23T14:06:04.755643Z"
    },
    "tags": []
   },
   "outputs": [
    {
     "name": "stderr",
     "output_type": "stream",
     "text": [
      "Running evaluation: 100%|██████████████████████████████████████████████████| 648270/648270 [00:15<00:00, 42488.62it/s]/usr/twix/python/lib/python3.8/site-packages/gluonts/evaluation/metrics.py:102: RuntimeWarning: divide by zero encountered in double_scalars\n",
      "  return np.mean(np.abs(target - forecast)) / seasonal_error\n",
      "/usr/twix/python/lib/python3.8/site-packages/gluonts/evaluation/metrics.py:150: RuntimeWarning: divide by zero encountered in double_scalars\n",
      "  return numerator / seasonal_error\n",
      "\n",
      "/usr/twix/python/lib/python3.8/site-packages/gluonts/evaluation/metrics.py:102: RuntimeWarning: divide by zero encountered in double_scalars\n",
      "  return np.mean(np.abs(target - forecast)) / seasonal_error\n",
      "/usr/twix/python/lib/python3.8/site-packages/gluonts/evaluation/metrics.py:150: RuntimeWarning: divide by zero encountered in double_scalars\n",
      "  return numerator / seasonal_error\n",
      "/usr/twix/python/lib/python3.8/site-packages/gluonts/evaluation/metrics.py:102: RuntimeWarning: divide by zero encountered in double_scalars\n",
      "  return np.mean(np.abs(target - forecast)) / seasonal_error\n",
      "/usr/twix/python/lib/python3.8/site-packages/gluonts/evaluation/metrics.py:150: RuntimeWarning: divide by zero encountered in double_scalars\n",
      "  return numerator / seasonal_error\n",
      "/usr/twix/python/lib/python3.8/site-packages/gluonts/evaluation/metrics.py:102: RuntimeWarning: divide by zero encountered in double_scalars\n",
      "  return np.mean(np.abs(target - forecast)) / seasonal_error\n",
      "/usr/twix/python/lib/python3.8/site-packages/gluonts/evaluation/metrics.py:150: RuntimeWarning: divide by zero encountered in double_scalars\n",
      "  return numerator / seasonal_error\n",
      "/usr/twix/python/lib/python3.8/site-packages/gluonts/evaluation/metrics.py:102: RuntimeWarning: divide by zero encountered in double_scalars\n",
      "  return np.mean(np.abs(target - forecast)) / seasonal_error\n",
      "/usr/twix/python/lib/python3.8/site-packages/gluonts/evaluation/metrics.py:150: RuntimeWarning: divide by zero encountered in double_scalars\n",
      "  return numerator / seasonal_error\n",
      "/usr/twix/python/lib/python3.8/site-packages/gluonts/evaluation/metrics.py:102: RuntimeWarning: divide by zero encountered in double_scalars\n",
      "  return np.mean(np.abs(target - forecast)) / seasonal_error\n",
      "/usr/twix/python/lib/python3.8/site-packages/gluonts/evaluation/metrics.py:102: RuntimeWarning: divide by zero encountered in double_scalars\n",
      "  return np.mean(np.abs(target - forecast)) / seasonal_error\n",
      "/usr/twix/python/lib/python3.8/site-packages/gluonts/evaluation/metrics.py:150: RuntimeWarning: divide by zero encountered in double_scalars\n",
      "  return numerator / seasonal_error\n",
      "/usr/twix/python/lib/python3.8/site-packages/gluonts/evaluation/metrics.py:150: RuntimeWarning: divide by zero encountered in double_scalars\n",
      "  return numerator / seasonal_error\n",
      "/usr/twix/python/lib/python3.8/site-packages/gluonts/evaluation/metrics.py:102: RuntimeWarning: divide by zero encountered in double_scalars\n",
      "  return np.mean(np.abs(target - forecast)) / seasonal_error\n",
      "/usr/twix/python/lib/python3.8/site-packages/gluonts/evaluation/metrics.py:150: RuntimeWarning: divide by zero encountered in double_scalars\n",
      "  return numerator / seasonal_error\n",
      "/usr/twix/python/lib/python3.8/site-packages/gluonts/evaluation/metrics.py:102: RuntimeWarning: divide by zero encountered in double_scalars\n",
      "  return np.mean(np.abs(target - forecast)) / seasonal_error\n",
      "/usr/twix/python/lib/python3.8/site-packages/gluonts/evaluation/metrics.py:150: RuntimeWarning: divide by zero encountered in double_scalars\n",
      "  return numerator / seasonal_error\n",
      "/usr/twix/python/lib/python3.8/site-packages/gluonts/evaluation/metrics.py:102: RuntimeWarning: divide by zero encountered in double_scalars\n",
      "  return np.mean(np.abs(target - forecast)) / seasonal_error\n",
      "/usr/twix/python/lib/python3.8/site-packages/gluonts/evaluation/metrics.py:150: RuntimeWarning: divide by zero encountered in double_scalars\n",
      "  return numerator / seasonal_error\n",
      "/usr/twix/python/lib/python3.8/site-packages/gluonts/evaluation/metrics.py:102: RuntimeWarning: divide by zero encountered in double_scalars\n",
      "  return np.mean(np.abs(target - forecast)) / seasonal_error\n",
      "/usr/twix/python/lib/python3.8/site-packages/gluonts/evaluation/metrics.py:102: RuntimeWarning: divide by zero encountered in double_scalars\n",
      "  return np.mean(np.abs(target - forecast)) / seasonal_error\n",
      "/usr/twix/python/lib/python3.8/site-packages/gluonts/evaluation/metrics.py:150: RuntimeWarning: divide by zero encountered in double_scalars\n",
      "  return numerator / seasonal_error\n",
      "/usr/twix/python/lib/python3.8/site-packages/gluonts/evaluation/metrics.py:150: RuntimeWarning: divide by zero encountered in double_scalars\n",
      "  return numerator / seasonal_error\n",
      "/usr/twix/python/lib/python3.8/site-packages/gluonts/evaluation/metrics.py:102: RuntimeWarning: divide by zero encountered in double_scalars\n",
      "  return np.mean(np.abs(target - forecast)) / seasonal_error\n",
      "/usr/twix/python/lib/python3.8/site-packages/gluonts/evaluation/metrics.py:102: RuntimeWarning: divide by zero encountered in double_scalars\n",
      "  return np.mean(np.abs(target - forecast)) / seasonal_error\n",
      "/usr/twix/python/lib/python3.8/site-packages/gluonts/evaluation/metrics.py:150: RuntimeWarning: divide by zero encountered in double_scalars\n",
      "  return numerator / seasonal_error\n",
      "/usr/twix/python/lib/python3.8/site-packages/gluonts/evaluation/metrics.py:150: RuntimeWarning: divide by zero encountered in double_scalars\n",
      "  return numerator / seasonal_error\n",
      "/usr/twix/python/lib/python3.8/site-packages/gluonts/evaluation/metrics.py:102: RuntimeWarning: divide by zero encountered in double_scalars\n",
      "  return np.mean(np.abs(target - forecast)) / seasonal_error\n",
      "/usr/twix/python/lib/python3.8/site-packages/gluonts/evaluation/metrics.py:150: RuntimeWarning: divide by zero encountered in double_scalars\n",
      "  return numerator / seasonal_error\n",
      "/usr/twix/python/lib/python3.8/site-packages/gluonts/evaluation/metrics.py:102: RuntimeWarning: divide by zero encountered in double_scalars\n",
      "  return np.mean(np.abs(target - forecast)) / seasonal_error\n",
      "/usr/twix/python/lib/python3.8/site-packages/gluonts/evaluation/metrics.py:150: RuntimeWarning: divide by zero encountered in double_scalars\n",
      "  return numerator / seasonal_error\n",
      "/usr/twix/python/lib/python3.8/site-packages/gluonts/evaluation/metrics.py:102: RuntimeWarning: divide by zero encountered in double_scalars\n",
      "  return np.mean(np.abs(target - forecast)) / seasonal_error\n",
      "/usr/twix/python/lib/python3.8/site-packages/gluonts/evaluation/metrics.py:150: RuntimeWarning: divide by zero encountered in double_scalars\n",
      "  return numerator / seasonal_error\n",
      "/usr/twix/python/lib/python3.8/site-packages/gluonts/evaluation/metrics.py:102: RuntimeWarning: divide by zero encountered in double_scalars\n",
      "  return np.mean(np.abs(target - forecast)) / seasonal_error\n",
      "/usr/twix/python/lib/python3.8/site-packages/gluonts/evaluation/metrics.py:150: RuntimeWarning: divide by zero encountered in double_scalars\n",
      "  return numerator / seasonal_error\n",
      "/usr/twix/python/lib/python3.8/site-packages/gluonts/evaluation/metrics.py:102: RuntimeWarning: divide by zero encountered in double_scalars\n",
      "  return np.mean(np.abs(target - forecast)) / seasonal_error\n",
      "/usr/twix/python/lib/python3.8/site-packages/gluonts/evaluation/metrics.py:150: RuntimeWarning: divide by zero encountered in double_scalars\n",
      "  return numerator / seasonal_error\n",
      "/usr/twix/python/lib/python3.8/site-packages/gluonts/evaluation/metrics.py:102: RuntimeWarning: divide by zero encountered in double_scalars\n",
      "  return np.mean(np.abs(target - forecast)) / seasonal_error\n",
      "/usr/twix/python/lib/python3.8/site-packages/gluonts/evaluation/metrics.py:150: RuntimeWarning: divide by zero encountered in double_scalars\n",
      "  return numerator / seasonal_error\n",
      "/usr/twix/python/lib/python3.8/site-packages/gluonts/evaluation/metrics.py:102: RuntimeWarning: divide by zero encountered in double_scalars\n",
      "  return np.mean(np.abs(target - forecast)) / seasonal_error\n",
      "/usr/twix/python/lib/python3.8/site-packages/gluonts/evaluation/metrics.py:150: RuntimeWarning: divide by zero encountered in double_scalars\n",
      "  return numerator / seasonal_error\n",
      "/usr/twix/python/lib/python3.8/site-packages/gluonts/evaluation/metrics.py:150: RuntimeWarning: divide by zero encountered in double_scalars\n",
      "  return numerator / seasonal_error\n",
      "/usr/twix/python/lib/python3.8/site-packages/gluonts/evaluation/metrics.py:102: RuntimeWarning: divide by zero encountered in double_scalars\n",
      "  return np.mean(np.abs(target - forecast)) / seasonal_error\n",
      "/usr/twix/python/lib/python3.8/site-packages/gluonts/evaluation/metrics.py:102: RuntimeWarning: divide by zero encountered in double_scalars\n",
      "  return np.mean(np.abs(target - forecast)) / seasonal_error\n",
      "/usr/twix/python/lib/python3.8/site-packages/gluonts/evaluation/metrics.py:150: RuntimeWarning: divide by zero encountered in double_scalars\n",
      "  return numerator / seasonal_error\n",
      "/usr/twix/python/lib/python3.8/site-packages/gluonts/evaluation/metrics.py:102: RuntimeWarning: divide by zero encountered in double_scalars\n",
      "  return np.mean(np.abs(target - forecast)) / seasonal_error\n",
      "/usr/twix/python/lib/python3.8/site-packages/gluonts/evaluation/metrics.py:150: RuntimeWarning: divide by zero encountered in double_scalars\n",
      "  return numerator / seasonal_error\n",
      "/usr/twix/python/lib/python3.8/site-packages/gluonts/evaluation/metrics.py:102: RuntimeWarning: divide by zero encountered in double_scalars\n",
      "  return np.mean(np.abs(target - forecast)) / seasonal_error\n",
      "/usr/twix/python/lib/python3.8/site-packages/gluonts/evaluation/metrics.py:150: RuntimeWarning: divide by zero encountered in double_scalars\n",
      "  return numerator / seasonal_error\n",
      "/usr/twix/python/lib/python3.8/site-packages/gluonts/evaluation/metrics.py:102: RuntimeWarning: divide by zero encountered in double_scalars\n",
      "  return np.mean(np.abs(target - forecast)) / seasonal_error\n",
      "/usr/twix/python/lib/python3.8/site-packages/gluonts/evaluation/metrics.py:150: RuntimeWarning: divide by zero encountered in double_scalars\n",
      "  return numerator / seasonal_error\n",
      "/usr/twix/python/lib/python3.8/site-packages/gluonts/evaluation/metrics.py:102: RuntimeWarning: divide by zero encountered in double_scalars\n",
      "  return np.mean(np.abs(target - forecast)) / seasonal_error\n",
      "/usr/twix/python/lib/python3.8/site-packages/gluonts/evaluation/metrics.py:150: RuntimeWarning: divide by zero encountered in double_scalars\n",
      "  return numerator / seasonal_error\n",
      "/usr/twix/python/lib/python3.8/site-packages/gluonts/evaluation/metrics.py:102: RuntimeWarning: divide by zero encountered in double_scalars\n",
      "  return np.mean(np.abs(target - forecast)) / seasonal_error\n",
      "/usr/twix/python/lib/python3.8/site-packages/gluonts/evaluation/metrics.py:150: RuntimeWarning: divide by zero encountered in double_scalars\n",
      "  return numerator / seasonal_error\n",
      "/usr/twix/python/lib/python3.8/site-packages/gluonts/evaluation/metrics.py:102: RuntimeWarning: divide by zero encountered in double_scalars\n",
      "  return np.mean(np.abs(target - forecast)) / seasonal_error\n",
      "/usr/twix/python/lib/python3.8/site-packages/gluonts/evaluation/metrics.py:150: RuntimeWarning: divide by zero encountered in double_scalars\n",
      "  return numerator / seasonal_error\n",
      "/usr/twix/python/lib/python3.8/site-packages/gluonts/evaluation/metrics.py:102: RuntimeWarning: divide by zero encountered in double_scalars\n",
      "  return np.mean(np.abs(target - forecast)) / seasonal_error\n",
      "/usr/twix/python/lib/python3.8/site-packages/gluonts/evaluation/metrics.py:102: RuntimeWarning: divide by zero encountered in double_scalars\n",
      "  return np.mean(np.abs(target - forecast)) / seasonal_error\n",
      "/usr/twix/python/lib/python3.8/site-packages/gluonts/evaluation/metrics.py:150: RuntimeWarning: divide by zero encountered in double_scalars\n",
      "  return numerator / seasonal_error\n",
      "/usr/twix/python/lib/python3.8/site-packages/gluonts/evaluation/metrics.py:150: RuntimeWarning: divide by zero encountered in double_scalars\n",
      "  return numerator / seasonal_error\n",
      "/usr/twix/python/lib/python3.8/site-packages/gluonts/evaluation/metrics.py:102: RuntimeWarning: divide by zero encountered in double_scalars\n",
      "  return np.mean(np.abs(target - forecast)) / seasonal_error\n",
      "/usr/twix/python/lib/python3.8/site-packages/gluonts/evaluation/metrics.py:150: RuntimeWarning: divide by zero encountered in double_scalars\n",
      "  return numerator / seasonal_error\n",
      "/usr/twix/python/lib/python3.8/site-packages/gluonts/evaluation/metrics.py:102: RuntimeWarning: divide by zero encountered in double_scalars\n",
      "  return np.mean(np.abs(target - forecast)) / seasonal_error\n",
      "/usr/twix/python/lib/python3.8/site-packages/gluonts/evaluation/metrics.py:150: RuntimeWarning: divide by zero encountered in double_scalars\n",
      "  return numerator / seasonal_error\n",
      "/usr/twix/python/lib/python3.8/site-packages/gluonts/evaluation/metrics.py:102: RuntimeWarning: divide by zero encountered in double_scalars\n",
      "  return np.mean(np.abs(target - forecast)) / seasonal_error\n",
      "/usr/twix/python/lib/python3.8/site-packages/gluonts/evaluation/metrics.py:150: RuntimeWarning: divide by zero encountered in double_scalars\n",
      "  return numerator / seasonal_error\n",
      "/usr/twix/python/lib/python3.8/site-packages/gluonts/evaluation/metrics.py:102: RuntimeWarning: divide by zero encountered in double_scalars\n",
      "  return np.mean(np.abs(target - forecast)) / seasonal_error\n",
      "/usr/twix/python/lib/python3.8/site-packages/gluonts/evaluation/metrics.py:150: RuntimeWarning: divide by zero encountered in double_scalars\n",
      "  return numerator / seasonal_error\n",
      "/usr/twix/python/lib/python3.8/site-packages/gluonts/evaluation/metrics.py:102: RuntimeWarning: divide by zero encountered in double_scalars\n",
      "  return np.mean(np.abs(target - forecast)) / seasonal_error\n",
      "/usr/twix/python/lib/python3.8/site-packages/gluonts/evaluation/metrics.py:150: RuntimeWarning: divide by zero encountered in double_scalars\n",
      "  return numerator / seasonal_error\n",
      "/usr/twix/python/lib/python3.8/site-packages/gluonts/evaluation/metrics.py:102: RuntimeWarning: divide by zero encountered in double_scalars\n",
      "  return np.mean(np.abs(target - forecast)) / seasonal_error\n",
      "/usr/twix/python/lib/python3.8/site-packages/gluonts/evaluation/metrics.py:150: RuntimeWarning: divide by zero encountered in double_scalars\n",
      "  return numerator / seasonal_error\n",
      "/usr/twix/python/lib/python3.8/site-packages/gluonts/evaluation/metrics.py:102: RuntimeWarning: divide by zero encountered in double_scalars\n",
      "  return np.mean(np.abs(target - forecast)) / seasonal_error\n",
      "/usr/twix/python/lib/python3.8/site-packages/gluonts/evaluation/metrics.py:150: RuntimeWarning: divide by zero encountered in double_scalars\n",
      "  return numerator / seasonal_error\n",
      "/usr/twix/python/lib/python3.8/site-packages/gluonts/evaluation/metrics.py:102: RuntimeWarning: divide by zero encountered in double_scalars\n",
      "  return np.mean(np.abs(target - forecast)) / seasonal_error\n",
      "/usr/twix/python/lib/python3.8/site-packages/gluonts/evaluation/metrics.py:150: RuntimeWarning: divide by zero encountered in double_scalars\n",
      "  return numerator / seasonal_error\n",
      "/usr/twix/python/lib/python3.8/site-packages/gluonts/evaluation/metrics.py:102: RuntimeWarning: divide by zero encountered in double_scalars\n",
      "  return np.mean(np.abs(target - forecast)) / seasonal_error\n",
      "/usr/twix/python/lib/python3.8/site-packages/gluonts/evaluation/metrics.py:150: RuntimeWarning: divide by zero encountered in double_scalars\n",
      "  return numerator / seasonal_error\n",
      "/usr/twix/python/lib/python3.8/site-packages/gluonts/evaluation/metrics.py:102: RuntimeWarning: divide by zero encountered in double_scalars\n",
      "  return np.mean(np.abs(target - forecast)) / seasonal_error\n",
      "/usr/twix/python/lib/python3.8/site-packages/gluonts/evaluation/metrics.py:150: RuntimeWarning: divide by zero encountered in double_scalars\n",
      "  return numerator / seasonal_error\n",
      "/usr/twix/python/lib/python3.8/site-packages/gluonts/evaluation/metrics.py:102: RuntimeWarning: divide by zero encountered in double_scalars\n",
      "  return np.mean(np.abs(target - forecast)) / seasonal_error\n",
      "/usr/twix/python/lib/python3.8/site-packages/gluonts/evaluation/metrics.py:102: RuntimeWarning: divide by zero encountered in double_scalars\n",
      "  return np.mean(np.abs(target - forecast)) / seasonal_error\n",
      "/usr/twix/python/lib/python3.8/site-packages/gluonts/evaluation/metrics.py:150: RuntimeWarning: divide by zero encountered in double_scalars\n",
      "  return numerator / seasonal_error\n",
      "/usr/twix/python/lib/python3.8/site-packages/gluonts/evaluation/metrics.py:150: RuntimeWarning: divide by zero encountered in double_scalars\n",
      "  return numerator / seasonal_error\n",
      "/usr/twix/python/lib/python3.8/site-packages/gluonts/evaluation/metrics.py:102: RuntimeWarning: divide by zero encountered in double_scalars\n",
      "  return np.mean(np.abs(target - forecast)) / seasonal_error\n",
      "/usr/twix/python/lib/python3.8/site-packages/gluonts/evaluation/metrics.py:150: RuntimeWarning: divide by zero encountered in double_scalars\n",
      "  return numerator / seasonal_error\n",
      "/usr/twix/python/lib/python3.8/site-packages/gluonts/evaluation/metrics.py:102: RuntimeWarning: divide by zero encountered in double_scalars\n",
      "  return np.mean(np.abs(target - forecast)) / seasonal_error\n",
      "/usr/twix/python/lib/python3.8/site-packages/gluonts/evaluation/metrics.py:150: RuntimeWarning: divide by zero encountered in double_scalars\n",
      "  return numerator / seasonal_error\n",
      "/usr/twix/python/lib/python3.8/site-packages/gluonts/evaluation/metrics.py:150: RuntimeWarning: divide by zero encountered in double_scalars\n",
      "  return numerator / seasonal_error\n",
      "/usr/twix/python/lib/python3.8/site-packages/gluonts/evaluation/metrics.py:102: RuntimeWarning: divide by zero encountered in double_scalars\n",
      "  return np.mean(np.abs(target - forecast)) / seasonal_error\n",
      "/usr/twix/python/lib/python3.8/site-packages/gluonts/evaluation/metrics.py:102: RuntimeWarning: divide by zero encountered in double_scalars\n",
      "  return np.mean(np.abs(target - forecast)) / seasonal_error\n",
      "/usr/twix/python/lib/python3.8/site-packages/gluonts/evaluation/metrics.py:150: RuntimeWarning: divide by zero encountered in double_scalars\n",
      "  return numerator / seasonal_error\n",
      "/usr/twix/python/lib/python3.8/site-packages/gluonts/evaluation/metrics.py:102: RuntimeWarning: divide by zero encountered in double_scalars\n",
      "  return np.mean(np.abs(target - forecast)) / seasonal_error\n",
      "/usr/twix/python/lib/python3.8/site-packages/gluonts/evaluation/metrics.py:150: RuntimeWarning: divide by zero encountered in double_scalars\n",
      "  return numerator / seasonal_error\n",
      "/usr/twix/python/lib/python3.8/site-packages/gluonts/evaluation/metrics.py:102: RuntimeWarning: divide by zero encountered in double_scalars\n",
      "  return np.mean(np.abs(target - forecast)) / seasonal_error\n",
      "/usr/twix/python/lib/python3.8/site-packages/gluonts/evaluation/metrics.py:102: RuntimeWarning: divide by zero encountered in double_scalars\n",
      "  return np.mean(np.abs(target - forecast)) / seasonal_error\n",
      "/usr/twix/python/lib/python3.8/site-packages/gluonts/evaluation/metrics.py:150: RuntimeWarning: divide by zero encountered in double_scalars\n",
      "  return numerator / seasonal_error\n",
      "/usr/twix/python/lib/python3.8/site-packages/gluonts/evaluation/metrics.py:150: RuntimeWarning: divide by zero encountered in double_scalars\n",
      "  return numerator / seasonal_error\n",
      "/usr/twix/python/lib/python3.8/site-packages/gluonts/evaluation/metrics.py:102: RuntimeWarning: divide by zero encountered in double_scalars\n",
      "  return np.mean(np.abs(target - forecast)) / seasonal_error\n",
      "/usr/twix/python/lib/python3.8/site-packages/gluonts/evaluation/metrics.py:150: RuntimeWarning: divide by zero encountered in double_scalars\n",
      "  return numerator / seasonal_error\n",
      "/usr/twix/python/lib/python3.8/site-packages/gluonts/evaluation/metrics.py:102: RuntimeWarning: divide by zero encountered in double_scalars\n",
      "  return np.mean(np.abs(target - forecast)) / seasonal_error\n",
      "/usr/twix/python/lib/python3.8/site-packages/gluonts/evaluation/metrics.py:150: RuntimeWarning: divide by zero encountered in double_scalars\n",
      "  return numerator / seasonal_error\n",
      "/usr/twix/python/lib/python3.8/site-packages/gluonts/evaluation/metrics.py:102: RuntimeWarning: divide by zero encountered in double_scalars\n",
      "  return np.mean(np.abs(target - forecast)) / seasonal_error\n",
      "/usr/twix/python/lib/python3.8/site-packages/gluonts/evaluation/metrics.py:102: RuntimeWarning: divide by zero encountered in double_scalars\n",
      "  return np.mean(np.abs(target - forecast)) / seasonal_error\n",
      "/usr/twix/python/lib/python3.8/site-packages/gluonts/evaluation/metrics.py:150: RuntimeWarning: divide by zero encountered in double_scalars\n",
      "  return numerator / seasonal_error\n",
      "/usr/twix/python/lib/python3.8/site-packages/gluonts/evaluation/metrics.py:150: RuntimeWarning: divide by zero encountered in double_scalars\n",
      "  return numerator / seasonal_error\n",
      "/usr/twix/python/lib/python3.8/site-packages/gluonts/evaluation/metrics.py:102: RuntimeWarning: divide by zero encountered in double_scalars\n",
      "  return np.mean(np.abs(target - forecast)) / seasonal_error\n",
      "/usr/twix/python/lib/python3.8/site-packages/gluonts/evaluation/metrics.py:150: RuntimeWarning: divide by zero encountered in double_scalars\n",
      "  return numerator / seasonal_error\n",
      "/usr/twix/python/lib/python3.8/site-packages/gluonts/evaluation/metrics.py:102: RuntimeWarning: divide by zero encountered in double_scalars\n",
      "  return np.mean(np.abs(target - forecast)) / seasonal_error\n",
      "/usr/twix/python/lib/python3.8/site-packages/gluonts/evaluation/metrics.py:150: RuntimeWarning: divide by zero encountered in double_scalars\n",
      "  return numerator / seasonal_error\n"
     ]
    }
   ],
   "source": [
    "# actually we can easily calculate it by hand\n",
    "evaluator = Evaluator(quantiles=[0.1, 0.5, 0.9])\n",
    "agg_metrics, item_metrics = evaluator(iter(tss), \n",
    "                                      iter(forecasts), \n",
    "                                      num_series=len(train_ds_rolled))"
   ]
  },
  {
   "cell_type": "code",
   "execution_count": 78,
   "id": "d5515ec2-f317-4d20-b26e-c78733f947a1",
   "metadata": {
    "execution": {
     "iopub.execute_input": "2022-02-23T14:08:39.593746Z",
     "iopub.status.busy": "2022-02-23T14:08:39.593099Z",
     "iopub.status.idle": "2022-02-23T14:08:39.656741Z",
     "shell.execute_reply": "2022-02-23T14:08:39.655859Z",
     "shell.execute_reply.started": "2022-02-23T14:08:39.593674Z"
    },
    "tags": []
   },
   "outputs": [
    {
     "data": {
      "text/plain": [
       "{'MSE': 1.1656175427263293,\n",
       " 'abs_error': 994215.4132566983,\n",
       " 'abs_target_sum': 906895.1489986305,\n",
       " 'abs_target_mean': 0.6994733282418055,\n",
       " 'seasonal_error': 0.06556432461425392,\n",
       " 'MASE': inf,\n",
       " 'MAPE': 5.126774052029617,\n",
       " 'sMAPE': 1.5371755468908275,\n",
       " 'MSIS': inf,\n",
       " 'QuantileLoss[0.1]': 519125.8079424667,\n",
       " 'Coverage[0.1]': 0.1784580498866213,\n",
       " 'QuantileLoss[0.5]': 994215.4132733995,\n",
       " 'Coverage[0.5]': 0.4526917796597097,\n",
       " 'QuantileLoss[0.9]': 556490.9165817369,\n",
       " 'Coverage[0.9]': 0.8143520446727444,\n",
       " 'RMSE': 1.0796376904898835,\n",
       " 'NRMSE': 1.5435008697238795,\n",
       " 'ND': 1.0962848509604275,\n",
       " 'wQuantileLoss[0.1]': 0.5724209777896283,\n",
       " 'wQuantileLoss[0.5]': 1.0962848509788432,\n",
       " 'wQuantileLoss[0.9]': 0.6136221118794156,\n",
       " 'mean_absolute_QuantileLoss': 689944.0459325343,\n",
       " 'mean_wQuantileLoss': 0.7607759802159624,\n",
       " 'MAE_Coverage': 0.07047140851805576,\n",
       " 'OWA': nan}"
      ]
     },
     "execution_count": 78,
     "metadata": {},
     "output_type": "execute_result"
    }
   ],
   "source": [
    "# print(\"CRPS: {}\".format(agg_metric['mean_wQuantileLoss']))\n",
    "agg_metrics"
   ]
  },
  {
   "cell_type": "code",
   "execution_count": 79,
   "id": "f7ff4ee0-43db-415f-af36-fe60e22fa23d",
   "metadata": {
    "execution": {
     "iopub.execute_input": "2022-02-23T14:08:42.449015Z",
     "iopub.status.busy": "2022-02-23T14:08:42.448424Z",
     "iopub.status.idle": "2022-02-23T14:08:42.517985Z",
     "shell.execute_reply": "2022-02-23T14:08:42.517141Z",
     "shell.execute_reply.started": "2022-02-23T14:08:42.448947Z"
    },
    "tags": []
   },
   "outputs": [
    {
     "data": {
      "text/html": [
       "<div>\n",
       "<style scoped>\n",
       "    .dataframe tbody tr th:only-of-type {\n",
       "        vertical-align: middle;\n",
       "    }\n",
       "\n",
       "    .dataframe tbody tr th {\n",
       "        vertical-align: top;\n",
       "    }\n",
       "\n",
       "    .dataframe thead th {\n",
       "        text-align: right;\n",
       "    }\n",
       "</style>\n",
       "<table border=\"1\" class=\"dataframe\">\n",
       "  <thead>\n",
       "    <tr style=\"text-align: right;\">\n",
       "      <th></th>\n",
       "      <th>item_id</th>\n",
       "      <th>MSE</th>\n",
       "      <th>abs_error</th>\n",
       "      <th>abs_target_sum</th>\n",
       "      <th>abs_target_mean</th>\n",
       "      <th>seasonal_error</th>\n",
       "      <th>MASE</th>\n",
       "      <th>MAPE</th>\n",
       "      <th>sMAPE</th>\n",
       "      <th>MSIS</th>\n",
       "      <th>QuantileLoss[0.1]</th>\n",
       "      <th>Coverage[0.1]</th>\n",
       "      <th>QuantileLoss[0.5]</th>\n",
       "      <th>Coverage[0.5]</th>\n",
       "      <th>QuantileLoss[0.9]</th>\n",
       "      <th>Coverage[0.9]</th>\n",
       "    </tr>\n",
       "  </thead>\n",
       "  <tbody>\n",
       "    <tr>\n",
       "      <th>0</th>\n",
       "      <td>NaN</td>\n",
       "      <td>1.192913</td>\n",
       "      <td>2.692346</td>\n",
       "      <td>1.215345</td>\n",
       "      <td>0.607673</td>\n",
       "      <td>0.312784</td>\n",
       "      <td>4.303842</td>\n",
       "      <td>2.230852</td>\n",
       "      <td>2.000000</td>\n",
       "      <td>16.145861</td>\n",
       "      <td>1.195561</td>\n",
       "      <td>0.0</td>\n",
       "      <td>2.692346</td>\n",
       "      <td>0.0</td>\n",
       "      <td>0.300830</td>\n",
       "      <td>1.0</td>\n",
       "    </tr>\n",
       "    <tr>\n",
       "      <th>1</th>\n",
       "      <td>NaN</td>\n",
       "      <td>4.702199</td>\n",
       "      <td>5.113446</td>\n",
       "      <td>1.310771</td>\n",
       "      <td>0.655386</td>\n",
       "      <td>0.312254</td>\n",
       "      <td>8.187961</td>\n",
       "      <td>3.941091</td>\n",
       "      <td>2.000000</td>\n",
       "      <td>16.945952</td>\n",
       "      <td>1.647493</td>\n",
       "      <td>0.0</td>\n",
       "      <td>5.113446</td>\n",
       "      <td>0.0</td>\n",
       "      <td>1.034210</td>\n",
       "      <td>0.5</td>\n",
       "    </tr>\n",
       "    <tr>\n",
       "      <th>2</th>\n",
       "      <td>NaN</td>\n",
       "      <td>1.489569</td>\n",
       "      <td>3.061969</td>\n",
       "      <td>1.019723</td>\n",
       "      <td>0.509861</td>\n",
       "      <td>0.313314</td>\n",
       "      <td>4.886420</td>\n",
       "      <td>4.085718</td>\n",
       "      <td>1.703297</td>\n",
       "      <td>24.377159</td>\n",
       "      <td>1.444575</td>\n",
       "      <td>0.0</td>\n",
       "      <td>3.061969</td>\n",
       "      <td>0.0</td>\n",
       "      <td>0.463899</td>\n",
       "      <td>1.0</td>\n",
       "    </tr>\n",
       "    <tr>\n",
       "      <th>3</th>\n",
       "      <td>NaN</td>\n",
       "      <td>1.982828</td>\n",
       "      <td>3.208847</td>\n",
       "      <td>1.496851</td>\n",
       "      <td>0.748426</td>\n",
       "      <td>0.152151</td>\n",
       "      <td>10.544950</td>\n",
       "      <td>2.654720</td>\n",
       "      <td>2.000000</td>\n",
       "      <td>30.782852</td>\n",
       "      <td>1.197043</td>\n",
       "      <td>0.0</td>\n",
       "      <td>3.208847</td>\n",
       "      <td>0.0</td>\n",
       "      <td>0.252262</td>\n",
       "      <td>1.0</td>\n",
       "    </tr>\n",
       "    <tr>\n",
       "      <th>4</th>\n",
       "      <td>NaN</td>\n",
       "      <td>4.694784</td>\n",
       "      <td>4.598998</td>\n",
       "      <td>2.365225</td>\n",
       "      <td>1.182612</td>\n",
       "      <td>0.186610</td>\n",
       "      <td>12.322474</td>\n",
       "      <td>1.955956</td>\n",
       "      <td>2.000000</td>\n",
       "      <td>114.593813</td>\n",
       "      <td>1.323465</td>\n",
       "      <td>0.0</td>\n",
       "      <td>4.598998</td>\n",
       "      <td>0.0</td>\n",
       "      <td>1.586942</td>\n",
       "      <td>0.5</td>\n",
       "    </tr>\n",
       "    <tr>\n",
       "      <th>...</th>\n",
       "      <td>...</td>\n",
       "      <td>...</td>\n",
       "      <td>...</td>\n",
       "      <td>...</td>\n",
       "      <td>...</td>\n",
       "      <td>...</td>\n",
       "      <td>...</td>\n",
       "      <td>...</td>\n",
       "      <td>...</td>\n",
       "      <td>...</td>\n",
       "      <td>...</td>\n",
       "      <td>...</td>\n",
       "      <td>...</td>\n",
       "      <td>...</td>\n",
       "      <td>...</td>\n",
       "      <td>...</td>\n",
       "    </tr>\n",
       "    <tr>\n",
       "      <th>648265</th>\n",
       "      <td>NaN</td>\n",
       "      <td>0.026200</td>\n",
       "      <td>0.265457</td>\n",
       "      <td>0.130156</td>\n",
       "      <td>0.065078</td>\n",
       "      <td>0.000000</td>\n",
       "      <td>inf</td>\n",
       "      <td>2.039522</td>\n",
       "      <td>1.009722</td>\n",
       "      <td>inf</td>\n",
       "      <td>0.216737</td>\n",
       "      <td>0.0</td>\n",
       "      <td>0.265457</td>\n",
       "      <td>0.0</td>\n",
       "      <td>0.243454</td>\n",
       "      <td>1.0</td>\n",
       "    </tr>\n",
       "    <tr>\n",
       "      <th>648266</th>\n",
       "      <td>NaN</td>\n",
       "      <td>0.092996</td>\n",
       "      <td>0.859269</td>\n",
       "      <td>0.130156</td>\n",
       "      <td>0.065078</td>\n",
       "      <td>0.000000</td>\n",
       "      <td>inf</td>\n",
       "      <td>6.601826</td>\n",
       "      <td>1.821518</td>\n",
       "      <td>inf</td>\n",
       "      <td>0.317594</td>\n",
       "      <td>0.0</td>\n",
       "      <td>0.859270</td>\n",
       "      <td>0.5</td>\n",
       "      <td>0.324259</td>\n",
       "      <td>1.0</td>\n",
       "    </tr>\n",
       "    <tr>\n",
       "      <th>648267</th>\n",
       "      <td>NaN</td>\n",
       "      <td>0.248809</td>\n",
       "      <td>0.570611</td>\n",
       "      <td>0.130156</td>\n",
       "      <td>0.065078</td>\n",
       "      <td>0.000000</td>\n",
       "      <td>inf</td>\n",
       "      <td>4.384042</td>\n",
       "      <td>2.000000</td>\n",
       "      <td>inf</td>\n",
       "      <td>0.245454</td>\n",
       "      <td>0.0</td>\n",
       "      <td>0.570611</td>\n",
       "      <td>1.0</td>\n",
       "      <td>0.533903</td>\n",
       "      <td>1.0</td>\n",
       "    </tr>\n",
       "    <tr>\n",
       "      <th>648268</th>\n",
       "      <td>NaN</td>\n",
       "      <td>1.213115</td>\n",
       "      <td>0.373713</td>\n",
       "      <td>0.130156</td>\n",
       "      <td>0.065078</td>\n",
       "      <td>0.000000</td>\n",
       "      <td>inf</td>\n",
       "      <td>2.871263</td>\n",
       "      <td>1.015044</td>\n",
       "      <td>inf</td>\n",
       "      <td>0.362972</td>\n",
       "      <td>0.0</td>\n",
       "      <td>0.373713</td>\n",
       "      <td>0.0</td>\n",
       "      <td>0.480392</td>\n",
       "      <td>1.0</td>\n",
       "    </tr>\n",
       "    <tr>\n",
       "      <th>648269</th>\n",
       "      <td>NaN</td>\n",
       "      <td>0.040734</td>\n",
       "      <td>0.110010</td>\n",
       "      <td>0.130156</td>\n",
       "      <td>0.065078</td>\n",
       "      <td>0.000000</td>\n",
       "      <td>inf</td>\n",
       "      <td>0.845216</td>\n",
       "      <td>0.741426</td>\n",
       "      <td>inf</td>\n",
       "      <td>0.176417</td>\n",
       "      <td>0.0</td>\n",
       "      <td>0.110010</td>\n",
       "      <td>0.5</td>\n",
       "      <td>0.336708</td>\n",
       "      <td>1.0</td>\n",
       "    </tr>\n",
       "  </tbody>\n",
       "</table>\n",
       "<p>648270 rows × 16 columns</p>\n",
       "</div>"
      ],
      "text/plain": [
       "        item_id       MSE  abs_error  abs_target_sum  abs_target_mean  \\\n",
       "0           NaN  1.192913   2.692346        1.215345         0.607673   \n",
       "1           NaN  4.702199   5.113446        1.310771         0.655386   \n",
       "2           NaN  1.489569   3.061969        1.019723         0.509861   \n",
       "3           NaN  1.982828   3.208847        1.496851         0.748426   \n",
       "4           NaN  4.694784   4.598998        2.365225         1.182612   \n",
       "...         ...       ...        ...             ...              ...   \n",
       "648265      NaN  0.026200   0.265457        0.130156         0.065078   \n",
       "648266      NaN  0.092996   0.859269        0.130156         0.065078   \n",
       "648267      NaN  0.248809   0.570611        0.130156         0.065078   \n",
       "648268      NaN  1.213115   0.373713        0.130156         0.065078   \n",
       "648269      NaN  0.040734   0.110010        0.130156         0.065078   \n",
       "\n",
       "        seasonal_error       MASE      MAPE     sMAPE        MSIS  \\\n",
       "0             0.312784   4.303842  2.230852  2.000000   16.145861   \n",
       "1             0.312254   8.187961  3.941091  2.000000   16.945952   \n",
       "2             0.313314   4.886420  4.085718  1.703297   24.377159   \n",
       "3             0.152151  10.544950  2.654720  2.000000   30.782852   \n",
       "4             0.186610  12.322474  1.955956  2.000000  114.593813   \n",
       "...                ...        ...       ...       ...         ...   \n",
       "648265        0.000000        inf  2.039522  1.009722         inf   \n",
       "648266        0.000000        inf  6.601826  1.821518         inf   \n",
       "648267        0.000000        inf  4.384042  2.000000         inf   \n",
       "648268        0.000000        inf  2.871263  1.015044         inf   \n",
       "648269        0.000000        inf  0.845216  0.741426         inf   \n",
       "\n",
       "        QuantileLoss[0.1]  Coverage[0.1]  QuantileLoss[0.5]  Coverage[0.5]  \\\n",
       "0                1.195561            0.0           2.692346            0.0   \n",
       "1                1.647493            0.0           5.113446            0.0   \n",
       "2                1.444575            0.0           3.061969            0.0   \n",
       "3                1.197043            0.0           3.208847            0.0   \n",
       "4                1.323465            0.0           4.598998            0.0   \n",
       "...                   ...            ...                ...            ...   \n",
       "648265           0.216737            0.0           0.265457            0.0   \n",
       "648266           0.317594            0.0           0.859270            0.5   \n",
       "648267           0.245454            0.0           0.570611            1.0   \n",
       "648268           0.362972            0.0           0.373713            0.0   \n",
       "648269           0.176417            0.0           0.110010            0.5   \n",
       "\n",
       "        QuantileLoss[0.9]  Coverage[0.9]  \n",
       "0                0.300830            1.0  \n",
       "1                1.034210            0.5  \n",
       "2                0.463899            1.0  \n",
       "3                0.252262            1.0  \n",
       "4                1.586942            0.5  \n",
       "...                   ...            ...  \n",
       "648265           0.243454            1.0  \n",
       "648266           0.324259            1.0  \n",
       "648267           0.533903            1.0  \n",
       "648268           0.480392            1.0  \n",
       "648269           0.336708            1.0  \n",
       "\n",
       "[648270 rows x 16 columns]"
      ]
     },
     "execution_count": 79,
     "metadata": {},
     "output_type": "execute_result"
    }
   ],
   "source": [
    "item_metrics"
   ]
  },
  {
   "cell_type": "code",
   "execution_count": 80,
   "id": "99355d9e-b327-417f-89b6-ab4187afd6ed",
   "metadata": {
    "execution": {
     "iopub.execute_input": "2022-02-23T14:08:45.496939Z",
     "iopub.status.busy": "2022-02-23T14:08:45.496175Z",
     "iopub.status.idle": "2022-02-23T14:08:46.480429Z",
     "shell.execute_reply": "2022-02-23T14:08:46.479704Z",
     "shell.execute_reply.started": "2022-02-23T14:08:45.496871Z"
    },
    "tags": []
   },
   "outputs": [
    {
     "data": {
      "image/png": "[encoded data removed]",
      "text/plain": [
       "<Figure size 432x288 with 1 Axes>"
      ]
     },
     "metadata": {
      "needs_background": "light"
     },
     "output_type": "display_data"
    }
   ],
   "source": [
    "item_metrics.plot(x='MSIS', y='MASE', kind='scatter')\n",
    "plt.grid(which=\"both\")\n",
    "plt.show()"
   ]
  },
  {
   "cell_type": "markdown",
   "id": "7ec4842a-b0b9-4e40-bde3-f4c91661f1f6",
   "metadata": {},
   "source": [
    "# Test metrics"
   ]
  },
  {
   "cell_type": "code",
   "execution_count": null,
   "id": "2bfc5b7b-30f0-4fb3-b9c0-89573c54db87",
   "metadata": {},
   "outputs": [],
   "source": []
  },
  {
   "cell_type": "code",
   "execution_count": null,
   "id": "e6078ea0-25db-4db4-89c6-87b6f3a45203",
   "metadata": {},
   "outputs": [],
   "source": []
  },
  {
   "cell_type": "markdown",
   "id": "10fd5959-5aee-4b1b-8a22-2d0602ba32d1",
   "metadata": {},
   "source": [
    "# Conditioned Normalizing Flow"
   ]
  },
  {
   "cell_type": "code",
   "execution_count": null,
   "id": "6274878b-d8d8-48b6-9088-0cdb4155c05e",
   "metadata": {},
   "outputs": [],
   "source": []
  },
  {
   "cell_type": "code",
   "execution_count": null,
   "id": "a9375033-c950-49d2-89ec-6025cb670851",
   "metadata": {},
   "outputs": [],
   "source": []
  },
  {
   "cell_type": "code",
   "execution_count": null,
   "id": "cb6fa67b-983a-450c-a4c0-5bec70e73636",
   "metadata": {},
   "outputs": [],
   "source": []
  },
  {
   "cell_type": "code",
   "execution_count": null,
   "id": "02db0967-7bb2-4fea-b08f-c8490502138b",
   "metadata": {},
   "outputs": [],
   "source": []
  },
  {
   "cell_type": "code",
   "execution_count": null,
   "id": "7ac162c8-d31a-439a-8d4e-d21b8f3bd3a9",
   "metadata": {},
   "outputs": [],
   "source": []
  },
  {
   "cell_type": "code",
   "execution_count": null,
   "id": "95688830-4ddc-4fcb-8d72-6f301d8d43d4",
   "metadata": {},
   "outputs": [],
   "source": []
  }
 ],
 "metadata": {
  "kernelspec": {
   "display_name": "Python 3 (ipykernel)",
   "language": "python",
   "name": "python3"
  },
  "language_info": {
   "codemirror_mode": {
    "name": "ipython",
    "version": 3
   },
   "file_extension": ".py",
   "mimetype": "text/x-python",
   "name": "python",
   "nbconvert_exporter": "python",
   "pygments_lexer": "ipython3",
   "version": "3.8.10"
  }
 },
 "nbformat": 4,
 "nbformat_minor": 5
}
