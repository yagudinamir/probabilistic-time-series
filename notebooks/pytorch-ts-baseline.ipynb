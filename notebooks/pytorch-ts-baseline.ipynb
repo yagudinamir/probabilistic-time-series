{
 "cells": [
  {
   "cell_type": "code",
   "execution_count": 150,
   "id": "cc463bfb-f200-497d-9a5b-22e10d1236b5",
   "metadata": {
    "execution": {
     "iopub.execute_input": "2022-02-19T14:42:51.463677Z",
     "iopub.status.busy": "2022-02-19T14:42:51.463020Z",
     "iopub.status.idle": "2022-02-19T14:42:51.515256Z",
     "shell.execute_reply": "2022-02-19T14:42:51.514260Z",
     "shell.execute_reply.started": "2022-02-19T14:42:51.463602Z"
    },
    "tags": []
   },
   "outputs": [],
   "source": [
    "import numpy as np\n",
    "import matplotlib.pyplot as plt\n",
    "import pandas as pd\n",
    "from tqdm.notebook import tqdm\n",
    "\n",
    "import os"
   ]
  },
  {
   "cell_type": "code",
   "execution_count": 151,
   "id": "d679db48-9b04-4543-8216-756a76331d7e",
   "metadata": {
    "execution": {
     "iopub.execute_input": "2022-02-19T14:42:51.617893Z",
     "iopub.status.busy": "2022-02-19T14:42:51.617373Z",
     "iopub.status.idle": "2022-02-19T14:42:51.669601Z",
     "shell.execute_reply": "2022-02-19T14:42:51.668694Z",
     "shell.execute_reply.started": "2022-02-19T14:42:51.617826Z"
    },
    "tags": []
   },
   "outputs": [
    {
     "name": "stdout",
     "output_type": "stream",
     "text": [
      "The autoreload extension is already loaded. To reload it, use:\n",
      "  %reload_ext autoreload\n"
     ]
    }
   ],
   "source": [
    "%load_ext autoreload\n",
    "%autoreload 2"
   ]
  },
  {
   "cell_type": "code",
   "execution_count": 152,
   "id": "cb2b8997-4b77-46b7-9a40-03311ddb116f",
   "metadata": {
    "execution": {
     "iopub.execute_input": "2022-02-19T14:42:51.779325Z",
     "iopub.status.busy": "2022-02-19T14:42:51.778927Z",
     "iopub.status.idle": "2022-02-19T14:42:51.817745Z",
     "shell.execute_reply": "2022-02-19T14:42:51.816365Z",
     "shell.execute_reply.started": "2022-02-19T14:42:51.779288Z"
    },
    "tags": []
   },
   "outputs": [],
   "source": [
    "DATASET_PATH = '/home/ayagudin/dl/probabilistic-time-series/lobster-preprocessed-dataset/'"
   ]
  },
  {
   "cell_type": "code",
   "execution_count": 153,
   "id": "701bfe4c-d777-44a4-bef1-667463425792",
   "metadata": {
    "execution": {
     "iopub.execute_input": "2022-02-19T14:42:51.928457Z",
     "iopub.status.busy": "2022-02-19T14:42:51.927829Z",
     "iopub.status.idle": "2022-02-19T14:42:51.973171Z",
     "shell.execute_reply": "2022-02-19T14:42:51.971665Z",
     "shell.execute_reply.started": "2022-02-19T14:42:51.928393Z"
    },
    "tags": []
   },
   "outputs": [],
   "source": [
    "from data_utils import load_features_and_targets"
   ]
  },
  {
   "cell_type": "code",
   "execution_count": 154,
   "id": "b1f916b1-ea5c-49b8-8f7d-dc925d6fbc56",
   "metadata": {
    "execution": {
     "iopub.execute_input": "2022-02-19T14:42:52.068455Z",
     "iopub.status.busy": "2022-02-19T14:42:52.067815Z",
     "iopub.status.idle": "2022-02-19T14:42:52.246073Z",
     "shell.execute_reply": "2022-02-19T14:42:52.245191Z",
     "shell.execute_reply.started": "2022-02-19T14:42:52.068390Z"
    },
    "tags": []
   },
   "outputs": [],
   "source": [
    "features_per_day, targets_per_day = load_features_and_targets(DATASET_PATH)"
   ]
  },
  {
   "cell_type": "markdown",
   "id": "8063a29e-f8b7-45c0-8f9d-4cfb6b0d8006",
   "metadata": {},
   "source": [
    "# Cut session begin & end\n",
    "> TODO reconstruct dataset so that it will have only moments with huge traded_amount"
   ]
  },
  {
   "cell_type": "code",
   "execution_count": 155,
   "id": "95b11233-ad59-4c21-94f8-5581a79fbe77",
   "metadata": {
    "execution": {
     "iopub.execute_input": "2022-02-19T14:42:52.336896Z",
     "iopub.status.busy": "2022-02-19T14:42:52.336250Z",
     "iopub.status.idle": "2022-02-19T14:42:52.384099Z",
     "shell.execute_reply": "2022-02-19T14:42:52.383031Z",
     "shell.execute_reply.started": "2022-02-19T14:42:52.336831Z"
    },
    "tags": []
   },
   "outputs": [],
   "source": [
    "timestamps_to_cut = 200"
   ]
  },
  {
   "cell_type": "code",
   "execution_count": 156,
   "id": "423d4e5e-9cc2-46c3-bfb1-f7b3839ee7d5",
   "metadata": {
    "execution": {
     "iopub.execute_input": "2022-02-19T14:42:52.471631Z",
     "iopub.status.busy": "2022-02-19T14:42:52.470984Z",
     "iopub.status.idle": "2022-02-19T14:42:52.522120Z",
     "shell.execute_reply": "2022-02-19T14:42:52.520547Z",
     "shell.execute_reply.started": "2022-02-19T14:42:52.471565Z"
    },
    "tags": []
   },
   "outputs": [],
   "source": [
    "for day in features_per_day:\n",
    "    features_per_day[day] = features_per_day[day][timestamps_to_cut:-timestamps_to_cut]\n",
    "    targets_per_day[day] = targets_per_day[day][timestamps_to_cut:-timestamps_to_cut].reshape(-1, 1)"
   ]
  },
  {
   "cell_type": "code",
   "execution_count": 157,
   "id": "5cc290bc-3286-4ec8-b988-4e46a3cd0e4c",
   "metadata": {
    "execution": {
     "iopub.execute_input": "2022-02-19T14:42:52.625505Z",
     "iopub.status.busy": "2022-02-19T14:42:52.625016Z",
     "iopub.status.idle": "2022-02-19T14:42:52.735719Z",
     "shell.execute_reply": "2022-02-19T14:42:52.734463Z",
     "shell.execute_reply.started": "2022-02-19T14:42:52.625443Z"
    },
    "tags": []
   },
   "outputs": [
    {
     "data": {
      "text/plain": [
       "((926340, 27), (926340, 1))"
      ]
     },
     "execution_count": 157,
     "metadata": {},
     "output_type": "execute_result"
    }
   ],
   "source": [
    "full_features = np.concatenate(list(features_per_day.values()))\n",
    "full_targets = np.concatenate(list(targets_per_day.values()))\n",
    "full_features.shape, full_targets.shape"
   ]
  },
  {
   "cell_type": "markdown",
   "id": "ae2d0043-6c29-41e0-9c35-d180880ec750",
   "metadata": {},
   "source": [
    "# Scaling"
   ]
  },
  {
   "cell_type": "code",
   "execution_count": 158,
   "id": "3d3ab0c9-e140-498e-b037-e3dc3beaf8d9",
   "metadata": {
    "execution": {
     "iopub.execute_input": "2022-02-19T14:42:53.826419Z",
     "iopub.status.busy": "2022-02-19T14:42:53.825785Z",
     "iopub.status.idle": "2022-02-19T14:42:53.882046Z",
     "shell.execute_reply": "2022-02-19T14:42:53.880419Z",
     "shell.execute_reply.started": "2022-02-19T14:42:53.826346Z"
    },
    "tags": []
   },
   "outputs": [],
   "source": [
    "from sklearn.preprocessing import StandardScaler"
   ]
  },
  {
   "cell_type": "code",
   "execution_count": 159,
   "id": "c6e7ea1c-6d37-4dce-bbca-84a4e9c5fd85",
   "metadata": {
    "execution": {
     "iopub.execute_input": "2022-02-19T14:42:55.017144Z",
     "iopub.status.busy": "2022-02-19T14:42:55.016585Z",
     "iopub.status.idle": "2022-02-19T14:42:55.065856Z",
     "shell.execute_reply": "2022-02-19T14:42:55.064987Z",
     "shell.execute_reply.started": "2022-02-19T14:42:55.017075Z"
    },
    "tags": []
   },
   "outputs": [],
   "source": [
    "target_scaler = StandardScaler()\n",
    "feature_scaler = StandardScaler()"
   ]
  },
  {
   "cell_type": "code",
   "execution_count": 160,
   "id": "f986ae36-4695-4dd9-a3d1-5285c6310361",
   "metadata": {
    "execution": {
     "iopub.execute_input": "2022-02-19T14:42:55.543072Z",
     "iopub.status.busy": "2022-02-19T14:42:55.542253Z",
     "iopub.status.idle": "2022-02-19T14:42:56.043760Z",
     "shell.execute_reply": "2022-02-19T14:42:56.042190Z",
     "shell.execute_reply.started": "2022-02-19T14:42:55.542984Z"
    },
    "tags": []
   },
   "outputs": [
    {
     "data": {
      "text/plain": [
       "StandardScaler()"
      ]
     },
     "execution_count": 160,
     "metadata": {},
     "output_type": "execute_result"
    }
   ],
   "source": [
    "feature_scaler.fit(full_features)\n",
    "target_scaler.fit(full_targets)"
   ]
  },
  {
   "cell_type": "code",
   "execution_count": 161,
   "id": "0e6a7ebb-7c53-4c56-83cb-b1552c5e8552",
   "metadata": {
    "execution": {
     "iopub.execute_input": "2022-02-19T14:43:02.111350Z",
     "iopub.status.busy": "2022-02-19T14:43:02.110685Z",
     "iopub.status.idle": "2022-02-19T14:43:02.278077Z",
     "shell.execute_reply": "2022-02-19T14:43:02.276964Z",
     "shell.execute_reply.started": "2022-02-19T14:43:02.111279Z"
    },
    "tags": []
   },
   "outputs": [],
   "source": [
    "for day in features_per_day:\n",
    "    features_per_day[day] = feature_scaler.transform(features_per_day[day])\n",
    "    targets_per_day[day] = target_scaler.transform(targets_per_day[day]).reshape(-1)"
   ]
  },
  {
   "cell_type": "markdown",
   "id": "4653de3c-1ff4-4832-b92f-23e2ee3912fa",
   "metadata": {},
   "source": [
    "# Defining dataset"
   ]
  },
  {
   "cell_type": "code",
   "execution_count": 162,
   "id": "75f35c5a-3179-4703-b928-c5a6d73fe54d",
   "metadata": {
    "execution": {
     "iopub.execute_input": "2022-02-19T14:43:03.081379Z",
     "iopub.status.busy": "2022-02-19T14:43:03.080828Z",
     "iopub.status.idle": "2022-02-19T14:43:03.755209Z",
     "shell.execute_reply": "2022-02-19T14:43:03.754354Z",
     "shell.execute_reply.started": "2022-02-19T14:43:03.081314Z"
    },
    "tags": []
   },
   "outputs": [
    {
     "data": {
      "image/png": "[encoded data removed]",
      "text/plain": [
       "<Figure size 432x288 with 1 Axes>"
      ]
     },
     "metadata": {
      "needs_background": "light"
     },
     "output_type": "display_data"
    },
    {
     "data": {
      "image/png": "[encoded data removed]",
      "text/plain": [
       "<Figure size 432x288 with 1 Axes>"
      ]
     },
     "metadata": {
      "needs_background": "light"
     },
     "output_type": "display_data"
    }
   ],
   "source": [
    "plt.hist(targets_per_day[days[-1]], bins=100);\n",
    "plt.show()\n",
    "plt.hist(targets_per_day[days[0]], bins=100);\n",
    "plt.show()"
   ]
  },
  {
   "cell_type": "code",
   "execution_count": 163,
   "id": "d59e84d6-94ea-453d-b161-1bdcf2267ead",
   "metadata": {
    "execution": {
     "iopub.execute_input": "2022-02-19T14:43:04.399315Z",
     "iopub.status.busy": "2022-02-19T14:43:04.398688Z",
     "iopub.status.idle": "2022-02-19T14:43:04.449033Z",
     "shell.execute_reply": "2022-02-19T14:43:04.447870Z",
     "shell.execute_reply.started": "2022-02-19T14:43:04.399247Z"
    },
    "tags": []
   },
   "outputs": [],
   "source": [
    "from gluonts.dataset.common import ListDataset\n",
    "from gluonts.dataset.field_names import FieldName"
   ]
  },
  {
   "cell_type": "code",
   "execution_count": 164,
   "id": "fef2d6df-5916-4ad7-8875-9c74dd8cd548",
   "metadata": {
    "execution": {
     "iopub.execute_input": "2022-02-19T14:43:04.632931Z",
     "iopub.status.busy": "2022-02-19T14:43:04.632432Z",
     "iopub.status.idle": "2022-02-19T14:43:04.683853Z",
     "shell.execute_reply": "2022-02-19T14:43:04.682881Z",
     "shell.execute_reply.started": "2022-02-19T14:43:04.632867Z"
    },
    "tags": []
   },
   "outputs": [],
   "source": [
    "train_ds = ListDataset(\n",
    "    [\n",
    "        {\n",
    "            FieldName.TARGET: targets_per_day[day],\n",
    "            FieldName.START: dataset_metadata['start'],\n",
    "            FieldName.FEAT_DYNAMIC_REAL: features_per_day[day]\n",
    "        }\n",
    "        for day in train_days\n",
    "    ],\n",
    "    freq=dataset_metadata['freq']\n",
    ")\n",
    "\n",
    "# for test_ds we had to create a list of dicts \n",
    "# with all suffixes from test_days"
   ]
  },
  {
   "cell_type": "code",
   "execution_count": null,
   "id": "0244b6af-8678-4213-99ea-ea0d2d1c9f67",
   "metadata": {},
   "outputs": [],
   "source": []
  },
  {
   "cell_type": "code",
   "execution_count": null,
   "id": "0cece14a-35a0-4607-8a44-c44452c9811d",
   "metadata": {},
   "outputs": [],
   "source": []
  },
  {
   "cell_type": "code",
   "execution_count": null,
   "id": "9b1a121f-2c83-48d8-bfdd-27fe20bb0b0c",
   "metadata": {},
   "outputs": [],
   "source": []
  },
  {
   "cell_type": "markdown",
   "id": "43e9097a-377f-46f2-b74f-c596ac3b9963",
   "metadata": {},
   "source": [
    "# MLP Regression"
   ]
  },
  {
   "cell_type": "code",
   "execution_count": 166,
   "id": "3c782b11-5303-4abf-9911-b720e83218c9",
   "metadata": {
    "execution": {
     "iopub.execute_input": "2022-02-19T14:43:07.822072Z",
     "iopub.status.busy": "2022-02-19T14:43:07.820725Z",
     "iopub.status.idle": "2022-02-19T14:43:07.875687Z",
     "shell.execute_reply": "2022-02-19T14:43:07.874314Z",
     "shell.execute_reply.started": "2022-02-19T14:43:07.821996Z"
    },
    "tags": []
   },
   "outputs": [],
   "source": [
    "from gluonts.model.simple_feedforward import SimpleFeedForwardEstimator\n",
    "from gluonts.mx import Trainer\n",
    "from gluonts.evaluation import Evaluator"
   ]
  },
  {
   "cell_type": "code",
   "execution_count": 167,
   "id": "d4d28104-9409-425c-aa9b-b25cf3ef9e19",
   "metadata": {
    "execution": {
     "iopub.execute_input": "2022-02-19T14:43:08.330925Z",
     "iopub.status.busy": "2022-02-19T14:43:08.330258Z",
     "iopub.status.idle": "2022-02-19T14:43:08.387948Z",
     "shell.execute_reply": "2022-02-19T14:43:08.386571Z",
     "shell.execute_reply.started": "2022-02-19T14:43:08.330848Z"
    },
    "tags": []
   },
   "outputs": [],
   "source": [
    "estimator = SimpleFeedForwardEstimator(\n",
    "    num_hidden_dimensions=[10],\n",
    "    prediction_length=1,\n",
    "    context_length=10,\n",
    "    freq=dataset_metadata['freq'],\n",
    "    trainer=Trainer(\n",
    "        ctx=\"cpu\",\n",
    "        epochs=5,\n",
    "        learning_rate=1e-3,\n",
    "        hybridize=False,\n",
    "        num_batches_per_epoch=100\n",
    "    )\n",
    ")"
   ]
  },
  {
   "cell_type": "code",
   "execution_count": 168,
   "id": "b1a83669-1b9a-4221-91e8-b0ad3f9903d9",
   "metadata": {
    "execution": {
     "iopub.execute_input": "2022-02-19T14:43:11.871430Z",
     "iopub.status.busy": "2022-02-19T14:43:11.870763Z",
     "iopub.status.idle": "2022-02-19T14:43:40.811515Z",
     "shell.execute_reply": "2022-02-19T14:43:40.810814Z",
     "shell.execute_reply.started": "2022-02-19T14:43:11.871356Z"
    },
    "tags": []
   },
   "outputs": [
    {
     "name": "stderr",
     "output_type": "stream",
     "text": [
      "100%|█████████████████████████████████████████████| 100/100 [00:05<00:00, 16.91it/s, epoch=1/5, avg_epoch_loss=-.0625]\n",
      "100%|██████████████████████████████████████████████| 100/100 [00:05<00:00, 17.90it/s, epoch=2/5, avg_epoch_loss=-.454]\n",
      "100%|██████████████████████████████████████████████| 100/100 [00:05<00:00, 17.59it/s, epoch=3/5, avg_epoch_loss=-.846]\n",
      "100%|██████████████████████████████████████████████| 100/100 [00:05<00:00, 17.12it/s, epoch=4/5, avg_epoch_loss=-1.22]\n",
      "100%|██████████████████████████████████████████████| 100/100 [00:05<00:00, 17.37it/s, epoch=5/5, avg_epoch_loss=-1.52]\n"
     ]
    }
   ],
   "source": [
    "predictor = estimator.train(train_ds)"
   ]
  },
  {
   "cell_type": "code",
   "execution_count": null,
   "id": "f49d1a7b-98f2-49e9-8613-3e907af998c6",
   "metadata": {},
   "outputs": [],
   "source": [
    "# evaluator = Evaluator(quantiles=[0.1, 0.5, 0.9])\n",
    "# agg_metrics, item_metrics = evaluator(iter(tss), iter(forecasts), num_series=len(test_ds))"
   ]
  },
  {
   "cell_type": "code",
   "execution_count": null,
   "id": "f357aa1a-4149-418f-a4f3-e8ec85fd1099",
   "metadata": {},
   "outputs": [],
   "source": []
  },
  {
   "cell_type": "code",
   "execution_count": null,
   "id": "4d23dd72-616a-48fe-bd45-5ebc603f7803",
   "metadata": {},
   "outputs": [],
   "source": []
  },
  {
   "cell_type": "markdown",
   "id": "34ccd5ff-e538-4333-820e-ed40ace6f104",
   "metadata": {},
   "source": [
    "# MLP Uncertainty estimation"
   ]
  },
  {
   "cell_type": "code",
   "execution_count": null,
   "id": "03458e61-ae50-4a45-a24e-d056af24eb0c",
   "metadata": {},
   "outputs": [],
   "source": [
    "from models.simple_feedforward_network import SimpleFeedForwardNetworkBase"
   ]
  }
 ],
 "metadata": {
  "kernelspec": {
   "display_name": "Python 3 (ipykernel)",
   "language": "python",
   "name": "python3"
  },
  "language_info": {
   "codemirror_mode": {
    "name": "ipython",
    "version": 3
   },
   "file_extension": ".py",
   "mimetype": "text/x-python",
   "name": "python",
   "nbconvert_exporter": "python",
   "pygments_lexer": "ipython3",
   "version": "3.8.10"
  }
 },
 "nbformat": 4,
 "nbformat_minor": 5
}
