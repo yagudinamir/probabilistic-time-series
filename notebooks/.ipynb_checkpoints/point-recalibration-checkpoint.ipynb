{
 "cells": [
  {
   "cell_type": "code",
   "execution_count": 1,
   "id": "cc463bfb-f200-497d-9a5b-22e10d1236b5",
   "metadata": {
    "execution": {
     "iopub.execute_input": "2022-05-23T11:19:05.049876Z",
     "iopub.status.busy": "2022-05-23T11:19:05.048901Z",
     "iopub.status.idle": "2022-05-23T11:19:05.543475Z",
     "shell.execute_reply": "2022-05-23T11:19:05.542824Z",
     "shell.execute_reply.started": "2022-05-23T11:19:05.049721Z"
    },
    "tags": []
   },
   "outputs": [],
   "source": [
    "import numpy as np\n",
    "import matplotlib.pyplot as plt\n",
    "import pandas as pd\n",
    "from tqdm.notebook import tqdm\n",
    "from pathlib import Path\n",
    "\n",
    "import os"
   ]
  },
  {
   "cell_type": "code",
   "execution_count": 2,
   "id": "d679db48-9b04-4543-8216-756a76331d7e",
   "metadata": {
    "execution": {
     "iopub.execute_input": "2022-05-23T11:19:06.216157Z",
     "iopub.status.busy": "2022-05-23T11:19:06.215208Z",
     "iopub.status.idle": "2022-05-23T11:19:06.236418Z",
     "shell.execute_reply": "2022-05-23T11:19:06.235914Z",
     "shell.execute_reply.started": "2022-05-23T11:19:06.216102Z"
    },
    "tags": []
   },
   "outputs": [],
   "source": [
    "%load_ext autoreload\n",
    "%autoreload 2"
   ]
  },
  {
   "cell_type": "code",
   "execution_count": 3,
   "id": "21855abc-58fa-4730-a0d7-800105ef0403",
   "metadata": {
    "execution": {
     "iopub.execute_input": "2022-05-23T11:19:07.546037Z",
     "iopub.status.busy": "2022-05-23T11:19:07.545201Z",
     "iopub.status.idle": "2022-05-23T11:19:07.562318Z",
     "shell.execute_reply": "2022-05-23T11:19:07.561790Z",
     "shell.execute_reply.started": "2022-05-23T11:19:07.545985Z"
    },
    "tags": []
   },
   "outputs": [],
   "source": [
    "# !twix-pip install gluonts==0.8.1\n",
    "# !twix-pip install pytorchts==0.5.10"
   ]
  },
  {
   "cell_type": "code",
   "execution_count": 5,
   "id": "324cbcd6-2ea8-43d6-9429-e1b215c794ed",
   "metadata": {
    "execution": {
     "iopub.execute_input": "2022-05-23T11:19:11.615456Z",
     "iopub.status.busy": "2022-05-23T11:19:11.615147Z",
     "iopub.status.idle": "2022-05-23T11:19:11.634257Z",
     "shell.execute_reply": "2022-05-23T11:19:11.633442Z",
     "shell.execute_reply.started": "2022-05-23T11:19:11.615415Z"
    },
    "tags": []
   },
   "outputs": [],
   "source": [
    "from data_utils import load_features_and_targets\n",
    "from training_utils import dataset_metadata"
   ]
  },
  {
   "cell_type": "code",
   "execution_count": 6,
   "id": "b199df99-939f-49c2-96dd-1f1acfe39969",
   "metadata": {
    "execution": {
     "iopub.execute_input": "2022-05-23T11:19:12.223241Z",
     "iopub.status.busy": "2022-05-23T11:19:12.222976Z",
     "iopub.status.idle": "2022-05-23T11:19:12.323442Z",
     "shell.execute_reply": "2022-05-23T11:19:12.322484Z",
     "shell.execute_reply.started": "2022-05-23T11:19:12.223208Z"
    },
    "tags": []
   },
   "outputs": [],
   "source": [
    "features_per_day, targets_per_day = load_features_and_targets('/home/ayagudin/dl/probabilistic-time-series/lobster-preprocessed-dataset/')"
   ]
  },
  {
   "cell_type": "markdown",
   "id": "8063a29e-f8b7-45c0-8f9d-4cfb6b0d8006",
   "metadata": {},
   "source": [
    "# Cut session begin & end\n",
    "> TODO reconstruct dataset so that it will have only moments with huge traded_amount"
   ]
  },
  {
   "cell_type": "code",
   "execution_count": 7,
   "id": "95b11233-ad59-4c21-94f8-5581a79fbe77",
   "metadata": {
    "execution": {
     "iopub.execute_input": "2022-05-23T11:19:13.301683Z",
     "iopub.status.busy": "2022-05-23T11:19:13.301165Z",
     "iopub.status.idle": "2022-05-23T11:19:13.320928Z",
     "shell.execute_reply": "2022-05-23T11:19:13.320294Z",
     "shell.execute_reply.started": "2022-05-23T11:19:13.301658Z"
    },
    "tags": []
   },
   "outputs": [],
   "source": [
    "timestamps_to_cut = 200"
   ]
  },
  {
   "cell_type": "code",
   "execution_count": 8,
   "id": "423d4e5e-9cc2-46c3-bfb1-f7b3839ee7d5",
   "metadata": {
    "execution": {
     "iopub.execute_input": "2022-05-23T11:19:13.941911Z",
     "iopub.status.busy": "2022-05-23T11:19:13.941580Z",
     "iopub.status.idle": "2022-05-23T11:19:13.959469Z",
     "shell.execute_reply": "2022-05-23T11:19:13.958735Z",
     "shell.execute_reply.started": "2022-05-23T11:19:13.941891Z"
    },
    "tags": []
   },
   "outputs": [],
   "source": [
    "for day in features_per_day:\n",
    "    features_per_day[day] = features_per_day[day][timestamps_to_cut:-timestamps_to_cut]\n",
    "    targets_per_day[day] = targets_per_day[day][timestamps_to_cut:-timestamps_to_cut].reshape(-1, 1)"
   ]
  },
  {
   "cell_type": "code",
   "execution_count": 9,
   "id": "5cc290bc-3286-4ec8-b988-4e46a3cd0e4c",
   "metadata": {
    "execution": {
     "iopub.execute_input": "2022-05-23T11:19:14.433751Z",
     "iopub.status.busy": "2022-05-23T11:19:14.432946Z",
     "iopub.status.idle": "2022-05-23T11:19:14.484213Z",
     "shell.execute_reply": "2022-05-23T11:19:14.483314Z",
     "shell.execute_reply.started": "2022-05-23T11:19:14.433700Z"
    },
    "tags": []
   },
   "outputs": [
    {
     "data": {
      "text/plain": [
       "((926340, 27), (926340, 1))"
      ]
     },
     "execution_count": 9,
     "metadata": {},
     "output_type": "execute_result"
    }
   ],
   "source": [
    "full_features = np.concatenate(list(features_per_day.values()))\n",
    "full_targets = np.concatenate(list(targets_per_day.values()))\n",
    "full_features.shape, full_targets.shape"
   ]
  },
  {
   "cell_type": "markdown",
   "id": "ae2d0043-6c29-41e0-9c35-d180880ec750",
   "metadata": {},
   "source": [
    "# Scaling"
   ]
  },
  {
   "cell_type": "code",
   "execution_count": 10,
   "id": "3d3ab0c9-e140-498e-b037-e3dc3beaf8d9",
   "metadata": {
    "execution": {
     "iopub.execute_input": "2022-05-23T11:19:15.343357Z",
     "iopub.status.busy": "2022-05-23T11:19:15.343083Z",
     "iopub.status.idle": "2022-05-23T11:19:15.363063Z",
     "shell.execute_reply": "2022-05-23T11:19:15.362153Z",
     "shell.execute_reply.started": "2022-05-23T11:19:15.343319Z"
    },
    "tags": []
   },
   "outputs": [],
   "source": [
    "from sklearn.preprocessing import StandardScaler"
   ]
  },
  {
   "cell_type": "code",
   "execution_count": 11,
   "id": "c6e7ea1c-6d37-4dce-bbca-84a4e9c5fd85",
   "metadata": {
    "execution": {
     "iopub.execute_input": "2022-05-23T11:19:15.881365Z",
     "iopub.status.busy": "2022-05-23T11:19:15.880984Z",
     "iopub.status.idle": "2022-05-23T11:19:15.898008Z",
     "shell.execute_reply": "2022-05-23T11:19:15.897039Z",
     "shell.execute_reply.started": "2022-05-23T11:19:15.881332Z"
    },
    "tags": []
   },
   "outputs": [],
   "source": [
    "target_scaler = StandardScaler()\n",
    "feature_scaler = StandardScaler()"
   ]
  },
  {
   "cell_type": "code",
   "execution_count": 12,
   "id": "f986ae36-4695-4dd9-a3d1-5285c6310361",
   "metadata": {
    "execution": {
     "iopub.execute_input": "2022-05-23T11:19:16.386077Z",
     "iopub.status.busy": "2022-05-23T11:19:16.385439Z",
     "iopub.status.idle": "2022-05-23T11:19:16.701908Z",
     "shell.execute_reply": "2022-05-23T11:19:16.701109Z",
     "shell.execute_reply.started": "2022-05-23T11:19:16.386058Z"
    },
    "tags": []
   },
   "outputs": [
    {
     "data": {
      "text/plain": [
       "StandardScaler()"
      ]
     },
     "execution_count": 12,
     "metadata": {},
     "output_type": "execute_result"
    }
   ],
   "source": [
    "feature_scaler.fit(full_features)\n",
    "target_scaler.fit(full_targets)"
   ]
  },
  {
   "cell_type": "code",
   "execution_count": 13,
   "id": "0e6a7ebb-7c53-4c56-83cb-b1552c5e8552",
   "metadata": {
    "execution": {
     "iopub.execute_input": "2022-05-23T11:19:16.858993Z",
     "iopub.status.busy": "2022-05-23T11:19:16.858751Z",
     "iopub.status.idle": "2022-05-23T11:19:16.980788Z",
     "shell.execute_reply": "2022-05-23T11:19:16.979893Z",
     "shell.execute_reply.started": "2022-05-23T11:19:16.858974Z"
    },
    "tags": []
   },
   "outputs": [],
   "source": [
    "for day in features_per_day:\n",
    "    features_per_day[day] = feature_scaler.transform(features_per_day[day])\n",
    "    targets_per_day[day] = target_scaler.transform(targets_per_day[day]).reshape(-1)"
   ]
  },
  {
   "cell_type": "markdown",
   "id": "4653de3c-1ff4-4832-b92f-23e2ee3912fa",
   "metadata": {},
   "source": [
    "# Defining dataset"
   ]
  },
  {
   "cell_type": "code",
   "execution_count": 16,
   "id": "c16e2452-f509-490f-9068-4f2521de4508",
   "metadata": {
    "execution": {
     "iopub.execute_input": "2022-05-23T11:23:51.324032Z",
     "iopub.status.busy": "2022-05-23T11:23:51.323714Z",
     "iopub.status.idle": "2022-05-23T11:23:51.346457Z",
     "shell.execute_reply": "2022-05-23T11:23:51.345530Z",
     "shell.execute_reply.started": "2022-05-23T11:23:51.323993Z"
    },
    "tags": []
   },
   "outputs": [
    {
     "name": "stdout",
     "output_type": "stream",
     "text": [
      "10 5 5\n"
     ]
    }
   ],
   "source": [
    "days = sorted(list(features_per_day.keys()))\n",
    "train_days = days[:10]\n",
    "val_days = days[10:15]\n",
    "test_days = days[15:20]\n",
    "print(len(train_days), len(val_days), len(test_days))"
   ]
  },
  {
   "cell_type": "code",
   "execution_count": 17,
   "id": "75f35c5a-3179-4703-b928-c5a6d73fe54d",
   "metadata": {
    "execution": {
     "iopub.execute_input": "2022-05-23T11:23:52.305861Z",
     "iopub.status.busy": "2022-05-23T11:23:52.305481Z",
     "iopub.status.idle": "2022-05-23T11:23:52.838318Z",
     "shell.execute_reply": "2022-05-23T11:23:52.837539Z",
     "shell.execute_reply.started": "2022-05-23T11:23:52.305822Z"
    },
    "tags": []
   },
   "outputs": [
    {
     "data": {
      "image/png": "[encoded data removed]",
      "text/plain": [
       "<Figure size 432x288 with 1 Axes>"
      ]
     },
     "metadata": {
      "needs_background": "light"
     },
     "output_type": "display_data"
    },
    {
     "data": {
      "image/png": "[encoded data removed]",
      "text/plain": [
       "<Figure size 432x288 with 1 Axes>"
      ]
     },
     "metadata": {
      "needs_background": "light"
     },
     "output_type": "display_data"
    }
   ],
   "source": [
    "plt.hist(targets_per_day[days[-1]], bins=100);\n",
    "plt.show()\n",
    "plt.hist(targets_per_day[days[0]], bins=100);\n",
    "plt.show()"
   ]
  },
  {
   "cell_type": "code",
   "execution_count": 18,
   "id": "d59e84d6-94ea-453d-b161-1bdcf2267ead",
   "metadata": {
    "execution": {
     "iopub.execute_input": "2022-05-23T11:23:57.552688Z",
     "iopub.status.busy": "2022-05-23T11:23:57.552248Z",
     "iopub.status.idle": "2022-05-23T11:23:57.575545Z",
     "shell.execute_reply": "2022-05-23T11:23:57.574753Z",
     "shell.execute_reply.started": "2022-05-23T11:23:57.552646Z"
    },
    "tags": []
   },
   "outputs": [],
   "source": [
    "from gluonts.dataset.common import ListDataset\n",
    "from gluonts.dataset.field_names import FieldName"
   ]
  },
  {
   "cell_type": "code",
   "execution_count": 20,
   "id": "fef2d6df-5916-4ad7-8875-9c74dd8cd548",
   "metadata": {
    "execution": {
     "iopub.execute_input": "2022-05-23T11:29:09.010521Z",
     "iopub.status.busy": "2022-05-23T11:29:09.010137Z",
     "iopub.status.idle": "2022-05-23T11:29:09.037549Z",
     "shell.execute_reply": "2022-05-23T11:29:09.037057Z",
     "shell.execute_reply.started": "2022-05-23T11:29:09.010474Z"
    },
    "tags": []
   },
   "outputs": [],
   "source": [
    "train_ds = ListDataset(\n",
    "    [\n",
    "        {\n",
    "            FieldName.TARGET: targets_per_day[day][None],\n",
    "            FieldName.START: dataset_metadata['start'],\n",
    "            FieldName.FEAT_DYNAMIC_REAL: features_per_day[day].T\n",
    "        }\n",
    "        for day in train_days\n",
    "    ],\n",
    "    freq=dataset_metadata['freq'],\n",
    "    one_dim_target=False\n",
    ")\n",
    "\n",
    "val_ds = ListDataset(\n",
    "    [\n",
    "        {\n",
    "            FieldName.TARGET: targets_per_day[day][None],\n",
    "            FieldName.START: dataset_metadata['start'],\n",
    "            FieldName.FEAT_DYNAMIC_REAL: features_per_day[day].T\n",
    "        }\n",
    "        for day in val_days\n",
    "    ],\n",
    "    freq=dataset_metadata['freq'],\n",
    "    one_dim_target=False\n",
    ")\n",
    "\n",
    "test_ds = ListDataset(\n",
    "    [\n",
    "        {\n",
    "            FieldName.TARGET: targets_per_day[day][None],\n",
    "            FieldName.START: dataset_metadata['start'],\n",
    "            FieldName.FEAT_DYNAMIC_REAL: features_per_day[day].T\n",
    "        }\n",
    "        for day in test_days\n",
    "    ],\n",
    "    freq=dataset_metadata['freq'],\n",
    "    one_dim_target=False\n",
    ")\n",
    "\n",
    "# for validation we have to create a list of dicts \n",
    "# with all suffixes from test_days"
   ]
  },
  {
   "cell_type": "code",
   "execution_count": 21,
   "id": "fc95d5af-e65b-46ab-8e8b-e0cb2d1e5c99",
   "metadata": {
    "execution": {
     "iopub.execute_input": "2022-05-23T11:29:09.813061Z",
     "iopub.status.busy": "2022-05-23T11:29:09.812686Z",
     "iopub.status.idle": "2022-05-23T11:29:09.836072Z",
     "shell.execute_reply": "2022-05-23T11:29:09.835585Z",
     "shell.execute_reply.started": "2022-05-23T11:29:09.813022Z"
    },
    "tags": []
   },
   "outputs": [
    {
     "data": {
      "text/plain": [
       "((1, 46317), (27, 46317))"
      ]
     },
     "execution_count": 21,
     "metadata": {},
     "output_type": "execute_result"
    }
   ],
   "source": [
    "targets_per_day[train_days[0]][None].shape,  features_per_day[train_days[0]].T.shape"
   ]
  },
  {
   "cell_type": "markdown",
   "id": "e28c88bd-bbe6-40ee-b77c-1651cd87d15c",
   "metadata": {},
   "source": [
    "# Load some model"
   ]
  },
  {
   "cell_type": "code",
   "execution_count": 38,
   "id": "0930849e-b560-4b84-bbf1-96a41873ccd4",
   "metadata": {
    "execution": {
     "iopub.execute_input": "2022-05-23T14:29:47.658822Z",
     "iopub.status.busy": "2022-05-23T14:29:47.657665Z",
     "iopub.status.idle": "2022-05-23T14:29:47.685408Z",
     "shell.execute_reply": "2022-05-23T14:29:47.684761Z",
     "shell.execute_reply.started": "2022-05-23T14:29:47.658767Z"
    },
    "tags": []
   },
   "outputs": [],
   "source": [
    "from gluonts.model.predictor import Predictor\n",
    "from gluonts.torch.model.predictor import PyTorchPredictor\n",
    "from gluonts.evaluation import make_evaluation_predictions\n",
    "\n",
    "from training_utils import get_rolled_dataset"
   ]
  },
  {
   "cell_type": "code",
   "execution_count": 39,
   "id": "440615af-10ff-47b5-89aa-1d58178ba1f0",
   "metadata": {
    "execution": {
     "iopub.execute_input": "2022-05-23T14:29:49.355133Z",
     "iopub.status.busy": "2022-05-23T14:29:49.354803Z",
     "iopub.status.idle": "2022-05-23T14:29:49.382384Z",
     "shell.execute_reply": "2022-05-23T14:29:49.381717Z",
     "shell.execute_reply.started": "2022-05-23T14:29:49.355094Z"
    },
    "tags": []
   },
   "outputs": [],
   "source": [
    "predictor = PyTorchPredictor.deserialize(Path('./checkpoints/simple_feedforward'))"
   ]
  },
  {
   "cell_type": "code",
   "execution_count": 87,
   "id": "da1952d0-5d5c-437e-a0c4-67b7290a435d",
   "metadata": {
    "execution": {
     "iopub.execute_input": "2022-05-23T15:38:45.134503Z",
     "iopub.status.busy": "2022-05-23T15:38:45.134060Z",
     "iopub.status.idle": "2022-05-23T15:41:53.628906Z",
     "shell.execute_reply": "2022-05-23T15:41:53.627887Z",
     "shell.execute_reply.started": "2022-05-23T15:38:45.134461Z"
    },
    "tags": []
   },
   "outputs": [
    {
     "name": "stderr",
     "output_type": "stream",
     "text": [
      "5it [00:06,  1.25s/it]\n"
     ]
    },
    {
     "data": {
      "application/vnd.jupyter.widget-view+json": {
       "model_id": "c1e6f2230b4f4f7c85a82b1b71390c99",
       "version_major": 2,
       "version_minor": 0
      },
      "text/plain": [
       "0it [00:00, ?it/s]"
      ]
     },
     "metadata": {},
     "output_type": "display_data"
    },
    {
     "data": {
      "application/vnd.jupyter.widget-view+json": {
       "model_id": "894ad8854aea43af87d61765b20d9d7b",
       "version_major": 2,
       "version_minor": 0
      },
      "text/plain": [
       "0it [00:00, ?it/s]"
      ]
     },
     "metadata": {},
     "output_type": "display_data"
    },
    {
     "name": "stdout",
     "output_type": "stream",
     "text": [
      "forecasts shape: (231555, 10, 1)\n"
     ]
    }
   ],
   "source": [
    "def get_dataset_prediction_stats(predictor, dataset):\n",
    "    dataset_rolled = get_rolled_dataset(dataset, \n",
    "                                     context_length=5,\n",
    "                                     prediction_length=1, max_size=np.inf)\n",
    "    forecast_it, ts_it = make_evaluation_predictions(\n",
    "        dataset_rolled, predictor=predictor, num_samples=10\n",
    "    )\n",
    "    forecasts, tss = list(tqdm(forecast_it)), list(tqdm(ts_it))\n",
    "    targets = np.array([ts.iloc[0].values.item() for ts in tss])\n",
    "    \n",
    "    forecasts = np.array([forecast.samples for forecast in forecasts]).squeeze()\n",
    "    print('forecasts shape:', forecasts.shape)\n",
    "    mean = forecasts.mean(1)\n",
    "    var = forecasts.var(1)\n",
    "    return mean, var, targets\n",
    "\n",
    "mean, var, targets = get_dataset_prediction_stats(predictor, test_ds)"
   ]
  },
  {
   "cell_type": "code",
   "execution_count": 95,
   "id": "858a4e40-d726-44cb-8181-90cd4a51ba27",
   "metadata": {
    "execution": {
     "iopub.execute_input": "2022-05-23T15:43:02.605127Z",
     "iopub.status.busy": "2022-05-23T15:43:02.604816Z",
     "iopub.status.idle": "2022-05-23T15:43:02.633146Z",
     "shell.execute_reply": "2022-05-23T15:43:02.632357Z",
     "shell.execute_reply.started": "2022-05-23T15:43:02.605087Z"
    },
    "tags": []
   },
   "outputs": [
    {
     "data": {
      "text/plain": [
       "0.4549916684627533"
      ]
     },
     "execution_count": 95,
     "metadata": {},
     "output_type": "execute_result"
    }
   ],
   "source": [
    "targets[0]"
   ]
  },
  {
   "cell_type": "markdown",
   "id": "ab98b51d-5112-4e1a-90e4-8f03b7fdd46d",
   "metadata": {},
   "source": [
    "# Validation"
   ]
  },
  {
   "cell_type": "code",
   "execution_count": 44,
   "id": "455ed70d-f73d-40d0-b974-0f82dd5681e0",
   "metadata": {
    "execution": {
     "iopub.execute_input": "2022-05-02T21:15:22.645641Z",
     "iopub.status.busy": "2022-05-02T21:15:22.645234Z",
     "iopub.status.idle": "2022-05-02T21:15:22.677635Z",
     "shell.execute_reply": "2022-05-02T21:15:22.676831Z",
     "shell.execute_reply.started": "2022-05-02T21:15:22.645599Z"
    },
    "tags": []
   },
   "outputs": [
    {
     "data": {
      "text/plain": [
       "array([[5.488695 , 4.815944 , 5.2930727, 4.6155505, 4.324502 ]],\n",
       "      dtype=float32)"
      ]
     },
     "execution_count": 44,
     "metadata": {},
     "output_type": "execute_result"
    }
   ],
   "source": [
    "test_ds_entry['target'][..., :5]"
   ]
  },
  {
   "cell_type": "code",
   "execution_count": 45,
   "id": "de7832fd-3a6e-4c66-b649-d752c8d3c35d",
   "metadata": {
    "execution": {
     "iopub.execute_input": "2022-05-02T21:15:23.715399Z",
     "iopub.status.busy": "2022-05-02T21:15:23.715097Z",
     "iopub.status.idle": "2022-05-02T21:15:23.743367Z",
     "shell.execute_reply": "2022-05-02T21:15:23.742533Z",
     "shell.execute_reply.started": "2022-05-02T21:15:23.715362Z"
    },
    "tags": []
   },
   "outputs": [],
   "source": [
    "forecast_entry = forecasts_tmp[0]"
   ]
  },
  {
   "cell_type": "code",
   "execution_count": 46,
   "id": "a632d829-c266-4ed8-aca2-02a4ee59506d",
   "metadata": {
    "execution": {
     "iopub.execute_input": "2022-05-02T21:15:24.801246Z",
     "iopub.status.busy": "2022-05-02T21:15:24.800650Z",
     "iopub.status.idle": "2022-05-02T21:15:24.832869Z",
     "shell.execute_reply": "2022-05-02T21:15:24.832172Z",
     "shell.execute_reply.started": "2022-05-02T21:15:24.801202Z"
    },
    "tags": []
   },
   "outputs": [
    {
     "name": "stdout",
     "output_type": "stream",
     "text": [
      "Number of sample paths: 100\n",
      "Dimension of samples: (100, 1)\n",
      "Start date of the forecast window: 2024-04-13 20:00:00\n",
      "Frequency of the time series: 1H\n"
     ]
    }
   ],
   "source": [
    "print(f\"Number of sample paths: {forecast_entry.num_samples}\")\n",
    "print(f\"Dimension of samples: {forecast_entry.samples.shape}\")\n",
    "print(f\"Start date of the forecast window: {forecast_entry.start_date}\")\n",
    "print(f\"Frequency of the time series: {forecast_entry.freq}\")"
   ]
  },
  {
   "cell_type": "code",
   "execution_count": 47,
   "id": "462cfcd9-23ea-454f-ab13-73445e70d891",
   "metadata": {
    "execution": {
     "iopub.execute_input": "2022-05-02T21:15:25.874808Z",
     "iopub.status.busy": "2022-05-02T21:15:25.874466Z",
     "iopub.status.idle": "2022-05-02T21:15:25.901101Z",
     "shell.execute_reply": "2022-05-02T21:15:25.900483Z",
     "shell.execute_reply.started": "2022-05-02T21:15:25.874786Z"
    },
    "tags": []
   },
   "outputs": [],
   "source": [
    "# def plot_prob_forecasts(ts_entry, forecast_entry):\n",
    "#     plot_length = 10\n",
    "#     prediction_intervals = (50, 90)\n",
    "#     legend = [\"observations\", \"median prediction\"] + [f\"{k}% prediction interval\" for k in prediction_intervals][::-1]\n",
    "\n",
    "#     fig, ax = plt.subplots(1, 1, figsize=(10, 7))\n",
    "#     ts_entry[-plot_length:].plot(ax=ax)  # plot the time series\n",
    "#     forecast_entry.plot(prediction_intervals=prediction_intervals, color='g')\n",
    "#     plt.grid(which=\"both\")\n",
    "#     plt.legend(legend, loc=\"upper left\")\n",
    "#     plt.show()"
   ]
  },
  {
   "cell_type": "code",
   "execution_count": 48,
   "id": "e0c5a175-fa1e-4149-a954-82e5841544f1",
   "metadata": {
    "execution": {
     "iopub.execute_input": "2022-05-02T21:15:26.114728Z",
     "iopub.status.busy": "2022-05-02T21:15:26.114354Z",
     "iopub.status.idle": "2022-05-02T21:15:26.136490Z",
     "shell.execute_reply": "2022-05-02T21:15:26.135625Z",
     "shell.execute_reply.started": "2022-05-02T21:15:26.114704Z"
    },
    "tags": []
   },
   "outputs": [],
   "source": [
    "# plot_prob_forecasts(ts_entry, forecast_entry)"
   ]
  },
  {
   "cell_type": "code",
   "execution_count": 49,
   "id": "e4f7c289-aff0-4199-a619-322ecc74fae2",
   "metadata": {
    "execution": {
     "iopub.execute_input": "2022-05-02T21:15:26.643926Z",
     "iopub.status.busy": "2022-05-02T21:15:26.643669Z",
     "iopub.status.idle": "2022-05-02T21:15:26.665575Z",
     "shell.execute_reply": "2022-05-02T21:15:26.664960Z",
     "shell.execute_reply.started": "2022-05-02T21:15:26.643906Z"
    },
    "tags": []
   },
   "outputs": [],
   "source": [
    "# https://github.com/zalandoresearch/pytorch-ts/issues/24"
   ]
  },
  {
   "cell_type": "code",
   "execution_count": null,
   "id": "cfc92f48-25af-4d9b-87cc-b86e2bfc3525",
   "metadata": {
    "tags": []
   },
   "outputs": [],
   "source": [
    "from gluonts.dataset.rolling_dataset import generate_rolling_dataset, StepStrategy\n",
    "from pandas import Timedelta\n",
    "\n",
    "from training_utils import get_rolled_dataset"
   ]
  },
  {
   "cell_type": "code",
   "execution_count": 52,
   "id": "b473887a-c62b-4c44-851c-d4f43b3b7ed8",
   "metadata": {
    "execution": {
     "iopub.execute_input": "2022-05-02T21:15:37.094096Z",
     "iopub.status.busy": "2022-05-02T21:15:37.093765Z",
     "iopub.status.idle": "2022-05-02T21:15:37.121778Z",
     "shell.execute_reply": "2022-05-02T21:15:37.121249Z",
     "shell.execute_reply.started": "2022-05-02T21:15:37.094064Z"
    },
    "tags": []
   },
   "outputs": [
    {
     "data": {
      "text/plain": [
       "{'freq': '1H',\n",
       " 'prediction_length': 1,\n",
       " 'features_history': 5,\n",
       " 'start': Timestamp('2019-01-01 00:00:00', freq='H'),\n",
       " 'num_train_days': 14,\n",
       " 'num_test_days': 3}"
      ]
     },
     "execution_count": 52,
     "metadata": {},
     "output_type": "execute_result"
    }
   ],
   "source": [
    "dataset_metadata"
   ]
  },
  {
   "cell_type": "code",
   "execution_count": 53,
   "id": "e5fefeef-bfe7-47b6-a78c-bf439ca5a3f8",
   "metadata": {
    "execution": {
     "iopub.execute_input": "2022-05-02T21:15:38.158806Z",
     "iopub.status.busy": "2022-05-02T21:15:38.158403Z",
     "iopub.status.idle": "2022-05-02T21:15:38.185752Z",
     "shell.execute_reply": "2022-05-02T21:15:38.185337Z",
     "shell.execute_reply.started": "2022-05-02T21:15:38.158764Z"
    },
    "tags": []
   },
   "outputs": [
    {
     "data": {
      "text/plain": [
       "6"
      ]
     },
     "execution_count": 53,
     "metadata": {},
     "output_type": "execute_result"
    }
   ],
   "source": [
    "len(test_ds)"
   ]
  },
  {
   "cell_type": "code",
   "execution_count": 95,
   "id": "7075a608-53de-4e51-9b6f-afb9a459c916",
   "metadata": {
    "execution": {
     "iopub.execute_input": "2022-05-03T15:37:16.289088Z",
     "iopub.status.busy": "2022-05-03T15:37:16.288214Z",
     "iopub.status.idle": "2022-05-03T15:37:16.772347Z",
     "shell.execute_reply": "2022-05-03T15:37:16.771461Z",
     "shell.execute_reply.started": "2022-05-03T15:37:16.289035Z"
    },
    "tags": []
   },
   "outputs": [
    {
     "name": "stderr",
     "output_type": "stream",
     "text": [
      "6it [00:00, 164.39it/s]\n"
     ]
    }
   ],
   "source": [
    "test_ds_rolled = get_rolled_dataset(test_ds, \n",
    "                                     context_length=5,#dataset_metadata['features_history'], \n",
    "                                     prediction_length=1, max_size=1000)#dataset_metadata['prediction_length'])"
   ]
  },
  {
   "cell_type": "code",
   "execution_count": 99,
   "id": "9c234547-6bd7-4df7-97f0-1102e44f1d90",
   "metadata": {
    "execution": {
     "iopub.execute_input": "2022-05-03T15:38:38.741437Z",
     "iopub.status.busy": "2022-05-03T15:38:38.740906Z",
     "iopub.status.idle": "2022-05-03T15:38:38.772470Z",
     "shell.execute_reply": "2022-05-03T15:38:38.771690Z",
     "shell.execute_reply.started": "2022-05-03T15:38:38.741395Z"
    },
    "tags": []
   },
   "outputs": [
    {
     "data": {
      "text/plain": [
       "1000"
      ]
     },
     "execution_count": 99,
     "metadata": {},
     "output_type": "execute_result"
    }
   ],
   "source": [
    "len(test_ds_rolled)"
   ]
  },
  {
   "cell_type": "code",
   "execution_count": 100,
   "id": "90561376-42a7-4ea5-ba45-327512a98f40",
   "metadata": {
    "execution": {
     "iopub.execute_input": "2022-05-03T15:38:39.141001Z",
     "iopub.status.busy": "2022-05-03T15:38:39.140598Z",
     "iopub.status.idle": "2022-05-03T15:38:39.169443Z",
     "shell.execute_reply": "2022-05-03T15:38:39.168687Z",
     "shell.execute_reply.started": "2022-05-03T15:38:39.140961Z"
    },
    "tags": []
   },
   "outputs": [],
   "source": [
    "rolled_test_entry = next(iter(test_ds_rolled))"
   ]
  },
  {
   "cell_type": "code",
   "execution_count": 101,
   "id": "1460fb93-0fb4-4d90-ad6f-9fb00588a7a8",
   "metadata": {
    "execution": {
     "iopub.execute_input": "2022-05-03T15:38:39.816852Z",
     "iopub.status.busy": "2022-05-03T15:38:39.816521Z",
     "iopub.status.idle": "2022-05-03T15:38:39.844856Z",
     "shell.execute_reply": "2022-05-03T15:38:39.844069Z",
     "shell.execute_reply.started": "2022-05-03T15:38:39.816821Z"
    },
    "tags": []
   },
   "outputs": [
    {
     "data": {
      "text/plain": [
       "((1, 6), (27, 6))"
      ]
     },
     "execution_count": 101,
     "metadata": {},
     "output_type": "execute_result"
    }
   ],
   "source": [
    "rolled_test_entry['target'].shape, rolled_test_entry['feat_dynamic_real'].shape"
   ]
  },
  {
   "cell_type": "code",
   "execution_count": 60,
   "id": "6afc114e-0d98-4a48-bee1-bbeb7dbc5276",
   "metadata": {
    "execution": {
     "iopub.execute_input": "2022-05-02T21:16:13.728991Z",
     "iopub.status.busy": "2022-05-02T21:16:13.728044Z",
     "iopub.status.idle": "2022-05-02T21:16:13.756470Z",
     "shell.execute_reply": "2022-05-02T21:16:13.755742Z",
     "shell.execute_reply.started": "2022-05-02T21:16:13.728938Z"
    },
    "tags": []
   },
   "outputs": [],
   "source": [
    "forecast_it, ts_it = make_evaluation_predictions(\n",
    "    dataset=test_ds_rolled,  # test dataset\n",
    "    predictor=predictor.predictor,  # predictor\n",
    "    num_samples=10,  # number of sample paths we want for evaluation\n",
    ")"
   ]
  },
  {
   "cell_type": "code",
   "execution_count": 61,
   "id": "346572ed-7549-43f7-af2e-54b2e40ca2a8",
   "metadata": {
    "execution": {
     "iopub.execute_input": "2022-05-02T21:16:16.157798Z",
     "iopub.status.busy": "2022-05-02T21:16:16.157466Z",
     "iopub.status.idle": "2022-05-02T21:16:16.811884Z",
     "shell.execute_reply": "2022-05-02T21:16:16.811457Z",
     "shell.execute_reply.started": "2022-05-02T21:16:16.157766Z"
    },
    "tags": []
   },
   "outputs": [
    {
     "data": {
      "application/vnd.jupyter.widget-view+json": {
       "model_id": "b972c60157494120818e8262f59763ac",
       "version_major": 2,
       "version_minor": 0
      },
      "text/plain": [
       "HBox(children=(IntProgress(value=1, bar_style='info', max=1), HTML(value='')))"
      ]
     },
     "metadata": {},
     "output_type": "display_data"
    },
    {
     "name": "stdout",
     "output_type": "stream",
     "text": [
      "\n"
     ]
    },
    {
     "data": {
      "application/vnd.jupyter.widget-view+json": {
       "model_id": "644162707dc8437dbe994c59d6ad5508",
       "version_major": 2,
       "version_minor": 0
      },
      "text/plain": [
       "HBox(children=(IntProgress(value=1, bar_style='info', max=1), HTML(value='')))"
      ]
     },
     "metadata": {},
     "output_type": "display_data"
    },
    {
     "name": "stdout",
     "output_type": "stream",
     "text": [
      "\n"
     ]
    }
   ],
   "source": [
    "forecasts = list(tqdm(forecast_it))\n",
    "tss = list(tqdm(ts_it))"
   ]
  },
  {
   "cell_type": "markdown",
   "id": "c17ae177-691d-47da-89e7-d4f43c3c9636",
   "metadata": {
    "execution": {
     "iopub.execute_input": "2022-02-23T11:22:26.555364Z",
     "iopub.status.busy": "2022-02-23T11:22:26.554685Z",
     "iopub.status.idle": "2022-02-23T11:22:26.609508Z",
     "shell.execute_reply": "2022-02-23T11:22:26.608246Z",
     "shell.execute_reply.started": "2022-02-23T11:22:26.555288Z"
    }
   },
   "source": [
    "# Train Metrics"
   ]
  },
  {
   "cell_type": "code",
   "execution_count": 62,
   "id": "73850eb7-ee2a-45fc-8921-5062dbc1e47a",
   "metadata": {
    "execution": {
     "iopub.execute_input": "2022-05-02T21:16:23.943563Z",
     "iopub.status.busy": "2022-05-02T21:16:23.943362Z",
     "iopub.status.idle": "2022-05-02T21:16:23.967902Z",
     "shell.execute_reply": "2022-05-02T21:16:23.967429Z",
     "shell.execute_reply.started": "2022-05-02T21:16:23.943544Z"
    },
    "tags": []
   },
   "outputs": [],
   "source": [
    "from gluonts.evaluation import Evaluator"
   ]
  },
  {
   "cell_type": "code",
   "execution_count": null,
   "id": "b2bd5592-6c59-4029-99a7-857815f97692",
   "metadata": {
    "execution": {
     "iopub.execute_input": "2022-05-02T22:07:25.607338Z",
     "iopub.status.busy": "2022-05-02T22:07:25.607175Z"
    },
    "tags": []
   },
   "outputs": [
    {
     "name": "stderr",
     "output_type": "stream",
     "text": [
      "Running evaluation:   0%|                                                     | 0/1206 [00:00<?, ?it/s]"
     ]
    }
   ],
   "source": [
    "# actually we can easily calculate it by hand\n",
    "evaluator = Evaluator(quantiles=[0.1, 0.5, 0.9])\n",
    "agg_metrics, item_metrics = evaluator(iter(tss), \n",
    "                                      iter(forecasts), \n",
    "                                      num_series=len(test_ds_rolled))"
   ]
  },
  {
   "cell_type": "code",
   "execution_count": 67,
   "id": "5c5089ce-e90c-4391-9430-9d80317b785c",
   "metadata": {
    "execution": {
     "iopub.execute_input": "2022-05-02T23:22:24.262281Z",
     "iopub.status.busy": "2022-05-02T23:22:24.261897Z",
     "iopub.status.idle": "2022-05-02T23:22:24.293718Z",
     "shell.execute_reply": "2022-05-02T23:22:24.292859Z",
     "shell.execute_reply.started": "2022-05-02T23:22:24.262239Z"
    },
    "tags": []
   },
   "outputs": [
    {
     "data": {
      "text/plain": [
       "{'MSE': 6.7899866179483634,\n",
       " 'abs_error': 2443.6014391388744,\n",
       " 'abs_target_sum': 2401.5612582004396,\n",
       " 'abs_target_mean': 1.9913443268660362,\n",
       " 'seasonal_error': 0.3556682882123128,\n",
       " 'MASE': inf,\n",
       " 'MAPE': 1.3371886375536262,\n",
       " 'sMAPE': 1.715921922018875,\n",
       " 'MSIS': inf,\n",
       " 'QuantileLoss[0.1]': 1640.415236374736,\n",
       " 'Coverage[0.1]': 0.29933665008291876,\n",
       " 'QuantileLoss[0.5]': 2443.6014391388744,\n",
       " 'Coverage[0.5]': 0.4187396351575456,\n",
       " 'QuantileLoss[0.9]': 1912.8786718323827,\n",
       " 'Coverage[0.9]': 0.5895522388059702,\n",
       " 'RMSE': 2.6057602763777723,\n",
       " 'NRMSE': 1.3085432997309407,\n",
       " 'ND': 1.0175053544001358,\n",
       " 'wQuantileLoss[0.1]': 0.6830620000940335,\n",
       " 'wQuantileLoss[0.5]': 1.0175053544001358,\n",
       " 'wQuantileLoss[0.9]': 0.796514627849118,\n",
       " 'mean_absolute_QuantileLoss': 1998.9651157819978,\n",
       " 'mean_wQuantileLoss': 0.8323606607810957,\n",
       " 'MAE_Coverage': 0.19701492537313434,\n",
       " 'OWA': nan}"
      ]
     },
     "execution_count": 67,
     "metadata": {},
     "output_type": "execute_result"
    }
   ],
   "source": [
    "# print(\"CRPS: {}\".format(agg_metric['mean_wQuantileLoss']))\n",
    "agg_metrics"
   ]
  },
  {
   "cell_type": "code",
   "execution_count": 68,
   "id": "d5515ec2-f317-4d20-b26e-c78733f947a1",
   "metadata": {
    "execution": {
     "iopub.execute_input": "2022-05-02T23:22:24.324339Z",
     "iopub.status.busy": "2022-05-02T23:22:24.323554Z",
     "iopub.status.idle": "2022-05-02T23:22:24.354291Z",
     "shell.execute_reply": "2022-05-02T23:22:24.353479Z",
     "shell.execute_reply.started": "2022-05-02T23:22:24.324291Z"
    },
    "tags": []
   },
   "outputs": [
    {
     "data": {
      "text/plain": [
       "{'MSE': 6.7899866179483634,\n",
       " 'abs_error': 2443.6014391388744,\n",
       " 'abs_target_sum': 2401.5612582004396,\n",
       " 'abs_target_mean': 1.9913443268660362,\n",
       " 'seasonal_error': 0.3556682882123128,\n",
       " 'MASE': inf,\n",
       " 'MAPE': 1.3371886375536262,\n",
       " 'sMAPE': 1.715921922018875,\n",
       " 'MSIS': inf,\n",
       " 'QuantileLoss[0.1]': 1640.415236374736,\n",
       " 'Coverage[0.1]': 0.29933665008291876,\n",
       " 'QuantileLoss[0.5]': 2443.6014391388744,\n",
       " 'Coverage[0.5]': 0.4187396351575456,\n",
       " 'QuantileLoss[0.9]': 1912.8786718323827,\n",
       " 'Coverage[0.9]': 0.5895522388059702,\n",
       " 'RMSE': 2.6057602763777723,\n",
       " 'NRMSE': 1.3085432997309407,\n",
       " 'ND': 1.0175053544001358,\n",
       " 'wQuantileLoss[0.1]': 0.6830620000940335,\n",
       " 'wQuantileLoss[0.5]': 1.0175053544001358,\n",
       " 'wQuantileLoss[0.9]': 0.796514627849118,\n",
       " 'mean_absolute_QuantileLoss': 1998.9651157819978,\n",
       " 'mean_wQuantileLoss': 0.8323606607810957,\n",
       " 'MAE_Coverage': 0.19701492537313434,\n",
       " 'OWA': nan}"
      ]
     },
     "execution_count": 68,
     "metadata": {},
     "output_type": "execute_result"
    }
   ],
   "source": [
    "# print(\"CRPS: {}\".format(agg_metric['mean_wQuantileLoss']))\n",
    "agg_metrics"
   ]
  },
  {
   "cell_type": "code",
   "execution_count": 82,
   "id": "f7ff4ee0-43db-415f-af36-fe60e22fa23d",
   "metadata": {
    "execution": {
     "iopub.execute_input": "2022-04-30T23:53:00.294614Z",
     "iopub.status.busy": "2022-04-30T23:53:00.294241Z",
     "iopub.status.idle": "2022-04-30T23:53:00.340391Z",
     "shell.execute_reply": "2022-04-30T23:53:00.339915Z",
     "shell.execute_reply.started": "2022-04-30T23:53:00.294571Z"
    },
    "tags": []
   },
   "outputs": [
    {
     "data": {
      "text/html": [
       "<div>\n",
       "<style scoped>\n",
       "    .dataframe tbody tr th:only-of-type {\n",
       "        vertical-align: middle;\n",
       "    }\n",
       "\n",
       "    .dataframe tbody tr th {\n",
       "        vertical-align: top;\n",
       "    }\n",
       "\n",
       "    .dataframe thead th {\n",
       "        text-align: right;\n",
       "    }\n",
       "</style>\n",
       "<table border=\"1\" class=\"dataframe\">\n",
       "  <thead>\n",
       "    <tr style=\"text-align: right;\">\n",
       "      <th></th>\n",
       "      <th>item_id</th>\n",
       "      <th>MSE</th>\n",
       "      <th>abs_error</th>\n",
       "      <th>abs_target_sum</th>\n",
       "      <th>abs_target_mean</th>\n",
       "      <th>seasonal_error</th>\n",
       "      <th>MASE</th>\n",
       "      <th>MAPE</th>\n",
       "      <th>sMAPE</th>\n",
       "      <th>MSIS</th>\n",
       "      <th>QuantileLoss[0.1]</th>\n",
       "      <th>Coverage[0.1]</th>\n",
       "      <th>QuantileLoss[0.5]</th>\n",
       "      <th>Coverage[0.5]</th>\n",
       "      <th>QuantileLoss[0.9]</th>\n",
       "      <th>Coverage[0.9]</th>\n",
       "    </tr>\n",
       "  </thead>\n",
       "  <tbody>\n",
       "    <tr>\n",
       "      <th>0</th>\n",
       "      <td>NaN</td>\n",
       "      <td>36.260365</td>\n",
       "      <td>6.483162</td>\n",
       "      <td>5.293073</td>\n",
       "      <td>5.293073</td>\n",
       "      <td>0.672751</td>\n",
       "      <td>9.636793</td>\n",
       "      <td>1.224839</td>\n",
       "      <td>2.0</td>\n",
       "      <td>331.964121</td>\n",
       "      <td>1.296632</td>\n",
       "      <td>0.0</td>\n",
       "      <td>6.483162</td>\n",
       "      <td>0.0</td>\n",
       "      <td>10.008278</td>\n",
       "      <td>0.0</td>\n",
       "    </tr>\n",
       "    <tr>\n",
       "      <th>1</th>\n",
       "      <td>NaN</td>\n",
       "      <td>22.679234</td>\n",
       "      <td>5.471787</td>\n",
       "      <td>4.615551</td>\n",
       "      <td>4.615551</td>\n",
       "      <td>0.477129</td>\n",
       "      <td>11.468163</td>\n",
       "      <td>1.185511</td>\n",
       "      <td>2.0</td>\n",
       "      <td>342.736380</td>\n",
       "      <td>1.094357</td>\n",
       "      <td>0.0</td>\n",
       "      <td>5.471787</td>\n",
       "      <td>0.0</td>\n",
       "      <td>7.294961</td>\n",
       "      <td>0.0</td>\n",
       "    </tr>\n",
       "    <tr>\n",
       "      <th>2</th>\n",
       "      <td>NaN</td>\n",
       "      <td>19.992542</td>\n",
       "      <td>4.768174</td>\n",
       "      <td>4.324502</td>\n",
       "      <td>4.324502</td>\n",
       "      <td>0.677522</td>\n",
       "      <td>7.037664</td>\n",
       "      <td>1.102595</td>\n",
       "      <td>2.0</td>\n",
       "      <td>247.329103</td>\n",
       "      <td>0.953635</td>\n",
       "      <td>0.0</td>\n",
       "      <td>4.768174</td>\n",
       "      <td>0.0</td>\n",
       "      <td>7.513974</td>\n",
       "      <td>0.0</td>\n",
       "    </tr>\n",
       "    <tr>\n",
       "      <th>3</th>\n",
       "      <td>NaN</td>\n",
       "      <td>23.797688</td>\n",
       "      <td>4.980725</td>\n",
       "      <td>4.415156</td>\n",
       "      <td>4.415156</td>\n",
       "      <td>0.291049</td>\n",
       "      <td>17.113039</td>\n",
       "      <td>1.128097</td>\n",
       "      <td>2.0</td>\n",
       "      <td>657.068750</td>\n",
       "      <td>0.996145</td>\n",
       "      <td>0.0</td>\n",
       "      <td>4.980725</td>\n",
       "      <td>0.0</td>\n",
       "      <td>8.596531</td>\n",
       "      <td>0.0</td>\n",
       "    </tr>\n",
       "    <tr>\n",
       "      <th>4</th>\n",
       "      <td>NaN</td>\n",
       "      <td>22.288261</td>\n",
       "      <td>5.172645</td>\n",
       "      <td>4.119337</td>\n",
       "      <td>4.119337</td>\n",
       "      <td>0.090654</td>\n",
       "      <td>57.058969</td>\n",
       "      <td>1.255698</td>\n",
       "      <td>2.0</td>\n",
       "      <td>1893.796545</td>\n",
       "      <td>1.034529</td>\n",
       "      <td>0.0</td>\n",
       "      <td>5.172645</td>\n",
       "      <td>0.0</td>\n",
       "      <td>7.684998</td>\n",
       "      <td>0.0</td>\n",
       "    </tr>\n",
       "    <tr>\n",
       "      <th>...</th>\n",
       "      <td>...</td>\n",
       "      <td>...</td>\n",
       "      <td>...</td>\n",
       "      <td>...</td>\n",
       "      <td>...</td>\n",
       "      <td>...</td>\n",
       "      <td>...</td>\n",
       "      <td>...</td>\n",
       "      <td>...</td>\n",
       "      <td>...</td>\n",
       "      <td>...</td>\n",
       "      <td>...</td>\n",
       "      <td>...</td>\n",
       "      <td>...</td>\n",
       "      <td>...</td>\n",
       "      <td>...</td>\n",
       "    </tr>\n",
       "    <tr>\n",
       "      <th>1201</th>\n",
       "      <td>NaN</td>\n",
       "      <td>1.055888</td>\n",
       "      <td>2.012027</td>\n",
       "      <td>1.075258</td>\n",
       "      <td>1.075258</td>\n",
       "      <td>0.338761</td>\n",
       "      <td>5.939369</td>\n",
       "      <td>1.871203</td>\n",
       "      <td>2.0</td>\n",
       "      <td>10.901397</td>\n",
       "      <td>0.402405</td>\n",
       "      <td>0.0</td>\n",
       "      <td>2.012027</td>\n",
       "      <td>0.0</td>\n",
       "      <td>0.077582</td>\n",
       "      <td>0.0</td>\n",
       "    </tr>\n",
       "    <tr>\n",
       "      <th>1202</th>\n",
       "      <td>NaN</td>\n",
       "      <td>2.656239</td>\n",
       "      <td>2.188793</td>\n",
       "      <td>1.876834</td>\n",
       "      <td>1.876834</td>\n",
       "      <td>0.424644</td>\n",
       "      <td>5.154416</td>\n",
       "      <td>1.166216</td>\n",
       "      <td>2.0</td>\n",
       "      <td>103.498513</td>\n",
       "      <td>0.437759</td>\n",
       "      <td>0.0</td>\n",
       "      <td>2.188793</td>\n",
       "      <td>0.0</td>\n",
       "      <td>1.927442</td>\n",
       "      <td>0.0</td>\n",
       "    </tr>\n",
       "    <tr>\n",
       "      <th>1203</th>\n",
       "      <td>NaN</td>\n",
       "      <td>4.899818</td>\n",
       "      <td>2.767113</td>\n",
       "      <td>1.533302</td>\n",
       "      <td>1.533302</td>\n",
       "      <td>0.801576</td>\n",
       "      <td>3.452093</td>\n",
       "      <td>1.804676</td>\n",
       "      <td>2.0</td>\n",
       "      <td>84.217684</td>\n",
       "      <td>0.553423</td>\n",
       "      <td>0.0</td>\n",
       "      <td>2.767113</td>\n",
       "      <td>0.0</td>\n",
       "      <td>2.987987</td>\n",
       "      <td>0.0</td>\n",
       "    </tr>\n",
       "    <tr>\n",
       "      <th>1204</th>\n",
       "      <td>NaN</td>\n",
       "      <td>5.060603</td>\n",
       "      <td>2.859463</td>\n",
       "      <td>1.571472</td>\n",
       "      <td>1.571472</td>\n",
       "      <td>0.343532</td>\n",
       "      <td>8.323706</td>\n",
       "      <td>1.819608</td>\n",
       "      <td>2.0</td>\n",
       "      <td>194.472268</td>\n",
       "      <td>0.571893</td>\n",
       "      <td>0.0</td>\n",
       "      <td>2.859463</td>\n",
       "      <td>0.0</td>\n",
       "      <td>2.951449</td>\n",
       "      <td>0.0</td>\n",
       "    </tr>\n",
       "    <tr>\n",
       "      <th>1205</th>\n",
       "      <td>NaN</td>\n",
       "      <td>18.668268</td>\n",
       "      <td>5.030333</td>\n",
       "      <td>2.382590</td>\n",
       "      <td>2.382590</td>\n",
       "      <td>0.038170</td>\n",
       "      <td>131.786431</td>\n",
       "      <td>2.111288</td>\n",
       "      <td>2.0</td>\n",
       "      <td>3821.301053</td>\n",
       "      <td>1.006067</td>\n",
       "      <td>0.0</td>\n",
       "      <td>5.030333</td>\n",
       "      <td>0.0</td>\n",
       "      <td>6.499846</td>\n",
       "      <td>0.0</td>\n",
       "    </tr>\n",
       "  </tbody>\n",
       "</table>\n",
       "<p>1206 rows × 16 columns</p>\n",
       "</div>"
      ],
      "text/plain": [
       "      item_id        MSE  abs_error  abs_target_sum  abs_target_mean  \\\n",
       "0         NaN  36.260365   6.483162        5.293073         5.293073   \n",
       "1         NaN  22.679234   5.471787        4.615551         4.615551   \n",
       "2         NaN  19.992542   4.768174        4.324502         4.324502   \n",
       "3         NaN  23.797688   4.980725        4.415156         4.415156   \n",
       "4         NaN  22.288261   5.172645        4.119337         4.119337   \n",
       "...       ...        ...        ...             ...              ...   \n",
       "1201      NaN   1.055888   2.012027        1.075258         1.075258   \n",
       "1202      NaN   2.656239   2.188793        1.876834         1.876834   \n",
       "1203      NaN   4.899818   2.767113        1.533302         1.533302   \n",
       "1204      NaN   5.060603   2.859463        1.571472         1.571472   \n",
       "1205      NaN  18.668268   5.030333        2.382590         2.382590   \n",
       "\n",
       "      seasonal_error        MASE      MAPE  sMAPE         MSIS  \\\n",
       "0           0.672751    9.636793  1.224839    2.0   331.964121   \n",
       "1           0.477129   11.468163  1.185511    2.0   342.736380   \n",
       "2           0.677522    7.037664  1.102595    2.0   247.329103   \n",
       "3           0.291049   17.113039  1.128097    2.0   657.068750   \n",
       "4           0.090654   57.058969  1.255698    2.0  1893.796545   \n",
       "...              ...         ...       ...    ...          ...   \n",
       "1201        0.338761    5.939369  1.871203    2.0    10.901397   \n",
       "1202        0.424644    5.154416  1.166216    2.0   103.498513   \n",
       "1203        0.801576    3.452093  1.804676    2.0    84.217684   \n",
       "1204        0.343532    8.323706  1.819608    2.0   194.472268   \n",
       "1205        0.038170  131.786431  2.111288    2.0  3821.301053   \n",
       "\n",
       "      QuantileLoss[0.1]  Coverage[0.1]  QuantileLoss[0.5]  Coverage[0.5]  \\\n",
       "0              1.296632            0.0           6.483162            0.0   \n",
       "1              1.094357            0.0           5.471787            0.0   \n",
       "2              0.953635            0.0           4.768174            0.0   \n",
       "3              0.996145            0.0           4.980725            0.0   \n",
       "4              1.034529            0.0           5.172645            0.0   \n",
       "...                 ...            ...                ...            ...   \n",
       "1201           0.402405            0.0           2.012027            0.0   \n",
       "1202           0.437759            0.0           2.188793            0.0   \n",
       "1203           0.553423            0.0           2.767113            0.0   \n",
       "1204           0.571893            0.0           2.859463            0.0   \n",
       "1205           1.006067            0.0           5.030333            0.0   \n",
       "\n",
       "      QuantileLoss[0.9]  Coverage[0.9]  \n",
       "0             10.008278            0.0  \n",
       "1              7.294961            0.0  \n",
       "2              7.513974            0.0  \n",
       "3              8.596531            0.0  \n",
       "4              7.684998            0.0  \n",
       "...                 ...            ...  \n",
       "1201           0.077582            0.0  \n",
       "1202           1.927442            0.0  \n",
       "1203           2.987987            0.0  \n",
       "1204           2.951449            0.0  \n",
       "1205           6.499846            0.0  \n",
       "\n",
       "[1206 rows x 16 columns]"
      ]
     },
     "execution_count": 82,
     "metadata": {},
     "output_type": "execute_result"
    }
   ],
   "source": [
    "item_metrics"
   ]
  },
  {
   "cell_type": "code",
   "execution_count": 69,
   "id": "681b6d08-299f-4f1d-bec0-2bc9be43c3f8",
   "metadata": {
    "execution": {
     "iopub.execute_input": "2022-05-02T23:22:42.528626Z",
     "iopub.status.busy": "2022-05-02T23:22:42.528292Z",
     "iopub.status.idle": "2022-05-02T23:22:42.583574Z",
     "shell.execute_reply": "2022-05-02T23:22:42.582703Z",
     "shell.execute_reply.started": "2022-05-02T23:22:42.528587Z"
    }
   },
   "outputs": [
    {
     "data": {
      "text/html": [
       "<div>\n",
       "<style scoped>\n",
       "    .dataframe tbody tr th:only-of-type {\n",
       "        vertical-align: middle;\n",
       "    }\n",
       "\n",
       "    .dataframe tbody tr th {\n",
       "        vertical-align: top;\n",
       "    }\n",
       "\n",
       "    .dataframe thead th {\n",
       "        text-align: right;\n",
       "    }\n",
       "</style>\n",
       "<table border=\"1\" class=\"dataframe\">\n",
       "  <thead>\n",
       "    <tr style=\"text-align: right;\">\n",
       "      <th></th>\n",
       "      <th>item_id</th>\n",
       "      <th>MSE</th>\n",
       "      <th>abs_error</th>\n",
       "      <th>abs_target_sum</th>\n",
       "      <th>abs_target_mean</th>\n",
       "      <th>seasonal_error</th>\n",
       "      <th>MASE</th>\n",
       "      <th>MAPE</th>\n",
       "      <th>sMAPE</th>\n",
       "      <th>MSIS</th>\n",
       "      <th>QuantileLoss[0.1]</th>\n",
       "      <th>Coverage[0.1]</th>\n",
       "      <th>QuantileLoss[0.5]</th>\n",
       "      <th>Coverage[0.5]</th>\n",
       "      <th>QuantileLoss[0.9]</th>\n",
       "      <th>Coverage[0.9]</th>\n",
       "    </tr>\n",
       "  </thead>\n",
       "  <tbody>\n",
       "    <tr>\n",
       "      <th>0</th>\n",
       "      <td>NaN</td>\n",
       "      <td>22.008644</td>\n",
       "      <td>4.869616</td>\n",
       "      <td>4.415156</td>\n",
       "      <td>4.415156</td>\n",
       "      <td>0.529613</td>\n",
       "      <td>9.194677</td>\n",
       "      <td>1.102932</td>\n",
       "      <td>2.000000</td>\n",
       "      <td>286.597556</td>\n",
       "      <td>1.134803</td>\n",
       "      <td>0.0</td>\n",
       "      <td>4.869616</td>\n",
       "      <td>0.0</td>\n",
       "      <td>6.795611</td>\n",
       "      <td>0.0</td>\n",
       "    </tr>\n",
       "    <tr>\n",
       "      <th>1</th>\n",
       "      <td>NaN</td>\n",
       "      <td>17.311729</td>\n",
       "      <td>4.091903</td>\n",
       "      <td>4.119337</td>\n",
       "      <td>4.119337</td>\n",
       "      <td>0.384088</td>\n",
       "      <td>10.653544</td>\n",
       "      <td>0.993340</td>\n",
       "      <td>1.973537</td>\n",
       "      <td>324.954032</td>\n",
       "      <td>0.961690</td>\n",
       "      <td>0.0</td>\n",
       "      <td>4.091903</td>\n",
       "      <td>0.0</td>\n",
       "      <td>6.358344</td>\n",
       "      <td>0.0</td>\n",
       "    </tr>\n",
       "    <tr>\n",
       "      <th>2</th>\n",
       "      <td>NaN</td>\n",
       "      <td>30.518023</td>\n",
       "      <td>5.835865</td>\n",
       "      <td>5.751116</td>\n",
       "      <td>5.751116</td>\n",
       "      <td>0.338761</td>\n",
       "      <td>17.227082</td>\n",
       "      <td>1.014736</td>\n",
       "      <td>2.000000</td>\n",
       "      <td>295.596196</td>\n",
       "      <td>1.344757</td>\n",
       "      <td>0.0</td>\n",
       "      <td>5.835865</td>\n",
       "      <td>0.0</td>\n",
       "      <td>8.514152</td>\n",
       "      <td>0.0</td>\n",
       "    </tr>\n",
       "    <tr>\n",
       "      <th>3</th>\n",
       "      <td>NaN</td>\n",
       "      <td>23.523882</td>\n",
       "      <td>5.026651</td>\n",
       "      <td>4.706205</td>\n",
       "      <td>4.706205</td>\n",
       "      <td>0.577325</td>\n",
       "      <td>8.706792</td>\n",
       "      <td>1.068090</td>\n",
       "      <td>2.000000</td>\n",
       "      <td>248.171312</td>\n",
       "      <td>1.159536</td>\n",
       "      <td>0.0</td>\n",
       "      <td>5.026651</td>\n",
       "      <td>0.0</td>\n",
       "      <td>7.376008</td>\n",
       "      <td>0.0</td>\n",
       "    </tr>\n",
       "    <tr>\n",
       "      <th>4</th>\n",
       "      <td>NaN</td>\n",
       "      <td>19.869068</td>\n",
       "      <td>3.950956</td>\n",
       "      <td>3.637437</td>\n",
       "      <td>3.637437</td>\n",
       "      <td>0.765791</td>\n",
       "      <td>5.159315</td>\n",
       "      <td>1.086192</td>\n",
       "      <td>2.000000</td>\n",
       "      <td>166.972028</td>\n",
       "      <td>1.354496</td>\n",
       "      <td>0.0</td>\n",
       "      <td>3.950956</td>\n",
       "      <td>0.0</td>\n",
       "      <td>5.869420</td>\n",
       "      <td>0.0</td>\n",
       "    </tr>\n",
       "    <tr>\n",
       "      <th>...</th>\n",
       "      <td>...</td>\n",
       "      <td>...</td>\n",
       "      <td>...</td>\n",
       "      <td>...</td>\n",
       "      <td>...</td>\n",
       "      <td>...</td>\n",
       "      <td>...</td>\n",
       "      <td>...</td>\n",
       "      <td>...</td>\n",
       "      <td>...</td>\n",
       "      <td>...</td>\n",
       "      <td>...</td>\n",
       "      <td>...</td>\n",
       "      <td>...</td>\n",
       "      <td>...</td>\n",
       "      <td>...</td>\n",
       "    </tr>\n",
       "    <tr>\n",
       "      <th>1201</th>\n",
       "      <td>NaN</td>\n",
       "      <td>3.108257</td>\n",
       "      <td>1.931677</td>\n",
       "      <td>1.571472</td>\n",
       "      <td>1.571472</td>\n",
       "      <td>0.477128</td>\n",
       "      <td>4.048547</td>\n",
       "      <td>1.229215</td>\n",
       "      <td>2.000000</td>\n",
       "      <td>45.549187</td>\n",
       "      <td>0.609762</td>\n",
       "      <td>0.0</td>\n",
       "      <td>1.931677</td>\n",
       "      <td>0.0</td>\n",
       "      <td>1.368648</td>\n",
       "      <td>0.0</td>\n",
       "    </tr>\n",
       "    <tr>\n",
       "      <th>1202</th>\n",
       "      <td>NaN</td>\n",
       "      <td>7.142027</td>\n",
       "      <td>2.806405</td>\n",
       "      <td>2.382590</td>\n",
       "      <td>2.382590</td>\n",
       "      <td>0.401981</td>\n",
       "      <td>6.981444</td>\n",
       "      <td>1.177880</td>\n",
       "      <td>2.000000</td>\n",
       "      <td>102.695818</td>\n",
       "      <td>0.677876</td>\n",
       "      <td>0.0</td>\n",
       "      <td>2.806405</td>\n",
       "      <td>0.0</td>\n",
       "      <td>3.324632</td>\n",
       "      <td>0.0</td>\n",
       "    </tr>\n",
       "    <tr>\n",
       "      <th>1203</th>\n",
       "      <td>NaN</td>\n",
       "      <td>4.629624</td>\n",
       "      <td>2.436457</td>\n",
       "      <td>1.676440</td>\n",
       "      <td>1.676440</td>\n",
       "      <td>0.498599</td>\n",
       "      <td>4.886605</td>\n",
       "      <td>1.453351</td>\n",
       "      <td>2.000000</td>\n",
       "      <td>61.318851</td>\n",
       "      <td>0.686437</td>\n",
       "      <td>0.0</td>\n",
       "      <td>2.436457</td>\n",
       "      <td>0.0</td>\n",
       "      <td>1.515742</td>\n",
       "      <td>0.0</td>\n",
       "    </tr>\n",
       "    <tr>\n",
       "      <th>1204</th>\n",
       "      <td>NaN</td>\n",
       "      <td>2.816041</td>\n",
       "      <td>1.502892</td>\n",
       "      <td>1.733696</td>\n",
       "      <td>1.733696</td>\n",
       "      <td>0.474743</td>\n",
       "      <td>3.165697</td>\n",
       "      <td>0.866872</td>\n",
       "      <td>1.530051</td>\n",
       "      <td>43.893115</td>\n",
       "      <td>0.533668</td>\n",
       "      <td>0.0</td>\n",
       "      <td>1.502892</td>\n",
       "      <td>0.0</td>\n",
       "      <td>1.616239</td>\n",
       "      <td>0.0</td>\n",
       "    </tr>\n",
       "    <tr>\n",
       "      <th>1205</th>\n",
       "      <td>NaN</td>\n",
       "      <td>4.793725</td>\n",
       "      <td>1.883240</td>\n",
       "      <td>1.790951</td>\n",
       "      <td>1.790951</td>\n",
       "      <td>0.403173</td>\n",
       "      <td>4.671042</td>\n",
       "      <td>1.051531</td>\n",
       "      <td>2.000000</td>\n",
       "      <td>117.852228</td>\n",
       "      <td>0.714535</td>\n",
       "      <td>0.0</td>\n",
       "      <td>1.883240</td>\n",
       "      <td>0.0</td>\n",
       "      <td>2.180853</td>\n",
       "      <td>0.0</td>\n",
       "    </tr>\n",
       "  </tbody>\n",
       "</table>\n",
       "<p>1206 rows × 16 columns</p>\n",
       "</div>"
      ],
      "text/plain": [
       "      item_id        MSE  abs_error  abs_target_sum  abs_target_mean  \\\n",
       "0         NaN  22.008644   4.869616        4.415156         4.415156   \n",
       "1         NaN  17.311729   4.091903        4.119337         4.119337   \n",
       "2         NaN  30.518023   5.835865        5.751116         5.751116   \n",
       "3         NaN  23.523882   5.026651        4.706205         4.706205   \n",
       "4         NaN  19.869068   3.950956        3.637437         3.637437   \n",
       "...       ...        ...        ...             ...              ...   \n",
       "1201      NaN   3.108257   1.931677        1.571472         1.571472   \n",
       "1202      NaN   7.142027   2.806405        2.382590         2.382590   \n",
       "1203      NaN   4.629624   2.436457        1.676440         1.676440   \n",
       "1204      NaN   2.816041   1.502892        1.733696         1.733696   \n",
       "1205      NaN   4.793725   1.883240        1.790951         1.790951   \n",
       "\n",
       "      seasonal_error       MASE      MAPE     sMAPE        MSIS  \\\n",
       "0           0.529613   9.194677  1.102932  2.000000  286.597556   \n",
       "1           0.384088  10.653544  0.993340  1.973537  324.954032   \n",
       "2           0.338761  17.227082  1.014736  2.000000  295.596196   \n",
       "3           0.577325   8.706792  1.068090  2.000000  248.171312   \n",
       "4           0.765791   5.159315  1.086192  2.000000  166.972028   \n",
       "...              ...        ...       ...       ...         ...   \n",
       "1201        0.477128   4.048547  1.229215  2.000000   45.549187   \n",
       "1202        0.401981   6.981444  1.177880  2.000000  102.695818   \n",
       "1203        0.498599   4.886605  1.453351  2.000000   61.318851   \n",
       "1204        0.474743   3.165697  0.866872  1.530051   43.893115   \n",
       "1205        0.403173   4.671042  1.051531  2.000000  117.852228   \n",
       "\n",
       "      QuantileLoss[0.1]  Coverage[0.1]  QuantileLoss[0.5]  Coverage[0.5]  \\\n",
       "0              1.134803            0.0           4.869616            0.0   \n",
       "1              0.961690            0.0           4.091903            0.0   \n",
       "2              1.344757            0.0           5.835865            0.0   \n",
       "3              1.159536            0.0           5.026651            0.0   \n",
       "4              1.354496            0.0           3.950956            0.0   \n",
       "...                 ...            ...                ...            ...   \n",
       "1201           0.609762            0.0           1.931677            0.0   \n",
       "1202           0.677876            0.0           2.806405            0.0   \n",
       "1203           0.686437            0.0           2.436457            0.0   \n",
       "1204           0.533668            0.0           1.502892            0.0   \n",
       "1205           0.714535            0.0           1.883240            0.0   \n",
       "\n",
       "      QuantileLoss[0.9]  Coverage[0.9]  \n",
       "0              6.795611            0.0  \n",
       "1              6.358344            0.0  \n",
       "2              8.514152            0.0  \n",
       "3              7.376008            0.0  \n",
       "4              5.869420            0.0  \n",
       "...                 ...            ...  \n",
       "1201           1.368648            0.0  \n",
       "1202           3.324632            0.0  \n",
       "1203           1.515742            0.0  \n",
       "1204           1.616239            0.0  \n",
       "1205           2.180853            0.0  \n",
       "\n",
       "[1206 rows x 16 columns]"
      ]
     },
     "execution_count": 69,
     "metadata": {},
     "output_type": "execute_result"
    }
   ],
   "source": [
    "item_metrics"
   ]
  },
  {
   "cell_type": "code",
   "execution_count": 83,
   "id": "99355d9e-b327-417f-89b6-ab4187afd6ed",
   "metadata": {
    "execution": {
     "iopub.execute_input": "2022-04-30T23:53:04.647951Z",
     "iopub.status.busy": "2022-04-30T23:53:04.647538Z",
     "iopub.status.idle": "2022-04-30T23:53:04.811511Z",
     "shell.execute_reply": "2022-04-30T23:53:04.810977Z",
     "shell.execute_reply.started": "2022-04-30T23:53:04.647908Z"
    },
    "tags": []
   },
   "outputs": [
    {
     "data": {
      "image/png": "[encoded data removed]",
      "text/plain": [
       "<Figure size 432x288 with 1 Axes>"
      ]
     },
     "metadata": {
      "needs_background": "light"
     },
     "output_type": "display_data"
    }
   ],
   "source": [
    "item_metrics.plot(x='MSIS', y='MASE', kind='scatter')\n",
    "plt.grid(which=\"both\")\n",
    "plt.show()"
   ]
  },
  {
   "cell_type": "markdown",
   "id": "7ec4842a-b0b9-4e40-bde3-f4c91661f1f6",
   "metadata": {},
   "source": [
    "# Test metrics"
   ]
  },
  {
   "cell_type": "code",
   "execution_count": 123,
   "id": "01c698f4-f9eb-421b-88e3-e6eafe49893f",
   "metadata": {
    "execution": {
     "iopub.execute_input": "2022-05-01T22:58:53.512539Z",
     "iopub.status.busy": "2022-05-01T22:58:53.512141Z",
     "iopub.status.idle": "2022-05-01T22:58:53.543053Z",
     "shell.execute_reply": "2022-05-01T22:58:53.542486Z",
     "shell.execute_reply.started": "2022-05-01T22:58:53.512491Z"
    },
    "tags": []
   },
   "outputs": [
    {
     "name": "stdout",
     "output_type": "stream",
     "text": [
      "ok\n"
     ]
    }
   ],
   "source": [
    "print('ok')"
   ]
  },
  {
   "cell_type": "markdown",
   "id": "10fd5959-5aee-4b1b-8a22-2d0602ba32d1",
   "metadata": {},
   "source": [
    "# Conditioned Normalizing Flow"
   ]
  },
  {
   "cell_type": "code",
   "execution_count": null,
   "id": "6274878b-d8d8-48b6-9088-0cdb4155c05e",
   "metadata": {
    "execution": {
     "iopub.execute_input": "2022-05-03T22:32:11.698262Z",
     "iopub.status.busy": "2022-05-03T22:32:11.694767Z"
    },
    "tags": []
   },
   "outputs": [
    {
     "data": {
      "application/vnd.jupyter.widget-view+json": {
       "model_id": "5f2faad9bb82499da2dc767b46c0e73c",
       "version_major": 2,
       "version_minor": 0
      },
      "text/plain": [
       "HBox(children=(IntProgress(value=0, max=19999), HTML(value='')))"
      ]
     },
     "metadata": {},
     "output_type": "display_data"
    },
    {
     "name": "stdout",
     "output_type": "stream",
     "text": [
      "\n"
     ]
    },
    {
     "data": {
      "application/vnd.jupyter.widget-view+json": {
       "model_id": "e19676c9882f4cfa92b5bb8c2248562d",
       "version_major": 2,
       "version_minor": 0
      },
      "text/plain": [
       "HBox(children=(IntProgress(value=0, max=19999), HTML(value='')))"
      ]
     },
     "metadata": {},
     "output_type": "display_data"
    }
   ],
   "source": [
    "# from models.tempflow_estimator_initial import TempFlowEstimator\n",
    "\n",
    "from models.tempflow_estimator import TempFlowEstimator\n",
    "\n",
    "tempflow_estimator = TempFlowEstimator(\n",
    "    target_dim=1,\n",
    "    prediction_length=1,\n",
    "    cell_type='GRU',\n",
    "    context_length=3,\n",
    "    input_size=27,\n",
    "    freq=dataset_metadata['freq'],\n",
    "    scaling=False,\n",
    "    dequantize=False,\n",
    "    n_blocks=1,\n",
    "    trainer=Trainer(device=device,\n",
    "                    epochs=3,\n",
    "                    learning_rate=1e-3,\n",
    "                    num_batches_per_epoch=20000,\n",
    "                    batch_size=32)\n",
    ")\n",
    "\n",
    "\n",
    "\n",
    "tempflow_predictor = tempflow_estimator.train_model(train_ds)"
   ]
  },
  {
   "cell_type": "code",
   "execution_count": 168,
   "id": "b1151352-563d-496b-9779-9d93c717bb16",
   "metadata": {
    "execution": {
     "iopub.execute_input": "2022-05-03T22:31:54.462596Z",
     "iopub.status.busy": "2022-05-03T22:31:54.461626Z",
     "iopub.status.idle": "2022-05-03T22:31:54.496788Z",
     "shell.execute_reply": "2022-05-03T22:31:54.495747Z",
     "shell.execute_reply.started": "2022-05-03T22:31:54.462511Z"
    }
   },
   "outputs": [
    {
     "data": {
      "text/plain": [
       "TrainOutput(transformation=gluonts.transform._base.Chain(trans=[gluonts.transform.convert.AsNumpyArray(expected_ndim=2, field=\"target\"), gluonts.transform.convert.ExpandDimArray(axis=None, field=\"target\"), gluonts.transform.feature.AddObservedValuesIndicator(imputation_method=gluonts.transform.feature.DummyValueImputation(dummy_value=0.0), output_field=\"observed_values\", target_field=\"target\"), gluonts.transform.feature.AddTimeFeatures(output_field=\"time_feat\", pred_length=1, start_field=\"start\", target_field=\"target\", time_features=[pts.feature.fourier_date_feature.FourierDateFeatures(freq=\"hour\"), pts.feature.fourier_date_feature.FourierDateFeatures(freq=\"dayofweek\")]), gluonts.transform.convert.VstackFeatures(drop_inputs=True, h_stack=False, input_fields=[\"time_feat\"], output_field=\"time_feat\"), gluonts.transform.field.SetFieldIfNotPresent(field=\"feat_static_cat\", value=[0]), gluonts.transform.convert.TargetDimIndicator(field_name=\"target_dimension_indicator\", target_field=\"target\"), gluonts.transform.convert.AsNumpyArray(expected_ndim=1, field=\"feat_static_cat\")]), trained_net=TempFlowTrainingNetwork(\n",
       "  (rnn): GRU(27, 40, num_layers=2, batch_first=True, dropout=0.1)\n",
       "  (flow): RealNVP(\n",
       "    (net): FlowSequential(\n",
       "      (0): LinearMaskedCoupling(\n",
       "        (s_net): Sequential(\n",
       "          (0): Linear(in_features=201, out_features=100, bias=True)\n",
       "          (1): Tanh()\n",
       "          (2): Linear(in_features=100, out_features=100, bias=True)\n",
       "          (3): Tanh()\n",
       "          (4): Linear(in_features=100, out_features=100, bias=True)\n",
       "          (5): Tanh()\n",
       "          (6): Linear(in_features=100, out_features=1, bias=True)\n",
       "        )\n",
       "        (t_net): Sequential(\n",
       "          (0): Linear(in_features=201, out_features=100, bias=True)\n",
       "          (1): ReLU()\n",
       "          (2): Linear(in_features=100, out_features=100, bias=True)\n",
       "          (3): ReLU()\n",
       "          (4): Linear(in_features=100, out_features=100, bias=True)\n",
       "          (5): ReLU()\n",
       "          (6): Linear(in_features=100, out_features=1, bias=True)\n",
       "        )\n",
       "      )\n",
       "      (1): BatchNorm()\n",
       "      (2): LinearMaskedCoupling(\n",
       "        (s_net): Sequential(\n",
       "          (0): Linear(in_features=201, out_features=100, bias=True)\n",
       "          (1): Tanh()\n",
       "          (2): Linear(in_features=100, out_features=100, bias=True)\n",
       "          (3): Tanh()\n",
       "          (4): Linear(in_features=100, out_features=100, bias=True)\n",
       "          (5): Tanh()\n",
       "          (6): Linear(in_features=100, out_features=1, bias=True)\n",
       "        )\n",
       "        (t_net): Sequential(\n",
       "          (0): Linear(in_features=201, out_features=100, bias=True)\n",
       "          (1): ReLU()\n",
       "          (2): Linear(in_features=100, out_features=100, bias=True)\n",
       "          (3): ReLU()\n",
       "          (4): Linear(in_features=100, out_features=100, bias=True)\n",
       "          (5): ReLU()\n",
       "          (6): Linear(in_features=100, out_features=1, bias=True)\n",
       "        )\n",
       "      )\n",
       "      (3): BatchNorm()\n",
       "      (4): LinearMaskedCoupling(\n",
       "        (s_net): Sequential(\n",
       "          (0): Linear(in_features=201, out_features=100, bias=True)\n",
       "          (1): Tanh()\n",
       "          (2): Linear(in_features=100, out_features=100, bias=True)\n",
       "          (3): Tanh()\n",
       "          (4): Linear(in_features=100, out_features=100, bias=True)\n",
       "          (5): Tanh()\n",
       "          (6): Linear(in_features=100, out_features=1, bias=True)\n",
       "        )\n",
       "        (t_net): Sequential(\n",
       "          (0): Linear(in_features=201, out_features=100, bias=True)\n",
       "          (1): ReLU()\n",
       "          (2): Linear(in_features=100, out_features=100, bias=True)\n",
       "          (3): ReLU()\n",
       "          (4): Linear(in_features=100, out_features=100, bias=True)\n",
       "          (5): ReLU()\n",
       "          (6): Linear(in_features=100, out_features=1, bias=True)\n",
       "        )\n",
       "      )\n",
       "      (5): BatchNorm()\n",
       "    )\n",
       "  )\n",
       "  (proj_dist_args): PtArgProj(\n",
       "    (proj): ModuleList(\n",
       "      (0): Linear(in_features=40, out_features=200, bias=True)\n",
       "    )\n",
       "    (domain_map): LambdaLayer()\n",
       "  )\n",
       "  (embed): Embedding(1, 1)\n",
       "  (scaler): pts.modules.scaler.NOPScaler(keepdim=True)\n",
       "), predictor=<gluonts.torch.model.predictor.PyTorchPredictor object at 0x7f99a9fa6cd0>)"
      ]
     },
     "execution_count": 168,
     "metadata": {},
     "output_type": "execute_result"
    }
   ],
   "source": [
    "tempflow_predictor"
   ]
  },
  {
   "cell_type": "code",
   "execution_count": 85,
   "id": "a9375033-c950-49d2-89ec-6025cb670851",
   "metadata": {
    "execution": {
     "iopub.execute_input": "2022-05-03T14:23:21.635824Z",
     "iopub.status.busy": "2022-05-03T14:23:21.635463Z",
     "iopub.status.idle": "2022-05-03T14:23:21.668543Z",
     "shell.execute_reply": "2022-05-03T14:23:21.667906Z",
     "shell.execute_reply.started": "2022-05-03T14:23:21.635784Z"
    },
    "tags": []
   },
   "outputs": [
    {
     "data": {
      "text/plain": [
       "TrainOutput(transformation=gluonts.transform._base.Chain(trans=[gluonts.transform.convert.AsNumpyArray(expected_ndim=2, field=\"target\"), gluonts.transform.convert.ExpandDimArray(axis=None, field=\"target\"), gluonts.transform.feature.AddObservedValuesIndicator(imputation_method=gluonts.transform.feature.DummyValueImputation(dummy_value=0.0), output_field=\"observed_values\", target_field=\"target\"), gluonts.transform.feature.AddTimeFeatures(output_field=\"time_feat\", pred_length=1, start_field=\"start\", target_field=\"target\", time_features=[pts.feature.fourier_date_feature.FourierDateFeatures(freq=\"hour\"), pts.feature.fourier_date_feature.FourierDateFeatures(freq=\"dayofweek\")]), gluonts.transform.convert.VstackFeatures(drop_inputs=True, h_stack=False, input_fields=[\"time_feat\"], output_field=\"time_feat\"), gluonts.transform.field.SetFieldIfNotPresent(field=\"feat_static_cat\", value=[0]), gluonts.transform.convert.TargetDimIndicator(field_name=\"target_dimension_indicator\", target_field=\"target\"), gluonts.transform.convert.AsNumpyArray(expected_ndim=1, field=\"feat_static_cat\")]), trained_net=models.tempflow_network.TempFlowTrainingNetwork(cardinality=[1], cell_type=\"GRU\", conditioning_length=200, context_length=3, dequantize=False, dropout_rate=0.1, embedding_dimension=5, flow_type=\"RealNVP\", hidden_size=100, history_length=5, input_size=27, lags_seq=[2], n_blocks=3, n_hidden=2, num_cells=40, num_layers=2, prediction_length=1, scaling=False, target_dim=1), predictor=<gluonts.torch.model.predictor.PyTorchPredictor object at 0x7f99a9fa6cd0>)"
      ]
     },
     "execution_count": 85,
     "metadata": {},
     "output_type": "execute_result"
    }
   ],
   "source": [
    "tempflow_predictor"
   ]
  },
  {
   "cell_type": "code",
   "execution_count": 75,
   "id": "cb6fa67b-983a-450c-a4c0-5bec70e73636",
   "metadata": {
    "execution": {
     "iopub.execute_input": "2022-05-02T23:39:38.331921Z",
     "iopub.status.busy": "2022-05-02T23:39:38.331612Z",
     "iopub.status.idle": "2022-05-02T23:40:15.152713Z",
     "shell.execute_reply": "2022-05-02T23:40:15.151847Z",
     "shell.execute_reply.started": "2022-05-02T23:39:38.331882Z"
    },
    "tags": []
   },
   "outputs": [
    {
     "data": {
      "application/vnd.jupyter.widget-view+json": {
       "model_id": "98fab50e718b4177a841eb9783679895",
       "version_major": 2,
       "version_minor": 0
      },
      "text/plain": [
       "HBox(children=(IntProgress(value=0, max=19999), HTML(value='')))"
      ]
     },
     "metadata": {},
     "output_type": "display_data"
    },
    {
     "name": "stdout",
     "output_type": "stream",
     "text": [
      "\n"
     ]
    },
    {
     "ename": "KeyboardInterrupt",
     "evalue": "",
     "output_type": "error",
     "traceback": [
      "\u001b[0;31m---------------------------------------------------------------------------\u001b[0m",
      "\u001b[0;31mKeyboardInterrupt\u001b[0m                         Traceback (most recent call last)",
      "\u001b[0;32m/tmp/ipykernel_1962958/15363176.py\u001b[0m in \u001b[0;36m<module>\u001b[0;34m\u001b[0m\n\u001b[1;32m     18\u001b[0m )\n\u001b[1;32m     19\u001b[0m \u001b[0;34m\u001b[0m\u001b[0m\n\u001b[0;32m---> 20\u001b[0;31m \u001b[0mtempflow_predictor_initial\u001b[0m \u001b[0;34m=\u001b[0m \u001b[0mtempflow_estimator_initial\u001b[0m\u001b[0;34m.\u001b[0m\u001b[0mtrain\u001b[0m\u001b[0;34m(\u001b[0m\u001b[0mtrain_ds\u001b[0m\u001b[0;34m)\u001b[0m\u001b[0;34m\u001b[0m\u001b[0;34m\u001b[0m\u001b[0m\n\u001b[0m",
      "\u001b[0;32m/usr/twix/python/lib/python3.8/site-packages/pts/model/estimator.py\u001b[0m in \u001b[0;36mtrain\u001b[0;34m(self, training_data, validation_data, num_workers, prefetch_factor, shuffle_buffer_length, cache_data, **kwargs)\u001b[0m\n\u001b[1;32m    177\u001b[0m         \u001b[0;34m**\u001b[0m\u001b[0mkwargs\u001b[0m\u001b[0;34m,\u001b[0m\u001b[0;34m\u001b[0m\u001b[0;34m\u001b[0m\u001b[0m\n\u001b[1;32m    178\u001b[0m     ) -> PyTorchPredictor:\n\u001b[0;32m--> 179\u001b[0;31m         return self.train_model(\n\u001b[0m\u001b[1;32m    180\u001b[0m             \u001b[0mtraining_data\u001b[0m\u001b[0;34m,\u001b[0m\u001b[0;34m\u001b[0m\u001b[0;34m\u001b[0m\u001b[0m\n\u001b[1;32m    181\u001b[0m             \u001b[0mvalidation_data\u001b[0m\u001b[0;34m,\u001b[0m\u001b[0;34m\u001b[0m\u001b[0;34m\u001b[0m\u001b[0m\n",
      "\u001b[0;32m/usr/twix/python/lib/python3.8/site-packages/pts/model/estimator.py\u001b[0m in \u001b[0;36mtrain_model\u001b[0;34m(self, training_data, validation_data, num_workers, prefetch_factor, shuffle_buffer_length, cache_data, **kwargs)\u001b[0m\n\u001b[1;32m    149\u001b[0m             )\n\u001b[1;32m    150\u001b[0m \u001b[0;34m\u001b[0m\u001b[0m\n\u001b[0;32m--> 151\u001b[0;31m         self.trainer(\n\u001b[0m\u001b[1;32m    152\u001b[0m             \u001b[0mnet\u001b[0m\u001b[0;34m=\u001b[0m\u001b[0mtrained_net\u001b[0m\u001b[0;34m,\u001b[0m\u001b[0;34m\u001b[0m\u001b[0;34m\u001b[0m\u001b[0m\n\u001b[1;32m    153\u001b[0m             \u001b[0mtrain_iter\u001b[0m\u001b[0;34m=\u001b[0m\u001b[0mtraining_data_loader\u001b[0m\u001b[0;34m,\u001b[0m\u001b[0;34m\u001b[0m\u001b[0;34m\u001b[0m\u001b[0m\n",
      "\u001b[0;32m/usr/twix/python/lib/python3.8/site-packages/pts/trainer.py\u001b[0m in \u001b[0;36m__call__\u001b[0;34m(self, net, train_iter, validation_iter)\u001b[0m\n\u001b[1;32m     65\u001b[0m \u001b[0;34m\u001b[0m\u001b[0m\n\u001b[1;32m     66\u001b[0m                     \u001b[0minputs\u001b[0m \u001b[0;34m=\u001b[0m \u001b[0;34m[\u001b[0m\u001b[0mv\u001b[0m\u001b[0;34m.\u001b[0m\u001b[0mto\u001b[0m\u001b[0;34m(\u001b[0m\u001b[0mself\u001b[0m\u001b[0;34m.\u001b[0m\u001b[0mdevice\u001b[0m\u001b[0;34m)\u001b[0m \u001b[0;32mfor\u001b[0m \u001b[0mv\u001b[0m \u001b[0;32min\u001b[0m \u001b[0mdata_entry\u001b[0m\u001b[0;34m.\u001b[0m\u001b[0mvalues\u001b[0m\u001b[0;34m(\u001b[0m\u001b[0;34m)\u001b[0m\u001b[0;34m]\u001b[0m\u001b[0;34m\u001b[0m\u001b[0;34m\u001b[0m\u001b[0m\n\u001b[0;32m---> 67\u001b[0;31m                     \u001b[0moutput\u001b[0m \u001b[0;34m=\u001b[0m \u001b[0mnet\u001b[0m\u001b[0;34m(\u001b[0m\u001b[0;34m*\u001b[0m\u001b[0minputs\u001b[0m\u001b[0;34m)\u001b[0m\u001b[0;34m\u001b[0m\u001b[0;34m\u001b[0m\u001b[0m\n\u001b[0m\u001b[1;32m     68\u001b[0m \u001b[0;34m\u001b[0m\u001b[0m\n\u001b[1;32m     69\u001b[0m                     \u001b[0;32mif\u001b[0m \u001b[0misinstance\u001b[0m\u001b[0;34m(\u001b[0m\u001b[0moutput\u001b[0m\u001b[0;34m,\u001b[0m \u001b[0;34m(\u001b[0m\u001b[0mlist\u001b[0m\u001b[0;34m,\u001b[0m \u001b[0mtuple\u001b[0m\u001b[0;34m)\u001b[0m\u001b[0;34m)\u001b[0m\u001b[0;34m:\u001b[0m\u001b[0;34m\u001b[0m\u001b[0;34m\u001b[0m\u001b[0m\n",
      "\u001b[0;32m/usr/twix/python/lib/python3.8/site-packages/torch/nn/modules/module.py\u001b[0m in \u001b[0;36m_call_impl\u001b[0;34m(self, *input, **kwargs)\u001b[0m\n\u001b[1;32m    887\u001b[0m             \u001b[0mresult\u001b[0m \u001b[0;34m=\u001b[0m \u001b[0mself\u001b[0m\u001b[0;34m.\u001b[0m\u001b[0m_slow_forward\u001b[0m\u001b[0;34m(\u001b[0m\u001b[0;34m*\u001b[0m\u001b[0minput\u001b[0m\u001b[0;34m,\u001b[0m \u001b[0;34m**\u001b[0m\u001b[0mkwargs\u001b[0m\u001b[0;34m)\u001b[0m\u001b[0;34m\u001b[0m\u001b[0;34m\u001b[0m\u001b[0m\n\u001b[1;32m    888\u001b[0m         \u001b[0;32melse\u001b[0m\u001b[0;34m:\u001b[0m\u001b[0;34m\u001b[0m\u001b[0;34m\u001b[0m\u001b[0m\n\u001b[0;32m--> 889\u001b[0;31m             \u001b[0mresult\u001b[0m \u001b[0;34m=\u001b[0m \u001b[0mself\u001b[0m\u001b[0;34m.\u001b[0m\u001b[0mforward\u001b[0m\u001b[0;34m(\u001b[0m\u001b[0;34m*\u001b[0m\u001b[0minput\u001b[0m\u001b[0;34m,\u001b[0m \u001b[0;34m**\u001b[0m\u001b[0mkwargs\u001b[0m\u001b[0;34m)\u001b[0m\u001b[0;34m\u001b[0m\u001b[0;34m\u001b[0m\u001b[0m\n\u001b[0m\u001b[1;32m    890\u001b[0m         for hook in itertools.chain(\n\u001b[1;32m    891\u001b[0m                 \u001b[0m_global_forward_hooks\u001b[0m\u001b[0;34m.\u001b[0m\u001b[0mvalues\u001b[0m\u001b[0;34m(\u001b[0m\u001b[0;34m)\u001b[0m\u001b[0;34m,\u001b[0m\u001b[0;34m\u001b[0m\u001b[0;34m\u001b[0m\u001b[0m\n",
      "\u001b[0;32m/home/ayagudin/dl/probabilistic-time-series/notebooks/models/tempflow_network_initial.py\u001b[0m in \u001b[0;36mforward\u001b[0;34m(self, target_dimension_indicator, past_time_feat, past_target_cdf, past_observed_values, past_is_pad, future_time_feat, future_target_cdf, future_observed_values)\u001b[0m\n\u001b[1;32m    361\u001b[0m         \u001b[0;31m# unroll the decoder in \"training mode\", i.e. by providing future data\u001b[0m\u001b[0;34m\u001b[0m\u001b[0;34m\u001b[0m\u001b[0;34m\u001b[0m\u001b[0m\n\u001b[1;32m    362\u001b[0m         \u001b[0;31m# as well\u001b[0m\u001b[0;34m\u001b[0m\u001b[0;34m\u001b[0m\u001b[0;34m\u001b[0m\u001b[0m\n\u001b[0;32m--> 363\u001b[0;31m         rnn_outputs, _, scale, _, _ = self.unroll_encoder(\n\u001b[0m\u001b[1;32m    364\u001b[0m             \u001b[0mpast_time_feat\u001b[0m\u001b[0;34m=\u001b[0m\u001b[0mpast_time_feat\u001b[0m\u001b[0;34m,\u001b[0m\u001b[0;34m\u001b[0m\u001b[0;34m\u001b[0m\u001b[0m\n\u001b[1;32m    365\u001b[0m             \u001b[0mpast_target_cdf\u001b[0m\u001b[0;34m=\u001b[0m\u001b[0mpast_target_cdf\u001b[0m\u001b[0;34m,\u001b[0m\u001b[0;34m\u001b[0m\u001b[0;34m\u001b[0m\u001b[0m\n",
      "\u001b[0;32m/home/ayagudin/dl/probabilistic-time-series/notebooks/models/tempflow_network_initial.py\u001b[0m in \u001b[0;36munroll_encoder\u001b[0;34m(self, past_time_feat, past_target_cdf, past_observed_values, past_is_pad, future_time_feat, future_target_cdf, target_dimension_indicator)\u001b[0m\n\u001b[1;32m    265\u001b[0m         )\n\u001b[1;32m    266\u001b[0m \u001b[0;34m\u001b[0m\u001b[0m\n\u001b[0;32m--> 267\u001b[0;31m         outputs, states, lags_scaled, inputs = self.unroll(\n\u001b[0m\u001b[1;32m    268\u001b[0m             \u001b[0mlags\u001b[0m\u001b[0;34m=\u001b[0m\u001b[0mlags\u001b[0m\u001b[0;34m,\u001b[0m\u001b[0;34m\u001b[0m\u001b[0;34m\u001b[0m\u001b[0m\n\u001b[1;32m    269\u001b[0m             \u001b[0mscale\u001b[0m\u001b[0;34m=\u001b[0m\u001b[0mscale\u001b[0m\u001b[0;34m,\u001b[0m\u001b[0;34m\u001b[0m\u001b[0;34m\u001b[0m\u001b[0m\n",
      "\u001b[0;32m/home/ayagudin/dl/probabilistic-time-series/notebooks/models/tempflow_network_initial.py\u001b[0m in \u001b[0;36munroll\u001b[0;34m(self, lags, scale, time_feat, target_dimension_indicator, unroll_length, begin_state)\u001b[0m\n\u001b[1;32m    166\u001b[0m \u001b[0;34m\u001b[0m\u001b[0m\n\u001b[1;32m    167\u001b[0m         \u001b[0;31m# unroll encoder\u001b[0m\u001b[0;34m\u001b[0m\u001b[0;34m\u001b[0m\u001b[0;34m\u001b[0m\u001b[0m\n\u001b[0;32m--> 168\u001b[0;31m         \u001b[0moutputs\u001b[0m\u001b[0;34m,\u001b[0m \u001b[0mstate\u001b[0m \u001b[0;34m=\u001b[0m \u001b[0mself\u001b[0m\u001b[0;34m.\u001b[0m\u001b[0mrnn\u001b[0m\u001b[0;34m(\u001b[0m\u001b[0minputs\u001b[0m\u001b[0;34m,\u001b[0m \u001b[0mbegin_state\u001b[0m\u001b[0;34m)\u001b[0m\u001b[0;34m\u001b[0m\u001b[0;34m\u001b[0m\u001b[0m\n\u001b[0m\u001b[1;32m    169\u001b[0m         \u001b[0mlog\u001b[0m\u001b[0;34m(\u001b[0m\u001b[0;34m'outputs.shape'\u001b[0m\u001b[0;34m,\u001b[0m \u001b[0moutputs\u001b[0m\u001b[0;34m.\u001b[0m\u001b[0mshape\u001b[0m\u001b[0;34m)\u001b[0m\u001b[0;34m\u001b[0m\u001b[0;34m\u001b[0m\u001b[0m\n\u001b[1;32m    170\u001b[0m \u001b[0;31m#         assert False\u001b[0m\u001b[0;34m\u001b[0m\u001b[0;34m\u001b[0m\u001b[0;34m\u001b[0m\u001b[0m\n",
      "\u001b[0;32m/usr/twix/python/lib/python3.8/site-packages/torch/nn/modules/module.py\u001b[0m in \u001b[0;36m_call_impl\u001b[0;34m(self, *input, **kwargs)\u001b[0m\n\u001b[1;32m    887\u001b[0m             \u001b[0mresult\u001b[0m \u001b[0;34m=\u001b[0m \u001b[0mself\u001b[0m\u001b[0;34m.\u001b[0m\u001b[0m_slow_forward\u001b[0m\u001b[0;34m(\u001b[0m\u001b[0;34m*\u001b[0m\u001b[0minput\u001b[0m\u001b[0;34m,\u001b[0m \u001b[0;34m**\u001b[0m\u001b[0mkwargs\u001b[0m\u001b[0;34m)\u001b[0m\u001b[0;34m\u001b[0m\u001b[0;34m\u001b[0m\u001b[0m\n\u001b[1;32m    888\u001b[0m         \u001b[0;32melse\u001b[0m\u001b[0;34m:\u001b[0m\u001b[0;34m\u001b[0m\u001b[0;34m\u001b[0m\u001b[0m\n\u001b[0;32m--> 889\u001b[0;31m             \u001b[0mresult\u001b[0m \u001b[0;34m=\u001b[0m \u001b[0mself\u001b[0m\u001b[0;34m.\u001b[0m\u001b[0mforward\u001b[0m\u001b[0;34m(\u001b[0m\u001b[0;34m*\u001b[0m\u001b[0minput\u001b[0m\u001b[0;34m,\u001b[0m \u001b[0;34m**\u001b[0m\u001b[0mkwargs\u001b[0m\u001b[0;34m)\u001b[0m\u001b[0;34m\u001b[0m\u001b[0;34m\u001b[0m\u001b[0m\n\u001b[0m\u001b[1;32m    890\u001b[0m         for hook in itertools.chain(\n\u001b[1;32m    891\u001b[0m                 \u001b[0m_global_forward_hooks\u001b[0m\u001b[0;34m.\u001b[0m\u001b[0mvalues\u001b[0m\u001b[0;34m(\u001b[0m\u001b[0;34m)\u001b[0m\u001b[0;34m,\u001b[0m\u001b[0;34m\u001b[0m\u001b[0;34m\u001b[0m\u001b[0m\n",
      "\u001b[0;32m/usr/twix/python/lib/python3.8/site-packages/torch/nn/modules/rnn.py\u001b[0m in \u001b[0;36mforward\u001b[0;34m(self, input, hx)\u001b[0m\n\u001b[1;32m    819\u001b[0m         \u001b[0mself\u001b[0m\u001b[0;34m.\u001b[0m\u001b[0mcheck_forward_args\u001b[0m\u001b[0;34m(\u001b[0m\u001b[0minput\u001b[0m\u001b[0;34m,\u001b[0m \u001b[0mhx\u001b[0m\u001b[0;34m,\u001b[0m \u001b[0mbatch_sizes\u001b[0m\u001b[0;34m)\u001b[0m\u001b[0;34m\u001b[0m\u001b[0;34m\u001b[0m\u001b[0m\n\u001b[1;32m    820\u001b[0m         \u001b[0;32mif\u001b[0m \u001b[0mbatch_sizes\u001b[0m \u001b[0;32mis\u001b[0m \u001b[0;32mNone\u001b[0m\u001b[0;34m:\u001b[0m\u001b[0;34m\u001b[0m\u001b[0;34m\u001b[0m\u001b[0m\n\u001b[0;32m--> 821\u001b[0;31m             result = _VF.gru(input, hx, self._flat_weights, self.bias, self.num_layers,\n\u001b[0m\u001b[1;32m    822\u001b[0m                              self.dropout, self.training, self.bidirectional, self.batch_first)\n\u001b[1;32m    823\u001b[0m         \u001b[0;32melse\u001b[0m\u001b[0;34m:\u001b[0m\u001b[0;34m\u001b[0m\u001b[0;34m\u001b[0m\u001b[0m\n",
      "\u001b[0;31mKeyboardInterrupt\u001b[0m: "
     ]
    }
   ],
   "source": [
    "from models.tempflow_estimator_initial import TempFlowEstimator\n",
    "\n",
    "tempflow_estimator_initial = TempFlowEstimator(\n",
    "    target_dim=1,\n",
    "    prediction_length=1,\n",
    "    cell_type='GRU',\n",
    "    context_length=3,\n",
    "    input_size=8,\n",
    "    freq=dataset_metadata['freq'],\n",
    "    scaling=False,\n",
    "    dequantize=False,\n",
    "    n_blocks=4,\n",
    "    trainer=Trainer(device=device,\n",
    "                    epochs=5,\n",
    "                    learning_rate=1e-3,\n",
    "                    num_batches_per_epoch=20000,\n",
    "                    batch_size=32)\n",
    ")\n",
    "\n",
    "tempflow_predictor_initial = tempflow_estimator_initial.train(train_ds)"
   ]
  },
  {
   "cell_type": "code",
   "execution_count": 70,
   "id": "02db0967-7bb2-4fea-b08f-c8490502138b",
   "metadata": {
    "execution": {
     "iopub.execute_input": "2022-05-02T23:35:00.317136Z",
     "iopub.status.busy": "2022-05-02T23:35:00.316681Z",
     "iopub.status.idle": "2022-05-02T23:35:00.355107Z",
     "shell.execute_reply": "2022-05-02T23:35:00.353871Z",
     "shell.execute_reply.started": "2022-05-02T23:35:00.317090Z"
    }
   },
   "outputs": [
    {
     "ename": "NameError",
     "evalue": "name 'tempflow_predictor' is not defined",
     "output_type": "error",
     "traceback": [
      "\u001b[0;31m---------------------------------------------------------------------------\u001b[0m",
      "\u001b[0;31mNameError\u001b[0m                                 Traceback (most recent call last)",
      "\u001b[0;32m/tmp/ipykernel_1962958/731929596.py\u001b[0m in \u001b[0;36m<module>\u001b[0;34m\u001b[0m\n\u001b[0;32m----> 1\u001b[0;31m \u001b[0mtempflow_predictor\u001b[0m\u001b[0;34m\u001b[0m\u001b[0;34m\u001b[0m\u001b[0m\n\u001b[0m",
      "\u001b[0;31mNameError\u001b[0m: name 'tempflow_predictor' is not defined"
     ]
    }
   ],
   "source": [
    "tempflow_predictor"
   ]
  },
  {
   "cell_type": "markdown",
   "id": "6c94014a-1f53-488a-afa6-80b7686a84d2",
   "metadata": {},
   "source": [
    "# Normalizing flow metrics"
   ]
  },
  {
   "cell_type": "code",
   "execution_count": 166,
   "id": "a895ea99-e4f5-4a75-9983-8e6cec4e914b",
   "metadata": {
    "execution": {
     "iopub.execute_input": "2022-05-03T21:33:02.822724Z",
     "iopub.status.busy": "2022-05-03T21:33:02.822397Z",
     "iopub.status.idle": "2022-05-03T21:33:02.865656Z",
     "shell.execute_reply": "2022-05-03T21:33:02.864859Z",
     "shell.execute_reply.started": "2022-05-03T21:33:02.822684Z"
    },
    "tags": []
   },
   "outputs": [],
   "source": [
    "tempflow_predictor_fixed = tempflow_estimator.create_predictor(tempflow_predictor.transformation, tempflow_predictor.trained_net, device)"
   ]
  },
  {
   "cell_type": "code",
   "execution_count": 167,
   "id": "45e6064f-7b69-4f26-9660-fbc0466738d0",
   "metadata": {
    "execution": {
     "iopub.execute_input": "2022-05-03T21:33:18.087819Z",
     "iopub.status.busy": "2022-05-03T21:33:18.087488Z",
     "iopub.status.idle": "2022-05-03T21:33:18.129523Z",
     "shell.execute_reply": "2022-05-03T21:33:18.128714Z",
     "shell.execute_reply.started": "2022-05-03T21:33:18.087779Z"
    },
    "tags": []
   },
   "outputs": [],
   "source": [
    "import pickle \n",
    "\n",
    "with open('./checkpoints/tempflow_predictor_trained.pkl', 'wb') as f:\n",
    "    pickle.dump(tempflow_predictor, f)"
   ]
  },
  {
   "cell_type": "code",
   "execution_count": 153,
   "id": "8823444d-b43e-4d4e-8060-9013126d64cc",
   "metadata": {
    "execution": {
     "iopub.execute_input": "2022-05-03T21:30:11.234355Z",
     "iopub.status.busy": "2022-05-03T21:30:11.234036Z",
     "iopub.status.idle": "2022-05-03T21:30:11.277519Z",
     "shell.execute_reply": "2022-05-03T21:30:11.276699Z",
     "shell.execute_reply.started": "2022-05-03T21:30:11.234317Z"
    }
   },
   "outputs": [],
   "source": [
    "tempflow_predictor_loaded = tempflow_estimator.create_predictor(tempflow_predictor_loaded.transformation, tempflow_predictor_loaded.trained_net, device)"
   ]
  },
  {
   "cell_type": "code",
   "execution_count": 162,
   "id": "95688830-4ddc-4fcb-8d72-6f301d8d43d4",
   "metadata": {
    "execution": {
     "iopub.execute_input": "2022-05-03T21:31:28.478375Z",
     "iopub.status.busy": "2022-05-03T21:31:28.478057Z",
     "iopub.status.idle": "2022-05-03T21:31:28.509869Z",
     "shell.execute_reply": "2022-05-03T21:31:28.509142Z",
     "shell.execute_reply.started": "2022-05-03T21:31:28.478337Z"
    },
    "tags": []
   },
   "outputs": [],
   "source": [
    "forecast_it, ts_it = make_evaluation_predictions(\n",
    "    dataset=test_ds_rolled,  # test dataset\n",
    "    predictor=tempflow_predictor_fixed,  # predictor\n",
    "    num_samples=10,  # number of sample paths we want for evaluation\n",
    ")"
   ]
  },
  {
   "cell_type": "code",
   "execution_count": 163,
   "id": "3ea3aadc-87bf-411a-b167-0af698d64e6b",
   "metadata": {
    "execution": {
     "iopub.execute_input": "2022-05-03T21:31:40.851498Z",
     "iopub.status.busy": "2022-05-03T21:31:40.851190Z",
     "iopub.status.idle": "2022-05-03T21:31:47.978973Z",
     "shell.execute_reply": "2022-05-03T21:31:47.977668Z",
     "shell.execute_reply.started": "2022-05-03T21:31:40.851459Z"
    },
    "tags": []
   },
   "outputs": [
    {
     "data": {
      "application/vnd.jupyter.widget-view+json": {
       "model_id": "1f7716f0973a4832aeb6980337fd872e",
       "version_major": 2,
       "version_minor": 0
      },
      "text/plain": [
       "HBox(children=(IntProgress(value=1, bar_style='info', max=1), HTML(value='')))"
      ]
     },
     "metadata": {},
     "output_type": "display_data"
    },
    {
     "name": "stdout",
     "output_type": "stream",
     "text": [
      "\n"
     ]
    },
    {
     "data": {
      "application/vnd.jupyter.widget-view+json": {
       "model_id": "66243fec3d7e4d9ab4998dcaed2b6162",
       "version_major": 2,
       "version_minor": 0
      },
      "text/plain": [
       "HBox(children=(IntProgress(value=1, bar_style='info', max=1), HTML(value='')))"
      ]
     },
     "metadata": {},
     "output_type": "display_data"
    },
    {
     "name": "stdout",
     "output_type": "stream",
     "text": [
      "\n"
     ]
    }
   ],
   "source": [
    "forecasts = list(tqdm(forecast_it))\n",
    "tss = list(tqdm(ts_it))"
   ]
  },
  {
   "cell_type": "code",
   "execution_count": null,
   "id": "fac281b2-5da9-47f7-a249-4fbd44ba2cbb",
   "metadata": {
    "execution": {
     "iopub.execute_input": "2022-05-03T20:15:41.206397Z",
     "iopub.status.busy": "2022-05-03T20:15:41.206064Z"
    }
   },
   "outputs": [
    {
     "name": "stderr",
     "output_type": "stream",
     "text": [
      "Running evaluation:   0%|                                                     | 0/1000 [00:00<?, ?it/s]IOStream.flush timed out\n",
      "IOStream.flush timed out\n",
      "IOStream.flush timed out\n"
     ]
    }
   ],
   "source": [
    "# actually we can easily calculate it by hand\n",
    "tempflow_evaluator = Evaluator(quantiles=[0.1, 0.5, 0.9])\n",
    "tempflow_agg_metrics, tempflow_item_metrics = tempflow_evaluator(iter(tss), \n",
    "                                      iter(forecasts), \n",
    "                                      num_series=len(test_ds_rolled))"
   ]
  },
  {
   "cell_type": "code",
   "execution_count": 123,
   "id": "fc75e439-5d0b-4e3f-a7c4-36a62caf8205",
   "metadata": {
    "execution": {
     "iopub.execute_input": "2022-05-03T21:03:58.178796Z",
     "iopub.status.busy": "2022-05-03T21:03:58.178466Z",
     "iopub.status.idle": "2022-05-03T21:03:58.293527Z",
     "shell.execute_reply": "2022-05-03T21:03:58.289696Z",
     "shell.execute_reply.started": "2022-05-03T21:03:58.178753Z"
    },
    "tags": []
   },
   "outputs": [
    {
     "data": {
      "text/plain": [
       "'OK'"
      ]
     },
     "execution_count": 123,
     "metadata": {},
     "output_type": "execute_result"
    }
   ],
   "source": []
  },
  {
   "cell_type": "code",
   "execution_count": 125,
   "id": "0bbd05d5-a65c-464b-a9f1-295827561325",
   "metadata": {
    "execution": {
     "iopub.execute_input": "2022-05-03T21:04:38.610729Z",
     "iopub.status.busy": "2022-05-03T21:04:38.610418Z",
     "iopub.status.idle": "2022-05-03T21:04:38.645633Z",
     "shell.execute_reply": "2022-05-03T21:04:38.644758Z",
     "shell.execute_reply.started": "2022-05-03T21:04:38.610691Z"
    },
    "tags": []
   },
   "outputs": [
    {
     "ename": "NameError",
     "evalue": "name 'tempflow_agg_metrics' is not defined",
     "output_type": "error",
     "traceback": [
      "\u001b[0;31m---------------------------------------------------------------------------\u001b[0m",
      "\u001b[0;31mNameError\u001b[0m                                 Traceback (most recent call last)",
      "\u001b[0;32m/tmp/ipykernel_1962958/2745590574.py\u001b[0m in \u001b[0;36m<module>\u001b[0;34m\u001b[0m\n\u001b[0;32m----> 1\u001b[0;31m \u001b[0mtempflow_agg_metrics\u001b[0m\u001b[0;34m\u001b[0m\u001b[0;34m\u001b[0m\u001b[0m\n\u001b[0m",
      "\u001b[0;31mNameError\u001b[0m: name 'tempflow_agg_metrics' is not defined"
     ]
    }
   ],
   "source": []
  },
  {
   "cell_type": "code",
   "execution_count": null,
   "id": "5822b5d0-34d3-4f56-b973-a71c290e6d23",
   "metadata": {},
   "outputs": [],
   "source": []
  }
 ],
 "metadata": {
  "kernelspec": {
   "display_name": "Python 3 (ipykernel)",
   "language": "python",
   "name": "python3"
  },
  "language_info": {
   "codemirror_mode": {
    "name": "ipython",
    "version": 3
   },
   "file_extension": ".py",
   "mimetype": "text/x-python",
   "name": "python",
   "nbconvert_exporter": "python",
   "pygments_lexer": "ipython3",
   "version": "3.8.10"
  }
 },
 "nbformat": 4,
 "nbformat_minor": 5
}
