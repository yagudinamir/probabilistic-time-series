{
 "cells": [
  {
   "cell_type": "code",
   "execution_count": 1,
   "id": "cc463bfb-f200-497d-9a5b-22e10d1236b5",
   "metadata": {
    "execution": {
     "iopub.execute_input": "2022-02-12T21:59:55.083146Z",
     "iopub.status.busy": "2022-02-12T21:59:55.082313Z",
     "iopub.status.idle": "2022-02-12T21:59:55.667253Z",
     "shell.execute_reply": "2022-02-12T21:59:55.666025Z",
     "shell.execute_reply.started": "2022-02-12T21:59:55.082946Z"
    }
   },
   "outputs": [],
   "source": [
    "import numpy as np\n",
    "import matplotlib.pyplot as plt\n",
    "import pandas as pd\n",
    "from tqdm.notebook import tqdm\n",
    "\n",
    "import os"
   ]
  },
  {
   "cell_type": "code",
   "execution_count": 2,
   "id": "d679db48-9b04-4543-8216-756a76331d7e",
   "metadata": {
    "execution": {
     "iopub.execute_input": "2022-02-12T21:59:56.396773Z",
     "iopub.status.busy": "2022-02-12T21:59:56.396210Z",
     "iopub.status.idle": "2022-02-12T21:59:56.443855Z",
     "shell.execute_reply": "2022-02-12T21:59:56.442732Z",
     "shell.execute_reply.started": "2022-02-12T21:59:56.396706Z"
    }
   },
   "outputs": [],
   "source": [
    "%load_ext autoreload\n",
    "%autoreload 2"
   ]
  },
  {
   "cell_type": "code",
   "execution_count": 3,
   "id": "cb2b8997-4b77-46b7-9a40-03311ddb116f",
   "metadata": {
    "execution": {
     "iopub.execute_input": "2022-02-12T22:04:08.080851Z",
     "iopub.status.busy": "2022-02-12T22:04:08.080242Z",
     "iopub.status.idle": "2022-02-12T22:04:08.117443Z",
     "shell.execute_reply": "2022-02-12T22:04:08.116544Z",
     "shell.execute_reply.started": "2022-02-12T22:04:08.080782Z"
    }
   },
   "outputs": [],
   "source": [
    "DATASET_PATH = '/home/ayagudin/dl/probabilistic-time-series/lobster-preprocessed-dataset/'"
   ]
  },
  {
   "cell_type": "code",
   "execution_count": 5,
   "id": "701bfe4c-d777-44a4-bef1-667463425792",
   "metadata": {
    "execution": {
     "iopub.execute_input": "2022-02-12T22:04:23.413208Z",
     "iopub.status.busy": "2022-02-12T22:04:23.412609Z",
     "iopub.status.idle": "2022-02-12T22:04:23.453880Z",
     "shell.execute_reply": "2022-02-12T22:04:23.453010Z",
     "shell.execute_reply.started": "2022-02-12T22:04:23.413138Z"
    },
    "tags": []
   },
   "outputs": [
    {
     "data": {
      "text/plain": [
       "['2015-01-06_features.npy',\n",
       " '2015-01-16_targets.npy',\n",
       " '2015-01-13_targets.npy',\n",
       " '2015-01-29_features.npy',\n",
       " '2015-01-22_features.npy',\n",
       " '2015-01-21_targets.npy',\n",
       " '2015-01-02_features.npy',\n",
       " '2015-01-15_features.npy',\n",
       " '2015-01-09_features.npy',\n",
       " '2015-01-08_features.npy',\n",
       " '2015-01-15_targets.npy',\n",
       " '2015-01-23_features.npy',\n",
       " '2015-01-22_targets.npy',\n",
       " '2015-01-27_targets.npy',\n",
       " '2015-01-12_targets.npy',\n",
       " '2015-01-20_targets.npy',\n",
       " '2015-01-06_targets.npy',\n",
       " '2015-01-16_features.npy',\n",
       " '2015-01-12_features.npy',\n",
       " '2015-01-30_features.npy',\n",
       " '2015-01-30_targets.npy',\n",
       " '2015-01-08_targets.npy',\n",
       " '2015-01-29_targets.npy',\n",
       " '2015-01-28_targets.npy',\n",
       " '2015-01-26_targets.npy',\n",
       " '2015-01-20_features.npy',\n",
       " '2015-01-09_targets.npy',\n",
       " '2015-01-14_features.npy',\n",
       " '2015-01-05_targets.npy',\n",
       " '2015-01-13_features.npy',\n",
       " '2015-01-07_targets.npy',\n",
       " '2015-01-23_targets.npy',\n",
       " '2015-01-21_features.npy',\n",
       " '2015-01-26_features.npy',\n",
       " '2015-01-28_features.npy',\n",
       " '2015-01-27_features.npy',\n",
       " '2015-01-05_features.npy',\n",
       " '2015-01-07_features.npy',\n",
       " '2015-01-14_targets.npy',\n",
       " '2015-01-02_targets.npy']"
      ]
     },
     "execution_count": 5,
     "metadata": {},
     "output_type": "execute_result"
    }
   ],
   "source": [
    "features_per_day = {}\n",
    "\n",
    "os.listdir(DATASET_PATH)"
   ]
  },
  {
   "cell_type": "code",
   "execution_count": null,
   "id": "b1f916b1-ea5c-49b8-8f7d-dc925d6fbc56",
   "metadata": {},
   "outputs": [],
   "source": []
  }
 ],
 "metadata": {
  "kernelspec": {
   "display_name": "Python 3 (ipykernel)",
   "language": "python",
   "name": "python3"
  },
  "language_info": {
   "codemirror_mode": {
    "name": "ipython",
    "version": 3
   },
   "file_extension": ".py",
   "mimetype": "text/x-python",
   "name": "python",
   "nbconvert_exporter": "python",
   "pygments_lexer": "ipython3",
   "version": "3.8.10"
  }
 },
 "nbformat": 4,
 "nbformat_minor": 5
}
