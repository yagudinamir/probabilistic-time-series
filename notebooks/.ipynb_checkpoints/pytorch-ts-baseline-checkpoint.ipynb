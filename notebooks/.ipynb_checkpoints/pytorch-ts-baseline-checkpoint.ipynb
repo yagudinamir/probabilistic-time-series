{
 "cells": [
  {
   "cell_type": "code",
   "execution_count": 284,
   "id": "cc463bfb-f200-497d-9a5b-22e10d1236b5",
   "metadata": {
    "execution": {
     "iopub.execute_input": "2022-04-24T18:57:48.408727Z",
     "iopub.status.busy": "2022-04-24T18:57:48.408397Z",
     "iopub.status.idle": "2022-04-24T18:57:48.439428Z",
     "shell.execute_reply": "2022-04-24T18:57:48.438796Z",
     "shell.execute_reply.started": "2022-04-24T18:57:48.408688Z"
    },
    "tags": []
   },
   "outputs": [],
   "source": [
    "import numpy as np\n",
    "import matplotlib.pyplot as plt\n",
    "import pandas as pd\n",
    "from tqdm.notebook import tqdm\n",
    "\n",
    "import os"
   ]
  },
  {
   "cell_type": "code",
   "execution_count": 285,
   "id": "d679db48-9b04-4543-8216-756a76331d7e",
   "metadata": {
    "execution": {
     "iopub.execute_input": "2022-04-24T18:57:49.595490Z",
     "iopub.status.busy": "2022-04-24T18:57:49.595154Z",
     "iopub.status.idle": "2022-04-24T18:57:49.623625Z",
     "shell.execute_reply": "2022-04-24T18:57:49.623166Z",
     "shell.execute_reply.started": "2022-04-24T18:57:49.595444Z"
    },
    "tags": []
   },
   "outputs": [
    {
     "name": "stdout",
     "output_type": "stream",
     "text": [
      "The autoreload extension is already loaded. To reload it, use:\n",
      "  %reload_ext autoreload\n"
     ]
    }
   ],
   "source": [
    "%load_ext autoreload\n",
    "%autoreload 2"
   ]
  },
  {
   "cell_type": "code",
   "execution_count": 286,
   "id": "cb2b8997-4b77-46b7-9a40-03311ddb116f",
   "metadata": {
    "execution": {
     "iopub.execute_input": "2022-04-24T18:57:50.180714Z",
     "iopub.status.busy": "2022-04-24T18:57:50.180319Z",
     "iopub.status.idle": "2022-04-24T18:57:50.208541Z",
     "shell.execute_reply": "2022-04-24T18:57:50.207871Z",
     "shell.execute_reply.started": "2022-04-24T18:57:50.180668Z"
    },
    "tags": []
   },
   "outputs": [],
   "source": [
    "DATASET_PATH = '/home/ayagudin/dl/probabilistic-time-series/lobster-preprocessed-dataset/'"
   ]
  },
  {
   "cell_type": "code",
   "execution_count": 287,
   "id": "701bfe4c-d777-44a4-bef1-667463425792",
   "metadata": {
    "execution": {
     "iopub.execute_input": "2022-04-24T18:57:50.372458Z",
     "iopub.status.busy": "2022-04-24T18:57:50.372067Z",
     "iopub.status.idle": "2022-04-24T18:57:50.399615Z",
     "shell.execute_reply": "2022-04-24T18:57:50.399161Z",
     "shell.execute_reply.started": "2022-04-24T18:57:50.372418Z"
    },
    "tags": []
   },
   "outputs": [],
   "source": [
    "from data_utils import load_features_and_targets"
   ]
  },
  {
   "cell_type": "code",
   "execution_count": 288,
   "id": "b1f916b1-ea5c-49b8-8f7d-dc925d6fbc56",
   "metadata": {
    "execution": {
     "iopub.execute_input": "2022-04-24T18:57:50.866741Z",
     "iopub.status.busy": "2022-04-24T18:57:50.866404Z",
     "iopub.status.idle": "2022-04-24T18:57:50.957609Z",
     "shell.execute_reply": "2022-04-24T18:57:50.957072Z",
     "shell.execute_reply.started": "2022-04-24T18:57:50.866719Z"
    },
    "tags": []
   },
   "outputs": [],
   "source": [
    "features_per_day, targets_per_day = load_features_and_targets(DATASET_PATH)"
   ]
  },
  {
   "cell_type": "markdown",
   "id": "8063a29e-f8b7-45c0-8f9d-4cfb6b0d8006",
   "metadata": {},
   "source": [
    "# Cut session begin & end\n",
    "> TODO reconstruct dataset so that it will have only moments with huge traded_amount"
   ]
  },
  {
   "cell_type": "code",
   "execution_count": 289,
   "id": "95b11233-ad59-4c21-94f8-5581a79fbe77",
   "metadata": {
    "execution": {
     "iopub.execute_input": "2022-04-24T18:57:51.958724Z",
     "iopub.status.busy": "2022-04-24T18:57:51.958316Z",
     "iopub.status.idle": "2022-04-24T18:57:51.988409Z",
     "shell.execute_reply": "2022-04-24T18:57:51.987912Z",
     "shell.execute_reply.started": "2022-04-24T18:57:51.958676Z"
    },
    "tags": []
   },
   "outputs": [],
   "source": [
    "timestamps_to_cut = 200"
   ]
  },
  {
   "cell_type": "code",
   "execution_count": 290,
   "id": "423d4e5e-9cc2-46c3-bfb1-f7b3839ee7d5",
   "metadata": {
    "execution": {
     "iopub.execute_input": "2022-04-24T18:57:52.701883Z",
     "iopub.status.busy": "2022-04-24T18:57:52.701501Z",
     "iopub.status.idle": "2022-04-24T18:57:52.729598Z",
     "shell.execute_reply": "2022-04-24T18:57:52.729137Z",
     "shell.execute_reply.started": "2022-04-24T18:57:52.701842Z"
    },
    "tags": []
   },
   "outputs": [],
   "source": [
    "for day in features_per_day:\n",
    "    features_per_day[day] = features_per_day[day][timestamps_to_cut:-timestamps_to_cut]\n",
    "    targets_per_day[day] = targets_per_day[day][timestamps_to_cut:-timestamps_to_cut].reshape(-1, 1)"
   ]
  },
  {
   "cell_type": "code",
   "execution_count": 291,
   "id": "5cc290bc-3286-4ec8-b988-4e46a3cd0e4c",
   "metadata": {
    "execution": {
     "iopub.execute_input": "2022-04-24T18:57:57.301352Z",
     "iopub.status.busy": "2022-04-24T18:57:57.300996Z",
     "iopub.status.idle": "2022-04-24T18:57:57.367678Z",
     "shell.execute_reply": "2022-04-24T18:57:57.367214Z",
     "shell.execute_reply.started": "2022-04-24T18:57:57.301313Z"
    },
    "tags": []
   },
   "outputs": [
    {
     "data": {
      "text/plain": [
       "((926340, 27), (926340, 1))"
      ]
     },
     "execution_count": 291,
     "metadata": {},
     "output_type": "execute_result"
    }
   ],
   "source": [
    "full_features = np.concatenate(list(features_per_day.values()))\n",
    "full_targets = np.concatenate(list(targets_per_day.values()))\n",
    "full_features.shape, full_targets.shape"
   ]
  },
  {
   "cell_type": "markdown",
   "id": "ae2d0043-6c29-41e0-9c35-d180880ec750",
   "metadata": {},
   "source": [
    "# Scaling"
   ]
  },
  {
   "cell_type": "code",
   "execution_count": 292,
   "id": "3d3ab0c9-e140-498e-b037-e3dc3beaf8d9",
   "metadata": {
    "execution": {
     "iopub.execute_input": "2022-04-24T18:58:01.203192Z",
     "iopub.status.busy": "2022-04-24T18:58:01.202619Z",
     "iopub.status.idle": "2022-04-24T18:58:01.231696Z",
     "shell.execute_reply": "2022-04-24T18:58:01.231070Z",
     "shell.execute_reply.started": "2022-04-24T18:58:01.203146Z"
    },
    "tags": []
   },
   "outputs": [],
   "source": [
    "from sklearn.preprocessing import StandardScaler"
   ]
  },
  {
   "cell_type": "code",
   "execution_count": 293,
   "id": "c6e7ea1c-6d37-4dce-bbca-84a4e9c5fd85",
   "metadata": {
    "execution": {
     "iopub.execute_input": "2022-04-24T18:58:01.768369Z",
     "iopub.status.busy": "2022-04-24T18:58:01.768112Z",
     "iopub.status.idle": "2022-04-24T18:58:01.791074Z",
     "shell.execute_reply": "2022-04-24T18:58:01.790446Z",
     "shell.execute_reply.started": "2022-04-24T18:58:01.768334Z"
    },
    "tags": []
   },
   "outputs": [],
   "source": [
    "target_scaler = StandardScaler()\n",
    "feature_scaler = StandardScaler()"
   ]
  },
  {
   "cell_type": "code",
   "execution_count": 294,
   "id": "f986ae36-4695-4dd9-a3d1-5285c6310361",
   "metadata": {
    "execution": {
     "iopub.execute_input": "2022-04-24T18:58:02.051302Z",
     "iopub.status.busy": "2022-04-24T18:58:02.050996Z",
     "iopub.status.idle": "2022-04-24T18:58:02.371476Z",
     "shell.execute_reply": "2022-04-24T18:58:02.370834Z",
     "shell.execute_reply.started": "2022-04-24T18:58:02.051264Z"
    },
    "tags": []
   },
   "outputs": [
    {
     "data": {
      "text/plain": [
       "StandardScaler()"
      ]
     },
     "execution_count": 294,
     "metadata": {},
     "output_type": "execute_result"
    }
   ],
   "source": [
    "feature_scaler.fit(full_features)\n",
    "target_scaler.fit(full_targets)"
   ]
  },
  {
   "cell_type": "code",
   "execution_count": 295,
   "id": "0e6a7ebb-7c53-4c56-83cb-b1552c5e8552",
   "metadata": {
    "execution": {
     "iopub.execute_input": "2022-04-24T18:58:03.414862Z",
     "iopub.status.busy": "2022-04-24T18:58:03.414478Z",
     "iopub.status.idle": "2022-04-24T18:58:03.524549Z",
     "shell.execute_reply": "2022-04-24T18:58:03.523836Z",
     "shell.execute_reply.started": "2022-04-24T18:58:03.414822Z"
    },
    "tags": []
   },
   "outputs": [],
   "source": [
    "for day in features_per_day:\n",
    "    features_per_day[day] = feature_scaler.transform(features_per_day[day])\n",
    "    targets_per_day[day] = target_scaler.transform(targets_per_day[day]).reshape(-1)"
   ]
  },
  {
   "cell_type": "markdown",
   "id": "4653de3c-1ff4-4832-b92f-23e2ee3912fa",
   "metadata": {},
   "source": [
    "# Defining dataset"
   ]
  },
  {
   "cell_type": "code",
   "execution_count": 370,
   "id": "56d72c90-5ce3-4afb-8637-d62b6daa8500",
   "metadata": {
    "execution": {
     "iopub.execute_input": "2022-04-24T23:09:48.503574Z",
     "iopub.status.busy": "2022-04-24T23:09:48.503195Z",
     "iopub.status.idle": "2022-04-24T23:09:48.533652Z",
     "shell.execute_reply": "2022-04-24T23:09:48.532835Z",
     "shell.execute_reply.started": "2022-04-24T23:09:48.503533Z"
    },
    "tags": []
   },
   "outputs": [],
   "source": [
    "dataset_metadata = {\n",
    "    'freq': '1H',\n",
    " 'prediction_length': 1,\n",
    " 'features_history': 5,\n",
    " 'start': pd.Timestamp('2019-01-01 00:00:00', freq='H'),\n",
    " 'num_train_days': 14,\n",
    " 'num_test_days': 3}\n"
   ]
  },
  {
   "cell_type": "code",
   "execution_count": 297,
   "id": "c16e2452-f509-490f-9068-4f2521de4508",
   "metadata": {
    "execution": {
     "iopub.execute_input": "2022-04-24T18:58:06.541755Z",
     "iopub.status.busy": "2022-04-24T18:58:06.541046Z",
     "iopub.status.idle": "2022-04-24T18:58:06.570828Z",
     "shell.execute_reply": "2022-04-24T18:58:06.570317Z",
     "shell.execute_reply.started": "2022-04-24T18:58:06.541704Z"
    },
    "tags": []
   },
   "outputs": [
    {
     "name": "stdout",
     "output_type": "stream",
     "text": [
      "14 6\n"
     ]
    }
   ],
   "source": [
    "days = sorted(list(features_per_day.keys()))\n",
    "train_days = days[:dataset_metadata['num_train_days']]\n",
    "test_days = days[dataset_metadata['num_train_days']:]\n",
    "print(len(train_days), len(test_days))"
   ]
  },
  {
   "cell_type": "code",
   "execution_count": 298,
   "id": "75f35c5a-3179-4703-b928-c5a6d73fe54d",
   "metadata": {
    "execution": {
     "iopub.execute_input": "2022-04-24T18:58:07.099620Z",
     "iopub.status.busy": "2022-04-24T18:58:07.099295Z",
     "iopub.status.idle": "2022-04-24T18:58:07.701963Z",
     "shell.execute_reply": "2022-04-24T18:58:07.701331Z",
     "shell.execute_reply.started": "2022-04-24T18:58:07.099587Z"
    },
    "tags": []
   },
   "outputs": [
    {
     "data": {
      "image/png": "[encoded data removed]",
      "text/plain": [
       "<Figure size 432x288 with 1 Axes>"
      ]
     },
     "metadata": {
      "needs_background": "light"
     },
     "output_type": "display_data"
    },
    {
     "data": {
      "image/png": "[encoded data removed]",
      "text/plain": [
       "<Figure size 432x288 with 1 Axes>"
      ]
     },
     "metadata": {
      "needs_background": "light"
     },
     "output_type": "display_data"
    }
   ],
   "source": [
    "plt.hist(targets_per_day[days[-1]], bins=100);\n",
    "plt.show()\n",
    "plt.hist(targets_per_day[days[0]], bins=100);\n",
    "plt.show()"
   ]
  },
  {
   "cell_type": "code",
   "execution_count": 299,
   "id": "d59e84d6-94ea-453d-b161-1bdcf2267ead",
   "metadata": {
    "execution": {
     "iopub.execute_input": "2022-04-24T18:58:08.562721Z",
     "iopub.status.busy": "2022-04-24T18:58:08.562363Z",
     "iopub.status.idle": "2022-04-24T18:58:08.592967Z",
     "shell.execute_reply": "2022-04-24T18:58:08.592417Z",
     "shell.execute_reply.started": "2022-04-24T18:58:08.562680Z"
    },
    "tags": []
   },
   "outputs": [],
   "source": [
    "from gluonts.dataset.common import ListDataset\n",
    "from gluonts.dataset.field_names import FieldName"
   ]
  },
  {
   "cell_type": "code",
   "execution_count": 300,
   "id": "fef2d6df-5916-4ad7-8875-9c74dd8cd548",
   "metadata": {
    "execution": {
     "iopub.execute_input": "2022-04-24T18:58:08.593972Z",
     "iopub.status.busy": "2022-04-24T18:58:08.593847Z",
     "iopub.status.idle": "2022-04-24T18:58:08.622095Z",
     "shell.execute_reply": "2022-04-24T18:58:08.621291Z",
     "shell.execute_reply.started": "2022-04-24T18:58:08.593955Z"
    },
    "tags": []
   },
   "outputs": [],
   "source": [
    "train_ds = ListDataset(\n",
    "    [\n",
    "        {\n",
    "            FieldName.TARGET: targets_per_day[day][None],\n",
    "            FieldName.START: dataset_metadata['start'],\n",
    "            FieldName.FEAT_DYNAMIC_REAL: features_per_day[day].T\n",
    "        }\n",
    "        for day in train_days\n",
    "    ],\n",
    "    freq=dataset_metadata['freq'],\n",
    "    one_dim_target=False\n",
    ")\n",
    "\n",
    "# for test_ds we had to create a list of dicts \n",
    "# with all suffixes from test_days"
   ]
  },
  {
   "cell_type": "code",
   "execution_count": 301,
   "id": "fc95d5af-e65b-46ab-8e8b-e0cb2d1e5c99",
   "metadata": {
    "execution": {
     "iopub.execute_input": "2022-04-24T18:58:15.157052Z",
     "iopub.status.busy": "2022-04-24T18:58:15.156738Z",
     "iopub.status.idle": "2022-04-24T18:58:15.186336Z",
     "shell.execute_reply": "2022-04-24T18:58:15.185702Z",
     "shell.execute_reply.started": "2022-04-24T18:58:15.157012Z"
    },
    "tags": []
   },
   "outputs": [
    {
     "data": {
      "text/plain": [
       "(1, 46317)"
      ]
     },
     "execution_count": 301,
     "metadata": {},
     "output_type": "execute_result"
    }
   ],
   "source": [
    "targets_per_day[train_days[0]][None].shape"
   ]
  },
  {
   "cell_type": "code",
   "execution_count": 302,
   "id": "6a9decdf-5b5e-4bf1-8b76-bd7ed4e36c03",
   "metadata": {
    "execution": {
     "iopub.execute_input": "2022-04-24T18:58:16.455735Z",
     "iopub.status.busy": "2022-04-24T18:58:16.455336Z",
     "iopub.status.idle": "2022-04-24T18:58:16.482689Z",
     "shell.execute_reply": "2022-04-24T18:58:16.482183Z",
     "shell.execute_reply.started": "2022-04-24T18:58:16.455693Z"
    },
    "tags": []
   },
   "outputs": [
    {
     "data": {
      "text/plain": [
       "(27, 46317)"
      ]
     },
     "execution_count": 302,
     "metadata": {},
     "output_type": "execute_result"
    }
   ],
   "source": [
    "features_per_day[day].T.shape"
   ]
  },
  {
   "cell_type": "markdown",
   "id": "43e9097a-377f-46f2-b74f-c596ac3b9963",
   "metadata": {},
   "source": [
    "# MLP Regression"
   ]
  },
  {
   "cell_type": "code",
   "execution_count": 192,
   "id": "3c782b11-5303-4abf-9911-b720e83218c9",
   "metadata": {
    "execution": {
     "iopub.execute_input": "2022-04-23T13:22:35.980836Z",
     "iopub.status.busy": "2022-04-23T13:22:35.980526Z",
     "iopub.status.idle": "2022-04-23T13:22:36.009301Z",
     "shell.execute_reply": "2022-04-23T13:22:36.008657Z",
     "shell.execute_reply.started": "2022-04-23T13:22:35.980797Z"
    },
    "tags": []
   },
   "outputs": [],
   "source": [
    "# from gluonts.model.simple_feedforward import SimpleFeedForwardEstimator\n",
    "# from gluonts.mx import Trainer\n",
    "# from gluonts.evaluation import Evaluator"
   ]
  },
  {
   "cell_type": "code",
   "execution_count": 193,
   "id": "d4d28104-9409-425c-aa9b-b25cf3ef9e19",
   "metadata": {
    "execution": {
     "iopub.execute_input": "2022-04-23T13:22:36.472643Z",
     "iopub.status.busy": "2022-04-23T13:22:36.472151Z",
     "iopub.status.idle": "2022-04-23T13:22:36.494885Z",
     "shell.execute_reply": "2022-04-23T13:22:36.494019Z",
     "shell.execute_reply.started": "2022-04-23T13:22:36.472621Z"
    },
    "tags": []
   },
   "outputs": [],
   "source": [
    "# estimator = SimpleFeedForwardEstimator(\n",
    "#     num_hidden_dimensions=[10],\n",
    "#     prediction_length=1,\n",
    "#     context_length=10,\n",
    "#     freq=dataset_metadata['freq'],\n",
    "#     trainer=Trainer(\n",
    "#         ctx=\"cpu\",\n",
    "#         epochs=5,\n",
    "#         learning_rate=1e-3,\n",
    "#         hybridize=False,\n",
    "#         num_batches_per_epoch=100\n",
    "#     )\n",
    "# )"
   ]
  },
  {
   "cell_type": "code",
   "execution_count": 194,
   "id": "b1a83669-1b9a-4221-91e8-b0ad3f9903d9",
   "metadata": {
    "execution": {
     "iopub.execute_input": "2022-04-23T13:22:36.916873Z",
     "iopub.status.busy": "2022-04-23T13:22:36.916499Z",
     "iopub.status.idle": "2022-04-23T13:22:36.944173Z",
     "shell.execute_reply": "2022-04-23T13:22:36.943538Z",
     "shell.execute_reply.started": "2022-04-23T13:22:36.916832Z"
    },
    "tags": []
   },
   "outputs": [],
   "source": [
    "# predictor = estimator.train(train_ds)"
   ]
  },
  {
   "cell_type": "code",
   "execution_count": 195,
   "id": "f49d1a7b-98f2-49e9-8613-3e907af998c6",
   "metadata": {
    "execution": {
     "iopub.execute_input": "2022-04-23T13:22:37.373313Z",
     "iopub.status.busy": "2022-04-23T13:22:37.373083Z",
     "iopub.status.idle": "2022-04-23T13:22:37.398565Z",
     "shell.execute_reply": "2022-04-23T13:22:37.397981Z",
     "shell.execute_reply.started": "2022-04-23T13:22:37.373282Z"
    },
    "tags": []
   },
   "outputs": [],
   "source": [
    "# evaluator = Evaluator(quantiles=[0.1, 0.5, 0.9])\n",
    "# agg_metrics, item_metrics = evaluator(iter(tss), iter(forecasts), num_series=len(test_ds))"
   ]
  },
  {
   "cell_type": "markdown",
   "id": "34ccd5ff-e538-4333-820e-ed40ace6f104",
   "metadata": {},
   "source": [
    "# MLP Uncertainty estimation"
   ]
  },
  {
   "cell_type": "code",
   "execution_count": 196,
   "id": "03458e61-ae50-4a45-a24e-d056af24eb0c",
   "metadata": {
    "execution": {
     "iopub.execute_input": "2022-04-23T13:22:37.588516Z",
     "iopub.status.busy": "2022-04-23T13:22:37.588196Z",
     "iopub.status.idle": "2022-04-23T13:22:37.615200Z",
     "shell.execute_reply": "2022-04-23T13:22:37.614397Z",
     "shell.execute_reply.started": "2022-04-23T13:22:37.588483Z"
    },
    "tags": []
   },
   "outputs": [],
   "source": [
    "# from pts.model.simple_feedforward import SimpleFeedForwardTrainingNetwork\n",
    "# from pts.model.simple_feedforward import SimpleFeedForwardEstimator\n",
    "from models.simple_feedforward_estimator import SimpleFeedForwardEstimator\n",
    "from models.simple_feedforward_network import SimpleFeedForwardTrainingNetwork\n",
    "from pts import Trainer\n",
    "import torch\n",
    "\n",
    "from gluonts.mx import DistributionOutput, GaussianOutput\n",
    "\n",
    "from pts.modules import NormalOutput\n"
   ]
  },
  {
   "cell_type": "code",
   "execution_count": 197,
   "id": "a1ce0fc2-2ed5-4ed4-95f0-7084b40fcb06",
   "metadata": {
    "execution": {
     "iopub.execute_input": "2022-04-23T13:22:37.697546Z",
     "iopub.status.busy": "2022-04-23T13:22:37.697250Z",
     "iopub.status.idle": "2022-04-23T13:22:37.724757Z",
     "shell.execute_reply": "2022-04-23T13:22:37.724041Z",
     "shell.execute_reply.started": "2022-04-23T13:22:37.697515Z"
    },
    "tags": []
   },
   "outputs": [],
   "source": [
    "\n",
    "device = torch.device(\"cpu\")\n",
    "\n",
    "estimator = SimpleFeedForwardEstimator(\n",
    "    prediction_length=dataset_metadata['prediction_length'] + 1,\n",
    "    context_length=dataset_metadata['features_history'],\n",
    "    freq=dataset_metadata['freq'],\n",
    "    num_hidden_dimensions=[324, 40, 40, 1],\n",
    "    # distr_output=NormalOutput(),\n",
    "    trainer=Trainer(\n",
    "        device=device,\n",
    "        epochs=5,\n",
    "        learning_rate=1e-3,\n",
    "        num_batches_per_epoch=100\n",
    "    )\n",
    ")"
   ]
  },
  {
   "cell_type": "code",
   "execution_count": 198,
   "id": "dce7fe3d-6099-4f08-ace4-dd3b4f5c8d70",
   "metadata": {
    "execution": {
     "iopub.execute_input": "2022-04-23T13:22:37.726224Z",
     "iopub.status.busy": "2022-04-23T13:22:37.725902Z",
     "iopub.status.idle": "2022-04-23T13:22:37.758575Z",
     "shell.execute_reply": "2022-04-23T13:22:37.757967Z",
     "shell.execute_reply.started": "2022-04-23T13:22:37.726205Z"
    },
    "tags": []
   },
   "outputs": [
    {
     "data": {
      "text/plain": [
       "Sequential(\n",
       "  (0): Linear(in_features=324, out_features=40, bias=True)\n",
       "  (1): ReLU()\n",
       "  (2): Linear(in_features=40, out_features=40, bias=True)\n",
       "  (3): ReLU()\n",
       "  (4): Linear(in_features=40, out_features=2, bias=True)\n",
       "  (5): LambdaLayer()\n",
       ")"
      ]
     },
     "execution_count": 198,
     "metadata": {},
     "output_type": "execute_result"
    }
   ],
   "source": [
    "estimator.create_training_network(device).mlp"
   ]
  },
  {
   "cell_type": "code",
   "execution_count": 199,
   "id": "b80e198b-2651-43cc-8399-1e857fd4fc1e",
   "metadata": {
    "execution": {
     "iopub.execute_input": "2022-04-23T13:22:37.805623Z",
     "iopub.status.busy": "2022-04-23T13:22:37.805337Z",
     "iopub.status.idle": "2022-04-23T13:22:37.933123Z",
     "shell.execute_reply": "2022-04-23T13:22:37.932164Z",
     "shell.execute_reply.started": "2022-04-23T13:22:37.805593Z"
    },
    "tags": []
   },
   "outputs": [
    {
     "data": {
      "application/vnd.jupyter.widget-view+json": {
       "model_id": "f1fb8afbcb354a7a84d6205f1ac42c65",
       "version_major": 2,
       "version_minor": 0
      },
      "text/plain": [
       "HBox(children=(IntProgress(value=0, max=99), HTML(value='')))"
      ]
     },
     "metadata": {},
     "output_type": "display_data"
    },
    {
     "name": "stdout",
     "output_type": "stream",
     "text": [
      "\n"
     ]
    },
    {
     "ename": "ValueError",
     "evalue": "Value is not broadcastable with batch_shape+event_shape: torch.Size([32, 2, 1]) vs torch.Size([32, 2]).",
     "output_type": "error",
     "traceback": [
      "\u001b[0;31m---------------------------------------------------------------------------\u001b[0m",
      "\u001b[0;31mValueError\u001b[0m                                Traceback (most recent call last)",
      "\u001b[0;32m/tmp/ipykernel_3499517/3134606962.py\u001b[0m in \u001b[0;36m<module>\u001b[0;34m\u001b[0m\n\u001b[0;32m----> 1\u001b[0;31m \u001b[0mpredictor\u001b[0m \u001b[0;34m=\u001b[0m \u001b[0mestimator\u001b[0m\u001b[0;34m.\u001b[0m\u001b[0mtrain\u001b[0m\u001b[0;34m(\u001b[0m\u001b[0mtrain_ds\u001b[0m\u001b[0;34m)\u001b[0m\u001b[0;34m\u001b[0m\u001b[0;34m\u001b[0m\u001b[0m\n\u001b[0m",
      "\u001b[0;32m/usr/twix/python/lib/python3.8/site-packages/pts/model/estimator.py\u001b[0m in \u001b[0;36mtrain\u001b[0;34m(self, training_data, validation_data, num_workers, prefetch_factor, shuffle_buffer_length, cache_data, **kwargs)\u001b[0m\n\u001b[1;32m    177\u001b[0m         \u001b[0;34m**\u001b[0m\u001b[0mkwargs\u001b[0m\u001b[0;34m,\u001b[0m\u001b[0;34m\u001b[0m\u001b[0;34m\u001b[0m\u001b[0m\n\u001b[1;32m    178\u001b[0m     ) -> PyTorchPredictor:\n\u001b[0;32m--> 179\u001b[0;31m         return self.train_model(\n\u001b[0m\u001b[1;32m    180\u001b[0m             \u001b[0mtraining_data\u001b[0m\u001b[0;34m,\u001b[0m\u001b[0;34m\u001b[0m\u001b[0;34m\u001b[0m\u001b[0m\n\u001b[1;32m    181\u001b[0m             \u001b[0mvalidation_data\u001b[0m\u001b[0;34m,\u001b[0m\u001b[0;34m\u001b[0m\u001b[0;34m\u001b[0m\u001b[0m\n",
      "\u001b[0;32m/usr/twix/python/lib/python3.8/site-packages/pts/model/estimator.py\u001b[0m in \u001b[0;36mtrain_model\u001b[0;34m(self, training_data, validation_data, num_workers, prefetch_factor, shuffle_buffer_length, cache_data, **kwargs)\u001b[0m\n\u001b[1;32m    149\u001b[0m             )\n\u001b[1;32m    150\u001b[0m \u001b[0;34m\u001b[0m\u001b[0m\n\u001b[0;32m--> 151\u001b[0;31m         self.trainer(\n\u001b[0m\u001b[1;32m    152\u001b[0m             \u001b[0mnet\u001b[0m\u001b[0;34m=\u001b[0m\u001b[0mtrained_net\u001b[0m\u001b[0;34m,\u001b[0m\u001b[0;34m\u001b[0m\u001b[0;34m\u001b[0m\u001b[0m\n\u001b[1;32m    153\u001b[0m             \u001b[0mtrain_iter\u001b[0m\u001b[0;34m=\u001b[0m\u001b[0mtraining_data_loader\u001b[0m\u001b[0;34m,\u001b[0m\u001b[0;34m\u001b[0m\u001b[0;34m\u001b[0m\u001b[0m\n",
      "\u001b[0;32m/usr/twix/python/lib/python3.8/site-packages/pts/trainer.py\u001b[0m in \u001b[0;36m__call__\u001b[0;34m(self, net, train_iter, validation_iter)\u001b[0m\n\u001b[1;32m     65\u001b[0m \u001b[0;34m\u001b[0m\u001b[0m\n\u001b[1;32m     66\u001b[0m                     \u001b[0minputs\u001b[0m \u001b[0;34m=\u001b[0m \u001b[0;34m[\u001b[0m\u001b[0mv\u001b[0m\u001b[0;34m.\u001b[0m\u001b[0mto\u001b[0m\u001b[0;34m(\u001b[0m\u001b[0mself\u001b[0m\u001b[0;34m.\u001b[0m\u001b[0mdevice\u001b[0m\u001b[0;34m)\u001b[0m \u001b[0;32mfor\u001b[0m \u001b[0mv\u001b[0m \u001b[0;32min\u001b[0m \u001b[0mdata_entry\u001b[0m\u001b[0;34m.\u001b[0m\u001b[0mvalues\u001b[0m\u001b[0;34m(\u001b[0m\u001b[0;34m)\u001b[0m\u001b[0;34m]\u001b[0m\u001b[0;34m\u001b[0m\u001b[0;34m\u001b[0m\u001b[0m\n\u001b[0;32m---> 67\u001b[0;31m                     \u001b[0moutput\u001b[0m \u001b[0;34m=\u001b[0m \u001b[0mnet\u001b[0m\u001b[0;34m(\u001b[0m\u001b[0;34m*\u001b[0m\u001b[0minputs\u001b[0m\u001b[0;34m)\u001b[0m\u001b[0;34m\u001b[0m\u001b[0;34m\u001b[0m\u001b[0m\n\u001b[0m\u001b[1;32m     68\u001b[0m \u001b[0;34m\u001b[0m\u001b[0m\n\u001b[1;32m     69\u001b[0m                     \u001b[0;32mif\u001b[0m \u001b[0misinstance\u001b[0m\u001b[0;34m(\u001b[0m\u001b[0moutput\u001b[0m\u001b[0;34m,\u001b[0m \u001b[0;34m(\u001b[0m\u001b[0mlist\u001b[0m\u001b[0;34m,\u001b[0m \u001b[0mtuple\u001b[0m\u001b[0;34m)\u001b[0m\u001b[0;34m)\u001b[0m\u001b[0;34m:\u001b[0m\u001b[0;34m\u001b[0m\u001b[0;34m\u001b[0m\u001b[0m\n",
      "\u001b[0;32m/usr/twix/python/lib/python3.8/site-packages/torch/nn/modules/module.py\u001b[0m in \u001b[0;36m_call_impl\u001b[0;34m(self, *input, **kwargs)\u001b[0m\n\u001b[1;32m    887\u001b[0m             \u001b[0mresult\u001b[0m \u001b[0;34m=\u001b[0m \u001b[0mself\u001b[0m\u001b[0;34m.\u001b[0m\u001b[0m_slow_forward\u001b[0m\u001b[0;34m(\u001b[0m\u001b[0;34m*\u001b[0m\u001b[0minput\u001b[0m\u001b[0;34m,\u001b[0m \u001b[0;34m**\u001b[0m\u001b[0mkwargs\u001b[0m\u001b[0;34m)\u001b[0m\u001b[0;34m\u001b[0m\u001b[0;34m\u001b[0m\u001b[0m\n\u001b[1;32m    888\u001b[0m         \u001b[0;32melse\u001b[0m\u001b[0;34m:\u001b[0m\u001b[0;34m\u001b[0m\u001b[0;34m\u001b[0m\u001b[0m\n\u001b[0;32m--> 889\u001b[0;31m             \u001b[0mresult\u001b[0m \u001b[0;34m=\u001b[0m \u001b[0mself\u001b[0m\u001b[0;34m.\u001b[0m\u001b[0mforward\u001b[0m\u001b[0;34m(\u001b[0m\u001b[0;34m*\u001b[0m\u001b[0minput\u001b[0m\u001b[0;34m,\u001b[0m \u001b[0;34m**\u001b[0m\u001b[0mkwargs\u001b[0m\u001b[0;34m)\u001b[0m\u001b[0;34m\u001b[0m\u001b[0;34m\u001b[0m\u001b[0m\n\u001b[0m\u001b[1;32m    890\u001b[0m         for hook in itertools.chain(\n\u001b[1;32m    891\u001b[0m                 \u001b[0m_global_forward_hooks\u001b[0m\u001b[0;34m.\u001b[0m\u001b[0mvalues\u001b[0m\u001b[0;34m(\u001b[0m\u001b[0;34m)\u001b[0m\u001b[0;34m,\u001b[0m\u001b[0;34m\u001b[0m\u001b[0;34m\u001b[0m\u001b[0m\n",
      "\u001b[0;32m/home/ayagudin/dl/probabilistic-time-series/notebooks/models/simple_feedforward_network.py\u001b[0m in \u001b[0;36mforward\u001b[0;34m(self, past_target, future_target, past_feat_dynamic_real, future_feat_dynamic_real, past_observed_values, future_observed_values)\u001b[0m\n\u001b[1;32m    121\u001b[0m \u001b[0;34m\u001b[0m\u001b[0m\n\u001b[1;32m    122\u001b[0m         \u001b[0;31m# (batch_size, prediction_length, target_dim)\u001b[0m\u001b[0;34m\u001b[0m\u001b[0;34m\u001b[0m\u001b[0;34m\u001b[0m\u001b[0m\n\u001b[0;32m--> 123\u001b[0;31m         \u001b[0mloss\u001b[0m \u001b[0;34m=\u001b[0m \u001b[0;34m-\u001b[0m\u001b[0mdistr\u001b[0m\u001b[0;34m.\u001b[0m\u001b[0mlog_prob\u001b[0m\u001b[0;34m(\u001b[0m\u001b[0mfuture_target\u001b[0m\u001b[0;34m)\u001b[0m\u001b[0;34m\u001b[0m\u001b[0;34m\u001b[0m\u001b[0m\n\u001b[0m\u001b[1;32m    124\u001b[0m \u001b[0;34m\u001b[0m\u001b[0m\n\u001b[1;32m    125\u001b[0m         \u001b[0;32mreturn\u001b[0m \u001b[0mloss\u001b[0m\u001b[0;34m.\u001b[0m\u001b[0mmean\u001b[0m\u001b[0;34m(\u001b[0m\u001b[0;34m)\u001b[0m\u001b[0;34m\u001b[0m\u001b[0;34m\u001b[0m\u001b[0m\n",
      "\u001b[0;32m/usr/twix/python/lib/python3.8/site-packages/torch/distributions/studentT.py\u001b[0m in \u001b[0;36mlog_prob\u001b[0;34m(self, value)\u001b[0m\n\u001b[1;32m     75\u001b[0m     \u001b[0;32mdef\u001b[0m \u001b[0mlog_prob\u001b[0m\u001b[0;34m(\u001b[0m\u001b[0mself\u001b[0m\u001b[0;34m,\u001b[0m \u001b[0mvalue\u001b[0m\u001b[0;34m)\u001b[0m\u001b[0;34m:\u001b[0m\u001b[0;34m\u001b[0m\u001b[0;34m\u001b[0m\u001b[0m\n\u001b[1;32m     76\u001b[0m         \u001b[0;32mif\u001b[0m \u001b[0mself\u001b[0m\u001b[0;34m.\u001b[0m\u001b[0m_validate_args\u001b[0m\u001b[0;34m:\u001b[0m\u001b[0;34m\u001b[0m\u001b[0;34m\u001b[0m\u001b[0m\n\u001b[0;32m---> 77\u001b[0;31m             \u001b[0mself\u001b[0m\u001b[0;34m.\u001b[0m\u001b[0m_validate_sample\u001b[0m\u001b[0;34m(\u001b[0m\u001b[0mvalue\u001b[0m\u001b[0;34m)\u001b[0m\u001b[0;34m\u001b[0m\u001b[0;34m\u001b[0m\u001b[0m\n\u001b[0m\u001b[1;32m     78\u001b[0m         \u001b[0my\u001b[0m \u001b[0;34m=\u001b[0m \u001b[0;34m(\u001b[0m\u001b[0mvalue\u001b[0m \u001b[0;34m-\u001b[0m \u001b[0mself\u001b[0m\u001b[0;34m.\u001b[0m\u001b[0mloc\u001b[0m\u001b[0;34m)\u001b[0m \u001b[0;34m/\u001b[0m \u001b[0mself\u001b[0m\u001b[0;34m.\u001b[0m\u001b[0mscale\u001b[0m\u001b[0;34m\u001b[0m\u001b[0;34m\u001b[0m\u001b[0m\n\u001b[1;32m     79\u001b[0m         Z = (self.scale.log() +\n",
      "\u001b[0;32m/usr/twix/python/lib/python3.8/site-packages/torch/distributions/distribution.py\u001b[0m in \u001b[0;36m_validate_sample\u001b[0;34m(self, value)\u001b[0m\n\u001b[1;32m    264\u001b[0m         \u001b[0;32mfor\u001b[0m \u001b[0mi\u001b[0m\u001b[0;34m,\u001b[0m \u001b[0mj\u001b[0m \u001b[0;32min\u001b[0m \u001b[0mzip\u001b[0m\u001b[0;34m(\u001b[0m\u001b[0mreversed\u001b[0m\u001b[0;34m(\u001b[0m\u001b[0mactual_shape\u001b[0m\u001b[0;34m)\u001b[0m\u001b[0;34m,\u001b[0m \u001b[0mreversed\u001b[0m\u001b[0;34m(\u001b[0m\u001b[0mexpected_shape\u001b[0m\u001b[0;34m)\u001b[0m\u001b[0;34m)\u001b[0m\u001b[0;34m:\u001b[0m\u001b[0;34m\u001b[0m\u001b[0;34m\u001b[0m\u001b[0m\n\u001b[1;32m    265\u001b[0m             \u001b[0;32mif\u001b[0m \u001b[0mi\u001b[0m \u001b[0;34m!=\u001b[0m \u001b[0;36m1\u001b[0m \u001b[0;32mand\u001b[0m \u001b[0mj\u001b[0m \u001b[0;34m!=\u001b[0m \u001b[0;36m1\u001b[0m \u001b[0;32mand\u001b[0m \u001b[0mi\u001b[0m \u001b[0;34m!=\u001b[0m \u001b[0mj\u001b[0m\u001b[0;34m:\u001b[0m\u001b[0;34m\u001b[0m\u001b[0;34m\u001b[0m\u001b[0m\n\u001b[0;32m--> 266\u001b[0;31m                 raise ValueError('Value is not broadcastable with batch_shape+event_shape: {} vs {}.'.\n\u001b[0m\u001b[1;32m    267\u001b[0m                                  format(actual_shape, expected_shape))\n\u001b[1;32m    268\u001b[0m         \u001b[0;32mtry\u001b[0m\u001b[0;34m:\u001b[0m\u001b[0;34m\u001b[0m\u001b[0;34m\u001b[0m\u001b[0m\n",
      "\u001b[0;31mValueError\u001b[0m: Value is not broadcastable with batch_shape+event_shape: torch.Size([32, 2, 1]) vs torch.Size([32, 2])."
     ]
    }
   ],
   "source": [
    "predictor = estimator.train(train_ds)"
   ]
  },
  {
   "cell_type": "markdown",
   "id": "ab98b51d-5112-4e1a-90e4-8f03b7fdd46d",
   "metadata": {},
   "source": [
    "# Validation"
   ]
  },
  {
   "cell_type": "code",
   "execution_count": 64,
   "id": "d2529185-2fa0-4133-9a52-c874cf56e555",
   "metadata": {
    "execution": {
     "iopub.execute_input": "2022-04-12T23:43:48.453783Z",
     "iopub.status.busy": "2022-04-12T23:43:48.452980Z",
     "iopub.status.idle": "2022-04-12T23:43:48.489025Z",
     "shell.execute_reply": "2022-04-12T23:43:48.488362Z",
     "shell.execute_reply.started": "2022-04-12T23:43:48.453733Z"
    },
    "tags": []
   },
   "outputs": [],
   "source": [
    "from gluonts.evaluation import make_evaluation_predictions"
   ]
  },
  {
   "cell_type": "code",
   "execution_count": 390,
   "id": "10ec8a60-334f-4084-af0d-fe3f80025f75",
   "metadata": {
    "execution": {
     "iopub.execute_input": "2022-04-24T23:36:54.609974Z",
     "iopub.status.busy": "2022-04-24T23:36:54.609661Z",
     "iopub.status.idle": "2022-04-24T23:36:54.639132Z",
     "shell.execute_reply": "2022-04-24T23:36:54.638458Z",
     "shell.execute_reply.started": "2022-04-24T23:36:54.609934Z"
    },
    "tags": []
   },
   "outputs": [],
   "source": [
    "test_ds = ListDataset(\n",
    "    [\n",
    "        {\n",
    "            FieldName.TARGET: targets_per_day[day][None],\n",
    "            FieldName.START: dataset_metadata['start'],\n",
    "            FieldName.FEAT_DYNAMIC_REAL: features_per_day[day].T\n",
    "        }\n",
    "        for day in test_days\n",
    "    ],\n",
    "    freq=dataset_metadata['freq'],\n",
    "    one_dim_target=False\n",
    ")"
   ]
  },
  {
   "cell_type": "code",
   "execution_count": 343,
   "id": "68ff6599-d282-4905-9f6e-07650a4a2a16",
   "metadata": {
    "execution": {
     "iopub.execute_input": "2022-04-24T21:55:27.330945Z",
     "iopub.status.busy": "2022-04-24T21:55:27.330541Z",
     "iopub.status.idle": "2022-04-24T21:55:27.361442Z",
     "shell.execute_reply": "2022-04-24T21:55:27.360408Z",
     "shell.execute_reply.started": "2022-04-24T21:55:27.330902Z"
    },
    "tags": []
   },
   "outputs": [],
   "source": [
    "forecast_it_tmp, ts_it_tmp = make_evaluation_predictions(\n",
    "    dataset=test_ds,  # test dataset\n",
    "    predictor=tempflow_predictor,  # predictor\n",
    "    num_samples=100,  # number of sample paths we want for evaluation\n",
    ")"
   ]
  },
  {
   "cell_type": "code",
   "execution_count": 344,
   "id": "c8e30c48-4d42-4046-8234-951363288afb",
   "metadata": {
    "execution": {
     "iopub.execute_input": "2022-04-24T21:55:31.425681Z",
     "iopub.status.busy": "2022-04-24T21:55:31.424694Z",
     "iopub.status.idle": "2022-04-24T21:55:32.629235Z",
     "shell.execute_reply": "2022-04-24T21:55:32.628591Z",
     "shell.execute_reply.started": "2022-04-24T21:55:31.425626Z"
    },
    "tags": []
   },
   "outputs": [],
   "source": [
    "forecasts_tmp = list(forecast_it_tmp)\n",
    "tss_tmp = list(ts_it_tmp)"
   ]
  },
  {
   "cell_type": "code",
   "execution_count": 355,
   "id": "6d27c319-debb-4856-ad99-8de31b2f624c",
   "metadata": {
    "execution": {
     "iopub.execute_input": "2022-04-24T21:57:09.767231Z",
     "iopub.status.busy": "2022-04-24T21:57:09.766744Z",
     "iopub.status.idle": "2022-04-24T21:57:09.795201Z",
     "shell.execute_reply": "2022-04-24T21:57:09.794148Z",
     "shell.execute_reply.started": "2022-04-24T21:57:09.767188Z"
    },
    "tags": []
   },
   "outputs": [],
   "source": [
    "# first entry of the time series list\n",
    "ts_entry = tss_tmp[0]"
   ]
  },
  {
   "cell_type": "code",
   "execution_count": 363,
   "id": "28679222-c454-48f2-8854-b535229af4ae",
   "metadata": {
    "execution": {
     "iopub.execute_input": "2022-04-24T21:58:04.652854Z",
     "iopub.status.busy": "2022-04-24T21:58:04.652399Z",
     "iopub.status.idle": "2022-04-24T21:58:04.687622Z",
     "shell.execute_reply": "2022-04-24T21:58:04.686727Z",
     "shell.execute_reply.started": "2022-04-24T21:58:04.652812Z"
    },
    "tags": []
   },
   "outputs": [
    {
     "data": {
      "text/plain": [
       "array([[5.488695 ],\n",
       "       [4.815944 ],\n",
       "       [5.2930727],\n",
       "       [4.6155505],\n",
       "       [4.324502 ]], dtype=float32)"
      ]
     },
     "execution_count": 363,
     "metadata": {},
     "output_type": "execute_result"
    }
   ],
   "source": [
    "np.array(ts_entry[:5])"
   ]
  },
  {
   "cell_type": "code",
   "execution_count": 357,
   "id": "81f9f757-74c9-4caf-ab01-4d8ddd62768c",
   "metadata": {
    "execution": {
     "iopub.execute_input": "2022-04-24T21:57:19.918727Z",
     "iopub.status.busy": "2022-04-24T21:57:19.918285Z",
     "iopub.status.idle": "2022-04-24T21:57:19.948106Z",
     "shell.execute_reply": "2022-04-24T21:57:19.947148Z",
     "shell.execute_reply.started": "2022-04-24T21:57:19.918685Z"
    },
    "tags": []
   },
   "outputs": [],
   "source": [
    "test_ds_entry = next(iter(test_ds))"
   ]
  },
  {
   "cell_type": "code",
   "execution_count": 362,
   "id": "455ed70d-f73d-40d0-b974-0f82dd5681e0",
   "metadata": {
    "execution": {
     "iopub.execute_input": "2022-04-24T21:57:56.605498Z",
     "iopub.status.busy": "2022-04-24T21:57:56.604750Z",
     "iopub.status.idle": "2022-04-24T21:57:56.637827Z",
     "shell.execute_reply": "2022-04-24T21:57:56.636935Z",
     "shell.execute_reply.started": "2022-04-24T21:57:56.605451Z"
    },
    "tags": []
   },
   "outputs": [
    {
     "data": {
      "text/plain": [
       "array([[5.488695 , 4.815944 , 5.2930727, 4.6155505, 4.324502 ]],\n",
       "      dtype=float32)"
      ]
     },
     "execution_count": 362,
     "metadata": {},
     "output_type": "execute_result"
    }
   ],
   "source": [
    "test_ds_entry['target'][..., :5]"
   ]
  },
  {
   "cell_type": "code",
   "execution_count": 364,
   "id": "de7832fd-3a6e-4c66-b649-d752c8d3c35d",
   "metadata": {
    "execution": {
     "iopub.execute_input": "2022-04-24T21:58:15.596702Z",
     "iopub.status.busy": "2022-04-24T21:58:15.596265Z",
     "iopub.status.idle": "2022-04-24T21:58:15.625058Z",
     "shell.execute_reply": "2022-04-24T21:58:15.624274Z",
     "shell.execute_reply.started": "2022-04-24T21:58:15.596661Z"
    },
    "tags": []
   },
   "outputs": [],
   "source": [
    "forecast_entry = forecasts_tmp[0]"
   ]
  },
  {
   "cell_type": "code",
   "execution_count": 365,
   "id": "a632d829-c266-4ed8-aca2-02a4ee59506d",
   "metadata": {
    "execution": {
     "iopub.execute_input": "2022-04-24T21:58:18.193651Z",
     "iopub.status.busy": "2022-04-24T21:58:18.193396Z",
     "iopub.status.idle": "2022-04-24T21:58:18.219974Z",
     "shell.execute_reply": "2022-04-24T21:58:18.219138Z",
     "shell.execute_reply.started": "2022-04-24T21:58:18.193631Z"
    },
    "tags": []
   },
   "outputs": [
    {
     "name": "stdout",
     "output_type": "stream",
     "text": [
      "Number of sample paths: 100\n",
      "Dimension of samples: (100, 1, 1)\n",
      "Start date of the forecast window: 2024-04-13 20:00:00\n",
      "Frequency of the time series: 1H\n"
     ]
    }
   ],
   "source": [
    "print(f\"Number of sample paths: {forecast_entry.num_samples}\")\n",
    "print(f\"Dimension of samples: {forecast_entry.samples.shape}\")\n",
    "print(f\"Start date of the forecast window: {forecast_entry.start_date}\")\n",
    "print(f\"Frequency of the time series: {forecast_entry.freq}\")"
   ]
  },
  {
   "cell_type": "code",
   "execution_count": 366,
   "id": "462cfcd9-23ea-454f-ab13-73445e70d891",
   "metadata": {
    "execution": {
     "iopub.execute_input": "2022-04-24T21:58:38.133293Z",
     "iopub.status.busy": "2022-04-24T21:58:38.132355Z",
     "iopub.status.idle": "2022-04-24T21:58:38.166682Z",
     "shell.execute_reply": "2022-04-24T21:58:38.165631Z",
     "shell.execute_reply.started": "2022-04-24T21:58:38.133237Z"
    },
    "tags": []
   },
   "outputs": [],
   "source": [
    "def plot_prob_forecasts(ts_entry, forecast_entry):\n",
    "    plot_length = 10\n",
    "    prediction_intervals = (50, 90)\n",
    "    legend = [\"observations\", \"median prediction\"] + [f\"{k}% prediction interval\" for k in prediction_intervals][::-1]\n",
    "\n",
    "    fig, ax = plt.subplots(1, 1, figsize=(10, 7))\n",
    "    ts_entry[-plot_length:].plot(ax=ax)  # plot the time series\n",
    "    forecast_entry.plot(prediction_intervals=prediction_intervals, color='g')\n",
    "    plt.grid(which=\"both\")\n",
    "    plt.legend(legend, loc=\"upper left\")\n",
    "    plt.show()"
   ]
  },
  {
   "cell_type": "code",
   "execution_count": 367,
   "id": "e0c5a175-fa1e-4149-a954-82e5841544f1",
   "metadata": {
    "execution": {
     "iopub.execute_input": "2022-04-24T21:58:42.458382Z",
     "iopub.status.busy": "2022-04-24T21:58:42.457592Z",
     "iopub.status.idle": "2022-04-24T21:58:42.641929Z",
     "shell.execute_reply": "2022-04-24T21:58:42.641029Z",
     "shell.execute_reply.started": "2022-04-24T21:58:42.458337Z"
    },
    "tags": []
   },
   "outputs": [
    {
     "ename": "Exception",
     "evalue": "Data must be 1-dimensional",
     "output_type": "error",
     "traceback": [
      "\u001b[0;31m---------------------------------------------------------------------------\u001b[0m",
      "\u001b[0;31mException\u001b[0m                                 Traceback (most recent call last)",
      "\u001b[0;32m/tmp/ipykernel_3499517/2899072392.py\u001b[0m in \u001b[0;36m<module>\u001b[0;34m\u001b[0m\n\u001b[0;32m----> 1\u001b[0;31m \u001b[0mplot_prob_forecasts\u001b[0m\u001b[0;34m(\u001b[0m\u001b[0mts_entry\u001b[0m\u001b[0;34m,\u001b[0m \u001b[0mforecast_entry\u001b[0m\u001b[0;34m)\u001b[0m\u001b[0;34m\u001b[0m\u001b[0;34m\u001b[0m\u001b[0m\n\u001b[0m",
      "\u001b[0;32m/tmp/ipykernel_3499517/590305804.py\u001b[0m in \u001b[0;36mplot_prob_forecasts\u001b[0;34m(ts_entry, forecast_entry)\u001b[0m\n\u001b[1;32m      6\u001b[0m     \u001b[0mfig\u001b[0m\u001b[0;34m,\u001b[0m \u001b[0max\u001b[0m \u001b[0;34m=\u001b[0m \u001b[0mplt\u001b[0m\u001b[0;34m.\u001b[0m\u001b[0msubplots\u001b[0m\u001b[0;34m(\u001b[0m\u001b[0;36m1\u001b[0m\u001b[0;34m,\u001b[0m \u001b[0;36m1\u001b[0m\u001b[0;34m,\u001b[0m \u001b[0mfigsize\u001b[0m\u001b[0;34m=\u001b[0m\u001b[0;34m(\u001b[0m\u001b[0;36m10\u001b[0m\u001b[0;34m,\u001b[0m \u001b[0;36m7\u001b[0m\u001b[0;34m)\u001b[0m\u001b[0;34m)\u001b[0m\u001b[0;34m\u001b[0m\u001b[0;34m\u001b[0m\u001b[0m\n\u001b[1;32m      7\u001b[0m     \u001b[0mts_entry\u001b[0m\u001b[0;34m[\u001b[0m\u001b[0;34m-\u001b[0m\u001b[0mplot_length\u001b[0m\u001b[0;34m:\u001b[0m\u001b[0;34m]\u001b[0m\u001b[0;34m.\u001b[0m\u001b[0mplot\u001b[0m\u001b[0;34m(\u001b[0m\u001b[0max\u001b[0m\u001b[0;34m=\u001b[0m\u001b[0max\u001b[0m\u001b[0;34m)\u001b[0m  \u001b[0;31m# plot the time series\u001b[0m\u001b[0;34m\u001b[0m\u001b[0;34m\u001b[0m\u001b[0m\n\u001b[0;32m----> 8\u001b[0;31m     \u001b[0mforecast_entry\u001b[0m\u001b[0;34m.\u001b[0m\u001b[0mplot\u001b[0m\u001b[0;34m(\u001b[0m\u001b[0mprediction_intervals\u001b[0m\u001b[0;34m=\u001b[0m\u001b[0mprediction_intervals\u001b[0m\u001b[0;34m,\u001b[0m \u001b[0mcolor\u001b[0m\u001b[0;34m=\u001b[0m\u001b[0;34m'g'\u001b[0m\u001b[0;34m)\u001b[0m\u001b[0;34m\u001b[0m\u001b[0;34m\u001b[0m\u001b[0m\n\u001b[0m\u001b[1;32m      9\u001b[0m     \u001b[0mplt\u001b[0m\u001b[0;34m.\u001b[0m\u001b[0mgrid\u001b[0m\u001b[0;34m(\u001b[0m\u001b[0mwhich\u001b[0m\u001b[0;34m=\u001b[0m\u001b[0;34m\"both\"\u001b[0m\u001b[0;34m)\u001b[0m\u001b[0;34m\u001b[0m\u001b[0;34m\u001b[0m\u001b[0m\n\u001b[1;32m     10\u001b[0m     \u001b[0mplt\u001b[0m\u001b[0;34m.\u001b[0m\u001b[0mlegend\u001b[0m\u001b[0;34m(\u001b[0m\u001b[0mlegend\u001b[0m\u001b[0;34m,\u001b[0m \u001b[0mloc\u001b[0m\u001b[0;34m=\u001b[0m\u001b[0;34m\"upper left\"\u001b[0m\u001b[0;34m)\u001b[0m\u001b[0;34m\u001b[0m\u001b[0;34m\u001b[0m\u001b[0m\n",
      "\u001b[0;32m/usr/twix/python/lib/python3.8/site-packages/gluonts/model/forecast.py\u001b[0m in \u001b[0;36mplot\u001b[0;34m(self, prediction_intervals, show_mean, color, label, output_file, *args, **kwargs)\u001b[0m\n\u001b[1;32m    201\u001b[0m \u001b[0;34m\u001b[0m\u001b[0m\n\u001b[1;32m    202\u001b[0m         \u001b[0mp50_data\u001b[0m \u001b[0;34m=\u001b[0m \u001b[0mps_data\u001b[0m\u001b[0;34m[\u001b[0m\u001b[0mi_p50\u001b[0m\u001b[0;34m]\u001b[0m\u001b[0;34m\u001b[0m\u001b[0;34m\u001b[0m\u001b[0m\n\u001b[0;32m--> 203\u001b[0;31m         \u001b[0mp50_series\u001b[0m \u001b[0;34m=\u001b[0m \u001b[0mpd\u001b[0m\u001b[0;34m.\u001b[0m\u001b[0mSeries\u001b[0m\u001b[0;34m(\u001b[0m\u001b[0mdata\u001b[0m\u001b[0;34m=\u001b[0m\u001b[0mp50_data\u001b[0m\u001b[0;34m,\u001b[0m \u001b[0mindex\u001b[0m\u001b[0;34m=\u001b[0m\u001b[0mself\u001b[0m\u001b[0;34m.\u001b[0m\u001b[0mindex\u001b[0m\u001b[0;34m)\u001b[0m\u001b[0;34m\u001b[0m\u001b[0;34m\u001b[0m\u001b[0m\n\u001b[0m\u001b[1;32m    204\u001b[0m         \u001b[0mp50_series\u001b[0m\u001b[0;34m.\u001b[0m\u001b[0mplot\u001b[0m\u001b[0;34m(\u001b[0m\u001b[0mcolor\u001b[0m\u001b[0;34m=\u001b[0m\u001b[0mcolor\u001b[0m\u001b[0;34m,\u001b[0m \u001b[0mls\u001b[0m\u001b[0;34m=\u001b[0m\u001b[0;34m\"-\"\u001b[0m\u001b[0;34m,\u001b[0m \u001b[0mlabel\u001b[0m\u001b[0;34m=\u001b[0m\u001b[0;34mf\"{label_prefix}median\"\u001b[0m\u001b[0;34m)\u001b[0m\u001b[0;34m\u001b[0m\u001b[0;34m\u001b[0m\u001b[0m\n\u001b[1;32m    205\u001b[0m \u001b[0;34m\u001b[0m\u001b[0m\n",
      "\u001b[0;32m/usr/twix/python/lib/python3.8/site-packages/pandas/core/series.py\u001b[0m in \u001b[0;36m__init__\u001b[0;34m(self, data, index, dtype, name, copy, fastpath)\u001b[0m\n\u001b[1;32m    325\u001b[0m                     \u001b[0mdata\u001b[0m \u001b[0;34m=\u001b[0m \u001b[0mdata\u001b[0m\u001b[0;34m.\u001b[0m\u001b[0mcopy\u001b[0m\u001b[0;34m(\u001b[0m\u001b[0;34m)\u001b[0m\u001b[0;34m\u001b[0m\u001b[0;34m\u001b[0m\u001b[0m\n\u001b[1;32m    326\u001b[0m             \u001b[0;32melse\u001b[0m\u001b[0;34m:\u001b[0m\u001b[0;34m\u001b[0m\u001b[0;34m\u001b[0m\u001b[0m\n\u001b[0;32m--> 327\u001b[0;31m                 \u001b[0mdata\u001b[0m \u001b[0;34m=\u001b[0m \u001b[0msanitize_array\u001b[0m\u001b[0;34m(\u001b[0m\u001b[0mdata\u001b[0m\u001b[0;34m,\u001b[0m \u001b[0mindex\u001b[0m\u001b[0;34m,\u001b[0m \u001b[0mdtype\u001b[0m\u001b[0;34m,\u001b[0m \u001b[0mcopy\u001b[0m\u001b[0;34m,\u001b[0m \u001b[0mraise_cast_failure\u001b[0m\u001b[0;34m=\u001b[0m\u001b[0;32mTrue\u001b[0m\u001b[0;34m)\u001b[0m\u001b[0;34m\u001b[0m\u001b[0;34m\u001b[0m\u001b[0m\n\u001b[0m\u001b[1;32m    328\u001b[0m \u001b[0;34m\u001b[0m\u001b[0m\n\u001b[1;32m    329\u001b[0m                 \u001b[0mdata\u001b[0m \u001b[0;34m=\u001b[0m \u001b[0mSingleBlockManager\u001b[0m\u001b[0;34m.\u001b[0m\u001b[0mfrom_array\u001b[0m\u001b[0;34m(\u001b[0m\u001b[0mdata\u001b[0m\u001b[0;34m,\u001b[0m \u001b[0mindex\u001b[0m\u001b[0;34m)\u001b[0m\u001b[0;34m\u001b[0m\u001b[0;34m\u001b[0m\u001b[0m\n",
      "\u001b[0;32m/usr/twix/python/lib/python3.8/site-packages/pandas/core/construction.py\u001b[0m in \u001b[0;36msanitize_array\u001b[0;34m(data, index, dtype, copy, raise_cast_failure)\u001b[0m\n\u001b[1;32m    494\u001b[0m     \u001b[0;32melif\u001b[0m \u001b[0msubarr\u001b[0m\u001b[0;34m.\u001b[0m\u001b[0mndim\u001b[0m \u001b[0;34m>\u001b[0m \u001b[0;36m1\u001b[0m\u001b[0;34m:\u001b[0m\u001b[0;34m\u001b[0m\u001b[0;34m\u001b[0m\u001b[0m\n\u001b[1;32m    495\u001b[0m         \u001b[0;32mif\u001b[0m \u001b[0misinstance\u001b[0m\u001b[0;34m(\u001b[0m\u001b[0mdata\u001b[0m\u001b[0;34m,\u001b[0m \u001b[0mnp\u001b[0m\u001b[0;34m.\u001b[0m\u001b[0mndarray\u001b[0m\u001b[0;34m)\u001b[0m\u001b[0;34m:\u001b[0m\u001b[0;34m\u001b[0m\u001b[0;34m\u001b[0m\u001b[0m\n\u001b[0;32m--> 496\u001b[0;31m             \u001b[0;32mraise\u001b[0m \u001b[0mException\u001b[0m\u001b[0;34m(\u001b[0m\u001b[0;34m\"Data must be 1-dimensional\"\u001b[0m\u001b[0;34m)\u001b[0m\u001b[0;34m\u001b[0m\u001b[0;34m\u001b[0m\u001b[0m\n\u001b[0m\u001b[1;32m    497\u001b[0m         \u001b[0;32melse\u001b[0m\u001b[0;34m:\u001b[0m\u001b[0;34m\u001b[0m\u001b[0;34m\u001b[0m\u001b[0m\n\u001b[1;32m    498\u001b[0m             \u001b[0msubarr\u001b[0m \u001b[0;34m=\u001b[0m \u001b[0mcom\u001b[0m\u001b[0;34m.\u001b[0m\u001b[0masarray_tuplesafe\u001b[0m\u001b[0;34m(\u001b[0m\u001b[0mdata\u001b[0m\u001b[0;34m,\u001b[0m \u001b[0mdtype\u001b[0m\u001b[0;34m=\u001b[0m\u001b[0mdtype\u001b[0m\u001b[0;34m)\u001b[0m\u001b[0;34m\u001b[0m\u001b[0;34m\u001b[0m\u001b[0m\n",
      "\u001b[0;31mException\u001b[0m: Data must be 1-dimensional"
     ]
    },
    {
     "data": {
      "image/png": "[encoded data removed]",
      "text/plain": [
       "<Figure size 720x504 with 1 Axes>"
      ]
     },
     "metadata": {
      "needs_background": "light"
     },
     "output_type": "display_data"
    }
   ],
   "source": [
    "plot_prob_forecasts(ts_entry, forecast_entry)"
   ]
  },
  {
   "cell_type": "code",
   "execution_count": null,
   "id": "e4f7c289-aff0-4199-a619-322ecc74fae2",
   "metadata": {},
   "outputs": [],
   "source": [
    "# https://github.com/zalandoresearch/pytorch-ts/issues/24"
   ]
  },
  {
   "cell_type": "code",
   "execution_count": 371,
   "id": "cfc92f48-25af-4d9b-87cc-b86e2bfc3525",
   "metadata": {
    "execution": {
     "iopub.execute_input": "2022-04-24T23:09:56.809482Z",
     "iopub.status.busy": "2022-04-24T23:09:56.808731Z",
     "iopub.status.idle": "2022-04-24T23:09:56.837903Z",
     "shell.execute_reply": "2022-04-24T23:09:56.837137Z",
     "shell.execute_reply.started": "2022-04-24T23:09:56.809436Z"
    },
    "tags": []
   },
   "outputs": [],
   "source": [
    "from gluonts.dataset.rolling_dataset import generate_rolling_dataset, StepStrategy\n",
    "from pandas import Timedelta"
   ]
  },
  {
   "cell_type": "code",
   "execution_count": 407,
   "id": "18ef6790-fa74-4621-b2a2-67e9889fb2f8",
   "metadata": {
    "execution": {
     "iopub.execute_input": "2022-04-24T23:46:13.693530Z",
     "iopub.status.busy": "2022-04-24T23:46:13.693139Z",
     "iopub.status.idle": "2022-04-24T23:46:13.725967Z",
     "shell.execute_reply": "2022-04-24T23:46:13.725203Z",
     "shell.execute_reply.started": "2022-04-24T23:46:13.693486Z"
    },
    "tags": []
   },
   "outputs": [],
   "source": [
    "def get_rolled_dataset(dataset, context_length, prediction_length):\n",
    "    keys_to_split = [\n",
    "        FieldName.FEAT_DYNAMIC_REAL,\n",
    "        FieldName.TARGET\n",
    "    ]\n",
    "    window_size = context_length + prediction_length\n",
    "    \n",
    "    rolled_dataset = []\n",
    "    \n",
    "    for dataset_entry in tqdm(iter(dataset)):\n",
    "        for i in range(dataset_entry[FieldName.TARGET].shape[-1] - window_size):\n",
    "            if i > 200:\n",
    "                break\n",
    "            new_entry = {}\n",
    "            for key in dataset_entry.keys():\n",
    "                if key not in keys_to_split:\n",
    "                    new_entry[key] = dataset_entry[key]\n",
    "                else:\n",
    "                    new_entry[key] = dataset_entry[key][..., i: i + window_size]\n",
    "                    \n",
    "            new_entry[FieldName.START] = dataset_entry[FieldName.START] + Timedelta(dataset_metadata['freq']) * i\n",
    "            \n",
    "            rolled_dataset.append(new_entry)\n",
    "    \n",
    "    return ListDataset(rolled_dataset, freq=dataset_metadata['freq'], one_dim_target=False)\n",
    "            "
   ]
  },
  {
   "cell_type": "code",
   "execution_count": 408,
   "id": "b473887a-c62b-4c44-851c-d4f43b3b7ed8",
   "metadata": {
    "execution": {
     "iopub.execute_input": "2022-04-24T23:46:14.565521Z",
     "iopub.status.busy": "2022-04-24T23:46:14.565218Z",
     "iopub.status.idle": "2022-04-24T23:46:14.596776Z",
     "shell.execute_reply": "2022-04-24T23:46:14.596029Z",
     "shell.execute_reply.started": "2022-04-24T23:46:14.565482Z"
    },
    "tags": []
   },
   "outputs": [
    {
     "data": {
      "text/plain": [
       "{'freq': '1H',\n",
       " 'prediction_length': 1,\n",
       " 'features_history': 5,\n",
       " 'start': Timestamp('2019-01-01 00:00:00', freq='H'),\n",
       " 'num_train_days': 14,\n",
       " 'num_test_days': 3}"
      ]
     },
     "execution_count": 408,
     "metadata": {},
     "output_type": "execute_result"
    }
   ],
   "source": [
    "dataset_metadata"
   ]
  },
  {
   "cell_type": "code",
   "execution_count": 409,
   "id": "e5fefeef-bfe7-47b6-a78c-bf439ca5a3f8",
   "metadata": {
    "execution": {
     "iopub.execute_input": "2022-04-24T23:46:15.186016Z",
     "iopub.status.busy": "2022-04-24T23:46:15.185614Z",
     "iopub.status.idle": "2022-04-24T23:46:15.215334Z",
     "shell.execute_reply": "2022-04-24T23:46:15.214674Z",
     "shell.execute_reply.started": "2022-04-24T23:46:15.185975Z"
    },
    "tags": []
   },
   "outputs": [
    {
     "data": {
      "text/plain": [
       "6"
      ]
     },
     "execution_count": 409,
     "metadata": {},
     "output_type": "execute_result"
    }
   ],
   "source": [
    "len(test_ds)"
   ]
  },
  {
   "cell_type": "code",
   "execution_count": 410,
   "id": "7075a608-53de-4e51-9b6f-afb9a459c916",
   "metadata": {
    "execution": {
     "iopub.execute_input": "2022-04-24T23:46:15.798265Z",
     "iopub.status.busy": "2022-04-24T23:46:15.797922Z",
     "iopub.status.idle": "2022-04-24T23:46:15.878915Z",
     "shell.execute_reply": "2022-04-24T23:46:15.877974Z",
     "shell.execute_reply.started": "2022-04-24T23:46:15.798234Z"
    },
    "tags": []
   },
   "outputs": [
    {
     "data": {
      "application/vnd.jupyter.widget-view+json": {
       "model_id": "94816e043cb344358588eddbc24119de",
       "version_major": 2,
       "version_minor": 0
      },
      "text/plain": [
       "HBox(children=(IntProgress(value=1, bar_style='info', max=1), HTML(value='')))"
      ]
     },
     "metadata": {},
     "output_type": "display_data"
    },
    {
     "name": "stdout",
     "output_type": "stream",
     "text": [
      "\n"
     ]
    }
   ],
   "source": [
    "test_ds_rolled = get_rolled_dataset(test_ds, \n",
    "                                     context_length=dataset_metadata['features_history'], \n",
    "                                     prediction_length=dataset_metadata['prediction_length'])"
   ]
  },
  {
   "cell_type": "code",
   "execution_count": 395,
   "id": "9c234547-6bd7-4df7-97f0-1102e44f1d90",
   "metadata": {
    "execution": {
     "iopub.execute_input": "2022-04-24T23:40:16.593145Z",
     "iopub.status.busy": "2022-04-24T23:40:16.592776Z",
     "iopub.status.idle": "2022-04-24T23:40:16.624324Z",
     "shell.execute_reply": "2022-04-24T23:40:16.623704Z",
     "shell.execute_reply.started": "2022-04-24T23:40:16.593103Z"
    },
    "tags": []
   },
   "outputs": [
    {
     "data": {
      "text/plain": [
       "277866"
      ]
     },
     "execution_count": 395,
     "metadata": {},
     "output_type": "execute_result"
    }
   ],
   "source": [
    "len(test_ds_rolled)"
   ]
  },
  {
   "cell_type": "code",
   "execution_count": 396,
   "id": "90561376-42a7-4ea5-ba45-327512a98f40",
   "metadata": {
    "execution": {
     "iopub.execute_input": "2022-04-24T23:40:20.494283Z",
     "iopub.status.busy": "2022-04-24T23:40:20.493977Z",
     "iopub.status.idle": "2022-04-24T23:40:20.521566Z",
     "shell.execute_reply": "2022-04-24T23:40:20.520827Z",
     "shell.execute_reply.started": "2022-04-24T23:40:20.494244Z"
    },
    "tags": []
   },
   "outputs": [],
   "source": [
    "rolled_test_entry = next(iter(test_ds_rolled))"
   ]
  },
  {
   "cell_type": "code",
   "execution_count": 398,
   "id": "1460fb93-0fb4-4d90-ad6f-9fb00588a7a8",
   "metadata": {
    "execution": {
     "iopub.execute_input": "2022-04-24T23:40:29.616847Z",
     "iopub.status.busy": "2022-04-24T23:40:29.616537Z",
     "iopub.status.idle": "2022-04-24T23:40:29.651967Z",
     "shell.execute_reply": "2022-04-24T23:40:29.651132Z",
     "shell.execute_reply.started": "2022-04-24T23:40:29.616808Z"
    },
    "tags": []
   },
   "outputs": [
    {
     "data": {
      "text/plain": [
       "((1, 6), (27, 6))"
      ]
     },
     "execution_count": 398,
     "metadata": {},
     "output_type": "execute_result"
    }
   ],
   "source": [
    "rolled_test_entry['target'].shape, rolled_test_entry['feat_dynamic_real'].shape"
   ]
  },
  {
   "cell_type": "code",
   "execution_count": 401,
   "id": "6afc114e-0d98-4a48-bee1-bbeb7dbc5276",
   "metadata": {
    "execution": {
     "iopub.execute_input": "2022-04-24T23:41:56.864880Z",
     "iopub.status.busy": "2022-04-24T23:41:56.864569Z",
     "iopub.status.idle": "2022-04-24T23:41:56.895080Z",
     "shell.execute_reply": "2022-04-24T23:41:56.894314Z",
     "shell.execute_reply.started": "2022-04-24T23:41:56.864841Z"
    },
    "tags": []
   },
   "outputs": [],
   "source": [
    "forecast_it, ts_it = make_evaluation_predictions(\n",
    "    dataset=test_ds_rolled,  # test dataset\n",
    "    predictor=tempflow_predictor,  # predictor\n",
    "    num_samples=2,  # number of sample paths we want for evaluation\n",
    ")"
   ]
  },
  {
   "cell_type": "code",
   "execution_count": null,
   "id": "346572ed-7549-43f7-af2e-54b2e40ca2a8",
   "metadata": {
    "tags": []
   },
   "outputs": [],
   "source": [
    "forecasts = list(tqdm(forecast_it))\n",
    "tss = list(tqdm(ts_it))"
   ]
  },
  {
   "cell_type": "code",
   "execution_count": null,
   "id": "190a4452-70bc-430a-b2e3-45b972621e96",
   "metadata": {},
   "outputs": [],
   "source": []
  },
  {
   "cell_type": "code",
   "execution_count": null,
   "id": "c6637b97-1e33-47cc-a294-62f471eeae4a",
   "metadata": {},
   "outputs": [],
   "source": []
  },
  {
   "cell_type": "code",
   "execution_count": null,
   "id": "622d2b74-2ec8-44c8-82c5-5a595498a30b",
   "metadata": {},
   "outputs": [],
   "source": []
  },
  {
   "cell_type": "code",
   "execution_count": null,
   "id": "3245d42f-bae4-4478-aaea-5ab14e694c06",
   "metadata": {},
   "outputs": [],
   "source": []
  },
  {
   "cell_type": "markdown",
   "id": "c17ae177-691d-47da-89e7-d4f43c3c9636",
   "metadata": {
    "execution": {
     "iopub.execute_input": "2022-02-23T11:22:26.555364Z",
     "iopub.status.busy": "2022-02-23T11:22:26.554685Z",
     "iopub.status.idle": "2022-02-23T11:22:26.609508Z",
     "shell.execute_reply": "2022-02-23T11:22:26.608246Z",
     "shell.execute_reply.started": "2022-02-23T11:22:26.555288Z"
    }
   },
   "source": [
    "# Train Metrics"
   ]
  },
  {
   "cell_type": "code",
   "execution_count": 76,
   "id": "73850eb7-ee2a-45fc-8921-5062dbc1e47a",
   "metadata": {
    "execution": {
     "iopub.execute_input": "2022-02-23T14:06:03.701884Z",
     "iopub.status.busy": "2022-02-23T14:06:03.701229Z",
     "iopub.status.idle": "2022-02-23T14:06:03.756783Z",
     "shell.execute_reply": "2022-02-23T14:06:03.755819Z",
     "shell.execute_reply.started": "2022-02-23T14:06:03.701811Z"
    },
    "tags": []
   },
   "outputs": [],
   "source": [
    "from gluonts.evaluation import Evaluator"
   ]
  },
  {
   "cell_type": "code",
   "execution_count": 77,
   "id": "b2bd5592-6c59-4029-99a7-857815f97692",
   "metadata": {
    "execution": {
     "iopub.execute_input": "2022-02-23T14:06:04.755712Z",
     "iopub.status.busy": "2022-02-23T14:06:04.754965Z",
     "iopub.status.idle": "2022-02-23T14:08:35.136667Z",
     "shell.execute_reply": "2022-02-23T14:08:35.135039Z",
     "shell.execute_reply.started": "2022-02-23T14:06:04.755643Z"
    },
    "tags": []
   },
   "outputs": [
    {
     "name": "stderr",
     "output_type": "stream",
     "text": [
      "Running evaluation: 100%|██████████████████████████████████████████████████| 648270/648270 [00:15<00:00, 42488.62it/s]/usr/twix/python/lib/python3.8/site-packages/gluonts/evaluation/metrics.py:102: RuntimeWarning: divide by zero encountered in double_scalars\n",
      "  return np.mean(np.abs(target - forecast)) / seasonal_error\n",
      "/usr/twix/python/lib/python3.8/site-packages/gluonts/evaluation/metrics.py:150: RuntimeWarning: divide by zero encountered in double_scalars\n",
      "  return numerator / seasonal_error\n",
      "\n",
      "/usr/twix/python/lib/python3.8/site-packages/gluonts/evaluation/metrics.py:102: RuntimeWarning: divide by zero encountered in double_scalars\n",
      "  return np.mean(np.abs(target - forecast)) / seasonal_error\n",
      "/usr/twix/python/lib/python3.8/site-packages/gluonts/evaluation/metrics.py:150: RuntimeWarning: divide by zero encountered in double_scalars\n",
      "  return numerator / seasonal_error\n",
      "/usr/twix/python/lib/python3.8/site-packages/gluonts/evaluation/metrics.py:102: RuntimeWarning: divide by zero encountered in double_scalars\n",
      "  return np.mean(np.abs(target - forecast)) / seasonal_error\n",
      "/usr/twix/python/lib/python3.8/site-packages/gluonts/evaluation/metrics.py:150: RuntimeWarning: divide by zero encountered in double_scalars\n",
      "  return numerator / seasonal_error\n",
      "/usr/twix/python/lib/python3.8/site-packages/gluonts/evaluation/metrics.py:102: RuntimeWarning: divide by zero encountered in double_scalars\n",
      "  return np.mean(np.abs(target - forecast)) / seasonal_error\n",
      "/usr/twix/python/lib/python3.8/site-packages/gluonts/evaluation/metrics.py:150: RuntimeWarning: divide by zero encountered in double_scalars\n",
      "  return numerator / seasonal_error\n",
      "/usr/twix/python/lib/python3.8/site-packages/gluonts/evaluation/metrics.py:102: RuntimeWarning: divide by zero encountered in double_scalars\n",
      "  return np.mean(np.abs(target - forecast)) / seasonal_error\n",
      "/usr/twix/python/lib/python3.8/site-packages/gluonts/evaluation/metrics.py:150: RuntimeWarning: divide by zero encountered in double_scalars\n",
      "  return numerator / seasonal_error\n",
      "/usr/twix/python/lib/python3.8/site-packages/gluonts/evaluation/metrics.py:102: RuntimeWarning: divide by zero encountered in double_scalars\n",
      "  return np.mean(np.abs(target - forecast)) / seasonal_error\n",
      "/usr/twix/python/lib/python3.8/site-packages/gluonts/evaluation/metrics.py:102: RuntimeWarning: divide by zero encountered in double_scalars\n",
      "  return np.mean(np.abs(target - forecast)) / seasonal_error\n",
      "/usr/twix/python/lib/python3.8/site-packages/gluonts/evaluation/metrics.py:150: RuntimeWarning: divide by zero encountered in double_scalars\n",
      "  return numerator / seasonal_error\n",
      "/usr/twix/python/lib/python3.8/site-packages/gluonts/evaluation/metrics.py:150: RuntimeWarning: divide by zero encountered in double_scalars\n",
      "  return numerator / seasonal_error\n",
      "/usr/twix/python/lib/python3.8/site-packages/gluonts/evaluation/metrics.py:102: RuntimeWarning: divide by zero encountered in double_scalars\n",
      "  return np.mean(np.abs(target - forecast)) / seasonal_error\n",
      "/usr/twix/python/lib/python3.8/site-packages/gluonts/evaluation/metrics.py:150: RuntimeWarning: divide by zero encountered in double_scalars\n",
      "  return numerator / seasonal_error\n",
      "/usr/twix/python/lib/python3.8/site-packages/gluonts/evaluation/metrics.py:102: RuntimeWarning: divide by zero encountered in double_scalars\n",
      "  return np.mean(np.abs(target - forecast)) / seasonal_error\n",
      "/usr/twix/python/lib/python3.8/site-packages/gluonts/evaluation/metrics.py:150: RuntimeWarning: divide by zero encountered in double_scalars\n",
      "  return numerator / seasonal_error\n",
      "/usr/twix/python/lib/python3.8/site-packages/gluonts/evaluation/metrics.py:102: RuntimeWarning: divide by zero encountered in double_scalars\n",
      "  return np.mean(np.abs(target - forecast)) / seasonal_error\n",
      "/usr/twix/python/lib/python3.8/site-packages/gluonts/evaluation/metrics.py:150: RuntimeWarning: divide by zero encountered in double_scalars\n",
      "  return numerator / seasonal_error\n",
      "/usr/twix/python/lib/python3.8/site-packages/gluonts/evaluation/metrics.py:102: RuntimeWarning: divide by zero encountered in double_scalars\n",
      "  return np.mean(np.abs(target - forecast)) / seasonal_error\n",
      "/usr/twix/python/lib/python3.8/site-packages/gluonts/evaluation/metrics.py:102: RuntimeWarning: divide by zero encountered in double_scalars\n",
      "  return np.mean(np.abs(target - forecast)) / seasonal_error\n",
      "/usr/twix/python/lib/python3.8/site-packages/gluonts/evaluation/metrics.py:150: RuntimeWarning: divide by zero encountered in double_scalars\n",
      "  return numerator / seasonal_error\n",
      "/usr/twix/python/lib/python3.8/site-packages/gluonts/evaluation/metrics.py:150: RuntimeWarning: divide by zero encountered in double_scalars\n",
      "  return numerator / seasonal_error\n",
      "/usr/twix/python/lib/python3.8/site-packages/gluonts/evaluation/metrics.py:102: RuntimeWarning: divide by zero encountered in double_scalars\n",
      "  return np.mean(np.abs(target - forecast)) / seasonal_error\n",
      "/usr/twix/python/lib/python3.8/site-packages/gluonts/evaluation/metrics.py:102: RuntimeWarning: divide by zero encountered in double_scalars\n",
      "  return np.mean(np.abs(target - forecast)) / seasonal_error\n",
      "/usr/twix/python/lib/python3.8/site-packages/gluonts/evaluation/metrics.py:150: RuntimeWarning: divide by zero encountered in double_scalars\n",
      "  return numerator / seasonal_error\n",
      "/usr/twix/python/lib/python3.8/site-packages/gluonts/evaluation/metrics.py:150: RuntimeWarning: divide by zero encountered in double_scalars\n",
      "  return numerator / seasonal_error\n",
      "/usr/twix/python/lib/python3.8/site-packages/gluonts/evaluation/metrics.py:102: RuntimeWarning: divide by zero encountered in double_scalars\n",
      "  return np.mean(np.abs(target - forecast)) / seasonal_error\n",
      "/usr/twix/python/lib/python3.8/site-packages/gluonts/evaluation/metrics.py:150: RuntimeWarning: divide by zero encountered in double_scalars\n",
      "  return numerator / seasonal_error\n",
      "/usr/twix/python/lib/python3.8/site-packages/gluonts/evaluation/metrics.py:102: RuntimeWarning: divide by zero encountered in double_scalars\n",
      "  return np.mean(np.abs(target - forecast)) / seasonal_error\n",
      "/usr/twix/python/lib/python3.8/site-packages/gluonts/evaluation/metrics.py:150: RuntimeWarning: divide by zero encountered in double_scalars\n",
      "  return numerator / seasonal_error\n",
      "/usr/twix/python/lib/python3.8/site-packages/gluonts/evaluation/metrics.py:102: RuntimeWarning: divide by zero encountered in double_scalars\n",
      "  return np.mean(np.abs(target - forecast)) / seasonal_error\n",
      "/usr/twix/python/lib/python3.8/site-packages/gluonts/evaluation/metrics.py:150: RuntimeWarning: divide by zero encountered in double_scalars\n",
      "  return numerator / seasonal_error\n",
      "/usr/twix/python/lib/python3.8/site-packages/gluonts/evaluation/metrics.py:102: RuntimeWarning: divide by zero encountered in double_scalars\n",
      "  return np.mean(np.abs(target - forecast)) / seasonal_error\n",
      "/usr/twix/python/lib/python3.8/site-packages/gluonts/evaluation/metrics.py:150: RuntimeWarning: divide by zero encountered in double_scalars\n",
      "  return numerator / seasonal_error\n",
      "/usr/twix/python/lib/python3.8/site-packages/gluonts/evaluation/metrics.py:102: RuntimeWarning: divide by zero encountered in double_scalars\n",
      "  return np.mean(np.abs(target - forecast)) / seasonal_error\n",
      "/usr/twix/python/lib/python3.8/site-packages/gluonts/evaluation/metrics.py:150: RuntimeWarning: divide by zero encountered in double_scalars\n",
      "  return numerator / seasonal_error\n",
      "/usr/twix/python/lib/python3.8/site-packages/gluonts/evaluation/metrics.py:102: RuntimeWarning: divide by zero encountered in double_scalars\n",
      "  return np.mean(np.abs(target - forecast)) / seasonal_error\n",
      "/usr/twix/python/lib/python3.8/site-packages/gluonts/evaluation/metrics.py:150: RuntimeWarning: divide by zero encountered in double_scalars\n",
      "  return numerator / seasonal_error\n",
      "/usr/twix/python/lib/python3.8/site-packages/gluonts/evaluation/metrics.py:102: RuntimeWarning: divide by zero encountered in double_scalars\n",
      "  return np.mean(np.abs(target - forecast)) / seasonal_error\n",
      "/usr/twix/python/lib/python3.8/site-packages/gluonts/evaluation/metrics.py:150: RuntimeWarning: divide by zero encountered in double_scalars\n",
      "  return numerator / seasonal_error\n",
      "/usr/twix/python/lib/python3.8/site-packages/gluonts/evaluation/metrics.py:150: RuntimeWarning: divide by zero encountered in double_scalars\n",
      "  return numerator / seasonal_error\n",
      "/usr/twix/python/lib/python3.8/site-packages/gluonts/evaluation/metrics.py:102: RuntimeWarning: divide by zero encountered in double_scalars\n",
      "  return np.mean(np.abs(target - forecast)) / seasonal_error\n",
      "/usr/twix/python/lib/python3.8/site-packages/gluonts/evaluation/metrics.py:102: RuntimeWarning: divide by zero encountered in double_scalars\n",
      "  return np.mean(np.abs(target - forecast)) / seasonal_error\n",
      "/usr/twix/python/lib/python3.8/site-packages/gluonts/evaluation/metrics.py:150: RuntimeWarning: divide by zero encountered in double_scalars\n",
      "  return numerator / seasonal_error\n",
      "/usr/twix/python/lib/python3.8/site-packages/gluonts/evaluation/metrics.py:102: RuntimeWarning: divide by zero encountered in double_scalars\n",
      "  return np.mean(np.abs(target - forecast)) / seasonal_error\n",
      "/usr/twix/python/lib/python3.8/site-packages/gluonts/evaluation/metrics.py:150: RuntimeWarning: divide by zero encountered in double_scalars\n",
      "  return numerator / seasonal_error\n",
      "/usr/twix/python/lib/python3.8/site-packages/gluonts/evaluation/metrics.py:102: RuntimeWarning: divide by zero encountered in double_scalars\n",
      "  return np.mean(np.abs(target - forecast)) / seasonal_error\n",
      "/usr/twix/python/lib/python3.8/site-packages/gluonts/evaluation/metrics.py:150: RuntimeWarning: divide by zero encountered in double_scalars\n",
      "  return numerator / seasonal_error\n",
      "/usr/twix/python/lib/python3.8/site-packages/gluonts/evaluation/metrics.py:102: RuntimeWarning: divide by zero encountered in double_scalars\n",
      "  return np.mean(np.abs(target - forecast)) / seasonal_error\n",
      "/usr/twix/python/lib/python3.8/site-packages/gluonts/evaluation/metrics.py:150: RuntimeWarning: divide by zero encountered in double_scalars\n",
      "  return numerator / seasonal_error\n",
      "/usr/twix/python/lib/python3.8/site-packages/gluonts/evaluation/metrics.py:102: RuntimeWarning: divide by zero encountered in double_scalars\n",
      "  return np.mean(np.abs(target - forecast)) / seasonal_error\n",
      "/usr/twix/python/lib/python3.8/site-packages/gluonts/evaluation/metrics.py:150: RuntimeWarning: divide by zero encountered in double_scalars\n",
      "  return numerator / seasonal_error\n",
      "/usr/twix/python/lib/python3.8/site-packages/gluonts/evaluation/metrics.py:102: RuntimeWarning: divide by zero encountered in double_scalars\n",
      "  return np.mean(np.abs(target - forecast)) / seasonal_error\n",
      "/usr/twix/python/lib/python3.8/site-packages/gluonts/evaluation/metrics.py:150: RuntimeWarning: divide by zero encountered in double_scalars\n",
      "  return numerator / seasonal_error\n",
      "/usr/twix/python/lib/python3.8/site-packages/gluonts/evaluation/metrics.py:102: RuntimeWarning: divide by zero encountered in double_scalars\n",
      "  return np.mean(np.abs(target - forecast)) / seasonal_error\n",
      "/usr/twix/python/lib/python3.8/site-packages/gluonts/evaluation/metrics.py:150: RuntimeWarning: divide by zero encountered in double_scalars\n",
      "  return numerator / seasonal_error\n",
      "/usr/twix/python/lib/python3.8/site-packages/gluonts/evaluation/metrics.py:102: RuntimeWarning: divide by zero encountered in double_scalars\n",
      "  return np.mean(np.abs(target - forecast)) / seasonal_error\n",
      "/usr/twix/python/lib/python3.8/site-packages/gluonts/evaluation/metrics.py:102: RuntimeWarning: divide by zero encountered in double_scalars\n",
      "  return np.mean(np.abs(target - forecast)) / seasonal_error\n",
      "/usr/twix/python/lib/python3.8/site-packages/gluonts/evaluation/metrics.py:150: RuntimeWarning: divide by zero encountered in double_scalars\n",
      "  return numerator / seasonal_error\n",
      "/usr/twix/python/lib/python3.8/site-packages/gluonts/evaluation/metrics.py:150: RuntimeWarning: divide by zero encountered in double_scalars\n",
      "  return numerator / seasonal_error\n",
      "/usr/twix/python/lib/python3.8/site-packages/gluonts/evaluation/metrics.py:102: RuntimeWarning: divide by zero encountered in double_scalars\n",
      "  return np.mean(np.abs(target - forecast)) / seasonal_error\n",
      "/usr/twix/python/lib/python3.8/site-packages/gluonts/evaluation/metrics.py:150: RuntimeWarning: divide by zero encountered in double_scalars\n",
      "  return numerator / seasonal_error\n",
      "/usr/twix/python/lib/python3.8/site-packages/gluonts/evaluation/metrics.py:102: RuntimeWarning: divide by zero encountered in double_scalars\n",
      "  return np.mean(np.abs(target - forecast)) / seasonal_error\n",
      "/usr/twix/python/lib/python3.8/site-packages/gluonts/evaluation/metrics.py:150: RuntimeWarning: divide by zero encountered in double_scalars\n",
      "  return numerator / seasonal_error\n",
      "/usr/twix/python/lib/python3.8/site-packages/gluonts/evaluation/metrics.py:102: RuntimeWarning: divide by zero encountered in double_scalars\n",
      "  return np.mean(np.abs(target - forecast)) / seasonal_error\n",
      "/usr/twix/python/lib/python3.8/site-packages/gluonts/evaluation/metrics.py:150: RuntimeWarning: divide by zero encountered in double_scalars\n",
      "  return numerator / seasonal_error\n",
      "/usr/twix/python/lib/python3.8/site-packages/gluonts/evaluation/metrics.py:102: RuntimeWarning: divide by zero encountered in double_scalars\n",
      "  return np.mean(np.abs(target - forecast)) / seasonal_error\n",
      "/usr/twix/python/lib/python3.8/site-packages/gluonts/evaluation/metrics.py:150: RuntimeWarning: divide by zero encountered in double_scalars\n",
      "  return numerator / seasonal_error\n",
      "/usr/twix/python/lib/python3.8/site-packages/gluonts/evaluation/metrics.py:102: RuntimeWarning: divide by zero encountered in double_scalars\n",
      "  return np.mean(np.abs(target - forecast)) / seasonal_error\n",
      "/usr/twix/python/lib/python3.8/site-packages/gluonts/evaluation/metrics.py:150: RuntimeWarning: divide by zero encountered in double_scalars\n",
      "  return numerator / seasonal_error\n",
      "/usr/twix/python/lib/python3.8/site-packages/gluonts/evaluation/metrics.py:102: RuntimeWarning: divide by zero encountered in double_scalars\n",
      "  return np.mean(np.abs(target - forecast)) / seasonal_error\n",
      "/usr/twix/python/lib/python3.8/site-packages/gluonts/evaluation/metrics.py:150: RuntimeWarning: divide by zero encountered in double_scalars\n",
      "  return numerator / seasonal_error\n",
      "/usr/twix/python/lib/python3.8/site-packages/gluonts/evaluation/metrics.py:102: RuntimeWarning: divide by zero encountered in double_scalars\n",
      "  return np.mean(np.abs(target - forecast)) / seasonal_error\n",
      "/usr/twix/python/lib/python3.8/site-packages/gluonts/evaluation/metrics.py:150: RuntimeWarning: divide by zero encountered in double_scalars\n",
      "  return numerator / seasonal_error\n",
      "/usr/twix/python/lib/python3.8/site-packages/gluonts/evaluation/metrics.py:102: RuntimeWarning: divide by zero encountered in double_scalars\n",
      "  return np.mean(np.abs(target - forecast)) / seasonal_error\n",
      "/usr/twix/python/lib/python3.8/site-packages/gluonts/evaluation/metrics.py:150: RuntimeWarning: divide by zero encountered in double_scalars\n",
      "  return numerator / seasonal_error\n",
      "/usr/twix/python/lib/python3.8/site-packages/gluonts/evaluation/metrics.py:102: RuntimeWarning: divide by zero encountered in double_scalars\n",
      "  return np.mean(np.abs(target - forecast)) / seasonal_error\n",
      "/usr/twix/python/lib/python3.8/site-packages/gluonts/evaluation/metrics.py:150: RuntimeWarning: divide by zero encountered in double_scalars\n",
      "  return numerator / seasonal_error\n",
      "/usr/twix/python/lib/python3.8/site-packages/gluonts/evaluation/metrics.py:102: RuntimeWarning: divide by zero encountered in double_scalars\n",
      "  return np.mean(np.abs(target - forecast)) / seasonal_error\n",
      "/usr/twix/python/lib/python3.8/site-packages/gluonts/evaluation/metrics.py:150: RuntimeWarning: divide by zero encountered in double_scalars\n",
      "  return numerator / seasonal_error\n",
      "/usr/twix/python/lib/python3.8/site-packages/gluonts/evaluation/metrics.py:102: RuntimeWarning: divide by zero encountered in double_scalars\n",
      "  return np.mean(np.abs(target - forecast)) / seasonal_error\n",
      "/usr/twix/python/lib/python3.8/site-packages/gluonts/evaluation/metrics.py:102: RuntimeWarning: divide by zero encountered in double_scalars\n",
      "  return np.mean(np.abs(target - forecast)) / seasonal_error\n",
      "/usr/twix/python/lib/python3.8/site-packages/gluonts/evaluation/metrics.py:150: RuntimeWarning: divide by zero encountered in double_scalars\n",
      "  return numerator / seasonal_error\n",
      "/usr/twix/python/lib/python3.8/site-packages/gluonts/evaluation/metrics.py:150: RuntimeWarning: divide by zero encountered in double_scalars\n",
      "  return numerator / seasonal_error\n",
      "/usr/twix/python/lib/python3.8/site-packages/gluonts/evaluation/metrics.py:102: RuntimeWarning: divide by zero encountered in double_scalars\n",
      "  return np.mean(np.abs(target - forecast)) / seasonal_error\n",
      "/usr/twix/python/lib/python3.8/site-packages/gluonts/evaluation/metrics.py:150: RuntimeWarning: divide by zero encountered in double_scalars\n",
      "  return numerator / seasonal_error\n",
      "/usr/twix/python/lib/python3.8/site-packages/gluonts/evaluation/metrics.py:102: RuntimeWarning: divide by zero encountered in double_scalars\n",
      "  return np.mean(np.abs(target - forecast)) / seasonal_error\n",
      "/usr/twix/python/lib/python3.8/site-packages/gluonts/evaluation/metrics.py:150: RuntimeWarning: divide by zero encountered in double_scalars\n",
      "  return numerator / seasonal_error\n",
      "/usr/twix/python/lib/python3.8/site-packages/gluonts/evaluation/metrics.py:150: RuntimeWarning: divide by zero encountered in double_scalars\n",
      "  return numerator / seasonal_error\n",
      "/usr/twix/python/lib/python3.8/site-packages/gluonts/evaluation/metrics.py:102: RuntimeWarning: divide by zero encountered in double_scalars\n",
      "  return np.mean(np.abs(target - forecast)) / seasonal_error\n",
      "/usr/twix/python/lib/python3.8/site-packages/gluonts/evaluation/metrics.py:102: RuntimeWarning: divide by zero encountered in double_scalars\n",
      "  return np.mean(np.abs(target - forecast)) / seasonal_error\n",
      "/usr/twix/python/lib/python3.8/site-packages/gluonts/evaluation/metrics.py:150: RuntimeWarning: divide by zero encountered in double_scalars\n",
      "  return numerator / seasonal_error\n",
      "/usr/twix/python/lib/python3.8/site-packages/gluonts/evaluation/metrics.py:102: RuntimeWarning: divide by zero encountered in double_scalars\n",
      "  return np.mean(np.abs(target - forecast)) / seasonal_error\n",
      "/usr/twix/python/lib/python3.8/site-packages/gluonts/evaluation/metrics.py:150: RuntimeWarning: divide by zero encountered in double_scalars\n",
      "  return numerator / seasonal_error\n",
      "/usr/twix/python/lib/python3.8/site-packages/gluonts/evaluation/metrics.py:102: RuntimeWarning: divide by zero encountered in double_scalars\n",
      "  return np.mean(np.abs(target - forecast)) / seasonal_error\n",
      "/usr/twix/python/lib/python3.8/site-packages/gluonts/evaluation/metrics.py:102: RuntimeWarning: divide by zero encountered in double_scalars\n",
      "  return np.mean(np.abs(target - forecast)) / seasonal_error\n",
      "/usr/twix/python/lib/python3.8/site-packages/gluonts/evaluation/metrics.py:150: RuntimeWarning: divide by zero encountered in double_scalars\n",
      "  return numerator / seasonal_error\n",
      "/usr/twix/python/lib/python3.8/site-packages/gluonts/evaluation/metrics.py:150: RuntimeWarning: divide by zero encountered in double_scalars\n",
      "  return numerator / seasonal_error\n",
      "/usr/twix/python/lib/python3.8/site-packages/gluonts/evaluation/metrics.py:102: RuntimeWarning: divide by zero encountered in double_scalars\n",
      "  return np.mean(np.abs(target - forecast)) / seasonal_error\n",
      "/usr/twix/python/lib/python3.8/site-packages/gluonts/evaluation/metrics.py:150: RuntimeWarning: divide by zero encountered in double_scalars\n",
      "  return numerator / seasonal_error\n",
      "/usr/twix/python/lib/python3.8/site-packages/gluonts/evaluation/metrics.py:102: RuntimeWarning: divide by zero encountered in double_scalars\n",
      "  return np.mean(np.abs(target - forecast)) / seasonal_error\n",
      "/usr/twix/python/lib/python3.8/site-packages/gluonts/evaluation/metrics.py:150: RuntimeWarning: divide by zero encountered in double_scalars\n",
      "  return numerator / seasonal_error\n",
      "/usr/twix/python/lib/python3.8/site-packages/gluonts/evaluation/metrics.py:102: RuntimeWarning: divide by zero encountered in double_scalars\n",
      "  return np.mean(np.abs(target - forecast)) / seasonal_error\n",
      "/usr/twix/python/lib/python3.8/site-packages/gluonts/evaluation/metrics.py:102: RuntimeWarning: divide by zero encountered in double_scalars\n",
      "  return np.mean(np.abs(target - forecast)) / seasonal_error\n",
      "/usr/twix/python/lib/python3.8/site-packages/gluonts/evaluation/metrics.py:150: RuntimeWarning: divide by zero encountered in double_scalars\n",
      "  return numerator / seasonal_error\n",
      "/usr/twix/python/lib/python3.8/site-packages/gluonts/evaluation/metrics.py:150: RuntimeWarning: divide by zero encountered in double_scalars\n",
      "  return numerator / seasonal_error\n",
      "/usr/twix/python/lib/python3.8/site-packages/gluonts/evaluation/metrics.py:102: RuntimeWarning: divide by zero encountered in double_scalars\n",
      "  return np.mean(np.abs(target - forecast)) / seasonal_error\n",
      "/usr/twix/python/lib/python3.8/site-packages/gluonts/evaluation/metrics.py:150: RuntimeWarning: divide by zero encountered in double_scalars\n",
      "  return numerator / seasonal_error\n",
      "/usr/twix/python/lib/python3.8/site-packages/gluonts/evaluation/metrics.py:102: RuntimeWarning: divide by zero encountered in double_scalars\n",
      "  return np.mean(np.abs(target - forecast)) / seasonal_error\n",
      "/usr/twix/python/lib/python3.8/site-packages/gluonts/evaluation/metrics.py:150: RuntimeWarning: divide by zero encountered in double_scalars\n",
      "  return numerator / seasonal_error\n"
     ]
    }
   ],
   "source": [
    "# actually we can easily calculate it by hand\n",
    "evaluator = Evaluator(quantiles=[0.1, 0.5, 0.9])\n",
    "agg_metrics, item_metrics = evaluator(iter(tss), \n",
    "                                      iter(forecasts), \n",
    "                                      num_series=len(train_ds_rolled))"
   ]
  },
  {
   "cell_type": "code",
   "execution_count": 78,
   "id": "d5515ec2-f317-4d20-b26e-c78733f947a1",
   "metadata": {
    "execution": {
     "iopub.execute_input": "2022-02-23T14:08:39.593746Z",
     "iopub.status.busy": "2022-02-23T14:08:39.593099Z",
     "iopub.status.idle": "2022-02-23T14:08:39.656741Z",
     "shell.execute_reply": "2022-02-23T14:08:39.655859Z",
     "shell.execute_reply.started": "2022-02-23T14:08:39.593674Z"
    },
    "tags": []
   },
   "outputs": [
    {
     "data": {
      "text/plain": [
       "{'MSE': 1.1656175427263293,\n",
       " 'abs_error': 994215.4132566983,\n",
       " 'abs_target_sum': 906895.1489986305,\n",
       " 'abs_target_mean': 0.6994733282418055,\n",
       " 'seasonal_error': 0.06556432461425392,\n",
       " 'MASE': inf,\n",
       " 'MAPE': 5.126774052029617,\n",
       " 'sMAPE': 1.5371755468908275,\n",
       " 'MSIS': inf,\n",
       " 'QuantileLoss[0.1]': 519125.8079424667,\n",
       " 'Coverage[0.1]': 0.1784580498866213,\n",
       " 'QuantileLoss[0.5]': 994215.4132733995,\n",
       " 'Coverage[0.5]': 0.4526917796597097,\n",
       " 'QuantileLoss[0.9]': 556490.9165817369,\n",
       " 'Coverage[0.9]': 0.8143520446727444,\n",
       " 'RMSE': 1.0796376904898835,\n",
       " 'NRMSE': 1.5435008697238795,\n",
       " 'ND': 1.0962848509604275,\n",
       " 'wQuantileLoss[0.1]': 0.5724209777896283,\n",
       " 'wQuantileLoss[0.5]': 1.0962848509788432,\n",
       " 'wQuantileLoss[0.9]': 0.6136221118794156,\n",
       " 'mean_absolute_QuantileLoss': 689944.0459325343,\n",
       " 'mean_wQuantileLoss': 0.7607759802159624,\n",
       " 'MAE_Coverage': 0.07047140851805576,\n",
       " 'OWA': nan}"
      ]
     },
     "execution_count": 78,
     "metadata": {},
     "output_type": "execute_result"
    }
   ],
   "source": [
    "# print(\"CRPS: {}\".format(agg_metric['mean_wQuantileLoss']))\n",
    "agg_metrics"
   ]
  },
  {
   "cell_type": "code",
   "execution_count": 79,
   "id": "f7ff4ee0-43db-415f-af36-fe60e22fa23d",
   "metadata": {
    "execution": {
     "iopub.execute_input": "2022-02-23T14:08:42.449015Z",
     "iopub.status.busy": "2022-02-23T14:08:42.448424Z",
     "iopub.status.idle": "2022-02-23T14:08:42.517985Z",
     "shell.execute_reply": "2022-02-23T14:08:42.517141Z",
     "shell.execute_reply.started": "2022-02-23T14:08:42.448947Z"
    },
    "tags": []
   },
   "outputs": [
    {
     "data": {
      "text/html": [
       "<div>\n",
       "<style scoped>\n",
       "    .dataframe tbody tr th:only-of-type {\n",
       "        vertical-align: middle;\n",
       "    }\n",
       "\n",
       "    .dataframe tbody tr th {\n",
       "        vertical-align: top;\n",
       "    }\n",
       "\n",
       "    .dataframe thead th {\n",
       "        text-align: right;\n",
       "    }\n",
       "</style>\n",
       "<table border=\"1\" class=\"dataframe\">\n",
       "  <thead>\n",
       "    <tr style=\"text-align: right;\">\n",
       "      <th></th>\n",
       "      <th>item_id</th>\n",
       "      <th>MSE</th>\n",
       "      <th>abs_error</th>\n",
       "      <th>abs_target_sum</th>\n",
       "      <th>abs_target_mean</th>\n",
       "      <th>seasonal_error</th>\n",
       "      <th>MASE</th>\n",
       "      <th>MAPE</th>\n",
       "      <th>sMAPE</th>\n",
       "      <th>MSIS</th>\n",
       "      <th>QuantileLoss[0.1]</th>\n",
       "      <th>Coverage[0.1]</th>\n",
       "      <th>QuantileLoss[0.5]</th>\n",
       "      <th>Coverage[0.5]</th>\n",
       "      <th>QuantileLoss[0.9]</th>\n",
       "      <th>Coverage[0.9]</th>\n",
       "    </tr>\n",
       "  </thead>\n",
       "  <tbody>\n",
       "    <tr>\n",
       "      <th>0</th>\n",
       "      <td>NaN</td>\n",
       "      <td>1.192913</td>\n",
       "      <td>2.692346</td>\n",
       "      <td>1.215345</td>\n",
       "      <td>0.607673</td>\n",
       "      <td>0.312784</td>\n",
       "      <td>4.303842</td>\n",
       "      <td>2.230852</td>\n",
       "      <td>2.000000</td>\n",
       "      <td>16.145861</td>\n",
       "      <td>1.195561</td>\n",
       "      <td>0.0</td>\n",
       "      <td>2.692346</td>\n",
       "      <td>0.0</td>\n",
       "      <td>0.300830</td>\n",
       "      <td>1.0</td>\n",
       "    </tr>\n",
       "    <tr>\n",
       "      <th>1</th>\n",
       "      <td>NaN</td>\n",
       "      <td>4.702199</td>\n",
       "      <td>5.113446</td>\n",
       "      <td>1.310771</td>\n",
       "      <td>0.655386</td>\n",
       "      <td>0.312254</td>\n",
       "      <td>8.187961</td>\n",
       "      <td>3.941091</td>\n",
       "      <td>2.000000</td>\n",
       "      <td>16.945952</td>\n",
       "      <td>1.647493</td>\n",
       "      <td>0.0</td>\n",
       "      <td>5.113446</td>\n",
       "      <td>0.0</td>\n",
       "      <td>1.034210</td>\n",
       "      <td>0.5</td>\n",
       "    </tr>\n",
       "    <tr>\n",
       "      <th>2</th>\n",
       "      <td>NaN</td>\n",
       "      <td>1.489569</td>\n",
       "      <td>3.061969</td>\n",
       "      <td>1.019723</td>\n",
       "      <td>0.509861</td>\n",
       "      <td>0.313314</td>\n",
       "      <td>4.886420</td>\n",
       "      <td>4.085718</td>\n",
       "      <td>1.703297</td>\n",
       "      <td>24.377159</td>\n",
       "      <td>1.444575</td>\n",
       "      <td>0.0</td>\n",
       "      <td>3.061969</td>\n",
       "      <td>0.0</td>\n",
       "      <td>0.463899</td>\n",
       "      <td>1.0</td>\n",
       "    </tr>\n",
       "    <tr>\n",
       "      <th>3</th>\n",
       "      <td>NaN</td>\n",
       "      <td>1.982828</td>\n",
       "      <td>3.208847</td>\n",
       "      <td>1.496851</td>\n",
       "      <td>0.748426</td>\n",
       "      <td>0.152151</td>\n",
       "      <td>10.544950</td>\n",
       "      <td>2.654720</td>\n",
       "      <td>2.000000</td>\n",
       "      <td>30.782852</td>\n",
       "      <td>1.197043</td>\n",
       "      <td>0.0</td>\n",
       "      <td>3.208847</td>\n",
       "      <td>0.0</td>\n",
       "      <td>0.252262</td>\n",
       "      <td>1.0</td>\n",
       "    </tr>\n",
       "    <tr>\n",
       "      <th>4</th>\n",
       "      <td>NaN</td>\n",
       "      <td>4.694784</td>\n",
       "      <td>4.598998</td>\n",
       "      <td>2.365225</td>\n",
       "      <td>1.182612</td>\n",
       "      <td>0.186610</td>\n",
       "      <td>12.322474</td>\n",
       "      <td>1.955956</td>\n",
       "      <td>2.000000</td>\n",
       "      <td>114.593813</td>\n",
       "      <td>1.323465</td>\n",
       "      <td>0.0</td>\n",
       "      <td>4.598998</td>\n",
       "      <td>0.0</td>\n",
       "      <td>1.586942</td>\n",
       "      <td>0.5</td>\n",
       "    </tr>\n",
       "    <tr>\n",
       "      <th>...</th>\n",
       "      <td>...</td>\n",
       "      <td>...</td>\n",
       "      <td>...</td>\n",
       "      <td>...</td>\n",
       "      <td>...</td>\n",
       "      <td>...</td>\n",
       "      <td>...</td>\n",
       "      <td>...</td>\n",
       "      <td>...</td>\n",
       "      <td>...</td>\n",
       "      <td>...</td>\n",
       "      <td>...</td>\n",
       "      <td>...</td>\n",
       "      <td>...</td>\n",
       "      <td>...</td>\n",
       "      <td>...</td>\n",
       "    </tr>\n",
       "    <tr>\n",
       "      <th>648265</th>\n",
       "      <td>NaN</td>\n",
       "      <td>0.026200</td>\n",
       "      <td>0.265457</td>\n",
       "      <td>0.130156</td>\n",
       "      <td>0.065078</td>\n",
       "      <td>0.000000</td>\n",
       "      <td>inf</td>\n",
       "      <td>2.039522</td>\n",
       "      <td>1.009722</td>\n",
       "      <td>inf</td>\n",
       "      <td>0.216737</td>\n",
       "      <td>0.0</td>\n",
       "      <td>0.265457</td>\n",
       "      <td>0.0</td>\n",
       "      <td>0.243454</td>\n",
       "      <td>1.0</td>\n",
       "    </tr>\n",
       "    <tr>\n",
       "      <th>648266</th>\n",
       "      <td>NaN</td>\n",
       "      <td>0.092996</td>\n",
       "      <td>0.859269</td>\n",
       "      <td>0.130156</td>\n",
       "      <td>0.065078</td>\n",
       "      <td>0.000000</td>\n",
       "      <td>inf</td>\n",
       "      <td>6.601826</td>\n",
       "      <td>1.821518</td>\n",
       "      <td>inf</td>\n",
       "      <td>0.317594</td>\n",
       "      <td>0.0</td>\n",
       "      <td>0.859270</td>\n",
       "      <td>0.5</td>\n",
       "      <td>0.324259</td>\n",
       "      <td>1.0</td>\n",
       "    </tr>\n",
       "    <tr>\n",
       "      <th>648267</th>\n",
       "      <td>NaN</td>\n",
       "      <td>0.248809</td>\n",
       "      <td>0.570611</td>\n",
       "      <td>0.130156</td>\n",
       "      <td>0.065078</td>\n",
       "      <td>0.000000</td>\n",
       "      <td>inf</td>\n",
       "      <td>4.384042</td>\n",
       "      <td>2.000000</td>\n",
       "      <td>inf</td>\n",
       "      <td>0.245454</td>\n",
       "      <td>0.0</td>\n",
       "      <td>0.570611</td>\n",
       "      <td>1.0</td>\n",
       "      <td>0.533903</td>\n",
       "      <td>1.0</td>\n",
       "    </tr>\n",
       "    <tr>\n",
       "      <th>648268</th>\n",
       "      <td>NaN</td>\n",
       "      <td>1.213115</td>\n",
       "      <td>0.373713</td>\n",
       "      <td>0.130156</td>\n",
       "      <td>0.065078</td>\n",
       "      <td>0.000000</td>\n",
       "      <td>inf</td>\n",
       "      <td>2.871263</td>\n",
       "      <td>1.015044</td>\n",
       "      <td>inf</td>\n",
       "      <td>0.362972</td>\n",
       "      <td>0.0</td>\n",
       "      <td>0.373713</td>\n",
       "      <td>0.0</td>\n",
       "      <td>0.480392</td>\n",
       "      <td>1.0</td>\n",
       "    </tr>\n",
       "    <tr>\n",
       "      <th>648269</th>\n",
       "      <td>NaN</td>\n",
       "      <td>0.040734</td>\n",
       "      <td>0.110010</td>\n",
       "      <td>0.130156</td>\n",
       "      <td>0.065078</td>\n",
       "      <td>0.000000</td>\n",
       "      <td>inf</td>\n",
       "      <td>0.845216</td>\n",
       "      <td>0.741426</td>\n",
       "      <td>inf</td>\n",
       "      <td>0.176417</td>\n",
       "      <td>0.0</td>\n",
       "      <td>0.110010</td>\n",
       "      <td>0.5</td>\n",
       "      <td>0.336708</td>\n",
       "      <td>1.0</td>\n",
       "    </tr>\n",
       "  </tbody>\n",
       "</table>\n",
       "<p>648270 rows × 16 columns</p>\n",
       "</div>"
      ],
      "text/plain": [
       "        item_id       MSE  abs_error  abs_target_sum  abs_target_mean  \\\n",
       "0           NaN  1.192913   2.692346        1.215345         0.607673   \n",
       "1           NaN  4.702199   5.113446        1.310771         0.655386   \n",
       "2           NaN  1.489569   3.061969        1.019723         0.509861   \n",
       "3           NaN  1.982828   3.208847        1.496851         0.748426   \n",
       "4           NaN  4.694784   4.598998        2.365225         1.182612   \n",
       "...         ...       ...        ...             ...              ...   \n",
       "648265      NaN  0.026200   0.265457        0.130156         0.065078   \n",
       "648266      NaN  0.092996   0.859269        0.130156         0.065078   \n",
       "648267      NaN  0.248809   0.570611        0.130156         0.065078   \n",
       "648268      NaN  1.213115   0.373713        0.130156         0.065078   \n",
       "648269      NaN  0.040734   0.110010        0.130156         0.065078   \n",
       "\n",
       "        seasonal_error       MASE      MAPE     sMAPE        MSIS  \\\n",
       "0             0.312784   4.303842  2.230852  2.000000   16.145861   \n",
       "1             0.312254   8.187961  3.941091  2.000000   16.945952   \n",
       "2             0.313314   4.886420  4.085718  1.703297   24.377159   \n",
       "3             0.152151  10.544950  2.654720  2.000000   30.782852   \n",
       "4             0.186610  12.322474  1.955956  2.000000  114.593813   \n",
       "...                ...        ...       ...       ...         ...   \n",
       "648265        0.000000        inf  2.039522  1.009722         inf   \n",
       "648266        0.000000        inf  6.601826  1.821518         inf   \n",
       "648267        0.000000        inf  4.384042  2.000000         inf   \n",
       "648268        0.000000        inf  2.871263  1.015044         inf   \n",
       "648269        0.000000        inf  0.845216  0.741426         inf   \n",
       "\n",
       "        QuantileLoss[0.1]  Coverage[0.1]  QuantileLoss[0.5]  Coverage[0.5]  \\\n",
       "0                1.195561            0.0           2.692346            0.0   \n",
       "1                1.647493            0.0           5.113446            0.0   \n",
       "2                1.444575            0.0           3.061969            0.0   \n",
       "3                1.197043            0.0           3.208847            0.0   \n",
       "4                1.323465            0.0           4.598998            0.0   \n",
       "...                   ...            ...                ...            ...   \n",
       "648265           0.216737            0.0           0.265457            0.0   \n",
       "648266           0.317594            0.0           0.859270            0.5   \n",
       "648267           0.245454            0.0           0.570611            1.0   \n",
       "648268           0.362972            0.0           0.373713            0.0   \n",
       "648269           0.176417            0.0           0.110010            0.5   \n",
       "\n",
       "        QuantileLoss[0.9]  Coverage[0.9]  \n",
       "0                0.300830            1.0  \n",
       "1                1.034210            0.5  \n",
       "2                0.463899            1.0  \n",
       "3                0.252262            1.0  \n",
       "4                1.586942            0.5  \n",
       "...                   ...            ...  \n",
       "648265           0.243454            1.0  \n",
       "648266           0.324259            1.0  \n",
       "648267           0.533903            1.0  \n",
       "648268           0.480392            1.0  \n",
       "648269           0.336708            1.0  \n",
       "\n",
       "[648270 rows x 16 columns]"
      ]
     },
     "execution_count": 79,
     "metadata": {},
     "output_type": "execute_result"
    }
   ],
   "source": [
    "item_metrics"
   ]
  },
  {
   "cell_type": "code",
   "execution_count": 80,
   "id": "99355d9e-b327-417f-89b6-ab4187afd6ed",
   "metadata": {
    "execution": {
     "iopub.execute_input": "2022-02-23T14:08:45.496939Z",
     "iopub.status.busy": "2022-02-23T14:08:45.496175Z",
     "iopub.status.idle": "2022-02-23T14:08:46.480429Z",
     "shell.execute_reply": "2022-02-23T14:08:46.479704Z",
     "shell.execute_reply.started": "2022-02-23T14:08:45.496871Z"
    },
    "tags": []
   },
   "outputs": [
    {
     "data": {
      "image/png": "[encoded data removed]",
      "text/plain": [
       "<Figure size 432x288 with 1 Axes>"
      ]
     },
     "metadata": {
      "needs_background": "light"
     },
     "output_type": "display_data"
    }
   ],
   "source": [
    "item_metrics.plot(x='MSIS', y='MASE', kind='scatter')\n",
    "plt.grid(which=\"both\")\n",
    "plt.show()"
   ]
  },
  {
   "cell_type": "markdown",
   "id": "7ec4842a-b0b9-4e40-bde3-f4c91661f1f6",
   "metadata": {},
   "source": [
    "# Test metrics"
   ]
  },
  {
   "cell_type": "code",
   "execution_count": 282,
   "id": "e6078ea0-25db-4db4-89c6-87b6f3a45203",
   "metadata": {
    "execution": {
     "iopub.execute_input": "2022-04-24T18:57:15.390846Z",
     "iopub.status.busy": "2022-04-24T18:57:15.390445Z",
     "iopub.status.idle": "2022-04-24T18:57:15.420282Z",
     "shell.execute_reply": "2022-04-24T18:57:15.419673Z",
     "shell.execute_reply.started": "2022-04-24T18:57:15.390805Z"
    },
    "tags": []
   },
   "outputs": [],
   "source": [
    "train_ds = ListDataset(\n",
    "    [\n",
    "        {\n",
    "            FieldName.TARGET: targets_per_day[day][None],\n",
    "            FieldName.START: dataset_metadata['start'],\n",
    "            FieldName.FEAT_DYNAMIC_REAL: features_per_day[day].T\n",
    "        }\n",
    "        for day in train_days\n",
    "    ],\n",
    "    freq=dataset_metadata['freq'],\n",
    "    one_dim_target=False\n",
    ")"
   ]
  },
  {
   "cell_type": "code",
   "execution_count": 311,
   "id": "6e09f4e9-ec93-4f73-b229-e4f038525afd",
   "metadata": {
    "execution": {
     "iopub.execute_input": "2022-04-24T19:04:15.243239Z",
     "iopub.status.busy": "2022-04-24T19:04:15.243102Z",
     "iopub.status.idle": "2022-04-24T19:04:15.272044Z",
     "shell.execute_reply": "2022-04-24T19:04:15.271296Z",
     "shell.execute_reply.started": "2022-04-24T19:04:15.243221Z"
    },
    "tags": []
   },
   "outputs": [
    {
     "data": {
      "text/plain": [
       "((1, 46317), (27, 46317))"
      ]
     },
     "execution_count": 311,
     "metadata": {},
     "output_type": "execute_result"
    }
   ],
   "source": [
    "targets_per_day[day][None].shape, features_per_day[day].T.shape"
   ]
  },
  {
   "cell_type": "markdown",
   "id": "10fd5959-5aee-4b1b-8a22-2d0602ba32d1",
   "metadata": {},
   "source": [
    "# Conditioned Normalizing Flow"
   ]
  },
  {
   "cell_type": "code",
   "execution_count": 337,
   "id": "6274878b-d8d8-48b6-9088-0cdb4155c05e",
   "metadata": {
    "execution": {
     "iopub.execute_input": "2022-04-24T21:07:51.333098Z",
     "iopub.status.busy": "2022-04-24T21:07:51.332705Z",
     "iopub.status.idle": "2022-04-24T21:11:24.262380Z",
     "shell.execute_reply": "2022-04-24T21:11:24.261592Z",
     "shell.execute_reply.started": "2022-04-24T21:07:51.333046Z"
    },
    "tags": []
   },
   "outputs": [
    {
     "data": {
      "application/vnd.jupyter.widget-view+json": {
       "model_id": "338c63ed632249ba8f2de30cf4a2885c",
       "version_major": 2,
       "version_minor": 0
      },
      "text/plain": [
       "HBox(children=(IntProgress(value=0, max=99), HTML(value='')))"
      ]
     },
     "metadata": {},
     "output_type": "display_data"
    },
    {
     "name": "stdout",
     "output_type": "stream",
     "text": [
      "\n"
     ]
    },
    {
     "data": {
      "application/vnd.jupyter.widget-view+json": {
       "model_id": "381838d3c73e4b1897a1b5c52f9e9d30",
       "version_major": 2,
       "version_minor": 0
      },
      "text/plain": [
       "HBox(children=(IntProgress(value=0, max=99), HTML(value='')))"
      ]
     },
     "metadata": {},
     "output_type": "display_data"
    },
    {
     "name": "stdout",
     "output_type": "stream",
     "text": [
      "\n"
     ]
    },
    {
     "data": {
      "application/vnd.jupyter.widget-view+json": {
       "model_id": "2c2031b29c6c4c62b8693a7308e4969c",
       "version_major": 2,
       "version_minor": 0
      },
      "text/plain": [
       "HBox(children=(IntProgress(value=0, max=99), HTML(value='')))"
      ]
     },
     "metadata": {},
     "output_type": "display_data"
    },
    {
     "name": "stdout",
     "output_type": "stream",
     "text": [
      "\n"
     ]
    },
    {
     "data": {
      "application/vnd.jupyter.widget-view+json": {
       "model_id": "d7a42b56817a4518934f6b2977e1bbf0",
       "version_major": 2,
       "version_minor": 0
      },
      "text/plain": [
       "HBox(children=(IntProgress(value=0, max=99), HTML(value='')))"
      ]
     },
     "metadata": {},
     "output_type": "display_data"
    },
    {
     "name": "stdout",
     "output_type": "stream",
     "text": [
      "\n"
     ]
    },
    {
     "data": {
      "application/vnd.jupyter.widget-view+json": {
       "model_id": "5927ebd34f6546b6aa928ab55f79f8fb",
       "version_major": 2,
       "version_minor": 0
      },
      "text/plain": [
       "HBox(children=(IntProgress(value=0, max=99), HTML(value='')))"
      ]
     },
     "metadata": {},
     "output_type": "display_data"
    },
    {
     "name": "stdout",
     "output_type": "stream",
     "text": [
      "\n"
     ]
    }
   ],
   "source": [
    "from models.tempflow_estimator_initial import TempFlowEstimator\n",
    "\n",
    "# from models.tempflow_estimator import TempFlowEstimator\n",
    "#\n",
    "# tempflow_estimator = TempFlowEstimator(\n",
    "#     target_dim=1,\n",
    "#     prediction_length=dataset_metadata['prediction_length'],\n",
    "#     cell_type='GRU',\n",
    "#     context_length=5,\n",
    "#     input_size=27,\n",
    "#     freq=dataset_metadata['freq'],\n",
    "#     scaling=False,\n",
    "#     dequantize=False,\n",
    "#     n_blocks=4,\n",
    "#     trainer=Trainer(device=device,\n",
    "#                     epochs=5,\n",
    "#                     learning_rate=1e-3,\n",
    "#                     num_batches_per_epoch=100,\n",
    "#                     batch_size=64)\n",
    "# )\n",
    "\n",
    "\n",
    "tempflow_estimator = TempFlowEstimator(\n",
    "    target_dim=1,\n",
    "    prediction_length=dataset_metadata['prediction_length'],\n",
    "    cell_type='GRU',\n",
    "    context_length=1,\n",
    "    input_size=8,\n",
    "    freq=dataset_metadata['freq'],\n",
    "    scaling=False,\n",
    "    dequantize=False,\n",
    "    n_blocks=4,\n",
    "    trainer=Trainer(device=device,\n",
    "                    epochs=5,\n",
    "                    learning_rate=1e-3,\n",
    "                    num_batches_per_epoch=100,\n",
    "                    batch_size=64)\n",
    ")\n",
    "\n",
    "\n",
    "tempflow_predictor = tempflow_estimator.train(train_ds)"
   ]
  },
  {
   "cell_type": "code",
   "execution_count": 338,
   "id": "a9375033-c950-49d2-89ec-6025cb670851",
   "metadata": {
    "execution": {
     "iopub.execute_input": "2022-04-24T21:12:38.049701Z",
     "iopub.status.busy": "2022-04-24T21:12:38.049337Z",
     "iopub.status.idle": "2022-04-24T21:12:38.086014Z",
     "shell.execute_reply": "2022-04-24T21:12:38.084920Z",
     "shell.execute_reply.started": "2022-04-24T21:12:38.049658Z"
    },
    "tags": []
   },
   "outputs": [
    {
     "data": {
      "text/plain": [
       "<gluonts.torch.model.predictor.PyTorchPredictor at 0x7f3e844e9760>"
      ]
     },
     "execution_count": 338,
     "metadata": {},
     "output_type": "execute_result"
    }
   ],
   "source": [
    "tempflow_predictor"
   ]
  },
  {
   "cell_type": "code",
   "execution_count": null,
   "id": "cb6fa67b-983a-450c-a4c0-5bec70e73636",
   "metadata": {},
   "outputs": [],
   "source": []
  },
  {
   "cell_type": "code",
   "execution_count": null,
   "id": "02db0967-7bb2-4fea-b08f-c8490502138b",
   "metadata": {},
   "outputs": [],
   "source": []
  },
  {
   "cell_type": "code",
   "execution_count": null,
   "id": "7ac162c8-d31a-439a-8d4e-d21b8f3bd3a9",
   "metadata": {},
   "outputs": [],
   "source": []
  },
  {
   "cell_type": "code",
   "execution_count": null,
   "id": "95688830-4ddc-4fcb-8d72-6f301d8d43d4",
   "metadata": {},
   "outputs": [],
   "source": []
  },
  {
   "cell_type": "code",
   "execution_count": null,
   "id": "3ea3aadc-87bf-411a-b167-0af698d64e6b",
   "metadata": {},
   "outputs": [],
   "source": []
  }
 ],
 "metadata": {
  "kernelspec": {
   "display_name": "Python 3 (ipykernel)",
   "language": "python",
   "name": "python3"
  },
  "language_info": {
   "codemirror_mode": {
    "name": "ipython",
    "version": 3
   },
   "file_extension": ".py",
   "mimetype": "text/x-python",
   "name": "python",
   "nbconvert_exporter": "python",
   "pygments_lexer": "ipython3",
   "version": "3.8.10"
  }
 },
 "nbformat": 4,
 "nbformat_minor": 5
}
