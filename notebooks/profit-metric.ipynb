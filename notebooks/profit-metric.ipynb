{
 "cells": [
  {
   "cell_type": "markdown",
   "metadata": {},
   "source": [
    "# Obtain test predictions for predictor"
   ]
  },
  {
   "cell_type": "code",
   "execution_count": 1,
   "metadata": {
    "execution": {
     "iopub.execute_input": "2022-05-03T21:56:56.276558Z",
     "iopub.status.busy": "2022-05-03T21:56:56.275484Z",
     "iopub.status.idle": "2022-05-03T21:56:56.297716Z",
     "shell.execute_reply": "2022-05-03T21:56:56.297007Z",
     "shell.execute_reply.started": "2022-05-03T21:56:56.276433Z"
    },
    "tags": []
   },
   "outputs": [],
   "source": [
    "%load_ext autoreload\n",
    "%autoreload 2"
   ]
  },
  {
   "cell_type": "code",
   "execution_count": 86,
   "metadata": {
    "execution": {
     "iopub.execute_input": "2022-05-03T23:22:06.889600Z",
     "iopub.status.busy": "2022-05-03T23:22:06.889245Z",
     "iopub.status.idle": "2022-05-03T23:22:06.921208Z",
     "shell.execute_reply": "2022-05-03T23:22:06.920746Z",
     "shell.execute_reply.started": "2022-05-03T23:22:06.889558Z"
    },
    "tags": []
   },
   "outputs": [],
   "source": [
    "# from pts.model.simple_feedforward import SimpleFeedForwardTrainingNetwork\n",
    "# from pts.model.simple_feedforward import SimpleFeedForwardEstimator\n",
    "from models.simple_feedforward_estimator import SimpleFeedForwardEstimator\n",
    "from models.simple_feedforward_network import SimpleFeedForwardTrainingNetwork\n",
    "from pts import Trainer\n",
    "import torch\n",
    "import pprint\n",
    "import pickle\n",
    "from tqdm import tqdm \n",
    "import numpy as np\n",
    "import matplotlib.pyplot as plt \n",
    "\n",
    "from pathlib import Path\n",
    "\n",
    "from gluonts.mx import DistributionOutput, GaussianOutput\n",
    "from gluonts.model.predictor import Predictor\n",
    "from gluonts.torch.model.predictor import PyTorchPredictor\n",
    "\n",
    "from gluonts.evaluation import make_evaluation_predictions\n",
    "from gluonts.evaluation import Evaluator\n",
    "\n",
    "\n",
    "from pts.modules import NormalOutput\n",
    "\n",
    "from training_utils import get_scaled_datasets, dataset_metadata, get_rolled_dataset"
   ]
  },
  {
   "cell_type": "code",
   "execution_count": 3,
   "metadata": {
    "execution": {
     "iopub.execute_input": "2022-05-03T21:57:01.369511Z",
     "iopub.status.busy": "2022-05-03T21:57:01.369362Z",
     "iopub.status.idle": "2022-05-03T21:57:01.404440Z",
     "shell.execute_reply": "2022-05-03T21:57:01.403815Z",
     "shell.execute_reply.started": "2022-05-03T21:57:01.369492Z"
    },
    "tags": []
   },
   "outputs": [],
   "source": [
    "\n",
    "device = torch.device(\"cpu\")\n",
    "\n",
    "# estimator = SimpleFeedForwardEstimator(\n",
    "#     prediction_length=1,\n",
    "#     context_length=5,\n",
    "#     freq=dataset_metadata['freq'],\n",
    "#     num_hidden_dimensions=[162, 40, 40, 1], # dims[0] = 27 * (past_features + future_features)\n",
    "#     # distr_output=NormalOutput(),\n",
    "#     trainer=Trainer(\n",
    "#         device=device,\n",
    "#         epochs=7,\n",
    "#         learning_rate=1e-3,\n",
    "#         num_batches_per_epoch=20000\n",
    "#     )\n",
    "# )\n",
    "\n",
    "from models.tempflow_estimator import TempFlowEstimator\n",
    "\n",
    "tempflow_estimator = TempFlowEstimator(\n",
    "    target_dim=1,\n",
    "    prediction_length=1,\n",
    "    cell_type='GRU',\n",
    "    context_length=3,\n",
    "    input_size=27,\n",
    "    freq=dataset_metadata['freq'],\n",
    "    scaling=False,\n",
    "    dequantize=False,\n",
    "    n_blocks=3,\n",
    "    trainer=Trainer(device=device,\n",
    "                    epochs=3,\n",
    "                    learning_rate=1e-3,\n",
    "                    num_batches_per_epoch=20000,\n",
    "                    batch_size=32)\n",
    ")\n"
   ]
  },
  {
   "cell_type": "code",
   "execution_count": 4,
   "metadata": {
    "execution": {
     "iopub.execute_input": "2022-05-03T21:57:03.639300Z",
     "iopub.status.busy": "2022-05-03T21:57:03.638994Z",
     "iopub.status.idle": "2022-05-03T21:57:04.190928Z",
     "shell.execute_reply": "2022-05-03T21:57:04.190233Z",
     "shell.execute_reply.started": "2022-05-03T21:57:03.639262Z"
    },
    "tags": []
   },
   "outputs": [
    {
     "name": "stdout",
     "output_type": "stream",
     "text": [
      "(926340, 27) (926340, 1)\n",
      "len(train_days), len(test_days) 14 6\n"
     ]
    }
   ],
   "source": [
    "train_ds, test_ds = get_scaled_datasets()"
   ]
  },
  {
   "cell_type": "code",
   "execution_count": 5,
   "metadata": {
    "execution": {
     "iopub.execute_input": "2022-05-03T21:57:05.046730Z",
     "iopub.status.busy": "2022-05-03T21:57:05.046155Z",
     "iopub.status.idle": "2022-05-03T21:57:05.079736Z",
     "shell.execute_reply": "2022-05-03T21:57:05.079181Z",
     "shell.execute_reply.started": "2022-05-03T21:57:05.046684Z"
    },
    "tags": []
   },
   "outputs": [],
   "source": [
    "predictor = PyTorchPredictor.deserialize(Path('./checkpoints/simple_feedforward'))"
   ]
  },
  {
   "cell_type": "code",
   "execution_count": 6,
   "metadata": {
    "execution": {
     "iopub.execute_input": "2022-05-03T21:57:05.085327Z",
     "iopub.status.busy": "2022-05-03T21:57:05.084794Z",
     "iopub.status.idle": "2022-05-03T21:57:05.137125Z",
     "shell.execute_reply": "2022-05-03T21:57:05.136479Z",
     "shell.execute_reply.started": "2022-05-03T21:57:05.085293Z"
    },
    "tags": []
   },
   "outputs": [],
   "source": [
    "with open('./checkpoints/tempflow_predictor_trained.pkl', 'rb') as f:\n",
    "    tempflow_predictor_trained = pickle.load(f)\n",
    "    \n",
    "tempflow_predictor = tempflow_estimator.create_predictor(tempflow_predictor_trained.transformation, tempflow_predictor_trained.trained_net, device)"
   ]
  },
  {
   "cell_type": "code",
   "execution_count": 7,
   "metadata": {
    "execution": {
     "iopub.execute_input": "2022-05-03T21:57:06.585853Z",
     "iopub.status.busy": "2022-05-03T21:57:06.585045Z",
     "iopub.status.idle": "2022-05-03T21:57:06.645604Z",
     "shell.execute_reply": "2022-05-03T21:57:06.644962Z",
     "shell.execute_reply.started": "2022-05-03T21:57:06.585797Z"
    },
    "tags": []
   },
   "outputs": [
    {
     "name": "stderr",
     "output_type": "stream",
     "text": [
      "6it [00:00, 216.94it/s]\n"
     ]
    }
   ],
   "source": [
    "test_ds_rolled = get_rolled_dataset(test_ds, \n",
    "                                     context_length=5,\n",
    "                                     prediction_length=1, max_size=1000)"
   ]
  },
  {
   "cell_type": "code",
   "execution_count": 8,
   "metadata": {
    "execution": {
     "iopub.execute_input": "2022-05-03T21:57:07.527489Z",
     "iopub.status.busy": "2022-05-03T21:57:07.526685Z",
     "iopub.status.idle": "2022-05-03T21:57:07.558982Z",
     "shell.execute_reply": "2022-05-03T21:57:07.558454Z",
     "shell.execute_reply.started": "2022-05-03T21:57:07.527443Z"
    },
    "tags": []
   },
   "outputs": [
    {
     "data": {
      "text/plain": [
       "1000"
      ]
     },
     "execution_count": 8,
     "metadata": {},
     "output_type": "execute_result"
    }
   ],
   "source": [
    "len(test_ds_rolled)"
   ]
  },
  {
   "cell_type": "code",
   "execution_count": 9,
   "metadata": {
    "execution": {
     "iopub.execute_input": "2022-05-03T21:57:08.985606Z",
     "iopub.status.busy": "2022-05-03T21:57:08.985035Z",
     "iopub.status.idle": "2022-05-03T21:57:09.014615Z",
     "shell.execute_reply": "2022-05-03T21:57:09.013813Z",
     "shell.execute_reply.started": "2022-05-03T21:57:08.985562Z"
    },
    "tags": []
   },
   "outputs": [],
   "source": [
    "forecast_it, ts_it = make_evaluation_predictions(\n",
    "    test_ds_rolled, predictor=predictor, num_samples=10\n",
    ")"
   ]
  },
  {
   "cell_type": "code",
   "execution_count": 161,
   "metadata": {
    "execution": {
     "iopub.execute_input": "2022-05-03T21:51:06.684689Z",
     "iopub.status.busy": "2022-05-03T21:51:06.683825Z",
     "iopub.status.idle": "2022-05-03T21:51:49.526493Z",
     "shell.execute_reply": "2022-05-03T21:51:49.525998Z",
     "shell.execute_reply.started": "2022-05-03T21:51:06.684633Z"
    },
    "tags": []
   },
   "outputs": [
    {
     "name": "stderr",
     "output_type": "stream",
     "text": [
      "Running evaluation: 100%|██████████████████████████████████████████| 1000/1000 [00:41<00:00, 24.38it/s]/usr/twix/python/lib/python3.8/site-packages/gluonts/evaluation/metrics.py:102: RuntimeWarning: divide by zero encountered in double_scalars\n",
      "  return np.mean(np.abs(target - forecast)) / seasonal_error\n",
      "/usr/twix/python/lib/python3.8/site-packages/gluonts/evaluation/metrics.py:150: RuntimeWarning: divide by zero encountered in double_scalars\n",
      "  return numerator / seasonal_error\n",
      "\n",
      "/usr/twix/python/lib/python3.8/site-packages/gluonts/evaluation/metrics.py:102: RuntimeWarning: divide by zero encountered in double_scalars\n",
      "  return np.mean(np.abs(target - forecast)) / seasonal_error\n",
      "/usr/twix/python/lib/python3.8/site-packages/gluonts/evaluation/metrics.py:150: RuntimeWarning: divide by zero encountered in double_scalars\n",
      "  return numerator / seasonal_error\n",
      "/usr/twix/python/lib/python3.8/site-packages/gluonts/evaluation/metrics.py:102: RuntimeWarning: divide by zero encountered in double_scalars\n",
      "  return np.mean(np.abs(target - forecast)) / seasonal_error\n",
      "/usr/twix/python/lib/python3.8/site-packages/gluonts/evaluation/metrics.py:150: RuntimeWarning: divide by zero encountered in double_scalars\n",
      "  return numerator / seasonal_error\n",
      "/usr/twix/python/lib/python3.8/site-packages/gluonts/evaluation/metrics.py:102: RuntimeWarning: divide by zero encountered in double_scalars\n",
      "  return np.mean(np.abs(target - forecast)) / seasonal_error\n",
      "/usr/twix/python/lib/python3.8/site-packages/gluonts/evaluation/metrics.py:150: RuntimeWarning: divide by zero encountered in double_scalars\n",
      "  return numerator / seasonal_error\n"
     ]
    }
   ],
   "source": [
    "agg_metrics, item_metrics = Evaluator()(\n",
    "    ts_it, forecast_it, num_series=1000\n",
    ")\n"
   ]
  },
  {
   "cell_type": "code",
   "execution_count": 162,
   "metadata": {
    "execution": {
     "iopub.execute_input": "2022-05-03T21:52:05.189769Z",
     "iopub.status.busy": "2022-05-03T21:52:05.189374Z",
     "iopub.status.idle": "2022-05-03T21:52:05.232326Z",
     "shell.execute_reply": "2022-05-03T21:52:05.231671Z",
     "shell.execute_reply.started": "2022-05-03T21:52:05.189726Z"
    }
   },
   "outputs": [
    {
     "name": "stdout",
     "output_type": "stream",
     "text": [
      "{'Coverage[0.1]': 0.433,\n",
      " 'Coverage[0.2]': 0.476,\n",
      " 'Coverage[0.3]': 0.508,\n",
      " 'Coverage[0.4]': 0.538,\n",
      " 'Coverage[0.5]': 0.538,\n",
      " 'Coverage[0.6]': 0.573,\n",
      " 'Coverage[0.7]': 0.6,\n",
      " 'Coverage[0.8]': 0.63,\n",
      " 'Coverage[0.9]': 0.663,\n",
      " 'MAE_Coverage': 0.1696666666666667,\n",
      " 'MAPE': 1.298449830021709,\n",
      " 'MASE': inf,\n",
      " 'MSE': 8.299214181276183,\n",
      " 'MSIS': inf,\n",
      " 'ND': 1.0010609309288423,\n",
      " 'NRMSE': 1.2333307754310996,\n",
      " 'OWA': nan,\n",
      " 'QuantileLoss[0.1]': 1936.1223702654243,\n",
      " 'QuantileLoss[0.2]': 2211.1964823350313,\n",
      " 'QuantileLoss[0.3]': 2339.5961681351064,\n",
      " 'QuantileLoss[0.4]': 2378.06243237108,\n",
      " 'QuantileLoss[0.5]': 2338.295694258064,\n",
      " 'QuantileLoss[0.6]': 2279.649667674303,\n",
      " 'QuantileLoss[0.7]': 2151.2097273387017,\n",
      " 'QuantileLoss[0.8]': 1960.0315918467936,\n",
      " 'QuantileLoss[0.9]': 1637.9680867105722,\n",
      " 'RMSE': 2.8808356741189147,\n",
      " 'abs_error': 2338.295694258064,\n",
      " 'abs_target_mean': 2.3358175531717715,\n",
      " 'abs_target_sum': 2335.8175531717716,\n",
      " 'mean_absolute_QuantileLoss': 2136.903580103897,\n",
      " 'mean_wQuantileLoss': 0.9148418193887738,\n",
      " 'sMAPE': 1.7171507598645985,\n",
      " 'seasonal_error': 0.3065298842107877,\n",
      " 'wQuantileLoss[0.1]': 0.8288842455338143,\n",
      " 'wQuantileLoss[0.2]': 0.9466477719257144,\n",
      " 'wQuantileLoss[0.3]': 1.0016176841201505,\n",
      " 'wQuantileLoss[0.4]': 1.018085693012258,\n",
      " 'wQuantileLoss[0.5]': 1.0010609309288423,\n",
      " 'wQuantileLoss[0.6]': 0.9759536503948268,\n",
      " 'wQuantileLoss[0.7]': 0.920966504604611,\n",
      " 'wQuantileLoss[0.8]': 0.8391201569597317,\n",
      " 'wQuantileLoss[0.9]': 0.701239737019015}\n"
     ]
    }
   ],
   "source": [
    "pprint.pprint(agg_metrics)"
   ]
  },
  {
   "cell_type": "code",
   "execution_count": 44,
   "metadata": {
    "execution": {
     "iopub.execute_input": "2022-05-03T00:00:20.161470Z",
     "iopub.status.busy": "2022-05-03T00:00:20.161085Z",
     "iopub.status.idle": "2022-05-03T00:00:20.203687Z",
     "shell.execute_reply": "2022-05-03T00:00:20.202921Z",
     "shell.execute_reply.started": "2022-05-03T00:00:20.161427Z"
    },
    "tags": []
   },
   "outputs": [
    {
     "name": "stdout",
     "output_type": "stream",
     "text": [
      "{'Coverage[0.1]': 0.426,\n",
      " 'Coverage[0.2]': 0.47,\n",
      " 'Coverage[0.3]': 0.514,\n",
      " 'Coverage[0.4]': 0.545,\n",
      " 'Coverage[0.5]': 0.545,\n",
      " 'Coverage[0.6]': 0.571,\n",
      " 'Coverage[0.7]': 0.594,\n",
      " 'Coverage[0.8]': 0.625,\n",
      " 'Coverage[0.9]': 0.668,\n",
      " 'MAE_Coverage': 0.17133333333333334,\n",
      " 'MAPE': 1.4602969701243564,\n",
      " 'MASE': inf,\n",
      " 'MSE': 8.329459075400242,\n",
      " 'MSIS': inf,\n",
      " 'ND': 1.0026766198315942,\n",
      " 'NRMSE': 1.2355760503894058,\n",
      " 'OWA': nan,\n",
      " 'QuantileLoss[0.1]': 1940.7388578563928,\n",
      " 'QuantileLoss[0.2]': 2212.9440883353354,\n",
      " 'QuantileLoss[0.3]': 2334.8221301335843,\n",
      " 'QuantileLoss[0.4]': 2381.051721011102,\n",
      " 'QuantileLoss[0.5]': 2342.069648757577,\n",
      " 'QuantileLoss[0.6]': 2294.389885224402,\n",
      " 'QuantileLoss[0.7]': 2170.838180592656,\n",
      " 'QuantileLoss[0.8]': 1973.2957521468402,\n",
      " 'QuantileLoss[0.9]': 1646.2354305192828,\n",
      " 'RMSE': 2.8860802267782235,\n",
      " 'abs_error': 2342.069648757577,\n",
      " 'abs_target_mean': 2.3358175531717715,\n",
      " 'abs_target_sum': 2335.8175531717716,\n",
      " 'mean_absolute_QuantileLoss': 2144.0428549530193,\n",
      " 'mean_wQuantileLoss': 0.9178982545283366,\n",
      " 'sMAPE': 1.7194464335711672,\n",
      " 'seasonal_error': 0.3065298842107877,\n",
      " 'wQuantileLoss[0.1]': 0.8308606360206056,\n",
      " 'wQuantileLoss[0.2]': 0.9473959493670265,\n",
      " 'wQuantileLoss[0.3]': 0.9995738438403138,\n",
      " 'wQuantileLoss[0.4]': 1.019365454197357,\n",
      " 'wQuantileLoss[0.5]': 1.0026766198315942,\n",
      " 'wQuantileLoss[0.6]': 0.9822641678965398,\n",
      " 'wQuantileLoss[0.7]': 0.9293697522072764,\n",
      " 'wQuantileLoss[0.8]': 0.8447987512840339,\n",
      " 'wQuantileLoss[0.9]': 0.704779116110282}\n"
     ]
    }
   ],
   "source": [
    "pprint.pprint(agg_metrics)"
   ]
  },
  {
   "cell_type": "markdown",
   "metadata": {},
   "source": [
    "# Normalizing flow metrics"
   ]
  },
  {
   "cell_type": "code",
   "execution_count": 17,
   "metadata": {
    "execution": {
     "iopub.execute_input": "2022-05-03T21:59:57.122224Z",
     "iopub.status.busy": "2022-05-03T21:59:57.121910Z",
     "iopub.status.idle": "2022-05-03T21:59:57.153557Z",
     "shell.execute_reply": "2022-05-03T21:59:57.152746Z",
     "shell.execute_reply.started": "2022-05-03T21:59:57.122184Z"
    },
    "tags": []
   },
   "outputs": [],
   "source": [
    "tempflow_forecast_it, tempflow_ts_it = make_evaluation_predictions(\n",
    "    test_ds_rolled, predictor=tempflow_predictor, num_samples=10\n",
    ")"
   ]
  },
  {
   "cell_type": "code",
   "execution_count": 19,
   "metadata": {
    "execution": {
     "iopub.execute_input": "2022-05-03T22:00:12.750119Z",
     "iopub.status.busy": "2022-05-03T22:00:12.749809Z",
     "iopub.status.idle": "2022-05-03T22:00:38.457828Z",
     "shell.execute_reply": "2022-05-03T22:00:38.457106Z",
     "shell.execute_reply.started": "2022-05-03T22:00:12.750081Z"
    },
    "tags": []
   },
   "outputs": [
    {
     "name": "stderr",
     "output_type": "stream",
     "text": [
      "Running evaluation: 100%|██████████████████████████████████████████| 1000/1000 [00:24<00:00, 41.14it/s]/usr/twix/python/lib/python3.8/site-packages/gluonts/evaluation/metrics.py:102: RuntimeWarning: divide by zero encountered in double_scalars\n",
      "  return np.mean(np.abs(target - forecast)) / seasonal_error\n",
      "/usr/twix/python/lib/python3.8/site-packages/gluonts/evaluation/metrics.py:150: RuntimeWarning: divide by zero encountered in double_scalars\n",
      "  return numerator / seasonal_error\n",
      "\n",
      "/usr/twix/python/lib/python3.8/site-packages/gluonts/evaluation/metrics.py:102: RuntimeWarning: divide by zero encountered in double_scalars\n",
      "  return np.mean(np.abs(target - forecast)) / seasonal_error\n",
      "/usr/twix/python/lib/python3.8/site-packages/gluonts/evaluation/metrics.py:150: RuntimeWarning: divide by zero encountered in double_scalars\n",
      "  return numerator / seasonal_error\n",
      "/usr/twix/python/lib/python3.8/site-packages/gluonts/evaluation/metrics.py:102: RuntimeWarning: divide by zero encountered in double_scalars\n",
      "  return np.mean(np.abs(target - forecast)) / seasonal_error\n",
      "/usr/twix/python/lib/python3.8/site-packages/gluonts/evaluation/metrics.py:150: RuntimeWarning: divide by zero encountered in double_scalars\n",
      "  return numerator / seasonal_error\n",
      "/usr/twix/python/lib/python3.8/site-packages/gluonts/evaluation/metrics.py:102: RuntimeWarning: divide by zero encountered in double_scalars\n",
      "  return np.mean(np.abs(target - forecast)) / seasonal_error\n",
      "/usr/twix/python/lib/python3.8/site-packages/gluonts/evaluation/metrics.py:150: RuntimeWarning: divide by zero encountered in double_scalars\n",
      "  return numerator / seasonal_error\n"
     ]
    }
   ],
   "source": [
    "tempflow_agg_metrics, tempflow_item_metrics = Evaluator()(\n",
    "    tempflow_ts_it, tempflow_forecast_it, num_series=1000\n",
    ")\n"
   ]
  },
  {
   "cell_type": "code",
   "execution_count": 147,
   "metadata": {
    "execution": {
     "iopub.execute_input": "2022-05-03T21:40:18.192026Z",
     "iopub.status.busy": "2022-05-03T21:40:18.191040Z",
     "iopub.status.idle": "2022-05-03T21:40:18.234629Z",
     "shell.execute_reply": "2022-05-03T21:40:18.234028Z",
     "shell.execute_reply.started": "2022-05-03T21:40:18.191971Z"
    },
    "tags": []
   },
   "outputs": [
    {
     "name": "stdout",
     "output_type": "stream",
     "text": [
      "{'Coverage[0.1]': 0.442,\n",
      " 'Coverage[0.2]': 0.478,\n",
      " 'Coverage[0.3]': 0.514,\n",
      " 'Coverage[0.4]': 0.562,\n",
      " 'Coverage[0.5]': 0.562,\n",
      " 'Coverage[0.6]': 0.594,\n",
      " 'Coverage[0.7]': 0.621,\n",
      " 'Coverage[0.8]': 0.651,\n",
      " 'Coverage[0.9]': 0.682,\n",
      " 'MAE_Coverage': 0.16777777777777778,\n",
      " 'MAPE': 1.6693398574091842,\n",
      " 'MASE': inf,\n",
      " 'MSE': 8.442871039492253,\n",
      " 'MSIS': inf,\n",
      " 'ND': 1.0100890570385455,\n",
      " 'NRMSE': 1.2439592679578027,\n",
      " 'OWA': nan,\n",
      " 'QuantileLoss[0.1]': 1887.3000466808676,\n",
      " 'QuantileLoss[0.2]': 2187.9591133620124,\n",
      " 'QuantileLoss[0.3]': 2339.8101180307567,\n",
      " 'QuantileLoss[0.4]': 2405.405318406224,\n",
      " 'QuantileLoss[0.5]': 2359.3837496973574,\n",
      " 'QuantileLoss[0.6]': 2307.6551102265717,\n",
      " 'QuantileLoss[0.7]': 2174.1531159780925,\n",
      " 'QuantileLoss[0.8]': 1946.3681084632872,\n",
      " 'QuantileLoss[0.9]': 1596.9502524480222,\n",
      " 'RMSE': 2.905661893526543,\n",
      " 'abs_error': 2359.3837496973574,\n",
      " 'abs_target_mean': 2.3358175531717715,\n",
      " 'abs_target_sum': 2335.8175531717716,\n",
      " 'mean_absolute_QuantileLoss': 2133.8872148103546,\n",
      " 'mean_wQuantileLoss': 0.9135504662651331,\n",
      " 'sMAPE': 1.623141399473534,\n",
      " 'seasonal_error': 0.3065298842107877,\n",
      " 'wQuantileLoss[0.1]': 0.8079826457841843,\n",
      " 'wQuantileLoss[0.2]': 0.936699491101527,\n",
      " 'wQuantileLoss[0.3]': 1.0017092794142093,\n",
      " 'wQuantileLoss[0.4]': 1.0297916098541002,\n",
      " 'wQuantileLoss[0.5]': 1.0100890570385455,\n",
      " 'wQuantileLoss[0.6]': 0.9879432180364607,\n",
      " 'wQuantileLoss[0.7]': 0.9307889278534801,\n",
      " 'wQuantileLoss[0.8]': 0.8332706061825519,\n",
      " 'wQuantileLoss[0.9]': 0.6836793611211404}\n"
     ]
    }
   ],
   "source": [
    "pprint.pprint(tempflow_agg_metrics)"
   ]
  },
  {
   "cell_type": "code",
   "execution_count": 21,
   "metadata": {
    "execution": {
     "iopub.execute_input": "2022-05-03T22:00:58.580351Z",
     "iopub.status.busy": "2022-05-03T22:00:58.580027Z",
     "iopub.status.idle": "2022-05-03T22:00:58.619937Z",
     "shell.execute_reply": "2022-05-03T22:00:58.618954Z",
     "shell.execute_reply.started": "2022-05-03T22:00:58.580311Z"
    },
    "tags": []
   },
   "outputs": [
    {
     "name": "stdout",
     "output_type": "stream",
     "text": [
      "{'Coverage[0.1]': 0.428,\n",
      " 'Coverage[0.2]': 0.475,\n",
      " 'Coverage[0.3]': 0.514,\n",
      " 'Coverage[0.4]': 0.556,\n",
      " 'Coverage[0.5]': 0.556,\n",
      " 'Coverage[0.6]': 0.596,\n",
      " 'Coverage[0.7]': 0.621,\n",
      " 'Coverage[0.8]': 0.649,\n",
      " 'Coverage[0.9]': 0.681,\n",
      " 'MAE_Coverage': 0.16466666666666668,\n",
      " 'MAPE': 1.6947497101780027,\n",
      " 'MASE': inf,\n",
      " 'MSE': 8.419740905687558,\n",
      " 'MSIS': inf,\n",
      " 'ND': 1.017976965450974,\n",
      " 'NRMSE': 1.2422541206300404,\n",
      " 'OWA': nan,\n",
      " 'QuantileLoss[0.1]': 1881.8996403887868,\n",
      " 'QuantileLoss[0.2]': 2170.8257398560645,\n",
      " 'QuantileLoss[0.3]': 2338.0830448780207,\n",
      " 'QuantileLoss[0.4]': 2424.18204770796,\n",
      " 'QuantileLoss[0.5]': 2377.808464624919,\n",
      " 'QuantileLoss[0.6]': 2318.416647338867,\n",
      " 'QuantileLoss[0.7]': 2183.807284957171,\n",
      " 'QuantileLoss[0.8]': 1934.4026656240226,\n",
      " 'QuantileLoss[0.9]': 1579.272517696023,\n",
      " 'RMSE': 2.9016789804676115,\n",
      " 'abs_error': 2377.808464624919,\n",
      " 'abs_target_mean': 2.3358175531717715,\n",
      " 'abs_target_sum': 2335.8175531717716,\n",
      " 'mean_absolute_QuantileLoss': 2134.2997836746486,\n",
      " 'mean_wQuantileLoss': 0.9137270934437987,\n",
      " 'sMAPE': 1.6455147401541472,\n",
      " 'seasonal_error': 0.3065298842107877,\n",
      " 'wQuantileLoss[0.1]': 0.805670647449919,\n",
      " 'wQuantileLoss[0.2]': 0.9293644261335107,\n",
      " 'wQuantileLoss[0.3]': 1.0009698924058401,\n",
      " 'wQuantileLoss[0.4]': 1.037830221121594,\n",
      " 'wQuantileLoss[0.5]': 1.017976965450974,\n",
      " 'wQuantileLoss[0.6]': 0.9925504002616659,\n",
      " 'wQuantileLoss[0.7]': 0.9349220284742752,\n",
      " 'wQuantileLoss[0.8]': 0.8281480131003067,\n",
      " 'wQuantileLoss[0.9]': 0.6761112465961019}\n"
     ]
    }
   ],
   "source": [
    "pprint.pprint(tempflow_agg_metrics)"
   ]
  },
  {
   "cell_type": "markdown",
   "metadata": {},
   "source": [
    "# Write profit metric"
   ]
  },
  {
   "cell_type": "code",
   "execution_count": 82,
   "metadata": {
    "execution": {
     "iopub.execute_input": "2022-05-03T23:21:39.397340Z",
     "iopub.status.busy": "2022-05-03T23:21:39.396927Z",
     "iopub.status.idle": "2022-05-03T23:21:39.431545Z",
     "shell.execute_reply": "2022-05-03T23:21:39.430836Z",
     "shell.execute_reply.started": "2022-05-03T23:21:39.397296Z"
    },
    "tags": []
   },
   "outputs": [],
   "source": [
    "def get_targets_and_preds(forecast_it, ts_it):\n",
    "    targets = []\n",
    "    pred_distributions = []\n",
    "    for pred_distribution, target in tqdm(zip(forecast_it, ts_it)):\n",
    "        target = target.values[0][0]\n",
    "        targets.append(target)\n",
    "        pred_distributions.append(pred_distribution.samples)\n",
    "\n",
    "    targets = np.array(targets)\n",
    "    pred_distributions = np.array(pred_distributions).squeeze()\n",
    "    return targets, pred_distributions"
   ]
  },
  {
   "cell_type": "code",
   "execution_count": 87,
   "metadata": {
    "execution": {
     "iopub.execute_input": "2022-05-03T23:22:10.981756Z",
     "iopub.status.busy": "2022-05-03T23:22:10.981424Z",
     "iopub.status.idle": "2022-05-03T23:22:11.700370Z",
     "shell.execute_reply": "2022-05-03T23:22:11.699408Z",
     "shell.execute_reply.started": "2022-05-03T23:22:10.981712Z"
    },
    "tags": []
   },
   "outputs": [
    {
     "name": "stderr",
     "output_type": "stream",
     "text": [
      "1000it [00:00, 1467.47it/s]\n"
     ]
    }
   ],
   "source": [
    "forecast_it, ts_it = make_evaluation_predictions(\n",
    "    test_ds_rolled, predictor=predictor, num_samples=10\n",
    ")\n",
    "\n",
    "targets, pred_distributions = get_targets_and_preds(forecast_it, ts_it)"
   ]
  },
  {
   "cell_type": "code",
   "execution_count": 88,
   "metadata": {
    "execution": {
     "iopub.execute_input": "2022-05-03T23:22:15.340018Z",
     "iopub.status.busy": "2022-05-03T23:22:15.339644Z",
     "iopub.status.idle": "2022-05-03T23:22:15.609101Z",
     "shell.execute_reply": "2022-05-03T23:22:15.608329Z",
     "shell.execute_reply.started": "2022-05-03T23:22:15.339976Z"
    },
    "tags": []
   },
   "outputs": [
    {
     "data": {
      "image/png": "[encoded data removed]",
      "text/plain": [
       "<Figure size 432x288 with 1 Axes>"
      ]
     },
     "metadata": {
      "needs_background": "light"
     },
     "output_type": "display_data"
    }
   ],
   "source": [
    "plt.hist(targets, bins=100);"
   ]
  },
  {
   "cell_type": "code",
   "execution_count": 89,
   "metadata": {
    "execution": {
     "iopub.execute_input": "2022-05-03T23:22:19.449992Z",
     "iopub.status.busy": "2022-05-03T23:22:19.449576Z",
     "iopub.status.idle": "2022-05-03T23:22:19.482273Z",
     "shell.execute_reply": "2022-05-03T23:22:19.481201Z",
     "shell.execute_reply.started": "2022-05-03T23:22:19.449948Z"
    },
    "tags": []
   },
   "outputs": [
    {
     "data": {
      "text/plain": [
       "(1000, 10)"
      ]
     },
     "execution_count": 89,
     "metadata": {},
     "output_type": "execute_result"
    }
   ],
   "source": [
    "pred_distributions.shape"
   ]
  },
  {
   "cell_type": "code",
   "execution_count": 90,
   "metadata": {
    "execution": {
     "iopub.execute_input": "2022-05-03T23:22:22.064772Z",
     "iopub.status.busy": "2022-05-03T23:22:22.064283Z",
     "iopub.status.idle": "2022-05-03T23:22:22.318441Z",
     "shell.execute_reply": "2022-05-03T23:22:22.317441Z",
     "shell.execute_reply.started": "2022-05-03T23:22:22.064728Z"
    },
    "tags": []
   },
   "outputs": [
    {
     "data": {
      "image/png": "[encoded data removed]",
      "text/plain": [
       "<Figure size 432x288 with 1 Axes>"
      ]
     },
     "metadata": {
      "needs_background": "light"
     },
     "output_type": "display_data"
    }
   ],
   "source": [
    "plt.hist(pred_distributions.mean(1), bins=100);"
   ]
  },
  {
   "cell_type": "code",
   "execution_count": 28,
   "metadata": {
    "execution": {
     "iopub.execute_input": "2022-05-03T22:06:59.242393Z",
     "iopub.status.busy": "2022-05-03T22:06:59.242043Z",
     "iopub.status.idle": "2022-05-03T22:06:59.272650Z",
     "shell.execute_reply": "2022-05-03T22:06:59.272031Z",
     "shell.execute_reply.started": "2022-05-03T22:06:59.242352Z"
    },
    "tags": []
   },
   "outputs": [],
   "source": [
    "def max_profit_metric(predictions, targets):\n",
    "    permutation = predictions.argsort()[::-1]\n",
    "    profit_cumsum = np.cumsum(targets[permutation])\n",
    "    best_threshold_index = np.argmax(profit_cumsum)\n",
    "    max_profit = profit_cumsum[best_threshold_index]    \n",
    "    return max_profit, best_threshold_index / len(profit_cumsum)"
   ]
  },
  {
   "cell_type": "code",
   "execution_count": 123,
   "metadata": {
    "execution": {
     "iopub.execute_input": "2022-05-03T00:39:21.746521Z",
     "iopub.status.busy": "2022-05-03T00:39:21.745769Z",
     "iopub.status.idle": "2022-05-03T00:39:21.775956Z",
     "shell.execute_reply": "2022-05-03T00:39:21.775433Z",
     "shell.execute_reply.started": "2022-05-03T00:39:21.746464Z"
    },
    "tags": []
   },
   "outputs": [
    {
     "data": {
      "text/plain": [
       "(11.350938, 0.024)"
      ]
     },
     "execution_count": 123,
     "metadata": {},
     "output_type": "execute_result"
    }
   ],
   "source": [
    "max_profit_metric(pred_distributions.mean(1), targets)"
   ]
  },
  {
   "cell_type": "code",
   "execution_count": 111,
   "metadata": {
    "execution": {
     "iopub.execute_input": "2022-05-03T23:31:40.861093Z",
     "iopub.status.busy": "2022-05-03T23:31:40.860739Z",
     "iopub.status.idle": "2022-05-03T23:31:40.898364Z",
     "shell.execute_reply": "2022-05-03T23:31:40.897539Z",
     "shell.execute_reply.started": "2022-05-03T23:31:40.861056Z"
    },
    "tags": []
   },
   "outputs": [
    {
     "data": {
      "text/plain": [
       "(21.943178, 0.11)"
      ]
     },
     "execution_count": 111,
     "metadata": {},
     "output_type": "execute_result"
    }
   ],
   "source": [
    "mean_max_profit, ratio = max_profit_metric(pred_distributions.mean(1), targets)\n",
    "mean_max_profit, ratio"
   ]
  },
  {
   "cell_type": "code",
   "execution_count": 98,
   "metadata": {
    "execution": {
     "iopub.execute_input": "2022-05-03T23:27:04.930033Z",
     "iopub.status.busy": "2022-05-03T23:27:04.929687Z",
     "iopub.status.idle": "2022-05-03T23:27:04.962444Z",
     "shell.execute_reply": "2022-05-03T23:27:04.961441Z",
     "shell.execute_reply.started": "2022-05-03T23:27:04.929990Z"
    },
    "tags": []
   },
   "outputs": [],
   "source": [
    "pred_quantiles = np.quantile(pred_distributions, [0.3, 0.5, 0.8], axis=-1)"
   ]
  },
  {
   "cell_type": "code",
   "execution_count": 102,
   "metadata": {
    "execution": {
     "iopub.execute_input": "2022-05-03T23:28:27.627264Z",
     "iopub.status.busy": "2022-05-03T23:28:27.626403Z",
     "iopub.status.idle": "2022-05-03T23:28:27.656944Z",
     "shell.execute_reply": "2022-05-03T23:28:27.656449Z",
     "shell.execute_reply.started": "2022-05-03T23:28:27.627206Z"
    },
    "tags": []
   },
   "outputs": [],
   "source": [
    "quantiles_range = np.linspace(0.01, 0.99, num=50)"
   ]
  },
  {
   "cell_type": "code",
   "execution_count": 103,
   "metadata": {
    "execution": {
     "iopub.execute_input": "2022-05-03T23:28:28.322985Z",
     "iopub.status.busy": "2022-05-03T23:28:28.322605Z",
     "iopub.status.idle": "2022-05-03T23:28:28.352447Z",
     "shell.execute_reply": "2022-05-03T23:28:28.351927Z",
     "shell.execute_reply.started": "2022-05-03T23:28:28.322929Z"
    },
    "tags": []
   },
   "outputs": [],
   "source": [
    "pred_quantiles_range = np.quantile(pred_distributions, quantiles_range, axis=-1)"
   ]
  },
  {
   "cell_type": "code",
   "execution_count": 99,
   "metadata": {
    "execution": {
     "iopub.execute_input": "2022-05-03T23:27:07.037319Z",
     "iopub.status.busy": "2022-05-03T23:27:07.037001Z",
     "iopub.status.idle": "2022-05-03T23:27:07.069431Z",
     "shell.execute_reply": "2022-05-03T23:27:07.068900Z",
     "shell.execute_reply.started": "2022-05-03T23:27:07.037277Z"
    },
    "tags": []
   },
   "outputs": [
    {
     "data": {
      "text/plain": [
       "(25.805428, 0.017)"
      ]
     },
     "execution_count": 99,
     "metadata": {},
     "output_type": "execute_result"
    }
   ],
   "source": [
    "max_profit_metric(pred_quantiles[1], targets)"
   ]
  },
  {
   "cell_type": "code",
   "execution_count": 107,
   "metadata": {
    "execution": {
     "iopub.execute_input": "2022-05-03T23:29:43.872616Z",
     "iopub.status.busy": "2022-05-03T23:29:43.872306Z",
     "iopub.status.idle": "2022-05-03T23:29:43.901058Z",
     "shell.execute_reply": "2022-05-03T23:29:43.900635Z",
     "shell.execute_reply.started": "2022-05-03T23:29:43.872590Z"
    },
    "tags": []
   },
   "outputs": [],
   "source": [
    "profits = []\n",
    "ratios = []\n",
    "for q in pred_quantiles_range:\n",
    "    profit, ratio = max_profit_metric(q, targets)\n",
    "    profits.append(profit)\n",
    "    ratios.append(ratio)"
   ]
  },
  {
   "cell_type": "code",
   "execution_count": 114,
   "metadata": {
    "execution": {
     "iopub.execute_input": "2022-05-03T23:32:16.816442Z",
     "iopub.status.busy": "2022-05-03T23:32:16.815589Z",
     "iopub.status.idle": "2022-05-03T23:32:16.973299Z",
     "shell.execute_reply": "2022-05-03T23:32:16.972654Z",
     "shell.execute_reply.started": "2022-05-03T23:32:16.816386Z"
    },
    "tags": []
   },
   "outputs": [
    {
     "data": {
      "text/plain": [
       "<matplotlib.legend.Legend at 0x7f7ecd2c3370>"
      ]
     },
     "execution_count": 114,
     "metadata": {},
     "output_type": "execute_result"
    },
    {
     "data": {
      "image/png": "[encoded data removed]",
      "text/plain": [
       "<Figure size 432x288 with 1 Axes>"
      ]
     },
     "metadata": {
      "needs_background": "light"
     },
     "output_type": "display_data"
    }
   ],
   "source": [
    "plt.plot(quantiles_range, profits)\n",
    "plt.plot(quantiles_range, np.ones_like(profits) * mean_max_profit, color='red', label='mean max_profit')\n",
    "plt.legend()"
   ]
  },
  {
   "cell_type": "code",
   "execution_count": 115,
   "metadata": {
    "execution": {
     "iopub.execute_input": "2022-05-03T23:34:36.556310Z",
     "iopub.status.busy": "2022-05-03T23:34:36.555800Z",
     "iopub.status.idle": "2022-05-03T23:34:36.709917Z",
     "shell.execute_reply": "2022-05-03T23:34:36.709378Z",
     "shell.execute_reply.started": "2022-05-03T23:34:36.556264Z"
    }
   },
   "outputs": [
    {
     "data": {
      "text/plain": [
       "<matplotlib.legend.Legend at 0x7f7ecd291a00>"
      ]
     },
     "execution_count": 115,
     "metadata": {},
     "output_type": "execute_result"
    },
    {
     "data": {
      "image/png": "[encoded data removed]",
      "text/plain": [
       "<Figure size 432x288 with 1 Axes>"
      ]
     },
     "metadata": {
      "needs_background": "light"
     },
     "output_type": "display_data"
    }
   ],
   "source": [
    "plt.plot(quantiles_range, ratios)\n",
    "plt.plot(quantiles_range, np.ones_like(profits) * ratio, color='red', label='mean ratio')\n",
    "plt.legend()"
   ]
  },
  {
   "cell_type": "markdown",
   "metadata": {
    "execution": {
     "iopub.execute_input": "2022-05-03T00:37:30.619215Z",
     "iopub.status.busy": "2022-05-03T00:37:30.618777Z",
     "iopub.status.idle": "2022-05-03T00:37:30.651628Z",
     "shell.execute_reply": "2022-05-03T00:37:30.650339Z",
     "shell.execute_reply.started": "2022-05-03T00:37:30.619168Z"
    }
   },
   "source": [
    "# Max-profit normalizing flow"
   ]
  },
  {
   "cell_type": "code",
   "execution_count": 116,
   "metadata": {
    "execution": {
     "iopub.execute_input": "2022-05-03T23:35:53.126212Z",
     "iopub.status.busy": "2022-05-03T23:35:53.125745Z",
     "iopub.status.idle": "2022-05-03T23:36:03.283505Z",
     "shell.execute_reply": "2022-05-03T23:36:03.282816Z",
     "shell.execute_reply.started": "2022-05-03T23:35:53.126161Z"
    },
    "tags": []
   },
   "outputs": [
    {
     "name": "stderr",
     "output_type": "stream",
     "text": [
      "1000it [00:10, 98.81it/s]\n"
     ]
    }
   ],
   "source": [
    "tempflow_forecast_it, tempflow_ts_it = make_evaluation_predictions(\n",
    "    test_ds_rolled, predictor=tempflow_predictor, num_samples=10\n",
    ")\n",
    "targets, pred_distributions = get_targets_and_preds(tempflow_forecast_it, tempflow_ts_it)"
   ]
  },
  {
   "cell_type": "code",
   "execution_count": 117,
   "metadata": {
    "execution": {
     "iopub.execute_input": "2022-05-03T23:36:18.559438Z",
     "iopub.status.busy": "2022-05-03T23:36:18.559019Z",
     "iopub.status.idle": "2022-05-03T23:36:18.845030Z",
     "shell.execute_reply": "2022-05-03T23:36:18.844541Z",
     "shell.execute_reply.started": "2022-05-03T23:36:18.559393Z"
    },
    "tags": []
   },
   "outputs": [
    {
     "data": {
      "image/png": "[encoded data removed]",
      "text/plain": [
       "<Figure size 432x288 with 1 Axes>"
      ]
     },
     "metadata": {
      "needs_background": "light"
     },
     "output_type": "display_data"
    }
   ],
   "source": [
    "plt.hist(targets, bins=100);"
   ]
  },
  {
   "cell_type": "code",
   "execution_count": 118,
   "metadata": {
    "execution": {
     "iopub.execute_input": "2022-05-03T23:36:19.409815Z",
     "iopub.status.busy": "2022-05-03T23:36:19.409446Z",
     "iopub.status.idle": "2022-05-03T23:36:19.936860Z",
     "shell.execute_reply": "2022-05-03T23:36:19.936206Z",
     "shell.execute_reply.started": "2022-05-03T23:36:19.409765Z"
    },
    "tags": []
   },
   "outputs": [
    {
     "data": {
      "image/png": "[encoded data removed]",
      "text/plain": [
       "<Figure size 432x288 with 1 Axes>"
      ]
     },
     "metadata": {
      "needs_background": "light"
     },
     "output_type": "display_data"
    }
   ],
   "source": [
    "plt.hist(pred_distributions.mean(1), bins=100);"
   ]
  },
  {
   "cell_type": "code",
   "execution_count": 40,
   "metadata": {
    "execution": {
     "iopub.execute_input": "2022-05-03T22:19:26.806729Z",
     "iopub.status.busy": "2022-05-03T22:19:26.806332Z",
     "iopub.status.idle": "2022-05-03T22:19:26.837426Z",
     "shell.execute_reply": "2022-05-03T22:19:26.836882Z",
     "shell.execute_reply.started": "2022-05-03T22:19:26.806689Z"
    },
    "tags": []
   },
   "outputs": [
    {
     "data": {
      "text/plain": [
       "(1.0939889, 0.194)"
      ]
     },
     "execution_count": 40,
     "metadata": {},
     "output_type": "execute_result"
    }
   ],
   "source": [
    "max_profit_metric(pred_distributions.mean(1), targets)"
   ]
  },
  {
   "cell_type": "code",
   "execution_count": 127,
   "metadata": {
    "execution": {
     "iopub.execute_input": "2022-05-03T23:39:09.008282Z",
     "iopub.status.busy": "2022-05-03T23:39:09.007956Z",
     "iopub.status.idle": "2022-05-03T23:39:09.039569Z",
     "shell.execute_reply": "2022-05-03T23:39:09.039181Z",
     "shell.execute_reply.started": "2022-05-03T23:39:09.008241Z"
    },
    "tags": []
   },
   "outputs": [
    {
     "data": {
      "text/plain": [
       "(2.9412181, 0.003)"
      ]
     },
     "execution_count": 127,
     "metadata": {},
     "output_type": "execute_result"
    }
   ],
   "source": [
    "mean_max_profit, mean_ratio = max_profit_metric(pred_distributions.mean(1), targets)\n",
    "mean_max_profit, mean_ratio"
   ]
  },
  {
   "cell_type": "code",
   "execution_count": 120,
   "metadata": {
    "execution": {
     "iopub.execute_input": "2022-05-03T23:37:31.247788Z",
     "iopub.status.busy": "2022-05-03T23:37:31.247358Z",
     "iopub.status.idle": "2022-05-03T23:37:31.277569Z",
     "shell.execute_reply": "2022-05-03T23:37:31.277074Z",
     "shell.execute_reply.started": "2022-05-03T23:37:31.247740Z"
    }
   },
   "outputs": [],
   "source": [
    "pred_quantiles_range = np.quantile(pred_distributions, quantiles_range, axis=-1)"
   ]
  },
  {
   "cell_type": "code",
   "execution_count": 122,
   "metadata": {
    "execution": {
     "iopub.execute_input": "2022-05-03T23:37:48.023429Z",
     "iopub.status.busy": "2022-05-03T23:37:48.023043Z",
     "iopub.status.idle": "2022-05-03T23:37:48.061064Z",
     "shell.execute_reply": "2022-05-03T23:37:48.060412Z",
     "shell.execute_reply.started": "2022-05-03T23:37:48.023387Z"
    }
   },
   "outputs": [],
   "source": [
    "profits = []\n",
    "ratios = []\n",
    "for q in pred_quantiles_range:\n",
    "    profit, ratio = max_profit_metric(q, targets)\n",
    "    profits.append(profit)\n",
    "    ratios.append(ratio)"
   ]
  },
  {
   "cell_type": "code",
   "execution_count": 131,
   "metadata": {
    "execution": {
     "iopub.execute_input": "2022-05-03T23:40:08.840347Z",
     "iopub.status.busy": "2022-05-03T23:40:08.839484Z",
     "iopub.status.idle": "2022-05-03T23:40:08.977766Z",
     "shell.execute_reply": "2022-05-03T23:40:08.977060Z",
     "shell.execute_reply.started": "2022-05-03T23:40:08.840290Z"
    },
    "tags": []
   },
   "outputs": [
    {
     "data": {
      "text/plain": [
       "<matplotlib.legend.Legend at 0x7f82edb28070>"
      ]
     },
     "execution_count": 131,
     "metadata": {},
     "output_type": "execute_result"
    },
    {
     "data": {
      "image/png": "[encoded data removed]",
      "text/plain": [
       "<Figure size 432x288 with 1 Axes>"
      ]
     },
     "metadata": {
      "needs_background": "light"
     },
     "output_type": "display_data"
    }
   ],
   "source": [
    "plt.plot(quantiles_range, profits)\n",
    "plt.plot(quantiles_range, np.ones_like(profits) * mean_max_profit, color='red', label='mean max_profit')\n",
    "plt.legend()"
   ]
  },
  {
   "cell_type": "code",
   "execution_count": 132,
   "metadata": {
    "execution": {
     "iopub.execute_input": "2022-05-03T23:40:10.626931Z",
     "iopub.status.busy": "2022-05-03T23:40:10.626567Z",
     "iopub.status.idle": "2022-05-03T23:40:10.765282Z",
     "shell.execute_reply": "2022-05-03T23:40:10.764809Z",
     "shell.execute_reply.started": "2022-05-03T23:40:10.626839Z"
    },
    "tags": []
   },
   "outputs": [
    {
     "data": {
      "text/plain": [
       "<matplotlib.legend.Legend at 0x7f82edb04220>"
      ]
     },
     "execution_count": 132,
     "metadata": {},
     "output_type": "execute_result"
    },
    {
     "data": {
      "image/png": "[encoded data removed]",
      "text/plain": [
       "<Figure size 432x288 with 1 Axes>"
      ]
     },
     "metadata": {
      "needs_background": "light"
     },
     "output_type": "display_data"
    }
   ],
   "source": [
    "plt.plot(quantiles_range, ratios)\n",
    "plt.plot(quantiles_range, np.ones_like(profits) * mean_ratio, color='red', label='mean ratio')\n",
    "plt.legend()"
   ]
  },
  {
   "cell_type": "code",
   "execution_count": 130,
   "metadata": {
    "execution": {
     "iopub.execute_input": "2022-05-03T23:39:56.774644Z",
     "iopub.status.busy": "2022-05-03T23:39:56.774262Z",
     "iopub.status.idle": "2022-05-03T23:39:56.804407Z",
     "shell.execute_reply": "2022-05-03T23:39:56.803669Z",
     "shell.execute_reply.started": "2022-05-03T23:39:56.774603Z"
    },
    "tags": []
   },
   "outputs": [
    {
     "data": {
      "text/plain": [
       "-239.87888"
      ]
     },
     "execution_count": 130,
     "metadata": {},
     "output_type": "execute_result"
    }
   ],
   "source": [
    "targets.sum()"
   ]
  },
  {
   "cell_type": "markdown",
   "metadata": {},
   "source": [
    "# Random predictions"
   ]
  },
  {
   "cell_type": "code",
   "execution_count": 174,
   "metadata": {
    "execution": {
     "iopub.execute_input": "2022-05-04T00:00:00.464523Z",
     "iopub.status.busy": "2022-05-04T00:00:00.464172Z",
     "iopub.status.idle": "2022-05-04T00:00:00.493118Z",
     "shell.execute_reply": "2022-05-04T00:00:00.492706Z",
     "shell.execute_reply.started": "2022-05-04T00:00:00.464489Z"
    },
    "tags": []
   },
   "outputs": [],
   "source": [
    "random_predictions = np.random.rand(*pred_distributions.shape)"
   ]
  },
  {
   "cell_type": "code",
   "execution_count": 175,
   "metadata": {
    "execution": {
     "iopub.execute_input": "2022-05-04T00:00:00.494744Z",
     "iopub.status.busy": "2022-05-04T00:00:00.494179Z",
     "iopub.status.idle": "2022-05-04T00:00:00.518228Z",
     "shell.execute_reply": "2022-05-04T00:00:00.517562Z",
     "shell.execute_reply.started": "2022-05-04T00:00:00.494722Z"
    },
    "tags": []
   },
   "outputs": [],
   "source": [
    "def get_pred_max_profit_for_quantiles(predictions):\n",
    "    quantiles_range = np.linspace(0.01, 0.99, num=50)\n",
    "    pred_quantiles_range = np.quantile(predictions, quantiles_range, axis=-1)\n",
    "    profits = []\n",
    "    ratios = []\n",
    "    for q in pred_quantiles_range:\n",
    "        profit, ratio = max_profit_metric(q, targets)\n",
    "        profits.append(profit)\n",
    "        ratios.append(ratio)\n",
    "        \n",
    "    return profits, ratios"
   ]
  },
  {
   "cell_type": "code",
   "execution_count": 176,
   "metadata": {
    "execution": {
     "iopub.execute_input": "2022-05-04T00:00:01.149845Z",
     "iopub.status.busy": "2022-05-04T00:00:01.149244Z",
     "iopub.status.idle": "2022-05-04T00:00:01.295933Z",
     "shell.execute_reply": "2022-05-04T00:00:01.295351Z",
     "shell.execute_reply.started": "2022-05-04T00:00:01.149793Z"
    },
    "tags": []
   },
   "outputs": [
    {
     "name": "stdout",
     "output_type": "stream",
     "text": [
      "8.409109 0.003\n"
     ]
    },
    {
     "data": {
      "text/plain": [
       "<matplotlib.legend.Legend at 0x7f82ed229220>"
      ]
     },
     "execution_count": 176,
     "metadata": {},
     "output_type": "execute_result"
    },
    {
     "data": {
      "image/png": "[encoded data removed]",
      "text/plain": [
       "<Figure size 432x288 with 1 Axes>"
      ]
     },
     "metadata": {
      "needs_background": "light"
     },
     "output_type": "display_data"
    }
   ],
   "source": [
    "profits, ratios = get_pred_max_profit_for_quantiles(random_predictions)\n",
    "mean_max_profit, mean_ratio = max_profit_metric(random_predictions.mean(1), targets)\n",
    "print(mean_max_profit, mean_ratio)\n",
    "plt.plot(quantiles_range, profits)\n",
    "plt.plot(quantiles_range, np.ones_like(profits) * mean_max_profit, color='red', label='mean max_profit')\n",
    "plt.legend()"
   ]
  },
  {
   "cell_type": "markdown",
   "metadata": {},
   "source": [
    "# Implement threshold prediction based on distribution"
   ]
  },
  {
   "cell_type": "code",
   "execution_count": 137,
   "metadata": {
    "execution": {
     "iopub.execute_input": "2022-05-03T23:48:31.140302Z",
     "iopub.status.busy": "2022-05-03T23:48:31.139790Z",
     "iopub.status.idle": "2022-05-03T23:48:31.170142Z",
     "shell.execute_reply": "2022-05-03T23:48:31.169317Z",
     "shell.execute_reply.started": "2022-05-03T23:48:31.140253Z"
    },
    "tags": []
   },
   "outputs": [],
   "source": [
    "# implemented above"
   ]
  },
  {
   "cell_type": "markdown",
   "metadata": {},
   "source": [
    "# Convert max_profit metric to decision loss described in paper"
   ]
  },
  {
   "cell_type": "code",
   "execution_count": null,
   "metadata": {},
   "outputs": [],
   "source": [
    "# TODO"
   ]
  },
  {
   "cell_type": "code",
   "execution_count": null,
   "metadata": {},
   "outputs": [],
   "source": []
  },
  {
   "cell_type": "markdown",
   "metadata": {},
   "source": [
    "# Cannot compare decision loss, under reliability gap (maybe usefull for mid-price prediction adjustment). Implement threshold calibration"
   ]
  },
  {
   "cell_type": "code",
   "execution_count": 177,
   "metadata": {
    "execution": {
     "iopub.execute_input": "2022-05-04T00:04:26.508450Z",
     "iopub.status.busy": "2022-05-04T00:04:26.508010Z",
     "iopub.status.idle": "2022-05-04T00:04:26.536185Z",
     "shell.execute_reply": "2022-05-04T00:04:26.535638Z",
     "shell.execute_reply.started": "2022-05-04T00:04:26.508394Z"
    }
   },
   "outputs": [],
   "source": [
    "# TODO implement threshold decision making"
   ]
  },
  {
   "cell_type": "code",
   "execution_count": null,
   "metadata": {},
   "outputs": [],
   "source": []
  }
 ],
 "metadata": {
  "kernelspec": {
   "display_name": "Python 3 (ipykernel)",
   "language": "python",
   "name": "python3"
  },
  "language_info": {
   "codemirror_mode": {
    "name": "ipython",
    "version": 3
   },
   "file_extension": ".py",
   "mimetype": "text/x-python",
   "name": "python",
   "nbconvert_exporter": "python",
   "pygments_lexer": "ipython3",
   "version": "3.8.10"
  }
 },
 "nbformat": 4,
 "nbformat_minor": 4
}
