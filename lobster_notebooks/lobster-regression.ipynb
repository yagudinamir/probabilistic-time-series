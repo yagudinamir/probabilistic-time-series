{
 "cells": [
  {
   "cell_type": "markdown",
   "metadata": {},
   "source": [
    "# Dataset"
   ]
  },
  {
   "cell_type": "code",
   "execution_count": 1,
   "metadata": {
    "execution": {
     "iopub.execute_input": "2022-02-01T20:45:02.619902Z",
     "iopub.status.busy": "2022-02-01T20:45:02.619176Z",
     "iopub.status.idle": "2022-02-01T20:45:03.541536Z",
     "shell.execute_reply": "2022-02-01T20:45:03.540656Z",
     "shell.execute_reply.started": "2022-02-01T20:45:02.619710Z"
    },
    "tags": []
   },
   "outputs": [],
   "source": [
    "import numpy as np\n",
    "import pandas as pd\n",
    "import os\n",
    "import seaborn as sns\n",
    "\n",
    "import matplotlib.pyplot as plt"
   ]
  },
  {
   "cell_type": "code",
   "execution_count": 2,
   "metadata": {
    "execution": {
     "iopub.execute_input": "2022-02-01T20:45:04.196733Z",
     "iopub.status.busy": "2022-02-01T20:45:04.196152Z",
     "iopub.status.idle": "2022-02-01T20:45:04.205483Z",
     "shell.execute_reply": "2022-02-01T20:45:04.204018Z",
     "shell.execute_reply.started": "2022-02-01T20:45:04.196665Z"
    },
    "tags": []
   },
   "outputs": [],
   "source": [
    "train_dataset_path = '/home/ayagudin/dl/lobster/published/BenchmarkDatasets/BenchmarkDatasets/NoAuction/1.NoAuction_Zscore/NoAuction_Zscore_Training/'\n",
    "test_dataset_path = '/home/ayagudin/dl/lobster/published/BenchmarkDatasets/BenchmarkDatasets/NoAuction/1.NoAuction_Zscore/NoAuction_Zscore_Testing/'\n",
    "\n",
    "train_day_fmt = 'Train_Dst_NoAuction_ZScore_CF_{}.txt'\n",
    "test_day_fmt = 'Test_Dst_NoAuction_ZScore_CF_{}.txt'\n"
   ]
  },
  {
   "cell_type": "code",
   "execution_count": 3,
   "metadata": {
    "execution": {
     "iopub.execute_input": "2022-02-01T20:45:04.735335Z",
     "iopub.status.busy": "2022-02-01T20:45:04.734783Z",
     "iopub.status.idle": "2022-02-01T20:45:04.742535Z",
     "shell.execute_reply": "2022-02-01T20:45:04.741156Z",
     "shell.execute_reply.started": "2022-02-01T20:45:04.735268Z"
    },
    "tags": []
   },
   "outputs": [],
   "source": [
    "FEATURES_NUM = 144"
   ]
  },
  {
   "cell_type": "code",
   "execution_count": 4,
   "metadata": {
    "execution": {
     "iopub.execute_input": "2022-02-01T20:45:05.278451Z",
     "iopub.status.busy": "2022-02-01T20:45:05.277892Z",
     "iopub.status.idle": "2022-02-01T20:45:23.467348Z",
     "shell.execute_reply": "2022-02-01T20:45:23.466159Z",
     "shell.execute_reply.started": "2022-02-01T20:45:05.278384Z"
    },
    "tags": []
   },
   "outputs": [
    {
     "name": "stdout",
     "output_type": "stream",
     "text": [
      "(149, 362400)\n",
      "(149, 31937)\n"
     ]
    }
   ],
   "source": [
    "def load_data(path):\n",
    "    features = []\n",
    "    with open(path, 'r') as f:\n",
    "        for line in f.readlines():\n",
    "            features.append([float(num) for num in line.split()])\n",
    "\n",
    "    features = np.array(features)\n",
    "    print(features.shape)\n",
    "    return features\n",
    "\n",
    "train_features = load_data(train_dataset_path + train_day_fmt.format(9))\n",
    "test_features = load_data(test_dataset_path + test_day_fmt.format(9))"
   ]
  },
  {
   "cell_type": "code",
   "execution_count": 5,
   "metadata": {
    "execution": {
     "iopub.execute_input": "2022-02-01T20:45:23.470047Z",
     "iopub.status.busy": "2022-02-01T20:45:23.469625Z",
     "iopub.status.idle": "2022-02-01T20:45:23.619001Z",
     "shell.execute_reply": "2022-02-01T20:45:23.618089Z",
     "shell.execute_reply.started": "2022-02-01T20:45:23.470022Z"
    },
    "tags": []
   },
   "outputs": [
    {
     "name": "stdout",
     "output_type": "stream",
     "text": [
      "129\n",
      "130\n",
      "131\n",
      "135\n",
      "136\n",
      "137\n",
      "141\n",
      "142\n",
      "143\n"
     ]
    }
   ],
   "source": [
    "for i, feature in enumerate(train_features[:FEATURES_NUM]):\n",
    "    mean = feature.mean()\n",
    "    std = feature.std()\n",
    "    assert np.isclose(mean, 0, rtol=1e-4, atol=1e-5), (i, mean)\n",
    "    if not np.isclose(std, 1, rtol=1e-4):\n",
    "        print(i)"
   ]
  },
  {
   "cell_type": "code",
   "execution_count": 6,
   "metadata": {
    "execution": {
     "iopub.execute_input": "2022-02-01T20:45:23.620526Z",
     "iopub.status.busy": "2022-02-01T20:45:23.620204Z",
     "iopub.status.idle": "2022-02-01T20:45:23.628305Z",
     "shell.execute_reply": "2022-02-01T20:45:23.627448Z",
     "shell.execute_reply.started": "2022-02-01T20:45:23.620503Z"
    },
    "tags": []
   },
   "outputs": [
    {
     "name": "stdout",
     "output_type": "stream",
     "text": [
      "train shape: (362400, 144) (362400, 5)\n",
      "test shape: (31937, 144) (31937, 5)\n"
     ]
    }
   ],
   "source": [
    "def get_X_y(features):\n",
    "    return features[:FEATURES_NUM].T, features[FEATURES_NUM:].T\n",
    "\n",
    "X_train, y_train = get_X_y(train_features)\n",
    "X_test, y_test = get_X_y(test_features)\n",
    "print('train shape:', X_train.shape, y_train.shape)\n",
    "print('test shape:', X_test.shape, y_test.shape)"
   ]
  },
  {
   "cell_type": "code",
   "execution_count": 7,
   "metadata": {
    "execution": {
     "iopub.execute_input": "2022-02-01T20:45:23.630070Z",
     "iopub.status.busy": "2022-02-01T20:45:23.629861Z",
     "iopub.status.idle": "2022-02-01T20:45:23.694129Z",
     "shell.execute_reply": "2022-02-01T20:45:23.693280Z",
     "shell.execute_reply.started": "2022-02-01T20:45:23.630043Z"
    },
    "tags": []
   },
   "outputs": [
    {
     "name": "stdout",
     "output_type": "stream",
     "text": [
      "(array([1., 2., 3.]), array([504368, 816961, 490671]))\n",
      "(array([1., 2., 3.]), array([43151, 77353, 39181]))\n"
     ]
    }
   ],
   "source": [
    "print(np.unique(y_train, return_counts=True))\n",
    "print(np.unique(y_test, return_counts=True))"
   ]
  },
  {
   "cell_type": "markdown",
   "metadata": {},
   "source": [
    "# LogisticRegression\n",
    "\n",
    "https://towardsdatascience.com/multi-class-text-classification-with-scikit-learn-12f1e60e0a9f"
   ]
  },
  {
   "cell_type": "code",
   "execution_count": 8,
   "metadata": {
    "execution": {
     "iopub.execute_input": "2022-02-01T20:39:55.569388Z",
     "iopub.status.busy": "2022-02-01T20:39:55.569224Z",
     "iopub.status.idle": "2022-02-01T20:41:23.313780Z",
     "shell.execute_reply": "2022-02-01T20:41:23.313019Z",
     "shell.execute_reply.started": "2022-02-01T20:39:55.569368Z"
    },
    "tags": []
   },
   "outputs": [
    {
     "data": {
      "application/vnd.jupyter.widget-view+json": {
       "model_id": "27cdaf03ae0544698209c41daf5edfb5",
       "version_major": 2,
       "version_minor": 0
      },
      "text/plain": [
       "  0%|          | 0/5 [00:00<?, ?it/s]"
      ]
     },
     "metadata": {},
     "output_type": "display_data"
    },
    {
     "name": "stderr",
     "output_type": "stream",
     "text": [
      "/usr/twix/python/lib/python3.8/site-packages/sklearn/linear_model/_logistic.py:762: ConvergenceWarning: lbfgs failed to converge (status=1):\n",
      "STOP: TOTAL NO. of ITERATIONS REACHED LIMIT.\n",
      "\n",
      "Increase the number of iterations (max_iter) or scale the data as shown in:\n",
      "    https://scikit-learn.org/stable/modules/preprocessing.html\n",
      "Please also refer to the documentation for alternative solver options:\n",
      "    https://scikit-learn.org/stable/modules/linear_model.html#logistic-regression\n",
      "  n_iter_i = _check_optimize_result(\n",
      "/usr/twix/python/lib/python3.8/site-packages/sklearn/linear_model/_logistic.py:762: ConvergenceWarning: lbfgs failed to converge (status=1):\n",
      "STOP: TOTAL NO. of ITERATIONS REACHED LIMIT.\n",
      "\n",
      "Increase the number of iterations (max_iter) or scale the data as shown in:\n",
      "    https://scikit-learn.org/stable/modules/preprocessing.html\n",
      "Please also refer to the documentation for alternative solver options:\n",
      "    https://scikit-learn.org/stable/modules/linear_model.html#logistic-regression\n",
      "  n_iter_i = _check_optimize_result(\n",
      "/usr/twix/python/lib/python3.8/site-packages/sklearn/linear_model/_logistic.py:762: ConvergenceWarning: lbfgs failed to converge (status=1):\n",
      "STOP: TOTAL NO. of ITERATIONS REACHED LIMIT.\n",
      "\n",
      "Increase the number of iterations (max_iter) or scale the data as shown in:\n",
      "    https://scikit-learn.org/stable/modules/preprocessing.html\n",
      "Please also refer to the documentation for alternative solver options:\n",
      "    https://scikit-learn.org/stable/modules/linear_model.html#logistic-regression\n",
      "  n_iter_i = _check_optimize_result(\n",
      "/usr/twix/python/lib/python3.8/site-packages/sklearn/linear_model/_logistic.py:762: ConvergenceWarning: lbfgs failed to converge (status=1):\n",
      "STOP: TOTAL NO. of ITERATIONS REACHED LIMIT.\n",
      "\n",
      "Increase the number of iterations (max_iter) or scale the data as shown in:\n",
      "    https://scikit-learn.org/stable/modules/preprocessing.html\n",
      "Please also refer to the documentation for alternative solver options:\n",
      "    https://scikit-learn.org/stable/modules/linear_model.html#logistic-regression\n",
      "  n_iter_i = _check_optimize_result(\n",
      "/usr/twix/python/lib/python3.8/site-packages/sklearn/linear_model/_logistic.py:762: ConvergenceWarning: lbfgs failed to converge (status=1):\n",
      "STOP: TOTAL NO. of ITERATIONS REACHED LIMIT.\n",
      "\n",
      "Increase the number of iterations (max_iter) or scale the data as shown in:\n",
      "    https://scikit-learn.org/stable/modules/preprocessing.html\n",
      "Please also refer to the documentation for alternative solver options:\n",
      "    https://scikit-learn.org/stable/modules/linear_model.html#logistic-regression\n",
      "  n_iter_i = _check_optimize_result(\n"
     ]
    }
   ],
   "source": [
    "from sklearn.linear_model import LogisticRegression\n",
    "from sklearn.metrics import precision_score, recall_score, f1_score, accuracy_score\n",
    "from tqdm.notebook import tqdm\n",
    "\n",
    "scores = {}\n",
    "\n",
    "for label_index in tqdm(range(5)):\n",
    "    l_reg = LogisticRegression(random_state=0).fit(X_train, y_train[:, label_index])\n",
    "    y_pred = l_reg.predict(X_test)\n",
    "    \n",
    "    score = {}\n",
    "    score['accuracy'] = accuracy_score(y_test[:, label_index], y_pred)\n",
    "    score['precision'] = precision_score(y_test[:, label_index], y_pred, average='macro')\n",
    "    score['recall'] = recall_score(y_test[:, label_index], y_pred, average='macro')\n",
    "    score['f1'] = f1_score(y_test[:, label_index], y_pred, average='macro')\n",
    "    scores[label_index] = score\n",
    "    "
   ]
  },
  {
   "cell_type": "code",
   "execution_count": 12,
   "metadata": {
    "execution": {
     "iopub.execute_input": "2022-02-01T20:42:03.571731Z",
     "iopub.status.busy": "2022-02-01T20:42:03.571092Z",
     "iopub.status.idle": "2022-02-01T20:42:03.609989Z",
     "shell.execute_reply": "2022-02-01T20:42:03.608787Z",
     "shell.execute_reply.started": "2022-02-01T20:42:03.571659Z"
    },
    "tags": []
   },
   "outputs": [
    {
     "data": {
      "text/html": [
       "<div>\n",
       "<style scoped>\n",
       "    .dataframe tbody tr th:only-of-type {\n",
       "        vertical-align: middle;\n",
       "    }\n",
       "\n",
       "    .dataframe tbody tr th {\n",
       "        vertical-align: top;\n",
       "    }\n",
       "\n",
       "    .dataframe thead th {\n",
       "        text-align: right;\n",
       "    }\n",
       "</style>\n",
       "<table border=\"1\" class=\"dataframe\">\n",
       "  <thead>\n",
       "    <tr style=\"text-align: right;\">\n",
       "      <th></th>\n",
       "      <th>accuracy</th>\n",
       "      <th>precision</th>\n",
       "      <th>recall</th>\n",
       "      <th>f1</th>\n",
       "    </tr>\n",
       "  </thead>\n",
       "  <tbody>\n",
       "    <tr>\n",
       "      <th>0</th>\n",
       "      <td>0.669975</td>\n",
       "      <td>0.483560</td>\n",
       "      <td>0.346248</td>\n",
       "      <td>0.297576</td>\n",
       "    </tr>\n",
       "    <tr>\n",
       "      <th>1</th>\n",
       "      <td>0.592416</td>\n",
       "      <td>0.500078</td>\n",
       "      <td>0.399709</td>\n",
       "      <td>0.378821</td>\n",
       "    </tr>\n",
       "    <tr>\n",
       "      <th>2</th>\n",
       "      <td>0.530889</td>\n",
       "      <td>0.460301</td>\n",
       "      <td>0.399508</td>\n",
       "      <td>0.371654</td>\n",
       "    </tr>\n",
       "    <tr>\n",
       "      <th>3</th>\n",
       "      <td>0.462066</td>\n",
       "      <td>0.441917</td>\n",
       "      <td>0.424501</td>\n",
       "      <td>0.406465</td>\n",
       "    </tr>\n",
       "    <tr>\n",
       "      <th>4</th>\n",
       "      <td>0.443373</td>\n",
       "      <td>0.442494</td>\n",
       "      <td>0.443063</td>\n",
       "      <td>0.442766</td>\n",
       "    </tr>\n",
       "  </tbody>\n",
       "</table>\n",
       "</div>"
      ],
      "text/plain": [
       "   accuracy  precision    recall        f1\n",
       "0  0.669975   0.483560  0.346248  0.297576\n",
       "1  0.592416   0.500078  0.399709  0.378821\n",
       "2  0.530889   0.460301  0.399508  0.371654\n",
       "3  0.462066   0.441917  0.424501  0.406465\n",
       "4  0.443373   0.442494  0.443063  0.442766"
      ]
     },
     "execution_count": 12,
     "metadata": {},
     "output_type": "execute_result"
    }
   ],
   "source": [
    "pd.DataFrame(scores).T"
   ]
  },
  {
   "attachments": {
    "66be6e5f-0507-42f5-b79d-b0a147114268.png": {
     "image/png": "[encoded data removed]"
    }
   },
   "cell_type": "markdown",
   "metadata": {},
   "source": [
    "![Screenshot 2022-01-31 at 21.10.42.png](attachment:66be6e5f-0507-42f5-b79d-b0a147114268.png)"
   ]
  },
  {
   "cell_type": "markdown",
   "metadata": {},
   "source": [
    "# Creating mid-price target"
   ]
  },
  {
   "cell_type": "code",
   "execution_count": 8,
   "metadata": {
    "execution": {
     "iopub.execute_input": "2022-02-01T20:47:11.363391Z",
     "iopub.status.busy": "2022-02-01T20:47:11.362778Z",
     "iopub.status.idle": "2022-02-01T20:47:11.559303Z",
     "shell.execute_reply": "2022-02-01T20:47:11.558415Z",
     "shell.execute_reply.started": "2022-02-01T20:47:11.363321Z"
    },
    "tags": []
   },
   "outputs": [
    {
     "data": {
      "text/plain": [
       "[<matplotlib.lines.Line2D at 0x7ff06ad73cd0>]"
      ]
     },
     "execution_count": 8,
     "metadata": {},
     "output_type": "execute_result"
    },
    {
     "data": {
      "image/png": "[encoded data removed]",
      "text/plain": [
       "<Figure size 432x288 with 1 Axes>"
      ]
     },
     "metadata": {
      "needs_background": "light"
     },
     "output_type": "display_data"
    }
   ],
   "source": [
    "p_ask = X_train[:, 0]\n",
    "p_bid = X_train[:, 2]\n",
    "mid_price = X_train[:, 41]\n",
    "\n",
    "plt.plot(mid_price)"
   ]
  },
  {
   "cell_type": "code",
   "execution_count": 9,
   "metadata": {
    "execution": {
     "iopub.execute_input": "2022-02-01T20:47:11.726476Z",
     "iopub.status.busy": "2022-02-01T20:47:11.725785Z",
     "iopub.status.idle": "2022-02-01T20:47:11.894807Z",
     "shell.execute_reply": "2022-02-01T20:47:11.893981Z",
     "shell.execute_reply.started": "2022-02-01T20:47:11.726407Z"
    },
    "tags": []
   },
   "outputs": [
    {
     "data": {
      "text/plain": [
       "[<matplotlib.lines.Line2D at 0x7ff06ad73f10>]"
      ]
     },
     "execution_count": 9,
     "metadata": {},
     "output_type": "execute_result"
    },
    {
     "data": {
      "image/png": "[encoded data removed]",
      "text/plain": [
       "<Figure size 432x288 with 1 Axes>"
      ]
     },
     "metadata": {
      "needs_background": "light"
     },
     "output_type": "display_data"
    }
   ],
   "source": [
    "plt.plot(p_ask)"
   ]
  },
  {
   "cell_type": "code",
   "execution_count": 10,
   "metadata": {
    "execution": {
     "iopub.execute_input": "2022-02-01T20:47:11.988264Z",
     "iopub.status.busy": "2022-02-01T20:47:11.987558Z",
     "iopub.status.idle": "2022-02-01T20:47:12.160709Z",
     "shell.execute_reply": "2022-02-01T20:47:12.159872Z",
     "shell.execute_reply.started": "2022-02-01T20:47:11.988193Z"
    },
    "tags": []
   },
   "outputs": [
    {
     "data": {
      "text/plain": [
       "[<matplotlib.lines.Line2D at 0x7ff081ad8e50>]"
      ]
     },
     "execution_count": 10,
     "metadata": {},
     "output_type": "execute_result"
    },
    {
     "data": {
      "image/png": "[encoded data removed]",
      "text/plain": [
       "<Figure size 432x288 with 1 Axes>"
      ]
     },
     "metadata": {
      "needs_background": "light"
     },
     "output_type": "display_data"
    }
   ],
   "source": [
    "plt.plot(p_bid)"
   ]
  },
  {
   "cell_type": "code",
   "execution_count": 11,
   "metadata": {
    "execution": {
     "iopub.execute_input": "2022-02-01T20:47:12.571178Z",
     "iopub.status.busy": "2022-02-01T20:47:12.570464Z",
     "iopub.status.idle": "2022-02-01T20:47:12.740871Z",
     "shell.execute_reply": "2022-02-01T20:47:12.740183Z",
     "shell.execute_reply.started": "2022-02-01T20:47:12.571106Z"
    },
    "tags": []
   },
   "outputs": [
    {
     "data": {
      "text/plain": [
       "[<matplotlib.lines.Line2D at 0x7ff0819d0e80>]"
      ]
     },
     "execution_count": 11,
     "metadata": {},
     "output_type": "execute_result"
    },
    {
     "data": {
      "image/png": "[encoded data removed]",
      "text/plain": [
       "<Figure size 432x288 with 1 Axes>"
      ]
     },
     "metadata": {
      "needs_background": "light"
     },
     "output_type": "display_data"
    }
   ],
   "source": [
    "plt.plot((p_ask + p_bid) / 2)"
   ]
  },
  {
   "cell_type": "code",
   "execution_count": 12,
   "metadata": {
    "execution": {
     "iopub.execute_input": "2022-02-01T20:47:12.792132Z",
     "iopub.status.busy": "2022-02-01T20:47:12.791487Z",
     "iopub.status.idle": "2022-02-01T20:47:12.802398Z",
     "shell.execute_reply": "2022-02-01T20:47:12.801139Z",
     "shell.execute_reply.started": "2022-02-01T20:47:12.792066Z"
    },
    "tags": []
   },
   "outputs": [
    {
     "data": {
      "text/plain": [
       "array([2.4216341 , 2.7378385 , 1.4730207 , ..., 0.20820284, 0.20820284,\n",
       "       0.20820284])"
      ]
     },
     "execution_count": 12,
     "metadata": {},
     "output_type": "execute_result"
    }
   ],
   "source": [
    "mid_price"
   ]
  },
  {
   "cell_type": "markdown",
   "metadata": {},
   "source": [
    "# Gluon-ts review"
   ]
  },
  {
   "cell_type": "code",
   "execution_count": 10,
   "metadata": {
    "execution": {
     "iopub.execute_input": "2022-02-01T20:55:54.924687Z",
     "iopub.status.busy": "2022-02-01T20:55:54.924111Z",
     "iopub.status.idle": "2022-02-01T20:55:55.029321Z",
     "shell.execute_reply": "2022-02-01T20:55:55.028469Z",
     "shell.execute_reply.started": "2022-02-01T20:55:54.924615Z"
    },
    "tags": []
   },
   "outputs": [],
   "source": [
    "import matplotlib.pyplot as plt\n",
    "import json\n",
    "\n",
    "from gluonts.dataset.repository.datasets import get_dataset\n",
    "from gluonts.dataset.common import ListDataset\n",
    "from gluonts.dataset.field_names import FieldName\n",
    "from gluonts.dataset.util import to_pandas\n",
    "from gluonts.evaluation import Evaluator\n",
    "from gluonts.evaluation.backtest import make_evaluation_predictions\n",
    "\n",
    "from pts.model.deepar import DeepAREstimator\n",
    "from pts.model.transformer import TransformerEstimator\n",
    "from pts.model.simple_feedforward import SimpleFeedForwardEstimator\n",
    "\n",
    "from pts.modules.distribution_output import ImplicitQuantileOutput\n",
    "from pts import Trainer\n",
    "from pts.dataset.repository.datasets import dataset_recipes"
   ]
  },
  {
   "cell_type": "code",
   "execution_count": 14,
   "metadata": {
    "execution": {
     "iopub.execute_input": "2022-02-01T20:47:14.686484Z",
     "iopub.status.busy": "2022-02-01T20:47:14.686192Z",
     "iopub.status.idle": "2022-02-01T20:47:14.690486Z",
     "shell.execute_reply": "2022-02-01T20:47:14.689720Z",
     "shell.execute_reply.started": "2022-02-01T20:47:14.686462Z"
    },
    "tags": []
   },
   "outputs": [],
   "source": [
    "import torch"
   ]
  },
  {
   "cell_type": "code",
   "execution_count": 15,
   "metadata": {
    "execution": {
     "iopub.execute_input": "2022-02-01T20:47:14.691374Z",
     "iopub.status.busy": "2022-02-01T20:47:14.691227Z",
     "iopub.status.idle": "2022-02-01T20:47:14.772669Z",
     "shell.execute_reply": "2022-02-01T20:47:14.771517Z",
     "shell.execute_reply.started": "2022-02-01T20:47:14.691354Z"
    },
    "tags": []
   },
   "outputs": [
    {
     "data": {
      "text/plain": [
       "device(type='cuda')"
      ]
     },
     "execution_count": 15,
     "metadata": {},
     "output_type": "execute_result"
    }
   ],
   "source": [
    "device = torch.device(\"cuda\" if torch.cuda.is_available() else \"cpu\")\n",
    "device"
   ]
  },
  {
   "cell_type": "code",
   "execution_count": 16,
   "metadata": {
    "execution": {
     "iopub.execute_input": "2022-02-01T20:47:15.236660Z",
     "iopub.status.busy": "2022-02-01T20:47:15.236043Z",
     "iopub.status.idle": "2022-02-01T20:47:15.246759Z",
     "shell.execute_reply": "2022-02-01T20:47:15.244901Z",
     "shell.execute_reply.started": "2022-02-01T20:47:15.236587Z"
    },
    "tags": []
   },
   "outputs": [
    {
     "ename": "SyntaxError",
     "evalue": "unexpected EOF while parsing (945969381.py, line 1)",
     "output_type": "error",
     "traceback": [
      "\u001b[0;36m  File \u001b[0;32m\"/tmp/ipykernel_30569/945969381.py\"\u001b[0;36m, line \u001b[0;32m1\u001b[0m\n\u001b[0;31m    dataset = ListDataset(\u001b[0m\n\u001b[0m                          ^\u001b[0m\n\u001b[0;31mSyntaxError\u001b[0m\u001b[0;31m:\u001b[0m unexpected EOF while parsing\n"
     ]
    }
   ],
   "source": [
    "dataset = ListDataset("
   ]
  },
  {
   "cell_type": "code",
   "execution_count": 17,
   "metadata": {
    "execution": {
     "iopub.execute_input": "2022-02-01T20:47:15.487585Z",
     "iopub.status.busy": "2022-02-01T20:47:15.486866Z",
     "iopub.status.idle": "2022-02-01T20:47:15.512264Z",
     "shell.execute_reply": "2022-02-01T20:47:15.511025Z",
     "shell.execute_reply.started": "2022-02-01T20:47:15.487513Z"
    },
    "tags": []
   },
   "outputs": [],
   "source": [
    "def create_dataset(num_series, num_steps, period=24, mu=1, sigma=0.3):\n",
    "    # create target: noise + pattern\n",
    "    # noise\n",
    "    noise = np.random.normal(mu, sigma, size=(num_series, num_steps))\n",
    "\n",
    "    # pattern - sinusoid with different phase\n",
    "    sin_minusPi_Pi = np.sin(np.tile(np.linspace(-np.pi, np.pi, period), int(num_steps / period)))\n",
    "    sin_Zero_2Pi = np.sin(np.tile(np.linspace(0, 2 * np.pi, 24), int(num_steps / period)))\n",
    "\n",
    "    pattern = np.concatenate(\n",
    "        (\n",
    "            np.tile(\n",
    "                sin_minusPi_Pi.reshape(1, -1),\n",
    "                (int(np.ceil(num_series / 2)),1)\n",
    "            ),\n",
    "            np.tile(\n",
    "                sin_Zero_2Pi.reshape(1, -1),\n",
    "                (int(np.floor(num_series / 2)), 1)\n",
    "            )\n",
    "        ),\n",
    "        axis=0\n",
    "    )\n",
    "\n",
    "    target = noise + pattern\n",
    "\n",
    "    # create time features: use target one period earlier, append with zeros\n",
    "    feat_dynamic_real = np.concatenate(\n",
    "        (\n",
    "            np.zeros((num_series, period)),\n",
    "            target[:, :-period]\n",
    "        ),\n",
    "        axis=1\n",
    "    )\n",
    "\n",
    "    # create categorical static feats: use the sinusoid type as a categorical feature\n",
    "    feat_static_cat = np.concatenate(\n",
    "        (\n",
    "            np.zeros(int(np.ceil(num_series / 2))),\n",
    "            np.ones(int(np.floor(num_series / 2)))\n",
    "        ),\n",
    "        axis=0\n",
    "    )\n",
    "\n",
    "    return target, feat_dynamic_real, feat_static_cat"
   ]
  },
  {
   "cell_type": "code",
   "execution_count": 18,
   "metadata": {
    "execution": {
     "iopub.execute_input": "2022-02-01T20:47:15.684207Z",
     "iopub.status.busy": "2022-02-01T20:47:15.683696Z",
     "iopub.status.idle": "2022-02-01T20:47:15.711201Z",
     "shell.execute_reply": "2022-02-01T20:47:15.710016Z",
     "shell.execute_reply.started": "2022-02-01T20:47:15.684143Z"
    },
    "tags": []
   },
   "outputs": [],
   "source": [
    "# define the parameters of the dataset\n",
    "custom_ds_metadata = {\n",
    "    'num_series': 100,\n",
    "    'num_steps': 24 * 7,\n",
    "    'prediction_length': 24,\n",
    "    'freq': '1H',\n",
    "    'start': [\n",
    "        pd.Timestamp(\"01-01-2019\", freq='1H')\n",
    "        for _ in range(100)\n",
    "    ]\n",
    "}"
   ]
  },
  {
   "cell_type": "code",
   "execution_count": 19,
   "metadata": {
    "execution": {
     "iopub.execute_input": "2022-02-01T20:47:16.189414Z",
     "iopub.status.busy": "2022-02-01T20:47:16.188809Z",
     "iopub.status.idle": "2022-02-01T20:47:16.200892Z",
     "shell.execute_reply": "2022-02-01T20:47:16.199310Z",
     "shell.execute_reply.started": "2022-02-01T20:47:16.189342Z"
    },
    "tags": []
   },
   "outputs": [],
   "source": [
    "data_out = create_dataset(\n",
    "    custom_ds_metadata['num_series'],\n",
    "    custom_ds_metadata['num_steps'],\n",
    "    custom_ds_metadata['prediction_length']\n",
    ")\n",
    "\n",
    "target, feat_dynamic_real, feat_static_cat = data_out"
   ]
  },
  {
   "cell_type": "code",
   "execution_count": 20,
   "metadata": {
    "execution": {
     "iopub.execute_input": "2022-02-01T20:47:16.380298Z",
     "iopub.status.busy": "2022-02-01T20:47:16.379786Z",
     "iopub.status.idle": "2022-02-01T20:47:16.394730Z",
     "shell.execute_reply": "2022-02-01T20:47:16.393515Z",
     "shell.execute_reply.started": "2022-02-01T20:47:16.380231Z"
    },
    "tags": []
   },
   "outputs": [],
   "source": [
    "train_ds = ListDataset(\n",
    "    [\n",
    "        {\n",
    "            FieldName.TARGET: target,\n",
    "            FieldName.START: start,\n",
    "            FieldName.FEAT_DYNAMIC_REAL: [fdr],\n",
    "            FieldName.FEAT_STATIC_CAT: [fsc]\n",
    "        }\n",
    "        for (target, start, fdr, fsc) in zip(\n",
    "            target[:, :-custom_ds_metadata['prediction_length']],\n",
    "            custom_ds_metadata['start'],\n",
    "            feat_dynamic_real[:, :-custom_ds_metadata['prediction_length']],\n",
    "            feat_static_cat\n",
    "        )\n",
    "    ],\n",
    "    freq=custom_ds_metadata['freq']\n",
    ")"
   ]
  },
  {
   "cell_type": "code",
   "execution_count": 21,
   "metadata": {
    "execution": {
     "iopub.execute_input": "2022-02-01T20:47:16.815720Z",
     "iopub.status.busy": "2022-02-01T20:47:16.814640Z",
     "iopub.status.idle": "2022-02-01T20:47:16.829734Z",
     "shell.execute_reply": "2022-02-01T20:47:16.828117Z",
     "shell.execute_reply.started": "2022-02-01T20:47:16.815647Z"
    },
    "tags": []
   },
   "outputs": [],
   "source": [
    "test_ds = ListDataset(\n",
    "    [\n",
    "        {\n",
    "            FieldName.TARGET: target,\n",
    "            FieldName.START: start,\n",
    "            FieldName.FEAT_DYNAMIC_REAL: [fdr],\n",
    "            FieldName.FEAT_STATIC_CAT: [fsc]\n",
    "        }\n",
    "        for (target, start, fdr, fsc) in zip(\n",
    "            target,\n",
    "            custom_ds_metadata['start'],\n",
    "            feat_dynamic_real,\n",
    "            feat_static_cat)\n",
    "    ],\n",
    "    freq=custom_ds_metadata['freq']\n",
    ")"
   ]
  },
  {
   "cell_type": "code",
   "execution_count": 22,
   "metadata": {
    "execution": {
     "iopub.execute_input": "2022-02-01T20:47:17.126528Z",
     "iopub.status.busy": "2022-02-01T20:47:17.125938Z",
     "iopub.status.idle": "2022-02-01T20:47:17.139844Z",
     "shell.execute_reply": "2022-02-01T20:47:17.138374Z",
     "shell.execute_reply.started": "2022-02-01T20:47:17.126456Z"
    },
    "tags": []
   },
   "outputs": [
    {
     "data": {
      "text/plain": [
       "dict_keys(['target', 'start', 'feat_dynamic_real', 'feat_static_cat', 'source'])"
      ]
     },
     "execution_count": 22,
     "metadata": {},
     "output_type": "execute_result"
    }
   ],
   "source": [
    "train_entry = next(iter(train_ds))\n",
    "train_entry.keys()"
   ]
  },
  {
   "cell_type": "code",
   "execution_count": 23,
   "metadata": {
    "execution": {
     "iopub.execute_input": "2022-02-01T20:47:17.575398Z",
     "iopub.status.busy": "2022-02-01T20:47:17.574774Z",
     "iopub.status.idle": "2022-02-01T20:47:17.587869Z",
     "shell.execute_reply": "2022-02-01T20:47:17.586420Z",
     "shell.execute_reply.started": "2022-02-01T20:47:17.575327Z"
    },
    "tags": []
   },
   "outputs": [
    {
     "data": {
      "text/plain": [
       "((144,), (1, 144))"
      ]
     },
     "execution_count": 23,
     "metadata": {},
     "output_type": "execute_result"
    }
   ],
   "source": [
    "train_entry['target'].shape, train_entry['feat_dynamic_real'].shape"
   ]
  },
  {
   "cell_type": "code",
   "execution_count": 24,
   "metadata": {
    "execution": {
     "iopub.execute_input": "2022-02-01T20:47:17.674343Z",
     "iopub.status.busy": "2022-02-01T20:47:17.673823Z",
     "iopub.status.idle": "2022-02-01T20:47:17.687850Z",
     "shell.execute_reply": "2022-02-01T20:47:17.686210Z",
     "shell.execute_reply.started": "2022-02-01T20:47:17.674278Z"
    },
    "tags": []
   },
   "outputs": [
    {
     "data": {
      "text/plain": [
       "dict_keys(['target', 'start', 'feat_dynamic_real', 'feat_static_cat', 'source'])"
      ]
     },
     "execution_count": 24,
     "metadata": {},
     "output_type": "execute_result"
    }
   ],
   "source": [
    "test_entry = next(iter(test_ds))\n",
    "test_entry.keys()"
   ]
  },
  {
   "cell_type": "code",
   "execution_count": 25,
   "metadata": {
    "execution": {
     "iopub.execute_input": "2022-02-01T20:47:18.233119Z",
     "iopub.status.busy": "2022-02-01T20:47:18.232532Z",
     "iopub.status.idle": "2022-02-01T20:47:18.562531Z",
     "shell.execute_reply": "2022-02-01T20:47:18.561458Z",
     "shell.execute_reply.started": "2022-02-01T20:47:18.233047Z"
    },
    "tags": []
   },
   "outputs": [
    {
     "data": {
      "image/png": "[encoded data removed]",
      "text/plain": [
       "<Figure size 720x504 with 2 Axes>"
      ]
     },
     "metadata": {
      "needs_background": "light"
     },
     "output_type": "display_data"
    }
   ],
   "source": [
    "test_series = to_pandas(test_entry)\n",
    "train_series = to_pandas(train_entry)\n",
    "\n",
    "fig, ax = plt.subplots(2, 1, sharex=True, sharey=True, figsize=(10, 7))\n",
    "\n",
    "train_series.plot(ax=ax[0])\n",
    "ax[0].grid(which=\"both\")\n",
    "ax[0].legend([\"train series\"], loc=\"upper left\")\n",
    "\n",
    "test_series.plot(ax=ax[1])\n",
    "ax[1].axvline(train_series.index[-1], color='r') # end of train dataset\n",
    "ax[1].grid(which=\"both\")\n",
    "ax[1].legend([\"test series\", \"end of train series\"], loc=\"upper left\")\n",
    "\n",
    "plt.show()"
   ]
  },
  {
   "cell_type": "code",
   "execution_count": 26,
   "metadata": {
    "execution": {
     "iopub.execute_input": "2022-02-01T20:47:18.808644Z",
     "iopub.status.busy": "2022-02-01T20:47:18.808076Z",
     "iopub.status.idle": "2022-02-01T20:47:18.820053Z",
     "shell.execute_reply": "2022-02-01T20:47:18.818576Z",
     "shell.execute_reply.started": "2022-02-01T20:47:18.808576Z"
    },
    "tags": []
   },
   "outputs": [
    {
     "data": {
      "text/plain": [
       "(144,)"
      ]
     },
     "execution_count": 26,
     "metadata": {},
     "output_type": "execute_result"
    }
   ],
   "source": [
    "train_entry['target'].shape"
   ]
  },
  {
   "cell_type": "code",
   "execution_count": 27,
   "metadata": {
    "execution": {
     "iopub.execute_input": "2022-02-01T20:47:18.972305Z",
     "iopub.status.busy": "2022-02-01T20:47:18.971785Z",
     "iopub.status.idle": "2022-02-01T20:47:18.984407Z",
     "shell.execute_reply": "2022-02-01T20:47:18.982628Z",
     "shell.execute_reply.started": "2022-02-01T20:47:18.972239Z"
    },
    "tags": []
   },
   "outputs": [
    {
     "data": {
      "text/plain": [
       "Timestamp('2019-01-01 00:00:00', freq='H')"
      ]
     },
     "execution_count": 27,
     "metadata": {},
     "output_type": "execute_result"
    }
   ],
   "source": [
    "train_entry['start']"
   ]
  },
  {
   "cell_type": "code",
   "execution_count": 28,
   "metadata": {
    "execution": {
     "iopub.execute_input": "2022-02-01T20:47:19.348009Z",
     "iopub.status.busy": "2022-02-01T20:47:19.347479Z",
     "iopub.status.idle": "2022-02-01T20:47:19.360259Z",
     "shell.execute_reply": "2022-02-01T20:47:19.358475Z",
     "shell.execute_reply.started": "2022-02-01T20:47:19.347942Z"
    },
    "tags": []
   },
   "outputs": [
    {
     "data": {
      "text/plain": [
       "(1, 144)"
      ]
     },
     "execution_count": 28,
     "metadata": {},
     "output_type": "execute_result"
    }
   ],
   "source": [
    "train_entry['feat_dynamic_real'].shape"
   ]
  },
  {
   "cell_type": "code",
   "execution_count": 29,
   "metadata": {
    "execution": {
     "iopub.execute_input": "2022-02-01T20:47:19.548047Z",
     "iopub.status.busy": "2022-02-01T20:47:19.547532Z",
     "iopub.status.idle": "2022-02-01T20:47:19.558561Z",
     "shell.execute_reply": "2022-02-01T20:47:19.557149Z",
     "shell.execute_reply.started": "2022-02-01T20:47:19.547982Z"
    },
    "tags": []
   },
   "outputs": [
    {
     "data": {
      "text/plain": [
       "(1,)"
      ]
     },
     "execution_count": 29,
     "metadata": {},
     "output_type": "execute_result"
    }
   ],
   "source": [
    "train_entry['feat_static_cat'].shape"
   ]
  },
  {
   "cell_type": "code",
   "execution_count": 30,
   "metadata": {
    "execution": {
     "iopub.execute_input": "2022-02-01T20:47:19.800167Z",
     "iopub.status.busy": "2022-02-01T20:47:19.799628Z",
     "iopub.status.idle": "2022-02-01T20:47:19.822862Z",
     "shell.execute_reply": "2022-02-01T20:47:19.821307Z",
     "shell.execute_reply.started": "2022-02-01T20:47:19.800100Z"
    },
    "tags": []
   },
   "outputs": [
    {
     "data": {
      "text/plain": [
       "{'target': array([ 0.87263286,  0.47030038,  0.34161007, -0.06497215,  0.6548029 ,\n",
       "        -0.11315759,  0.06122889,  0.5521595 ,  0.03841473,  0.22443621,\n",
       "         0.8119214 ,  1.5275888 ,  0.4204767 ,  1.103273  ,  1.78461   ,\n",
       "         1.7963932 ,  2.355965  ,  1.9078653 ,  2.0911126 ,  1.5841305 ,\n",
       "         1.8229762 ,  1.8434241 ,  1.4388958 ,  0.78015983,  1.062182  ,\n",
       "         0.8844136 ,  0.48362345,  0.4097366 ,  0.0747167 ,  0.11239291,\n",
       "         0.383316  , -0.34045914, -0.01343078,  0.66290134,  0.49787366,\n",
       "         0.78239375,  1.2032231 ,  1.289504  ,  2.1050384 ,  1.8663024 ,\n",
       "         2.1780763 ,  2.0630429 ,  1.8881903 ,  2.0141973 ,  2.0103738 ,\n",
       "         1.7292082 ,  0.9873417 ,  0.90210146,  1.2964516 ,  0.7661256 ,\n",
       "         1.0769701 , -0.02652241,  0.1569944 , -0.377931  , -0.08846885,\n",
       "        -0.31760314, -0.31266436,  0.30491072,  0.25871292,  0.8049683 ,\n",
       "         1.140073  ,  1.3183706 ,  1.8311418 ,  1.5003474 ,  2.4320717 ,\n",
       "         1.9480512 ,  2.3911705 ,  1.5511991 ,  1.9880241 ,  1.7091832 ,\n",
       "         1.3317338 ,  0.46330842,  1.3232173 ,  0.60282075,  0.14261398,\n",
       "         0.22402138,  0.32877308,  0.32484868, -0.00764382, -0.007953  ,\n",
       "         0.6393842 ,  0.7658105 ,  0.472764  ,  0.58185244,  1.3694124 ,\n",
       "         0.9603708 ,  1.2993573 ,  1.4963747 ,  2.2186728 ,  1.9795215 ,\n",
       "         1.5411755 ,  1.6601822 ,  1.1766977 ,  1.4739925 ,  0.678909  ,\n",
       "         1.1050729 ,  0.83003706,  0.92821693,  0.8491334 ,  0.13860996,\n",
       "         0.0863976 ,  0.16694596, -0.21776788, -0.120511  ,  0.07624866,\n",
       "         0.3892961 ,  0.6425829 ,  0.661148  ,  0.44830427,  1.3164904 ,\n",
       "         1.9295642 ,  2.2536325 ,  1.0731819 ,  2.0064182 ,  1.8515666 ,\n",
       "         1.2812215 ,  1.9879104 ,  1.6298194 ,  1.4540159 ,  0.93129945,\n",
       "         0.15144163,  0.4705398 ,  1.0551585 ,  0.09232742, -0.01460369,\n",
       "         0.01151308,  0.23321335, -0.09267762,  0.4481392 ,  0.18077216,\n",
       "         0.96788454,  0.7292129 ,  0.8553549 ,  0.80624783,  1.3944035 ,\n",
       "         1.7545313 ,  2.2454412 ,  1.4707661 ,  1.9966205 ,  2.152834  ,\n",
       "         2.0572042 ,  1.588033  ,  1.4355869 ,  0.69314134], dtype=float32),\n",
       " 'start': Timestamp('2019-01-01 00:00:00', freq='H'),\n",
       " 'feat_dynamic_real': array([[ 0.        ,  0.        ,  0.        ,  0.        ,  0.        ,\n",
       "          0.        ,  0.        ,  0.        ,  0.        ,  0.        ,\n",
       "          0.        ,  0.        ,  0.        ,  0.        ,  0.        ,\n",
       "          0.        ,  0.        ,  0.        ,  0.        ,  0.        ,\n",
       "          0.        ,  0.        ,  0.        ,  0.        ,  0.87263286,\n",
       "          0.47030038,  0.34161007, -0.06497215,  0.6548029 , -0.11315759,\n",
       "          0.06122889,  0.5521595 ,  0.03841473,  0.22443621,  0.8119214 ,\n",
       "          1.5275888 ,  0.4204767 ,  1.103273  ,  1.78461   ,  1.7963932 ,\n",
       "          2.355965  ,  1.9078653 ,  2.0911126 ,  1.5841305 ,  1.8229762 ,\n",
       "          1.8434241 ,  1.4388958 ,  0.78015983,  1.062182  ,  0.8844136 ,\n",
       "          0.48362345,  0.4097366 ,  0.0747167 ,  0.11239291,  0.383316  ,\n",
       "         -0.34045914, -0.01343078,  0.66290134,  0.49787366,  0.78239375,\n",
       "          1.2032231 ,  1.289504  ,  2.1050384 ,  1.8663024 ,  2.1780763 ,\n",
       "          2.0630429 ,  1.8881903 ,  2.0141973 ,  2.0103738 ,  1.7292082 ,\n",
       "          0.9873417 ,  0.90210146,  1.2964516 ,  0.7661256 ,  1.0769701 ,\n",
       "         -0.02652241,  0.1569944 , -0.377931  , -0.08846885, -0.31760314,\n",
       "         -0.31266436,  0.30491072,  0.25871292,  0.8049683 ,  1.140073  ,\n",
       "          1.3183706 ,  1.8311418 ,  1.5003474 ,  2.4320717 ,  1.9480512 ,\n",
       "          2.3911705 ,  1.5511991 ,  1.9880241 ,  1.7091832 ,  1.3317338 ,\n",
       "          0.46330842,  1.3232173 ,  0.60282075,  0.14261398,  0.22402138,\n",
       "          0.32877308,  0.32484868, -0.00764382, -0.007953  ,  0.6393842 ,\n",
       "          0.7658105 ,  0.472764  ,  0.58185244,  1.3694124 ,  0.9603708 ,\n",
       "          1.2993573 ,  1.4963747 ,  2.2186728 ,  1.9795215 ,  1.5411755 ,\n",
       "          1.6601822 ,  1.1766977 ,  1.4739925 ,  0.678909  ,  1.1050729 ,\n",
       "          0.83003706,  0.92821693,  0.8491334 ,  0.13860996,  0.0863976 ,\n",
       "          0.16694596, -0.21776788, -0.120511  ,  0.07624866,  0.3892961 ,\n",
       "          0.6425829 ,  0.661148  ,  0.44830427,  1.3164904 ,  1.9295642 ,\n",
       "          2.2536325 ,  1.0731819 ,  2.0064182 ,  1.8515666 ,  1.2812215 ,\n",
       "          1.9879104 ,  1.6298194 ,  1.4540159 ,  0.93129945]],\n",
       "       dtype=float32),\n",
       " 'feat_static_cat': array([0], dtype=int32),\n",
       " 'source': SourceContext(source='list_data', row=0)}"
      ]
     },
     "execution_count": 30,
     "metadata": {},
     "output_type": "execute_result"
    }
   ],
   "source": [
    "train_entry"
   ]
  },
  {
   "cell_type": "markdown",
   "metadata": {},
   "source": [
    "# Pytorch-ts"
   ]
  },
  {
   "cell_type": "code",
   "execution_count": 31,
   "metadata": {
    "execution": {
     "iopub.execute_input": "2022-02-01T20:47:21.178853Z",
     "iopub.status.busy": "2022-02-01T20:47:21.178259Z",
     "iopub.status.idle": "2022-02-01T20:47:21.185943Z",
     "shell.execute_reply": "2022-02-01T20:47:21.184399Z",
     "shell.execute_reply.started": "2022-02-01T20:47:21.178760Z"
    },
    "tags": []
   },
   "outputs": [],
   "source": [
    "prediction_length = 1"
   ]
  },
  {
   "cell_type": "code",
   "execution_count": 32,
   "metadata": {
    "execution": {
     "iopub.execute_input": "2022-02-01T20:47:22.671158Z",
     "iopub.status.busy": "2022-02-01T20:47:22.670361Z",
     "iopub.status.idle": "2022-02-01T20:47:22.685137Z",
     "shell.execute_reply": "2022-02-01T20:47:22.683734Z",
     "shell.execute_reply.started": "2022-02-01T20:47:22.671083Z"
    },
    "tags": []
   },
   "outputs": [
    {
     "name": "stdout",
     "output_type": "stream",
     "text": [
      "(362399,) (144, 362399) (31936,) (144, 31936)\n"
     ]
    }
   ],
   "source": [
    "train_target = X_train[prediction_length:, 0]\n",
    "train_features = X_train[:-prediction_length, :].T\n",
    "test_target = X_test[prediction_length:, 0]\n",
    "test_features = X_test[:-prediction_length, :].T\n",
    "\n",
    "print(train_target.shape, train_features.shape, test_target.shape, test_features.shape)"
   ]
  },
  {
   "cell_type": "code",
   "execution_count": 33,
   "metadata": {
    "execution": {
     "iopub.execute_input": "2022-02-01T20:47:23.444964Z",
     "iopub.status.busy": "2022-02-01T20:47:23.444414Z",
     "iopub.status.idle": "2022-02-01T20:47:23.453569Z",
     "shell.execute_reply": "2022-02-01T20:47:23.452018Z",
     "shell.execute_reply.started": "2022-02-01T20:47:23.444896Z"
    },
    "tags": []
   },
   "outputs": [],
   "source": [
    "start_timestamp = pd.Timestamp(\"01-01-2019\", freq='1H')"
   ]
  },
  {
   "cell_type": "code",
   "execution_count": 34,
   "metadata": {
    "execution": {
     "iopub.execute_input": "2022-02-01T20:47:26.771959Z",
     "iopub.status.busy": "2022-02-01T20:47:26.771372Z",
     "iopub.status.idle": "2022-02-01T20:47:26.785228Z",
     "shell.execute_reply": "2022-02-01T20:47:26.783706Z",
     "shell.execute_reply.started": "2022-02-01T20:47:26.771890Z"
    },
    "tags": []
   },
   "outputs": [],
   "source": [
    "training_data = ListDataset(\n",
    "       [{\"start\": start_timestamp, \"target\": train_target, \"feat_dynamic_real\": train_features}],\n",
    "        freq = \"1H\"\n",
    ")\n",
    "\n",
    "test_data = ListDataset(\n",
    "       [{\"start\": start_timestamp + start_timestamp.freq * (len(train_features) + prediction_length), \n",
    "         \"target\": test_target, \n",
    "         \"feat_dynamic_real\": test_features}],\n",
    "        freq = \"1H\"\n",
    ")"
   ]
  },
  {
   "cell_type": "code",
   "execution_count": 35,
   "metadata": {
    "execution": {
     "iopub.execute_input": "2022-02-01T20:47:27.362524Z",
     "iopub.status.busy": "2022-02-01T20:47:27.361985Z",
     "iopub.status.idle": "2022-02-01T20:47:27.474231Z",
     "shell.execute_reply": "2022-02-01T20:47:27.472886Z",
     "shell.execute_reply.started": "2022-02-01T20:47:27.362459Z"
    },
    "tags": []
   },
   "outputs": [],
   "source": [
    "train_entry = next(iter(training_data))"
   ]
  },
  {
   "cell_type": "code",
   "execution_count": 36,
   "metadata": {
    "execution": {
     "iopub.execute_input": "2022-02-01T20:47:28.007339Z",
     "iopub.status.busy": "2022-02-01T20:47:28.006722Z",
     "iopub.status.idle": "2022-02-01T20:47:28.019724Z",
     "shell.execute_reply": "2022-02-01T20:47:28.018226Z",
     "shell.execute_reply.started": "2022-02-01T20:47:28.007271Z"
    },
    "tags": []
   },
   "outputs": [
    {
     "data": {
      "text/plain": [
       "((362399,), (144, 362399))"
      ]
     },
     "execution_count": 36,
     "metadata": {},
     "output_type": "execute_result"
    }
   ],
   "source": [
    "train_entry['target'].shape, train_entry['feat_dynamic_real'].shape"
   ]
  },
  {
   "cell_type": "code",
   "execution_count": 37,
   "metadata": {
    "execution": {
     "iopub.execute_input": "2022-02-01T20:47:34.632378Z",
     "iopub.status.busy": "2022-02-01T20:47:34.631788Z",
     "iopub.status.idle": "2022-02-01T20:47:34.642967Z",
     "shell.execute_reply": "2022-02-01T20:47:34.641515Z",
     "shell.execute_reply.started": "2022-02-01T20:47:34.632308Z"
    },
    "tags": []
   },
   "outputs": [],
   "source": [
    "estimator = SimpleFeedForwardEstimator(freq=\"1H\",\n",
    "                            prediction_length=prediction_length,\n",
    "                            mean_scaling=False,\n",
    "                            trainer=Trainer(epochs=1,\n",
    "                                            device=device))"
   ]
  },
  {
   "cell_type": "code",
   "execution_count": 38,
   "metadata": {
    "execution": {
     "iopub.execute_input": "2022-02-01T20:47:35.237049Z",
     "iopub.status.busy": "2022-02-01T20:47:35.236493Z",
     "iopub.status.idle": "2022-02-01T20:49:45.144942Z",
     "shell.execute_reply": "2022-02-01T20:49:45.143771Z",
     "shell.execute_reply.started": "2022-02-01T20:47:35.236981Z"
    },
    "tags": []
   },
   "outputs": [
    {
     "data": {
      "application/vnd.jupyter.widget-view+json": {
       "model_id": "683b128684dd4cffb02c976ea551b0c1",
       "version_major": 2,
       "version_minor": 0
      },
      "text/plain": [
       "  0%|          | 0/49 [00:00<?, ?it/s]"
      ]
     },
     "metadata": {},
     "output_type": "display_data"
    }
   ],
   "source": [
    "predictor = estimator.train(training_data=training_data)"
   ]
  },
  {
   "cell_type": "code",
   "execution_count": 39,
   "metadata": {
    "execution": {
     "iopub.execute_input": "2022-02-01T20:49:53.444918Z",
     "iopub.status.busy": "2022-02-01T20:49:53.444141Z",
     "iopub.status.idle": "2022-02-01T20:49:53.453546Z",
     "shell.execute_reply": "2022-02-01T20:49:53.452050Z",
     "shell.execute_reply.started": "2022-02-01T20:49:53.444841Z"
    },
    "tags": []
   },
   "outputs": [],
   "source": [
    "predictions = predictor.predict(training_data)"
   ]
  },
  {
   "cell_type": "code",
   "execution_count": 40,
   "metadata": {
    "execution": {
     "iopub.execute_input": "2022-02-01T20:49:54.161307Z",
     "iopub.status.busy": "2022-02-01T20:49:54.160803Z",
     "iopub.status.idle": "2022-02-01T20:50:01.663307Z",
     "shell.execute_reply": "2022-02-01T20:50:01.662304Z",
     "shell.execute_reply.started": "2022-02-01T20:49:54.161242Z"
    },
    "tags": []
   },
   "outputs": [],
   "source": [
    "preds = next(predictions)"
   ]
  },
  {
   "cell_type": "code",
   "execution_count": 137,
   "metadata": {
    "execution": {
     "iopub.execute_input": "2022-02-01T20:36:53.025211Z",
     "iopub.status.busy": "2022-02-01T20:36:53.024573Z",
     "iopub.status.idle": "2022-02-01T20:36:53.036009Z",
     "shell.execute_reply": "2022-02-01T20:36:53.034124Z",
     "shell.execute_reply.started": "2022-02-01T20:36:53.025137Z"
    },
    "tags": []
   },
   "outputs": [
    {
     "ename": "SyntaxError",
     "evalue": "unexpected EOF while parsing (1831103074.py, line 1)",
     "output_type": "error",
     "traceback": [
      "\u001b[0;36m  File \u001b[0;32m\"/tmp/ipykernel_30272/1831103074.py\"\u001b[0;36m, line \u001b[0;32m1\u001b[0m\n\u001b[0;31m    for test_entry, forecast in zip(test_data,\u001b[0m\n\u001b[0m                                              ^\u001b[0m\n\u001b[0;31mSyntaxError\u001b[0m\u001b[0;31m:\u001b[0m unexpected EOF while parsing\n"
     ]
    }
   ],
   "source": [
    "for test_entry, forecast in zip(test_data,"
   ]
  },
  {
   "cell_type": "code",
   "execution_count": 41,
   "metadata": {
    "execution": {
     "iopub.execute_input": "2022-02-01T20:50:02.942580Z",
     "iopub.status.busy": "2022-02-01T20:50:02.942009Z",
     "iopub.status.idle": "2022-02-01T20:50:02.954438Z",
     "shell.execute_reply": "2022-02-01T20:50:02.953132Z",
     "shell.execute_reply.started": "2022-02-01T20:50:02.942513Z"
    },
    "tags": []
   },
   "outputs": [
    {
     "data": {
      "text/plain": [
       "(100, 1)"
      ]
     },
     "execution_count": 41,
     "metadata": {},
     "output_type": "execute_result"
    }
   ],
   "source": [
    "preds.samples.shape"
   ]
  },
  {
   "cell_type": "code",
   "execution_count": 51,
   "metadata": {
    "execution": {
     "iopub.execute_input": "2022-02-01T20:44:14.341631Z",
     "iopub.status.busy": "2022-02-01T20:44:14.340986Z",
     "iopub.status.idle": "2022-02-01T20:44:14.366994Z",
     "shell.execute_reply": "2022-02-01T20:44:14.365540Z",
     "shell.execute_reply.started": "2022-02-01T20:44:14.341558Z"
    },
    "tags": []
   },
   "outputs": [
    {
     "data": {
      "text/plain": [
       "gluonts.model.forecast.SampleForecast(freq=\"1H\", info=None, item_id=None, samples=numpy.array([[1.6477149724960327], [1.1014130115509033], [0.7594659924507141], [0.7325944900512695], [1.563553810119629], [1.0649256706237793], [1.7525784969329834], [0.9012746810913086], [1.039421558380127], [1.6515755653381348], [1.6832971572875977], [1.411629557609558], [2.8381547927856445], [1.190524935722351], [1.0956642627716064], [1.2756856679916382], [1.61222243309021], [2.673056125640869], [0.4323335886001587], [2.1190907955169678], [0.4909477233886719], [1.2052081823349], [0.7637818455696106], [1.7361149787902832], [1.4546397924423218], [0.8113080263137817], [1.2607166767120361], [1.7954713106155396], [1.0889238119125366], [1.6356981992721558], [0.9833033084869385], [2.403329372406006], [0.48340463638305664], [1.3254224061965942], [0.6809029579162598], [1.0640555620193481], [0.8080394268035889], [1.242757797241211], [1.813731074333191], [1.6284325122833252], [2.1781928539276123], [1.1311612129211426], [0.5561834573745728], [1.250179648399353], [1.5722780227661133], [1.1470221281051636], [1.6259706020355225], [2.8776516914367676], [1.1143425703048706], [0.5855420827865601], [0.8950735330581665], [1.686452031135559], [0.7606210112571716], [1.368369698524475], [2.0174672603607178], [1.2976378202438354], [1.0723146200180054], [1.564696192741394], [2.1893327236175537], [1.0113952159881592], [1.721937894821167], [0.8108283281326294], [1.559485912322998], [1.3654266595840454], [1.177846908569336], [1.228287696838379], [1.189407229423523], [1.313688039779663], [1.3866233825683594], [1.11869215965271], [1.3926570415496826], [1.3274502754211426], [1.2325958013534546], [0.6051708459854126], [1.3967307806015015], [1.4463224411010742], [0.9415743947029114], [1.4290030002593994], [1.7816470861434937], [0.17754483222961426], [1.4649937152862549], [1.1074069738388062], [1.5198578834533691], [1.0899994373321533], [1.3302174806594849], [0.548624575138092], [1.8857176303863525], [1.5069115161895752], [1.6895332336425781], [2.2356724739074707], [0.8651467561721802], [0.9811064004898071], [1.6426092386245728], [0.7888385057449341], [1.4795705080032349], [1.3782521486282349], [1.293897271156311], [1.8645799160003662], [1.2247258424758911], [1.5773377418518066]], numpy.dtype(\"float32\")), start_date=pandas.Timestamp(\"2060-05-04 23:00:00\", freq=\"H\"))"
      ]
     },
     "execution_count": 51,
     "metadata": {},
     "output_type": "execute_result"
    }
   ],
   "source": [
    "preds"
   ]
  },
  {
   "cell_type": "code",
   "execution_count": 52,
   "metadata": {
    "execution": {
     "iopub.execute_input": "2022-02-01T20:44:22.066709Z",
     "iopub.status.busy": "2022-02-01T20:44:22.066121Z",
     "iopub.status.idle": "2022-02-01T20:44:22.081083Z",
     "shell.execute_reply": "2022-02-01T20:44:22.079679Z",
     "shell.execute_reply.started": "2022-02-01T20:44:22.066640Z"
    },
    "tags": []
   },
   "outputs": [
    {
     "data": {
      "text/plain": [
       "['__annotations__',\n",
       " '__class__',\n",
       " '__delattr__',\n",
       " '__dict__',\n",
       " '__dir__',\n",
       " '__doc__',\n",
       " '__eq__',\n",
       " '__format__',\n",
       " '__ge__',\n",
       " '__getattribute__',\n",
       " '__getnewargs_ex__',\n",
       " '__gt__',\n",
       " '__hash__',\n",
       " '__init__',\n",
       " '__init_args__',\n",
       " '__init_subclass__',\n",
       " '__le__',\n",
       " '__lt__',\n",
       " '__module__',\n",
       " '__ne__',\n",
       " '__new__',\n",
       " '__reduce__',\n",
       " '__reduce_ex__',\n",
       " '__repr__',\n",
       " '__setattr__',\n",
       " '__sizeof__',\n",
       " '__str__',\n",
       " '__subclasshook__',\n",
       " '__weakref__',\n",
       " '_dim',\n",
       " '_index',\n",
       " '_mean',\n",
       " '_sorted_samples',\n",
       " '_sorted_samples_value',\n",
       " 'as_json_dict',\n",
       " 'copy_aggregate',\n",
       " 'copy_dim',\n",
       " 'dim',\n",
       " 'freq',\n",
       " 'index',\n",
       " 'info',\n",
       " 'item_id',\n",
       " 'mean',\n",
       " 'mean_ts',\n",
       " 'median',\n",
       " 'num_samples',\n",
       " 'plot',\n",
       " 'prediction_length',\n",
       " 'quantile',\n",
       " 'quantile_ts',\n",
       " 'samples',\n",
       " 'start_date',\n",
       " 'to_quantile_forecast']"
      ]
     },
     "execution_count": 52,
     "metadata": {},
     "output_type": "execute_result"
    }
   ],
   "source": [
    "dir(preds)"
   ]
  },
  {
   "cell_type": "code",
   "execution_count": 53,
   "metadata": {
    "execution": {
     "iopub.execute_input": "2022-02-01T20:44:23.523373Z",
     "iopub.status.busy": "2022-02-01T20:44:23.522539Z",
     "iopub.status.idle": "2022-02-01T20:44:23.535929Z",
     "shell.execute_reply": "2022-02-01T20:44:23.534467Z",
     "shell.execute_reply.started": "2022-02-01T20:44:23.523299Z"
    },
    "tags": []
   },
   "outputs": [
    {
     "data": {
      "text/plain": [
       "Timestamp('2060-05-04 23:00:00', freq='H')"
      ]
     },
     "execution_count": 53,
     "metadata": {},
     "output_type": "execute_result"
    }
   ],
   "source": [
    "preds.start_date"
   ]
  },
  {
   "cell_type": "code",
   "execution_count": 54,
   "metadata": {
    "execution": {
     "iopub.execute_input": "2022-02-01T20:44:30.467203Z",
     "iopub.status.busy": "2022-02-01T20:44:30.466568Z",
     "iopub.status.idle": "2022-02-01T20:44:30.479059Z",
     "shell.execute_reply": "2022-02-01T20:44:30.477583Z",
     "shell.execute_reply.started": "2022-02-01T20:44:30.467131Z"
    }
   },
   "outputs": [
    {
     "data": {
      "text/plain": [
       "Timestamp('2060-05-04 23:00:00', freq='H')"
      ]
     },
     "execution_count": 54,
     "metadata": {},
     "output_type": "execute_result"
    }
   ],
   "source": [
    "preds.start_date"
   ]
  },
  {
   "cell_type": "code",
   "execution_count": 42,
   "metadata": {
    "execution": {
     "iopub.execute_input": "2022-02-01T20:50:58.513463Z",
     "iopub.status.busy": "2022-02-01T20:50:58.512874Z",
     "iopub.status.idle": "2022-02-01T20:50:58.524422Z",
     "shell.execute_reply": "2022-02-01T20:50:58.523041Z",
     "shell.execute_reply.started": "2022-02-01T20:50:58.513392Z"
    }
   },
   "outputs": [],
   "source": []
  },
  {
   "cell_type": "code",
   "execution_count": null,
   "metadata": {},
   "outputs": [],
   "source": []
  },
  {
   "cell_type": "code",
   "execution_count": 10,
   "metadata": {
    "execution": {
     "iopub.execute_input": "2022-02-01T21:00:56.870296Z",
     "iopub.status.busy": "2022-02-01T21:00:56.869678Z",
     "iopub.status.idle": "2022-02-01T21:00:57.165004Z",
     "shell.execute_reply": "2022-02-01T21:00:57.163816Z",
     "shell.execute_reply.started": "2022-02-01T21:00:56.870222Z"
    },
    "tags": []
   },
   "outputs": [],
   "source": [
    "import matplotlib.pyplot as plt\n",
    "import pandas as pd\n",
    "import torch\n",
    "\n",
    "from gluonts.dataset.common import ListDataset\n",
    "from gluonts.dataset.util import to_pandas\n",
    "\n",
    "from pts.model.deepar import DeepAREstimator\n",
    "from pts.model.simple_feedforward import SimpleFeedForwardEstimator\n",
    "from pts import Trainer\n",
    "\n",
    "url = \"https://raw.githubusercontent.com/numenta/NAB/master/data/realTweets/Twitter_volume_AMZN.csv\"\n",
    "df = pd.read_csv(url, header=0, index_col=0, parse_dates=True)\n"
   ]
  },
  {
   "cell_type": "code",
   "execution_count": 11,
   "metadata": {
    "execution": {
     "iopub.execute_input": "2022-02-01T21:00:58.070915Z",
     "iopub.status.busy": "2022-02-01T21:00:58.070345Z",
     "iopub.status.idle": "2022-02-01T21:00:58.280725Z",
     "shell.execute_reply": "2022-02-01T21:00:58.279933Z",
     "shell.execute_reply.started": "2022-02-01T21:00:58.070842Z"
    },
    "tags": []
   },
   "outputs": [
    {
     "data": {
      "image/png": "[encoded data removed]",
      "text/plain": [
       "<Figure size 432x288 with 1 Axes>"
      ]
     },
     "metadata": {
      "needs_background": "light"
     },
     "output_type": "display_data"
    }
   ],
   "source": [
    "df[:100].plot(linewidth=2)\n",
    "plt.grid(which='both')\n",
    "plt.show()\n"
   ]
  },
  {
   "cell_type": "code",
   "execution_count": 12,
   "metadata": {
    "execution": {
     "iopub.execute_input": "2022-02-01T21:00:58.715819Z",
     "iopub.status.busy": "2022-02-01T21:00:58.715217Z",
     "iopub.status.idle": "2022-02-01T21:00:58.736047Z",
     "shell.execute_reply": "2022-02-01T21:00:58.734394Z",
     "shell.execute_reply.started": "2022-02-01T21:00:58.715745Z"
    },
    "tags": []
   },
   "outputs": [],
   "source": [
    "training_data = ListDataset(\n",
    "    [{\"start\": df.index[0], \"target\": df.value[:\"2015-04-05 00:00:00\"],\n",
    "     \"feat_dynamic_real\": np.zeros(shape= (5, len(df.value[:\"2015-04-05 00:00:00\"])))\n",
    "     }],\n",
    "    freq = \"5min\"\n",
    ")"
   ]
  },
  {
   "cell_type": "code",
   "execution_count": 13,
   "metadata": {
    "execution": {
     "iopub.execute_input": "2022-02-01T21:00:59.360749Z",
     "iopub.status.busy": "2022-02-01T21:00:59.360203Z",
     "iopub.status.idle": "2022-02-01T21:00:59.377434Z",
     "shell.execute_reply": "2022-02-01T21:00:59.376179Z",
     "shell.execute_reply.started": "2022-02-01T21:00:59.360682Z"
    },
    "tags": []
   },
   "outputs": [
    {
     "data": {
      "text/plain": [
       "array([[0., 0., 0., ..., 0., 0., 0.],\n",
       "       [0., 0., 0., ..., 0., 0., 0.],\n",
       "       [0., 0., 0., ..., 0., 0., 0.],\n",
       "       [0., 0., 0., ..., 0., 0., 0.],\n",
       "       [0., 0., 0., ..., 0., 0., 0.]])"
      ]
     },
     "execution_count": 13,
     "metadata": {},
     "output_type": "execute_result"
    }
   ],
   "source": [
    "import numpy as np\n",
    "np.zeros(shape= (5, len(df.value[:\"2015-04-05 00:00:00\"])))"
   ]
  },
  {
   "cell_type": "code",
   "execution_count": 14,
   "metadata": {
    "execution": {
     "iopub.execute_input": "2022-02-01T21:00:59.878234Z",
     "iopub.status.busy": "2022-02-01T21:00:59.877696Z",
     "iopub.status.idle": "2022-02-01T21:01:04.639436Z",
     "shell.execute_reply": "2022-02-01T21:01:04.638516Z",
     "shell.execute_reply.started": "2022-02-01T21:00:59.878166Z"
    },
    "tags": []
   },
   "outputs": [
    {
     "data": {
      "application/vnd.jupyter.widget-view+json": {
       "model_id": "641e03a147be41b1beb6241b2f3190b3",
       "version_major": 2,
       "version_minor": 0
      },
      "text/plain": [
       "  0%|          | 0/49 [00:00<?, ?it/s]"
      ]
     },
     "metadata": {},
     "output_type": "display_data"
    }
   ],
   "source": [
    "device = torch.device(\"cuda\" if torch.cuda.is_available() else \"cpu\")\n",
    "\n",
    "estimator = SimpleFeedForwardEstimator(freq=\"5min\",\n",
    "                                       prediction_length=12,\n",
    "                            trainer=Trainer(epochs=1,\n",
    "                                            device=device))\n",
    "predictor = estimator.train(training_data=training_data)\n"
   ]
  },
  {
   "cell_type": "code",
   "execution_count": 15,
   "metadata": {
    "execution": {
     "iopub.execute_input": "2022-02-01T21:01:06.293262Z",
     "iopub.status.busy": "2022-02-01T21:01:06.292647Z",
     "iopub.status.idle": "2022-02-01T21:01:06.306943Z",
     "shell.execute_reply": "2022-02-01T21:01:06.305362Z",
     "shell.execute_reply.started": "2022-02-01T21:01:06.293189Z"
    },
    "tags": []
   },
   "outputs": [],
   "source": [
    "test_data = ListDataset(\n",
    "    [{\"start\": df.index[0], \"target\": df.value[:\"2015-04-15 00:00:00\"]}],\n",
    "    freq = \"5min\"\n",
    ")"
   ]
  },
  {
   "cell_type": "code",
   "execution_count": 31,
   "metadata": {
    "execution": {
     "iopub.execute_input": "2022-02-01T21:12:54.439340Z",
     "iopub.status.busy": "2022-02-01T21:12:54.438500Z",
     "iopub.status.idle": "2022-02-01T21:12:54.457031Z",
     "shell.execute_reply": "2022-02-01T21:12:54.455872Z",
     "shell.execute_reply.started": "2022-02-01T21:12:54.439262Z"
    }
   },
   "outputs": [
    {
     "data": {
      "text/plain": [
       "timestamp\n",
       "2015-02-26 21:42:53    57\n",
       "2015-02-26 21:47:53    43\n",
       "2015-02-26 21:52:53    55\n",
       "2015-02-26 21:57:53    64\n",
       "2015-02-26 22:02:53    93\n",
       "                       ..\n",
       "2015-04-14 23:37:53    53\n",
       "2015-04-14 23:42:53    75\n",
       "2015-04-14 23:47:53    43\n",
       "2015-04-14 23:52:53    46\n",
       "2015-04-14 23:57:53    52\n",
       "Name: value, Length: 13564, dtype: int64"
      ]
     },
     "execution_count": 31,
     "metadata": {},
     "output_type": "execute_result"
    }
   ],
   "source": [
    "df.value[:\"2015-04-15 00:00:00\"]"
   ]
  },
  {
   "cell_type": "code",
   "execution_count": 20,
   "metadata": {
    "execution": {
     "iopub.execute_input": "2022-02-01T21:03:59.715751Z",
     "iopub.status.busy": "2022-02-01T21:03:59.715148Z",
     "iopub.status.idle": "2022-02-01T21:03:59.923207Z",
     "shell.execute_reply": "2022-02-01T21:03:59.922352Z",
     "shell.execute_reply.started": "2022-02-01T21:03:59.715677Z"
    },
    "tags": []
   },
   "outputs": [
    {
     "name": "stdout",
     "output_type": "stream",
     "text": [
      "(100, 12)\n"
     ]
    },
    {
     "data": {
      "image/png": "[encoded data removed]",
      "text/plain": [
       "<Figure size 432x288 with 1 Axes>"
      ]
     },
     "metadata": {
      "needs_background": "light"
     },
     "output_type": "display_data"
    }
   ],
   "source": [
    "for test_entry, forecast in zip(test_data, predictor.predict(test_data)):\n",
    "    to_pandas(test_entry)[-60:].plot(linewidth=2)\n",
    "    forecast.plot(color='g', prediction_intervals=[50.0, 90.0])\n",
    "    print(forecast.samples.shape)\n",
    "plt.grid(which='both')"
   ]
  },
  {
   "cell_type": "code",
   "execution_count": 24,
   "metadata": {
    "execution": {
     "iopub.execute_input": "2022-02-01T21:06:53.537135Z",
     "iopub.status.busy": "2022-02-01T21:06:53.536538Z",
     "iopub.status.idle": "2022-02-01T21:06:53.570381Z",
     "shell.execute_reply": "2022-02-01T21:06:53.569503Z",
     "shell.execute_reply.started": "2022-02-01T21:06:53.537061Z"
    },
    "tags": []
   },
   "outputs": [],
   "source": [
    "preds = next(iter(predictor.predict(test_data)))"
   ]
  },
  {
   "cell_type": "code",
   "execution_count": 32,
   "metadata": {
    "execution": {
     "iopub.execute_input": "2022-02-01T21:17:38.382014Z",
     "iopub.status.busy": "2022-02-01T21:17:38.381406Z",
     "iopub.status.idle": "2022-02-01T21:17:38.396083Z",
     "shell.execute_reply": "2022-02-01T21:17:38.394874Z",
     "shell.execute_reply.started": "2022-02-01T21:17:38.381939Z"
    },
    "tags": []
   },
   "outputs": [],
   "source": [
    "from gluonts.evaluation.backtest import make_evaluation_predictions\n"
   ]
  },
  {
   "cell_type": "code",
   "execution_count": 48,
   "metadata": {
    "execution": {
     "iopub.execute_input": "2022-02-01T21:19:40.114350Z",
     "iopub.status.busy": "2022-02-01T21:19:40.113736Z",
     "iopub.status.idle": "2022-02-01T21:19:40.123014Z",
     "shell.execute_reply": "2022-02-01T21:19:40.121585Z",
     "shell.execute_reply.started": "2022-02-01T21:19:40.114276Z"
    },
    "tags": []
   },
   "outputs": [],
   "source": [
    "forecast_it, ts_it = make_evaluation_predictions(\n",
    "    dataset=test_data,\n",
    "    predictor=predictor,\n",
    "    num_samples=100\n",
    ")"
   ]
  },
  {
   "cell_type": "code",
   "execution_count": 49,
   "metadata": {
    "execution": {
     "iopub.execute_input": "2022-02-01T21:19:40.347128Z",
     "iopub.status.busy": "2022-02-01T21:19:40.346585Z",
     "iopub.status.idle": "2022-02-01T21:19:40.360528Z",
     "shell.execute_reply": "2022-02-01T21:19:40.359148Z",
     "shell.execute_reply.started": "2022-02-01T21:19:40.347059Z"
    },
    "tags": []
   },
   "outputs": [],
   "source": [
    "preds = next(forecast_it)"
   ]
  },
  {
   "cell_type": "code",
   "execution_count": 51,
   "metadata": {
    "execution": {
     "iopub.execute_input": "2022-02-01T21:19:52.374225Z",
     "iopub.status.busy": "2022-02-01T21:19:52.373611Z",
     "iopub.status.idle": "2022-02-01T21:19:52.385141Z",
     "shell.execute_reply": "2022-02-01T21:19:52.383822Z",
     "shell.execute_reply.started": "2022-02-01T21:19:52.374152Z"
    },
    "tags": []
   },
   "outputs": [
    {
     "data": {
      "text/plain": [
       "(100, 12)"
      ]
     },
     "execution_count": 51,
     "metadata": {},
     "output_type": "execute_result"
    }
   ],
   "source": [
    "preds.samples.shape"
   ]
  },
  {
   "cell_type": "code",
   "execution_count": null,
   "metadata": {},
   "outputs": [],
   "source": []
  },
  {
   "cell_type": "code",
   "execution_count": null,
   "metadata": {},
   "outputs": [],
   "source": []
  },
  {
   "cell_type": "code",
   "execution_count": null,
   "metadata": {},
   "outputs": [],
   "source": []
  },
  {
   "cell_type": "code",
   "execution_count": 42,
   "metadata": {
    "execution": {
     "iopub.execute_input": "2022-02-01T21:19:10.952919Z",
     "iopub.status.busy": "2022-02-01T21:19:10.951811Z",
     "iopub.status.idle": "2022-02-01T21:19:11.027901Z",
     "shell.execute_reply": "2022-02-01T21:19:11.027039Z",
     "shell.execute_reply.started": "2022-02-01T21:19:10.952849Z"
    },
    "tags": []
   },
   "outputs": [
    {
     "name": "stdout",
     "output_type": "stream",
     "text": [
      "Obtaining time series conditioning values ...\n"
     ]
    },
    {
     "data": {
      "application/vnd.jupyter.widget-view+json": {
       "model_id": "00b436e19b054019b71927c57c727c78",
       "version_major": 2,
       "version_minor": 0
      },
      "text/plain": [
       "  0%|          | 0/1 [00:00<?, ?it/s]"
      ]
     },
     "metadata": {},
     "output_type": "display_data"
    },
    {
     "name": "stdout",
     "output_type": "stream",
     "text": [
      "Obtaining time series predictions ...\n"
     ]
    },
    {
     "data": {
      "application/vnd.jupyter.widget-view+json": {
       "model_id": "3245d45100e54b7586f3308f54896295",
       "version_major": 2,
       "version_minor": 0
      },
      "text/plain": [
       "  0%|          | 0/1 [00:00<?, ?it/s]"
      ]
     },
     "metadata": {},
     "output_type": "display_data"
    }
   ],
   "source": [
    "from tqdm.notebook import tqdm\n",
    "\n",
    "print(\"Obtaining time series conditioning values ...\")\n",
    "tss = list(tqdm(ts_it, total=len(test_data)))\n",
    "print(\"Obtaining time series predictions ...\")\n",
    "forecasts = list(tqdm(forecast_it, total=len(test_data)))"
   ]
  },
  {
   "cell_type": "code",
   "execution_count": 44,
   "metadata": {
    "execution": {
     "iopub.execute_input": "2022-02-01T21:19:28.103484Z",
     "iopub.status.busy": "2022-02-01T21:19:28.102902Z",
     "iopub.status.idle": "2022-02-01T21:19:28.114162Z",
     "shell.execute_reply": "2022-02-01T21:19:28.112905Z",
     "shell.execute_reply.started": "2022-02-01T21:19:28.103411Z"
    },
    "tags": []
   },
   "outputs": [
    {
     "data": {
      "text/plain": [
       "0"
      ]
     },
     "execution_count": 44,
     "metadata": {},
     "output_type": "execute_result"
    }
   ],
   "source": [
    "len(forecasts)"
   ]
  },
  {
   "cell_type": "code",
   "execution_count": 1,
   "metadata": {
    "execution": {
     "iopub.execute_input": "2022-02-01T21:22:20.772757Z",
     "iopub.status.busy": "2022-02-01T21:22:20.772018Z",
     "iopub.status.idle": "2022-02-01T21:22:24.884840Z",
     "shell.execute_reply": "2022-02-01T21:22:24.883448Z",
     "shell.execute_reply.started": "2022-02-01T21:22:20.772567Z"
    }
   },
   "outputs": [
    {
     "name": "stdout",
     "output_type": "stream",
     "text": [
      "datasets available: odict_keys(['constant', 'exchange_rate', 'solar-energy', 'electricity', 'traffic', 'exchange_rate_nips', 'electricity_nips', 'traffic_nips', 'solar_nips', 'wiki-rolling_nips', 'taxi_30min', 'kaggle_web_traffic_with_missing', 'kaggle_web_traffic_without_missing', 'kaggle_web_traffic_weekly', 'm1_yearly', 'm1_quarterly', 'm1_monthly', 'nn5_daily_with_missing', 'nn5_daily_without_missing', 'nn5_weekly', 'tourism_monthly', 'tourism_quarterly', 'tourism_yearly', 'm3_monthly', 'm3_quarterly', 'm3_yearly', 'm3_other', 'm4_hourly', 'm4_daily', 'm4_weekly', 'm4_monthly', 'm4_quarterly', 'm4_yearly', 'm5'])\n"
     ]
    },
    {
     "name": "stderr",
     "output_type": "stream",
     "text": [
      "100%|█████████████████████████████████████████████████| 10/10 [00:00<00:00, 51.05it/s, epoch=1/5, avg_epoch_loss=6.57]\n",
      "100%|█████████████████████████████████████████████████| 10/10 [00:00<00:00, 54.55it/s, epoch=2/5, avg_epoch_loss=6.62]\n",
      "100%|█████████████████████████████████████████████████| 10/10 [00:00<00:00, 77.36it/s, epoch=3/5, avg_epoch_loss=4.87]\n",
      "100%|█████████████████████████████████████████████████| 10/10 [00:00<00:00, 83.90it/s, epoch=4/5, avg_epoch_loss=4.39]\n",
      "100%|█████████████████████████████████████████████████| 10/10 [00:00<00:00, 79.31it/s, epoch=5/5, avg_epoch_loss=4.48]\n",
      "Running evaluation: 100%|██████████████████████████████████████████████████████████| 414/414 [00:00<00:00, 472.89it/s]\n"
     ]
    },
    {
     "name": "stdout",
     "output_type": "stream",
     "text": [
      "{'Coverage[0.1]': 0.07503019323671499,\n",
      " 'Coverage[0.2]': 0.12172906602254431,\n",
      " 'Coverage[0.3]': 0.1701388888888889,\n",
      " 'Coverage[0.4]': 0.2427536231884058,\n",
      " 'Coverage[0.5]': 0.3252818035426731,\n",
      " 'Coverage[0.6]': 0.42044082125603865,\n",
      " 'Coverage[0.7]': 0.5565116747181964,\n",
      " 'Coverage[0.8]': 0.710245571658615,\n",
      " 'Coverage[0.9]': 0.8713768115942029,\n",
      " 'MAE_Coverage': 0.11183239398819111,\n",
      " 'MAPE': 0.37201615812889804,\n",
      " 'MASE': 7.3499454434595375,\n",
      " 'MSE': 19548023.223297343,\n",
      " 'MSIS': 84.08871077713034,\n",
      " 'ND': 0.09310707705453726,\n",
      " 'NRMSE': 0.603607107992695,\n",
      " 'OWA': nan,\n",
      " 'QuantileLoss[0.1]': 9461371.362832546,\n",
      " 'QuantileLoss[0.2]': 12644701.828152085,\n",
      " 'QuantileLoss[0.3]': 13771084.400046349,\n",
      " 'QuantileLoss[0.4]': 13832994.16189499,\n",
      " 'QuantileLoss[0.5]': 13552560.296293259,\n",
      " 'QuantileLoss[0.6]': 12699646.901609423,\n",
      " 'QuantileLoss[0.7]': 11266518.336585237,\n",
      " 'QuantileLoss[0.8]': 9349590.493006133,\n",
      " 'QuantileLoss[0.9]': 7281499.239299772,\n",
      " 'RMSE': 4421.314648755203,\n",
      " 'abs_error': 13552560.32913971,\n",
      " 'abs_target_mean': 7324.822041043146,\n",
      " 'abs_target_sum': 145558863.59960938,\n",
      " 'mean_absolute_QuantileLoss': 11539996.335524421,\n",
      " 'mean_wQuantileLoss': 0.07928061576014798,\n",
      " 'sMAPE': 0.24284997932768868,\n",
      " 'seasonal_error': 336.9046924038305,\n",
      " 'wQuantileLoss[0.1]': 0.06500031072554992,\n",
      " 'wQuantileLoss[0.2]': 0.08687002299587902,\n",
      " 'wQuantileLoss[0.3]': 0.09460835334580961,\n",
      " 'wQuantileLoss[0.4]': 0.09503367792115762,\n",
      " 'wQuantileLoss[0.5]': 0.09310707682887975,\n",
      " 'wQuantileLoss[0.6]': 0.08724749965445254,\n",
      " 'wQuantileLoss[0.7]': 0.0774018019787252,\n",
      " 'wQuantileLoss[0.8]': 0.06423236800421972,\n",
      " 'wQuantileLoss[0.9]': 0.05002443038665846}\n"
     ]
    }
   ],
   "source": [
    "import pprint\n",
    "\n",
    "from gluonts.dataset.repository.datasets import get_dataset, dataset_recipes\n",
    "from gluonts.evaluation import make_evaluation_predictions, Evaluator\n",
    "from gluonts.model.simple_feedforward import SimpleFeedForwardEstimator\n",
    "from gluonts.mx.trainer import Trainer\n",
    "\n",
    "\n",
    "print(f\"datasets available: {dataset_recipes.keys()}\")\n",
    "\n",
    "# we pick m4_hourly as it only contains a few hundred time series\n",
    "dataset = get_dataset(\"m4_hourly\", regenerate=False)\n",
    "\n",
    "estimator = SimpleFeedForwardEstimator(\n",
    "    prediction_length=dataset.metadata.prediction_length,\n",
    "    freq=dataset.metadata.freq,\n",
    "    trainer=Trainer(epochs=5, num_batches_per_epoch=10),\n",
    ")\n",
    "\n",
    "predictor = estimator.train(dataset.train)\n",
    "\n",
    "forecast_it, ts_it = make_evaluation_predictions(\n",
    "    dataset.test, predictor=predictor, num_samples=100\n",
    ")\n",
    "\n",
    "agg_metrics, item_metrics = Evaluator()(\n",
    "    ts_it, forecast_it, num_series=len(dataset.test)\n",
    ")\n",
    "\n",
    "pprint.pprint(agg_metrics)"
   ]
  },
  {
   "cell_type": "code",
   "execution_count": 3,
   "metadata": {
    "execution": {
     "iopub.execute_input": "2022-02-01T21:23:10.784895Z",
     "iopub.status.busy": "2022-02-01T21:23:10.784269Z",
     "iopub.status.idle": "2022-02-01T21:23:10.795762Z",
     "shell.execute_reply": "2022-02-01T21:23:10.794481Z",
     "shell.execute_reply.started": "2022-02-01T21:23:10.784822Z"
    },
    "tags": []
   },
   "outputs": [
    {
     "data": {
      "text/plain": [
       "414"
      ]
     },
     "execution_count": 3,
     "metadata": {},
     "output_type": "execute_result"
    }
   ],
   "source": [
    "len(dataset.test)"
   ]
  },
  {
   "cell_type": "code",
   "execution_count": null,
   "metadata": {},
   "outputs": [],
   "source": []
  },
  {
   "cell_type": "code",
   "execution_count": null,
   "metadata": {},
   "outputs": [],
   "source": []
  },
  {
   "cell_type": "markdown",
   "metadata": {},
   "source": [
    "# Custom DL training \n",
    "### TODO\n",
    "* define training datasets and loaders\n",
    "* copy paste training loop from TransLOB or generative models"
   ]
  },
  {
   "cell_type": "code",
   "execution_count": null,
   "metadata": {},
   "outputs": [],
   "source": []
  }
 ],
 "metadata": {
  "kernelspec": {
   "display_name": "Python 3 (ipykernel)",
   "language": "python",
   "name": "python3"
  },
  "language_info": {
   "codemirror_mode": {
    "name": "ipython",
    "version": 3
   },
   "file_extension": ".py",
   "mimetype": "text/x-python",
   "name": "python",
   "nbconvert_exporter": "python",
   "pygments_lexer": "ipython3",
   "version": "3.8.10"
  }
 },
 "nbformat": 4,
 "nbformat_minor": 4
}
