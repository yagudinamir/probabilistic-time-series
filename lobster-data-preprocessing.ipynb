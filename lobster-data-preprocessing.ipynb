{
 "cells": [
  {
   "cell_type": "code",
   "execution_count": 139,
   "id": "b06635ac-2a3b-43a4-987e-87f55e82f393",
   "metadata": {
    "execution": {
     "iopub.execute_input": "2022-02-12T15:36:05.350782Z",
     "iopub.status.busy": "2022-02-12T15:36:05.350167Z",
     "iopub.status.idle": "2022-02-12T15:36:05.387161Z",
     "shell.execute_reply": "2022-02-12T15:36:05.386216Z",
     "shell.execute_reply.started": "2022-02-12T15:36:05.350711Z"
    },
    "tags": []
   },
   "outputs": [],
   "source": [
    "import numpy as np\n",
    "import matplotlib.pyplot as plt\n",
    "import pandas as pd\n",
    "from tqdm.notebook import tqdm\n",
    "\n",
    "import os"
   ]
  },
  {
   "cell_type": "code",
   "execution_count": 140,
   "id": "14f2b840-5bb3-4783-886f-e99d7ab7cb1c",
   "metadata": {
    "execution": {
     "iopub.execute_input": "2022-02-12T15:37:38.042474Z",
     "iopub.status.busy": "2022-02-12T15:37:38.041845Z",
     "iopub.status.idle": "2022-02-12T15:37:38.082389Z",
     "shell.execute_reply": "2022-02-12T15:37:38.081384Z",
     "shell.execute_reply.started": "2022-02-12T15:37:38.042404Z"
    },
    "tags": []
   },
   "outputs": [
    {
     "name": "stdout",
     "output_type": "stream",
     "text": [
      "The autoreload extension is already loaded. To reload it, use:\n",
      "  %reload_ext autoreload\n"
     ]
    }
   ],
   "source": [
    "%load_ext autoreload\n",
    "%autoreload 2"
   ]
  },
  {
   "cell_type": "code",
   "execution_count": 141,
   "id": "b09dba4f-2234-447e-89e5-cfaef9783138",
   "metadata": {
    "execution": {
     "iopub.execute_input": "2022-02-12T15:37:39.985717Z",
     "iopub.status.busy": "2022-02-12T15:37:39.985133Z",
     "iopub.status.idle": "2022-02-12T15:37:40.028542Z",
     "shell.execute_reply": "2022-02-12T15:37:40.026890Z",
     "shell.execute_reply.started": "2022-02-12T15:37:39.985646Z"
    },
    "tags": []
   },
   "outputs": [
    {
     "data": {
      "text/plain": [
       "['INTC_2015-01-02_34200000_57600000_message_10.csv',\n",
       " 'INTC_2015-01-02_34200000_57600000_orderbook_10.csv',\n",
       " 'INTC_2015-01-05_34200000_57600000_message_10.csv',\n",
       " 'INTC_2015-01-05_34200000_57600000_orderbook_10.csv']"
      ]
     },
     "execution_count": 141,
     "metadata": {},
     "output_type": "execute_result"
    }
   ],
   "source": [
    "DATASET_PATH = '/home/ayagudin/dl/probabilistic-time-series/lobster-trades-quotes/INTC/'\n",
    "sorted(os.listdir(DATASET_PATH))[:4]"
   ]
  },
  {
   "cell_type": "code",
   "execution_count": 46,
   "id": "03045ea9-3170-4438-b394-fddbdeaa3955",
   "metadata": {
    "execution": {
     "iopub.execute_input": "2022-02-06T20:47:20.611287Z",
     "iopub.status.busy": "2022-02-06T20:47:20.610659Z",
     "iopub.status.idle": "2022-02-06T20:47:20.695901Z",
     "shell.execute_reply": "2022-02-06T20:47:20.694222Z",
     "shell.execute_reply.started": "2022-02-06T20:47:20.611216Z"
    },
    "tags": []
   },
   "outputs": [],
   "source": [
    "from data_utils import get_daily_metadata"
   ]
  },
  {
   "cell_type": "code",
   "execution_count": 47,
   "id": "72d3641a-60dd-48df-8024-d5505f1c755d",
   "metadata": {
    "execution": {
     "iopub.execute_input": "2022-02-06T20:47:20.699574Z",
     "iopub.status.busy": "2022-02-06T20:47:20.698933Z",
     "iopub.status.idle": "2022-02-06T20:48:33.971950Z",
     "shell.execute_reply": "2022-02-06T20:48:33.971060Z",
     "shell.execute_reply.started": "2022-02-06T20:47:20.699510Z"
    },
    "tags": []
   },
   "outputs": [
    {
     "data": {
      "application/vnd.jupyter.widget-view+json": {
       "model_id": "a635154f0952408d8eb0b77f6b621855",
       "version_major": 2,
       "version_minor": 0
      },
      "text/plain": [
       "  0%|          | 0/40 [00:00<?, ?it/s]"
      ]
     },
     "metadata": {},
     "output_type": "display_data"
    }
   ],
   "source": [
    "message_per_day, orderbook_per_day = get_daily_features()"
   ]
  },
  {
   "cell_type": "code",
   "execution_count": 142,
   "id": "7907e7e8-8144-4bb7-b012-241a4ee9857a",
   "metadata": {
    "execution": {
     "iopub.execute_input": "2022-02-12T15:37:50.808822Z",
     "iopub.status.busy": "2022-02-12T15:37:50.808005Z",
     "iopub.status.idle": "2022-02-12T15:37:50.847607Z",
     "shell.execute_reply": "2022-02-12T15:37:50.846130Z",
     "shell.execute_reply.started": "2022-02-12T15:37:50.808750Z"
    },
    "tags": []
   },
   "outputs": [],
   "source": [
    "days = sorted(list(message_per_day.keys()))\n",
    "for day in days:\n",
    "    assert len(message_per_day[day]) == len(orderbook_per_day[day])"
   ]
  },
  {
   "cell_type": "code",
   "execution_count": 143,
   "id": "9cde678c-50ae-453f-900e-62926573c305",
   "metadata": {
    "execution": {
     "iopub.execute_input": "2022-02-12T15:37:52.678528Z",
     "iopub.status.busy": "2022-02-12T15:37:52.677905Z",
     "iopub.status.idle": "2022-02-12T15:37:52.740617Z",
     "shell.execute_reply": "2022-02-12T15:37:52.739297Z",
     "shell.execute_reply.started": "2022-02-12T15:37:52.678456Z"
    },
    "tags": []
   },
   "outputs": [
    {
     "data": {
      "text/html": [
       "<div>\n",
       "<style scoped>\n",
       "    .dataframe tbody tr th:only-of-type {\n",
       "        vertical-align: middle;\n",
       "    }\n",
       "\n",
       "    .dataframe tbody tr th {\n",
       "        vertical-align: top;\n",
       "    }\n",
       "\n",
       "    .dataframe thead th {\n",
       "        text-align: right;\n",
       "    }\n",
       "</style>\n",
       "<table border=\"1\" class=\"dataframe\">\n",
       "  <thead>\n",
       "    <tr style=\"text-align: right;\">\n",
       "      <th></th>\n",
       "      <th>0</th>\n",
       "      <th>1</th>\n",
       "      <th>2</th>\n",
       "      <th>3</th>\n",
       "      <th>4</th>\n",
       "      <th>5</th>\n",
       "    </tr>\n",
       "  </thead>\n",
       "  <tbody>\n",
       "    <tr>\n",
       "      <th>0</th>\n",
       "      <td>34200.014991</td>\n",
       "      <td>5</td>\n",
       "      <td>0</td>\n",
       "      <td>200</td>\n",
       "      <td>367200</td>\n",
       "      <td>1</td>\n",
       "    </tr>\n",
       "    <tr>\n",
       "      <th>1</th>\n",
       "      <td>34200.015520</td>\n",
       "      <td>5</td>\n",
       "      <td>0</td>\n",
       "      <td>100</td>\n",
       "      <td>367200</td>\n",
       "      <td>1</td>\n",
       "    </tr>\n",
       "    <tr>\n",
       "      <th>2</th>\n",
       "      <td>34200.015920</td>\n",
       "      <td>3</td>\n",
       "      <td>7369837</td>\n",
       "      <td>300</td>\n",
       "      <td>365200</td>\n",
       "      <td>1</td>\n",
       "    </tr>\n",
       "    <tr>\n",
       "      <th>3</th>\n",
       "      <td>34200.015920</td>\n",
       "      <td>1</td>\n",
       "      <td>7378018</td>\n",
       "      <td>300</td>\n",
       "      <td>363200</td>\n",
       "      <td>1</td>\n",
       "    </tr>\n",
       "    <tr>\n",
       "      <th>4</th>\n",
       "      <td>34200.016722</td>\n",
       "      <td>5</td>\n",
       "      <td>0</td>\n",
       "      <td>100</td>\n",
       "      <td>367200</td>\n",
       "      <td>1</td>\n",
       "    </tr>\n",
       "    <tr>\n",
       "      <th>...</th>\n",
       "      <td>...</td>\n",
       "      <td>...</td>\n",
       "      <td>...</td>\n",
       "      <td>...</td>\n",
       "      <td>...</td>\n",
       "      <td>...</td>\n",
       "    </tr>\n",
       "    <tr>\n",
       "      <th>887624</th>\n",
       "      <td>57599.992160</td>\n",
       "      <td>3</td>\n",
       "      <td>267878306</td>\n",
       "      <td>1000</td>\n",
       "      <td>363600</td>\n",
       "      <td>-1</td>\n",
       "    </tr>\n",
       "    <tr>\n",
       "      <th>887625</th>\n",
       "      <td>57599.992175</td>\n",
       "      <td>3</td>\n",
       "      <td>267878313</td>\n",
       "      <td>1000</td>\n",
       "      <td>363700</td>\n",
       "      <td>-1</td>\n",
       "    </tr>\n",
       "    <tr>\n",
       "      <th>887626</th>\n",
       "      <td>57599.992177</td>\n",
       "      <td>3</td>\n",
       "      <td>267878321</td>\n",
       "      <td>1000</td>\n",
       "      <td>363800</td>\n",
       "      <td>-1</td>\n",
       "    </tr>\n",
       "    <tr>\n",
       "      <th>887627</th>\n",
       "      <td>57599.992299</td>\n",
       "      <td>3</td>\n",
       "      <td>267975279</td>\n",
       "      <td>300</td>\n",
       "      <td>363600</td>\n",
       "      <td>-1</td>\n",
       "    </tr>\n",
       "    <tr>\n",
       "      <th>887628</th>\n",
       "      <td>57599.992299</td>\n",
       "      <td>1</td>\n",
       "      <td>267984611</td>\n",
       "      <td>300</td>\n",
       "      <td>364200</td>\n",
       "      <td>-1</td>\n",
       "    </tr>\n",
       "  </tbody>\n",
       "</table>\n",
       "<p>887629 rows × 6 columns</p>\n",
       "</div>"
      ],
      "text/plain": [
       "                   0  1          2     3       4  5\n",
       "0       34200.014991  5          0   200  367200  1\n",
       "1       34200.015520  5          0   100  367200  1\n",
       "2       34200.015920  3    7369837   300  365200  1\n",
       "3       34200.015920  1    7378018   300  363200  1\n",
       "4       34200.016722  5          0   100  367200  1\n",
       "...              ... ..        ...   ...     ... ..\n",
       "887624  57599.992160  3  267878306  1000  363600 -1\n",
       "887625  57599.992175  3  267878313  1000  363700 -1\n",
       "887626  57599.992177  3  267878321  1000  363800 -1\n",
       "887627  57599.992299  3  267975279   300  363600 -1\n",
       "887628  57599.992299  1  267984611   300  364200 -1\n",
       "\n",
       "[887629 rows x 6 columns]"
      ]
     },
     "execution_count": 143,
     "metadata": {},
     "output_type": "execute_result"
    }
   ],
   "source": [
    "message_per_day['2015-01-02']"
   ]
  },
  {
   "cell_type": "code",
   "execution_count": 144,
   "id": "c6e97acd-d852-4729-8c46-efd67eb1efae",
   "metadata": {
    "execution": {
     "iopub.execute_input": "2022-02-12T15:37:57.664330Z",
     "iopub.status.busy": "2022-02-12T15:37:57.663707Z",
     "iopub.status.idle": "2022-02-12T15:37:57.845245Z",
     "shell.execute_reply": "2022-02-12T15:37:57.844355Z",
     "shell.execute_reply.started": "2022-02-12T15:37:57.664259Z"
    },
    "tags": []
   },
   "outputs": [
    {
     "data": {
      "text/html": [
       "<div>\n",
       "<style scoped>\n",
       "    .dataframe tbody tr th:only-of-type {\n",
       "        vertical-align: middle;\n",
       "    }\n",
       "\n",
       "    .dataframe tbody tr th {\n",
       "        vertical-align: top;\n",
       "    }\n",
       "\n",
       "    .dataframe thead th {\n",
       "        text-align: right;\n",
       "    }\n",
       "</style>\n",
       "<table border=\"1\" class=\"dataframe\">\n",
       "  <thead>\n",
       "    <tr style=\"text-align: right;\">\n",
       "      <th></th>\n",
       "      <th>0</th>\n",
       "      <th>1</th>\n",
       "      <th>2</th>\n",
       "      <th>3</th>\n",
       "      <th>4</th>\n",
       "      <th>5</th>\n",
       "      <th>6</th>\n",
       "      <th>7</th>\n",
       "      <th>8</th>\n",
       "      <th>9</th>\n",
       "      <th>...</th>\n",
       "      <th>30</th>\n",
       "      <th>31</th>\n",
       "      <th>32</th>\n",
       "      <th>33</th>\n",
       "      <th>34</th>\n",
       "      <th>35</th>\n",
       "      <th>36</th>\n",
       "      <th>37</th>\n",
       "      <th>38</th>\n",
       "      <th>39</th>\n",
       "    </tr>\n",
       "  </thead>\n",
       "  <tbody>\n",
       "    <tr>\n",
       "      <th>0</th>\n",
       "      <td>367300</td>\n",
       "      <td>4000</td>\n",
       "      <td>365200</td>\n",
       "      <td>400</td>\n",
       "      <td>367500</td>\n",
       "      <td>200</td>\n",
       "      <td>364800</td>\n",
       "      <td>300</td>\n",
       "      <td>367900</td>\n",
       "      <td>300</td>\n",
       "      <td>...</td>\n",
       "      <td>361800</td>\n",
       "      <td>200</td>\n",
       "      <td>372900</td>\n",
       "      <td>1000</td>\n",
       "      <td>361500</td>\n",
       "      <td>200</td>\n",
       "      <td>373400</td>\n",
       "      <td>2500</td>\n",
       "      <td>360800</td>\n",
       "      <td>200</td>\n",
       "    </tr>\n",
       "    <tr>\n",
       "      <th>1</th>\n",
       "      <td>367300</td>\n",
       "      <td>4000</td>\n",
       "      <td>365200</td>\n",
       "      <td>400</td>\n",
       "      <td>367500</td>\n",
       "      <td>200</td>\n",
       "      <td>364800</td>\n",
       "      <td>300</td>\n",
       "      <td>367900</td>\n",
       "      <td>300</td>\n",
       "      <td>...</td>\n",
       "      <td>361800</td>\n",
       "      <td>200</td>\n",
       "      <td>372900</td>\n",
       "      <td>1000</td>\n",
       "      <td>361500</td>\n",
       "      <td>200</td>\n",
       "      <td>373400</td>\n",
       "      <td>2500</td>\n",
       "      <td>360800</td>\n",
       "      <td>200</td>\n",
       "    </tr>\n",
       "    <tr>\n",
       "      <th>2</th>\n",
       "      <td>367300</td>\n",
       "      <td>4000</td>\n",
       "      <td>365200</td>\n",
       "      <td>100</td>\n",
       "      <td>367500</td>\n",
       "      <td>200</td>\n",
       "      <td>364800</td>\n",
       "      <td>300</td>\n",
       "      <td>367900</td>\n",
       "      <td>300</td>\n",
       "      <td>...</td>\n",
       "      <td>361800</td>\n",
       "      <td>200</td>\n",
       "      <td>372900</td>\n",
       "      <td>1000</td>\n",
       "      <td>361500</td>\n",
       "      <td>200</td>\n",
       "      <td>373400</td>\n",
       "      <td>2500</td>\n",
       "      <td>360800</td>\n",
       "      <td>200</td>\n",
       "    </tr>\n",
       "    <tr>\n",
       "      <th>3</th>\n",
       "      <td>367300</td>\n",
       "      <td>4000</td>\n",
       "      <td>365200</td>\n",
       "      <td>100</td>\n",
       "      <td>367500</td>\n",
       "      <td>200</td>\n",
       "      <td>364800</td>\n",
       "      <td>300</td>\n",
       "      <td>367900</td>\n",
       "      <td>300</td>\n",
       "      <td>...</td>\n",
       "      <td>362900</td>\n",
       "      <td>200</td>\n",
       "      <td>372900</td>\n",
       "      <td>1000</td>\n",
       "      <td>361800</td>\n",
       "      <td>200</td>\n",
       "      <td>373400</td>\n",
       "      <td>2500</td>\n",
       "      <td>361500</td>\n",
       "      <td>200</td>\n",
       "    </tr>\n",
       "    <tr>\n",
       "      <th>4</th>\n",
       "      <td>367300</td>\n",
       "      <td>4000</td>\n",
       "      <td>365200</td>\n",
       "      <td>100</td>\n",
       "      <td>367500</td>\n",
       "      <td>200</td>\n",
       "      <td>364800</td>\n",
       "      <td>300</td>\n",
       "      <td>367900</td>\n",
       "      <td>300</td>\n",
       "      <td>...</td>\n",
       "      <td>362900</td>\n",
       "      <td>200</td>\n",
       "      <td>372900</td>\n",
       "      <td>1000</td>\n",
       "      <td>361800</td>\n",
       "      <td>200</td>\n",
       "      <td>373400</td>\n",
       "      <td>2500</td>\n",
       "      <td>361500</td>\n",
       "      <td>200</td>\n",
       "    </tr>\n",
       "    <tr>\n",
       "      <th>...</th>\n",
       "      <td>...</td>\n",
       "      <td>...</td>\n",
       "      <td>...</td>\n",
       "      <td>...</td>\n",
       "      <td>...</td>\n",
       "      <td>...</td>\n",
       "      <td>...</td>\n",
       "      <td>...</td>\n",
       "      <td>...</td>\n",
       "      <td>...</td>\n",
       "      <td>...</td>\n",
       "      <td>...</td>\n",
       "      <td>...</td>\n",
       "      <td>...</td>\n",
       "      <td>...</td>\n",
       "      <td>...</td>\n",
       "      <td>...</td>\n",
       "      <td>...</td>\n",
       "      <td>...</td>\n",
       "      <td>...</td>\n",
       "      <td>...</td>\n",
       "    </tr>\n",
       "    <tr>\n",
       "      <th>887624</th>\n",
       "      <td>363600</td>\n",
       "      <td>44800</td>\n",
       "      <td>363500</td>\n",
       "      <td>87619</td>\n",
       "      <td>363700</td>\n",
       "      <td>72300</td>\n",
       "      <td>363400</td>\n",
       "      <td>85300</td>\n",
       "      <td>363800</td>\n",
       "      <td>28900</td>\n",
       "      <td>...</td>\n",
       "      <td>362800</td>\n",
       "      <td>8200</td>\n",
       "      <td>364400</td>\n",
       "      <td>54500</td>\n",
       "      <td>362700</td>\n",
       "      <td>13200</td>\n",
       "      <td>364500</td>\n",
       "      <td>17300</td>\n",
       "      <td>362600</td>\n",
       "      <td>5800</td>\n",
       "    </tr>\n",
       "    <tr>\n",
       "      <th>887625</th>\n",
       "      <td>363600</td>\n",
       "      <td>44800</td>\n",
       "      <td>363500</td>\n",
       "      <td>87619</td>\n",
       "      <td>363700</td>\n",
       "      <td>71300</td>\n",
       "      <td>363400</td>\n",
       "      <td>85300</td>\n",
       "      <td>363800</td>\n",
       "      <td>28900</td>\n",
       "      <td>...</td>\n",
       "      <td>362800</td>\n",
       "      <td>8200</td>\n",
       "      <td>364400</td>\n",
       "      <td>54500</td>\n",
       "      <td>362700</td>\n",
       "      <td>13200</td>\n",
       "      <td>364500</td>\n",
       "      <td>17300</td>\n",
       "      <td>362600</td>\n",
       "      <td>5800</td>\n",
       "    </tr>\n",
       "    <tr>\n",
       "      <th>887626</th>\n",
       "      <td>363600</td>\n",
       "      <td>44800</td>\n",
       "      <td>363500</td>\n",
       "      <td>87619</td>\n",
       "      <td>363700</td>\n",
       "      <td>71300</td>\n",
       "      <td>363400</td>\n",
       "      <td>85300</td>\n",
       "      <td>363800</td>\n",
       "      <td>27900</td>\n",
       "      <td>...</td>\n",
       "      <td>362800</td>\n",
       "      <td>8200</td>\n",
       "      <td>364400</td>\n",
       "      <td>54500</td>\n",
       "      <td>362700</td>\n",
       "      <td>13200</td>\n",
       "      <td>364500</td>\n",
       "      <td>17300</td>\n",
       "      <td>362600</td>\n",
       "      <td>5800</td>\n",
       "    </tr>\n",
       "    <tr>\n",
       "      <th>887627</th>\n",
       "      <td>363600</td>\n",
       "      <td>44500</td>\n",
       "      <td>363500</td>\n",
       "      <td>87619</td>\n",
       "      <td>363700</td>\n",
       "      <td>71300</td>\n",
       "      <td>363400</td>\n",
       "      <td>85300</td>\n",
       "      <td>363800</td>\n",
       "      <td>27900</td>\n",
       "      <td>...</td>\n",
       "      <td>362800</td>\n",
       "      <td>8200</td>\n",
       "      <td>364400</td>\n",
       "      <td>54500</td>\n",
       "      <td>362700</td>\n",
       "      <td>13200</td>\n",
       "      <td>364500</td>\n",
       "      <td>17300</td>\n",
       "      <td>362600</td>\n",
       "      <td>5800</td>\n",
       "    </tr>\n",
       "    <tr>\n",
       "      <th>887628</th>\n",
       "      <td>363600</td>\n",
       "      <td>44500</td>\n",
       "      <td>363500</td>\n",
       "      <td>87619</td>\n",
       "      <td>363700</td>\n",
       "      <td>71300</td>\n",
       "      <td>363400</td>\n",
       "      <td>85300</td>\n",
       "      <td>363800</td>\n",
       "      <td>27900</td>\n",
       "      <td>...</td>\n",
       "      <td>362800</td>\n",
       "      <td>8200</td>\n",
       "      <td>364400</td>\n",
       "      <td>54500</td>\n",
       "      <td>362700</td>\n",
       "      <td>13200</td>\n",
       "      <td>364500</td>\n",
       "      <td>17300</td>\n",
       "      <td>362600</td>\n",
       "      <td>5800</td>\n",
       "    </tr>\n",
       "  </tbody>\n",
       "</table>\n",
       "<p>887629 rows × 40 columns</p>\n",
       "</div>"
      ],
      "text/plain": [
       "            0      1       2      3       4      5       6      7       8   \\\n",
       "0       367300   4000  365200    400  367500    200  364800    300  367900   \n",
       "1       367300   4000  365200    400  367500    200  364800    300  367900   \n",
       "2       367300   4000  365200    100  367500    200  364800    300  367900   \n",
       "3       367300   4000  365200    100  367500    200  364800    300  367900   \n",
       "4       367300   4000  365200    100  367500    200  364800    300  367900   \n",
       "...        ...    ...     ...    ...     ...    ...     ...    ...     ...   \n",
       "887624  363600  44800  363500  87619  363700  72300  363400  85300  363800   \n",
       "887625  363600  44800  363500  87619  363700  71300  363400  85300  363800   \n",
       "887626  363600  44800  363500  87619  363700  71300  363400  85300  363800   \n",
       "887627  363600  44500  363500  87619  363700  71300  363400  85300  363800   \n",
       "887628  363600  44500  363500  87619  363700  71300  363400  85300  363800   \n",
       "\n",
       "           9   ...      30    31      32     33      34     35      36     37  \\\n",
       "0         300  ...  361800   200  372900   1000  361500    200  373400   2500   \n",
       "1         300  ...  361800   200  372900   1000  361500    200  373400   2500   \n",
       "2         300  ...  361800   200  372900   1000  361500    200  373400   2500   \n",
       "3         300  ...  362900   200  372900   1000  361800    200  373400   2500   \n",
       "4         300  ...  362900   200  372900   1000  361800    200  373400   2500   \n",
       "...       ...  ...     ...   ...     ...    ...     ...    ...     ...    ...   \n",
       "887624  28900  ...  362800  8200  364400  54500  362700  13200  364500  17300   \n",
       "887625  28900  ...  362800  8200  364400  54500  362700  13200  364500  17300   \n",
       "887626  27900  ...  362800  8200  364400  54500  362700  13200  364500  17300   \n",
       "887627  27900  ...  362800  8200  364400  54500  362700  13200  364500  17300   \n",
       "887628  27900  ...  362800  8200  364400  54500  362700  13200  364500  17300   \n",
       "\n",
       "            38    39  \n",
       "0       360800   200  \n",
       "1       360800   200  \n",
       "2       360800   200  \n",
       "3       361500   200  \n",
       "4       361500   200  \n",
       "...        ...   ...  \n",
       "887624  362600  5800  \n",
       "887625  362600  5800  \n",
       "887626  362600  5800  \n",
       "887627  362600  5800  \n",
       "887628  362600  5800  \n",
       "\n",
       "[887629 rows x 40 columns]"
      ]
     },
     "execution_count": 144,
     "metadata": {},
     "output_type": "execute_result"
    }
   ],
   "source": [
    "orderbook_per_day['2015-01-02']"
   ]
  },
  {
   "cell_type": "code",
   "execution_count": 250,
   "id": "e4837e98-4760-4e95-8013-24537e6baeb1",
   "metadata": {
    "execution": {
     "iopub.execute_input": "2022-02-12T19:53:18.119119Z",
     "iopub.status.busy": "2022-02-12T19:53:18.118532Z",
     "iopub.status.idle": "2022-02-12T19:53:18.559219Z",
     "shell.execute_reply": "2022-02-12T19:53:18.558269Z",
     "shell.execute_reply.started": "2022-02-12T19:53:18.119052Z"
    },
    "tags": []
   },
   "outputs": [],
   "source": [
    "from data_utils import get_l2_snapshots, get_order_books, get_trades_features, get_features, Feature, DIRECTIONS, get_mid_price_target, get_features_and_targets"
   ]
  },
  {
   "cell_type": "code",
   "execution_count": 176,
   "id": "435cb926-6db1-458b-963a-639ae36d29dd",
   "metadata": {
    "execution": {
     "iopub.execute_input": "2022-02-12T18:20:10.939664Z",
     "iopub.status.busy": "2022-02-12T18:20:10.939031Z",
     "iopub.status.idle": "2022-02-12T18:20:17.227025Z",
     "shell.execute_reply": "2022-02-12T18:20:17.225060Z",
     "shell.execute_reply.started": "2022-02-12T18:20:10.939594Z"
    },
    "tags": []
   },
   "outputs": [],
   "source": [
    "l2_snapshots, indices = get_l2_snapshots(message_per_day, orderbook_per_day, '2015-01-02')"
   ]
  },
  {
   "cell_type": "code",
   "execution_count": null,
   "id": "a5ad6ac5-3cef-45c2-a6ca-9a847f6e779b",
   "metadata": {
    "execution": {
     "iopub.execute_input": "2022-02-12T18:20:23.581775Z",
     "iopub.status.busy": "2022-02-12T18:20:23.581074Z"
    },
    "tags": []
   },
   "outputs": [],
   "source": [
    "books = get_order_books(l2_snapshots)"
   ]
  },
  {
   "cell_type": "code",
   "execution_count": 178,
   "id": "cad23d3c-42ae-4f7b-93fe-d2cd4324bc0b",
   "metadata": {
    "execution": {
     "iopub.execute_input": "2022-02-12T18:20:26.300056Z",
     "iopub.status.busy": "2022-02-12T18:20:26.299453Z",
     "iopub.status.idle": "2022-02-12T18:20:26.336307Z",
     "shell.execute_reply": "2022-02-12T18:20:26.335198Z",
     "shell.execute_reply.started": "2022-02-12T18:20:26.299980Z"
    },
    "tags": []
   },
   "outputs": [
    {
     "name": "stdout",
     "output_type": "stream",
     "text": [
      "price  / amount\n",
      "369000 / 200\n",
      "368900 / 4500\n",
      "368800 / 200\n",
      "368500 / 700\n",
      "368000 / 400\n",
      "367700 / 200\n",
      "367500 / 400\n",
      "367400 / 100\n",
      "367300 / 300\n",
      "367000 / 400\n",
      "----------\n",
      "365200 / 100\n",
      "365100 / 400\n",
      "365000 / 700\n",
      "364900 / 200\n",
      "364800 / 300\n",
      "364700 / 400\n",
      "364500 / 300\n",
      "364200 / 300\n",
      "363600 / 100\n",
      "363500 / 400\n",
      "\n"
     ]
    }
   ],
   "source": [
    "print(books[0])"
   ]
  },
  {
   "cell_type": "code",
   "execution_count": 186,
   "id": "45d8a9e2-f1dc-47d3-b049-f9c000f77a3e",
   "metadata": {
    "execution": {
     "iopub.execute_input": "2022-02-12T18:39:00.288658Z",
     "iopub.status.busy": "2022-02-12T18:39:00.288026Z",
     "iopub.status.idle": "2022-02-12T18:39:02.049921Z",
     "shell.execute_reply": "2022-02-12T18:39:02.048542Z",
     "shell.execute_reply.started": "2022-02-12T18:39:00.288586Z"
    },
    "tags": []
   },
   "outputs": [],
   "source": [
    "trade_amounts, turnovers = get_trades_features(message_per_day['2015-01-02'], indices)"
   ]
  },
  {
   "cell_type": "code",
   "execution_count": 196,
   "id": "83d4ad19-13a6-46d7-b1ce-275fd54d26e5",
   "metadata": {
    "execution": {
     "iopub.execute_input": "2022-02-12T18:42:44.725706Z",
     "iopub.status.busy": "2022-02-12T18:42:44.725132Z",
     "iopub.status.idle": "2022-02-12T18:42:45.293357Z",
     "shell.execute_reply": "2022-02-12T18:42:45.292179Z",
     "shell.execute_reply.started": "2022-02-12T18:42:44.725640Z"
    },
    "tags": []
   },
   "outputs": [],
   "source": [
    "feature = Feature(books[0], books[1], {dir: trade_amounts[dir][0] for dir in DIRECTIONS}, {dir: turnovers[dir][0] for dir in DIRECTIONS}).get_features()\n"
   ]
  },
  {
   "cell_type": "code",
   "execution_count": 201,
   "id": "e31c4250-2409-4b1d-9c7e-c157e4fe36a3",
   "metadata": {
    "execution": {
     "iopub.execute_input": "2022-02-12T18:49:46.999735Z",
     "iopub.status.busy": "2022-02-12T18:49:46.999103Z",
     "iopub.status.idle": "2022-02-12T18:49:48.241343Z",
     "shell.execute_reply": "2022-02-12T18:49:48.240033Z",
     "shell.execute_reply.started": "2022-02-12T18:49:46.999665Z"
    },
    "tags": []
   },
   "outputs": [],
   "source": [
    "features = get_features(books, trade_amounts, turnovers)"
   ]
  },
  {
   "cell_type": "code",
   "execution_count": 202,
   "id": "073b5c9d-e323-4a8e-bd59-62520a02f63c",
   "metadata": {
    "execution": {
     "iopub.execute_input": "2022-02-12T18:49:49.501042Z",
     "iopub.status.busy": "2022-02-12T18:49:49.500332Z",
     "iopub.status.idle": "2022-02-12T18:49:49.550195Z",
     "shell.execute_reply": "2022-02-12T18:49:49.549242Z",
     "shell.execute_reply.started": "2022-02-12T18:49:49.500945Z"
    },
    "tags": []
   },
   "outputs": [
    {
     "data": {
      "text/plain": [
       "(46797, 27)"
      ]
     },
     "execution_count": 202,
     "metadata": {},
     "output_type": "execute_result"
    }
   ],
   "source": [
    "features.shape"
   ]
  },
  {
   "cell_type": "code",
   "execution_count": 205,
   "id": "aec3c2c8-7ab0-4092-a6f6-21820e1971a2",
   "metadata": {
    "execution": {
     "iopub.execute_input": "2022-02-12T19:00:20.636678Z",
     "iopub.status.busy": "2022-02-12T19:00:20.635890Z",
     "iopub.status.idle": "2022-02-12T19:00:21.507031Z",
     "shell.execute_reply": "2022-02-12T19:00:21.505973Z",
     "shell.execute_reply.started": "2022-02-12T19:00:20.636606Z"
    },
    "tags": []
   },
   "outputs": [
    {
     "data": {
      "text/plain": [
       "array([[1.8000000e+03, 2.0000000e+02, 4.5000000e+03, ..., 0.0000000e+00,\n",
       "        0.0000000e+00, 0.0000000e+00],\n",
       "       [6.0000000e+02, 2.0000000e+02, 6.0000000e+02, ..., 8.0650000e+08,\n",
       "        6.0000000e+02, 2.2002000e+08],\n",
       "       [4.0000000e+02, 2.0000000e+02, 2.0000000e+02, ..., 0.0000000e+00,\n",
       "        0.0000000e+00, 0.0000000e+00],\n",
       "       ...,\n",
       "       [1.0000000e+02, 5.3000000e+03, 1.1300000e+04, ..., 1.4540000e+08,\n",
       "        0.0000000e+00, 0.0000000e+00],\n",
       "       [1.0000000e+02, 7.4000000e+03, 1.7500000e+04, ..., 6.2522000e+08,\n",
       "        0.0000000e+00, 0.0000000e+00],\n",
       "       [1.0000000e+02, 3.1700000e+04, 6.2200000e+04, ..., 2.1232035e+09,\n",
       "        0.0000000e+00, 0.0000000e+00]])"
      ]
     },
     "execution_count": 205,
     "metadata": {},
     "output_type": "execute_result"
    }
   ],
   "source": [
    "get_features(books, trade_amounts, turnovers)"
   ]
  },
  {
   "cell_type": "code",
   "execution_count": 242,
   "id": "a011e927-1281-4df8-a315-1e8cf2cfbaf3",
   "metadata": {
    "execution": {
     "iopub.execute_input": "2022-02-12T19:35:18.282895Z",
     "iopub.status.busy": "2022-02-12T19:35:18.282217Z",
     "iopub.status.idle": "2022-02-12T19:35:26.055809Z",
     "shell.execute_reply": "2022-02-12T19:35:26.053939Z",
     "shell.execute_reply.started": "2022-02-12T19:35:18.282774Z"
    },
    "tags": []
   },
   "outputs": [],
   "source": [
    "targets = get_mid_price_target(books, 80)"
   ]
  },
  {
   "cell_type": "code",
   "execution_count": 246,
   "id": "0a5b2aae-c927-425d-a6e5-c5c96fe0dd3c",
   "metadata": {
    "execution": {
     "iopub.execute_input": "2022-02-12T19:36:56.207476Z",
     "iopub.status.busy": "2022-02-12T19:36:56.206794Z",
     "iopub.status.idle": "2022-02-12T19:36:56.247841Z",
     "shell.execute_reply": "2022-02-12T19:36:56.246792Z",
     "shell.execute_reply.started": "2022-02-12T19:36:56.207402Z"
    },
    "tags": []
   },
   "outputs": [
    {
     "data": {
      "text/plain": [
       "20"
      ]
     },
     "execution_count": 246,
     "metadata": {},
     "output_type": "execute_result"
    }
   ],
   "source": [
    "len(message_per_day)"
   ]
  },
  {
   "cell_type": "code",
   "execution_count": 247,
   "id": "56414e99-c743-4417-9884-1b3d149332ec",
   "metadata": {
    "execution": {
     "iopub.execute_input": "2022-02-12T19:37:54.375663Z",
     "iopub.status.busy": "2022-02-12T19:37:54.375039Z",
     "iopub.status.idle": "2022-02-12T19:37:54.676134Z",
     "shell.execute_reply": "2022-02-12T19:37:54.675321Z",
     "shell.execute_reply.started": "2022-02-12T19:37:54.375590Z"
    },
    "tags": []
   },
   "outputs": [
    {
     "data": {
      "image/png": "[encoded data removed]",
      "text/plain": [
       "<Figure size 432x288 with 1 Axes>"
      ]
     },
     "metadata": {
      "needs_background": "light"
     },
     "output_type": "display_data"
    }
   ],
   "source": [
    "plt.hist(targets, bins=100);"
   ]
  },
  {
   "cell_type": "code",
   "execution_count": 230,
   "id": "5f36eb89-5e3d-4213-812e-4bd1298b1584",
   "metadata": {
    "execution": {
     "iopub.execute_input": "2022-02-12T19:28:05.521726Z",
     "iopub.status.busy": "2022-02-12T19:28:05.521152Z",
     "iopub.status.idle": "2022-02-12T19:28:05.643288Z",
     "shell.execute_reply": "2022-02-12T19:28:05.642363Z",
     "shell.execute_reply.started": "2022-02-12T19:28:05.521659Z"
    },
    "tags": []
   },
   "outputs": [],
   "source": [
    "mid_prices = [book.mid_price() for book in books]"
   ]
  },
  {
   "cell_type": "code",
   "execution_count": 239,
   "id": "355fcb4f-1e50-4ada-b796-19525305f039",
   "metadata": {
    "execution": {
     "iopub.execute_input": "2022-02-12T19:31:06.193593Z",
     "iopub.status.busy": "2022-02-12T19:31:06.192941Z",
     "iopub.status.idle": "2022-02-12T19:31:06.394680Z",
     "shell.execute_reply": "2022-02-12T19:31:06.393601Z",
     "shell.execute_reply.started": "2022-02-12T19:31:06.193513Z"
    },
    "tags": []
   },
   "outputs": [
    {
     "data": {
      "text/plain": [
       "[<matplotlib.lines.Line2D at 0x7ff1dd858790>]"
      ]
     },
     "execution_count": 239,
     "metadata": {},
     "output_type": "execute_result"
    },
    {
     "data": {
      "image/png": "[encoded data removed]",
      "text/plain": [
       "<Figure size 432x288 with 1 Axes>"
      ]
     },
     "metadata": {
      "needs_background": "light"
     },
     "output_type": "display_data"
    }
   ],
   "source": [
    "plt.plot(mid_prices[800:1000])"
   ]
  },
  {
   "cell_type": "code",
   "execution_count": null,
   "id": "48a0f8c3-beb9-434b-a65e-a0c557417639",
   "metadata": {
    "execution": {
     "iopub.execute_input": "2022-02-12T19:53:24.252143Z",
     "iopub.status.busy": "2022-02-12T19:53:24.251601Z"
    },
    "tags": []
   },
   "outputs": [
    {
     "data": {
      "application/vnd.jupyter.widget-view+json": {
       "model_id": "b55c16f13166419bae8b3df96d1db32c",
       "version_major": 2,
       "version_minor": 0
      },
      "text/plain": [
       "  0%|          | 0/20 [00:00<?, ?it/s]"
      ]
     },
     "metadata": {},
     "output_type": "display_data"
    }
   ],
   "source": [
    "features_per_day, targets_per_day = get_features_and_targets(message_per_day, orderbook_per_day)"
   ]
  },
  {
   "cell_type": "code",
   "execution_count": null,
   "id": "838a99ae-8162-41c6-a032-094f1e87c906",
   "metadata": {},
   "outputs": [],
   "source": []
  }
 ],
 "metadata": {
  "kernelspec": {
   "display_name": "Python 3 (ipykernel)",
   "language": "python",
   "name": "python3"
  },
  "language_info": {
   "codemirror_mode": {
    "name": "ipython",
    "version": 3
   },
   "file_extension": ".py",
   "mimetype": "text/x-python",
   "name": "python",
   "nbconvert_exporter": "python",
   "pygments_lexer": "ipython3",
   "version": "3.8.10"
  }
 },
 "nbformat": 4,
 "nbformat_minor": 5
}
